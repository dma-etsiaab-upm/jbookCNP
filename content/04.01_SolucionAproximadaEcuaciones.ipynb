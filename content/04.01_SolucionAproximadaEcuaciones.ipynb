{
 "cells": [
  {
   "cell_type": "markdown",
   "id": "olive-mobile",
   "metadata": {},
   "source": [
    "# Solución aproximada de ecuaciones\n",
    "\n",
    "* [Introducción: planteamiento del problema](#u4c1.1)\n",
    "* [Método Lineal: el caso del cálculo de raíz de un número](#u4c1.2)\n",
    "* [Método de la bisección](#u4c1.3)\n",
    "* [Método de Newton-Raphson: el caso de la raíz de un número](#u4c1.4)"
   ]
  },
  {
   "cell_type": "markdown",
   "id": "16f8268e",
   "metadata": {},
   "source": [
    "<a id=\"u4c1.1\"></a>\n",
    "## Introducción: planteamiento del problema"
   ]
  },
  {
   "cell_type": "markdown",
   "id": "stone-narrow",
   "metadata": {},
   "source": [
    "### Lo que buscamos: Solución aproximada de una ecuación con error dado\n",
    "\n",
    "Cuando hablamos de la solución de una ecuación, por ejemplo la ecuación $x^3-7x^2+23 = 0,$ queremos decir que quremos obtener el valor o valores de $x$ que verifican dicha ecuación. Si $f(x) = x^3-7x^2+23$ también decimos que estamos buscando los ceros de la función $f(x),$ es decir, los valores de $x$ que verifican la ecuación $f(x) = 0.$ En términos geométricos, estamos buscando los puntos de intersección de la gráfica de $f(x)$ con el eje de la $x$'s.\n",
    "\n",
    "Si $x^{*}$ es una solución de la ecuación planteada, $f(x) = 0,$ decimos que $x_{ap}$ es un _valor aproximado_ de $x^{*}$ _con error no mayor que_ $\\varepsilon$ si \n",
    "\n",
    "$$\n",
    "|x^{*}-x_{ap}|<\\varepsilon.\n",
    "$$\n",
    "\n",
    "Geométricamente, esto significa que $x^{*}$ y $x_{ap}$ se encuentran dentro de un intervalo de longitud $\\varepsilon$. La anterior desigualdad también implica que $x_{ap}$ e encuantra en un intervalo de longitud $2\\varepsilon$ centrado en $x^{*}.$ En términos matemáticosse puede escribir de forma equivalente:\n",
    "\n",
    "$$\n",
    "x_{ap}\\in(x^{*}+\\varepsilon  ,x^{*} +\\varepsilon)\n",
    "$$"
   ]
  },
  {
   "cell_type": "markdown",
   "id": "22fae4a5",
   "metadata": {},
   "source": [
    "### Herramienta: El teorema de Bolzano\n",
    "\n",
    "El teorema de Bolzano asegura que si $f$ es una función continua en el intervalo $[a,b]$ y que toma valores de diferente signo en los extremos del intervalo, es decir, \n",
    "\n",
    "$$\n",
    "f(a)\\cdot f(b)<0,\n",
    "$$\n",
    "\n",
    "entonces existe una solución $x^{*}$ de la ecuación $f(x)=0$ en $[a,b]$.\n",
    "\n",
    "El teorma de Bolzano no nos dice el valor de la solución, solo asegura su existencia. Pero del hecho que esta solución está en $[a,b]$ sabemos que si escogemos un valor aproximado $x_{ap}\\in[a,b]$ entonces (¿por qué?) \n",
    "\n",
    "$$\n",
    "|x^{*}-x_{ap}|<b-a.\n",
    "$$\n",
    "\n",
    "Esto significa que el error de aproximar $x^{*}$ por $x_{ap}$ es menor que $b-a$. \n",
    "\n",
    "En particular, si escogemos el punto medio de $[a,b]$\n",
    "\n",
    "$$\n",
    "x_{ap}=\\frac{a+b}{2},\n",
    "$$\n",
    "\n",
    "se puede garantizar que el error es aún menor (¿por qué?)\n",
    "\n",
    "$$\n",
    "|x^{*}-x_{ap}|<\\frac{b-a}{2}.\n",
    "$$"
   ]
  },
  {
   "cell_type": "markdown",
   "id": "314b2e80",
   "metadata": {},
   "source": [
    "<a id=\"u4c1.2\"></a>\n",
    "## Método de búsqueda lineal: el caso del cálculo de la raíz de un número"
   ]
  },
  {
   "cell_type": "markdown",
   "id": "5c08fdbf",
   "metadata": {},
   "source": [
    "Nuestra estrategia para encontrar una solución aproximada de la ecuación $f(x)=0$ en $[a,b],$ dónde se verifica el teorema de Bolzano, va a er la siguiente: dividiremos el intervalo original $[a,b]$ en subintervalos pequeños de longitud menor que $\\varepsilon$ e iremos comprobando en ellos si se cumple la condición de Bolzano (búsqueda lineal).\n",
    "\n",
    "Esta sería una descripción detallada del correspondiente algoritmo para el cálculo de la raíz cuarta de un número:"
   ]
  },
  {
   "cell_type": "markdown",
   "id": "10de0d1d",
   "metadata": {},
   "source": [
    "1. Define la función `partición(a,b,eps)` que devuelve la lista\n",
    "\n",
    "$$ [x_0 = a, x_1, \\dots , x_n = b]$$ \n",
    "\n",
    "de puntos que dividen el intervalo $(a,b)$ en $n$ partes iguales de longitud menor que `eps`."
   ]
  },
  {
   "cell_type": "markdown",
   "id": "06ef77df",
   "metadata": {},
   "source": [
    "2. Define la función `sol_lineal(f,a,b,eps)` que devuelve un valor aproximado de la solución en (a,b) con error menor que $\\varepsilon.$ Si no hay, devuelve False."
   ]
  },
  {
   "cell_type": "markdown",
   "id": "59076fe7",
   "metadata": {},
   "source": [
    "3. Define la función `raiz4_lineal(a)` que calcula la raíz cuarta del número positivo $a$ utilizando la función `sol_lineal()` aplicada a $f(x)=x^{4}-a$ en el intervalo $[0,1+a]$ con $\\varepsilon=0.0001$ ¿ Cumple $f$ la condición de Bolzano en ese intervalo? ¿Por qué? "
   ]
  },
  {
   "cell_type": "markdown",
   "id": "469d21e7",
   "metadata": {},
   "source": [
    "__Ejercicios__"
   ]
  },
  {
   "cell_type": "markdown",
   "id": "9322512d",
   "metadata": {},
   "source": [
    "1. Define la función `pasos_lineal(a)` que devuelve el número de pasos que se realizan al calcular `raiz4_lineal()`, es decir, el número de subintervalos que hay que comprobar hasta obtener el resultado deseado."
   ]
  },
  {
   "cell_type": "markdown",
   "id": "f06f1149",
   "metadata": {},
   "source": [
    "2. Utiliza las funciones `bolzano()` y `sol_lineal()` para encontrar **todas** las soluciones de la ecuación \n",
    "\n",
    "$$\n",
    "x^{3}-5x^{2}-2x+1=0\n",
    "$$ \n",
    "\n",
    "- Dibujar la función $f(x) = x^{3}-5x^{2}-2x+1=0$ para determinar el espacio de búsqueda."
   ]
  },
  {
   "cell_type": "markdown",
   "id": "0330dbe5",
   "metadata": {},
   "source": [
    "3. Definir una función que implemente el siguiente esquema para la búsqueda del valor aproximado de la solución con un número determinado de cifras decimales (búsqueda con paso variable):\n",
    "\n",
    " - dividir el intervalo $(a,b)$ en $10(b-a)$ partes iguales y seleccionar aquella donde se cumple la condición de Bolzano\n",
    "\n",
    " - repetir el proceso en la parte seleccionada hasta obtener el numero de cifras exactas de la solución busquemos."
   ]
  },
  {
   "cell_type": "markdown",
   "id": "willing-mobile",
   "metadata": {},
   "source": [
    "<a id=\"u4c1.3\"></a>\n",
    "## Método de la bisección\n",
    "\n",
    "El teorema de Bolzano ayuda en realidad a escoger un valor aproximado de la solución de $f(x)=0$ en $[a,b]$ con error tan pequeño como deseemos. \n",
    "\n",
    "Si encontramos un intervalo $[p,q]\\subset [a,b]$ tal que \n",
    "\n",
    "$$f(p)\\cdot f(q)<0$$ \n",
    "\n",
    "que sea suficientemente pequeño: $q-p < \\varepsilon,$ entonces, si escogemos cualquier valor\n",
    "\n",
    "$$ x_{app} \\in (p,q)$$\n",
    "\n",
    "tendremos\n",
    "\n",
    "$$|x^*-x_{ap}| < q-p < \\varepsilon.$$\n",
    "\n",
    "Más aún, si se escoge\n",
    "\n",
    "$$x_{ap} = \\frac{p+q}{2}$$ \n",
    "\n",
    "resultará que\n",
    "\n",
    "$$|x^*-x_{ap}| < \\frac{\\varepsilon}{2}.$$"
   ]
  },
  {
   "cell_type": "markdown",
   "id": "other-scout",
   "metadata": {},
   "source": [
    "__Ejercicio__"
   ]
  },
  {
   "cell_type": "markdown",
   "id": "forbidden-asbestos",
   "metadata": {},
   "source": [
    "Define la función `bolzano(f,a,b)` donde $f$ es una función continua definida en el intervalo $[a,b]$. Debe devolver `True` o `False` según se cumpla la condición de Bolzano en $[a,b]$ o no. \n",
    "\n",
    "Por ejemplo, si $f(x) = \\sin(x),$ $a = -\\pi/2$ y $b = \\pi/2,$ la función devuelve `True`, dado que $f(-\\pi/2)\\cdot f(\\pi/2)\\leq 0.$  \n",
    "\n",
    "Observa que el parámetro `f` de la función `bolzano(f,a,b)` corespondería, en el ejemplo anterior, a \n",
    "```python\n",
    "def f(x):\n",
    "    import math\n",
    "    return math.sin(x)\n",
    "```\n",
    "Es decir, hay que definir la función `f `antes de invocar la función `bolzano(f,a,b)`."
   ]
  },
  {
   "cell_type": "markdown",
   "id": "superb-feelings",
   "metadata": {},
   "source": [
    "__Resumen__\n",
    "\n",
    "El teorema de Bolzano ayuda en realidad a escoger un valor aproximado de la solución de $f(x)=0$ en $[a,b]$ con error tan pequeño como deseemos. El método de bisección consiste en ir dividiendo progresivamente el intervalo a la mitad y conservando solo aquella parte dónde se encuentra la solución (es decir, aquella dónde se cumple la condición de Bolzano (véase las figuras de más abajo). Como en cada paso la longitud del intervalo se reduce a la mitad, ésta podrá llegar a ser más pequeña que cualquier número $\\varepsilon<0$ dado. Entonces, el punto medio de ese intervalo cuya longitud sea menor que el error establecido, será una aproximación adecuada.\n",
    "\n",
    "\n",
    "![](../images/bb1.png)            |  ![](../images/bb2.png)\n",
    ":-------------------------:|:-------------------------:\n",
    "![](../images/bb3.png)            |  ![](../images/bb4.png)"
   ]
  },
  {
   "cell_type": "markdown",
   "id": "material-recipe",
   "metadata": {},
   "source": [
    "__Ejercicios__"
   ]
  },
  {
   "cell_type": "markdown",
   "id": "gorgeous-robinson",
   "metadata": {},
   "source": [
    "1. Define las funciones `cortar_inf(f,a,b)` y `cortar_sup(f,a,b)` donde $f$ es una función continua que cumple la condición de Bolzano en el intervalo $[a,b]$. Se trata de dividir el intervalo $[a,b]$ en dos subintervalos iguales (es decir, a la mitad) y escoger, utilizando el teorema de Bolzano, aquel dónde se encuentra la solución. La función `cortar_inf(f,a,b)` devuelve el extremo inferior del intervalo seleccionado y la funcion `cortar_sup(f,a,b)` el superior. El programa debe comprobar si la función cumple la condición de Bolzano en $[a,b]$ y devolver una cadena vacía en caso de que no se cumpla."
   ]
  },
  {
   "cell_type": "markdown",
   "id": "animated-enclosure",
   "metadata": {},
   "source": [
    "2. __Alternativa:__ Define la función `cortar(f,a,b)` donde $f$ es una función continua que cumple la condición de Bolzano en el intervalo $[a,b]$. La función `cortar(f,a,b)` divide el intervalo $[a,b]$ en dos subintervalos iguales (es decir, a la mitad) y escoge, utilizando el teorema de Bolzano, aquel donde se encuentra la solución. Finalmente, devuelve el intervalo seleccionado en forma de lista de Python. El programa debe comprobar si la función cumple la condición de Bolzano en $[a,b]$ y devolver una lista vacía en caso de que no se cumpla."
   ]
  },
  {
   "cell_type": "markdown",
   "id": "dimensional-archive",
   "metadata": {},
   "source": [
    "3. Define la función `biseccion(f,a,b, epsilon)` que aplica la función `bolzano()` y las funciones `cortar_inf()` y `cortar_sup()` reiteradamene hasta conseguir un intervalo de longitud menor que $\\varepsilon$. Entonces devuelve como valor aproximado $x_{ap}$ el punto medio de ese intervalo. En caso de que $f$ no cumpla la condición de Bolzano en $[a,b]$ la función debe devolver `False`. "
   ]
  },
  {
   "cell_type": "markdown",
   "id": "contrary-assets",
   "metadata": {},
   "source": [
    "4. Define la función `biseccion_sin(f,a,b, epsilon)` sin utilizar las funciones auxiliares `bolzano()`, `cortar_inf()` y `cortar_sup()`"
   ]
  },
  {
   "cell_type": "markdown",
   "id": "sustained-template",
   "metadata": {},
   "source": [
    "5. __Alternativa:__ Define la función `biseccion(f,a,b,epsilon)` que aplica la función `bolzano()` y las función `cortar()` reiteradamene hasta conseguir un intervalo de longitud menor que `epsilon`. Entonces devuelve como valor aproximado $x_{ap}$ el punto medio de ese intervalo. En caso de que $f$ no cumpla la condición de Bolzano en $[a,b]$ la función debe devolver False.\n",
    "\n",
    "\n",
    "**Advertencia:** Tened en cuenta que no es lo mismo \n",
    "```python\n",
    "izq = -0.5\n",
    "drch = 1\n",
    "[izq, drch] = cortar(f, izq, drch)\n",
    "```\n",
    "\n",
    "que\n",
    "```python\n",
    "izq = -0.5\n",
    "drch = 1\n",
    "izq = cortar(f, izq, drch)[0]\n",
    "drch = cortar(f, izq, drch)[1]\n",
    "```\n",
    "   \n",
    "Con lo primero se llama `cortar(f, izq, drch)` una sola vez con los valores de `izq = -0.5` y `drch = 1`. Esto es correcto. Con lo segundo se evalua la función `cortar(f, izq, drch)` dos veces; primero se utilizan los valores de `izq = -0.5` y `drch = 1` (esto ese correcto) y después se utiliza el valor de `izq` que se acaba de calcular (esto es **incorrecto**) y  el valor de `drch = 1` de la anterior iteración (esto es correcto).\n"
   ]
  },
  {
   "cell_type": "markdown",
   "id": "square-grave",
   "metadata": {},
   "source": [
    "6. Define la función `raiz4_biseccion(a)` que calcula la raíz cuarta del número positivo $a$ utilizando la función `biseccion()` aplicada a $f(x)=x^{4}-a$ en el intervalo $[0,1+a]$ con $\\varepsilon=0.0001$. ¿ Cumple $f$ la condición de Bolzano en ese intervalo? ¿Por qué? "
   ]
  },
  {
   "cell_type": "markdown",
   "id": "subtle-performer",
   "metadata": {},
   "source": [
    "7. Define la función `pasos_biseccion(a)` que devuelve el número de veces que es necesario aplicar las funciones `corte_inf()` y `corte_sup()`, o  bien, según el caso, `cortar()`, al calcular `raiz4_biseccion()`, es decir, el número de divisiones a la mitad hasta obtener el resultado deseado."
   ]
  },
  {
   "cell_type": "markdown",
   "id": "greek-trinidad",
   "metadata": {},
   "source": [
    "8. Utiliza las funciones `bolzano()` y `biseccion()` para encontrar **todas** las soluciones de la ecuación \n",
    "$$\n",
    "x^{3}-5x^{2}-2x+1=0\n",
    "$$"
   ]
  },
  {
   "cell_type": "markdown",
   "id": "379ea24f",
   "metadata": {},
   "source": [
    "<a id=\"u4c1.4\"></a>\n",
    "## Método de Newton-Raphson: el caso de la raíz de un número"
   ]
  },
  {
   "cell_type": "markdown",
   "id": "1da9cd72",
   "metadata": {},
   "source": [
    "Para obtener los valores en los que la gráfica de la función $f(x)$ corta al eje $x$ (es decir los valores de $x$ que verifican $f(x)=0$) se puede obtener una serie de valores que se aproximan a la solución tanto como se quiera. Este es el procedimiento de Newton-Raphson para obtener dicha serie:\n",
    "- se elige un valor inicial $x_0$\n",
    "- el siguiente es $x_1=x_0-\\frac{f(x_0)}{f'(x_0)}$\n",
    "- el valor $n+1$ se obtiene a partir del $n:$ $x_{n+1}=x_n-\\frac{f(x_n)}{f'(x_n)}$\n",
    "\n",
    "Supongamos que $x^*$ es una solución de $f(x)=0;$ entonces, se puede probar que dado un valor pequeño arbitrario $\\varepsilon,$ podemos encontrar un $m$ tal que si $n>m$ se verifica\n",
    "\n",
    "$$|x_n - x^*| < \\varepsilon$$"
   ]
  },
  {
   "cell_type": "markdown",
   "id": "862f724f",
   "metadata": {},
   "source": [
    "__El caso de la raíz de un número__\n",
    "\n",
    "Si queremos obtener el cubo de un número $num,$ es decir, queremos encontrar un valor aproximado de $\\sqrt[3]{num}$ con error menor que $\\varepsilon,$ entonces debemos encontrar los ceros de $f(x)= x^3-num$ con error menor que $\\varepsilon.$ En este caso $f'(x)=3x^2.$ Por lo tanto se tiene, con el método de Newton-Raphson, la siguiente sucesión de valores aproximados:\n",
    "\n",
    "$$\n",
    "x_{n+1} = x_n-\\frac{x_n^3-num}{3x_n^2}\n",
    "$$\n",
    "\n",
    "En este caso el **procedimiento de parada de la búsqueda** se obtien con la comprobación:\n",
    "\n",
    "$$\n",
    "|x_n^3 - num|<\\varepsilon\n",
    "$$\n",
    "\n",
    "Es decir, cuando se llegue a un valor de $n$ que verifica esa desilgualdad, el valor $x_n$ es un valor aproximado de $\\sqrt[3]{num}.$ "
   ]
  },
  {
   "cell_type": "markdown",
   "id": "dca4aaef",
   "metadata": {},
   "source": [
    "__Explicación geomértica del método__\n",
    "\n",
    "Cunado tenemos un valor de la sución que buscamos, por ejemplo el primero, $x_0,$ el siguiente se obtiene de la siguiente forma. Tomamos el punto de la gráfica de $f,$ $(x_0, f(x_0)),$ y determinamos la recta tangente a la grñafica de $f$ en dicho punto. Entonnces, el punto $x_1$ es la intersección de esa recta tangente con el eje de las $x$'s. \n",
    "\n",
    "Comprueba que de esta forma se obtiene el valor antes indicado de $x_1$ y el valor antes indicado de $x_{n+1}$ a partir de $x_n.$"
   ]
  },
  {
   "cell_type": "markdown",
   "id": "780b6ca5",
   "metadata": {},
   "source": [
    "__Algoritmo babilonio para obtebner un valor paroximado de la raíz cuadrada__\n",
    "\n",
    "Este algortimo, que permite obtener la raíz cuadrada de un número $num,$ es equivalente a obtener el lado de un cuadrado de área $num.$\n",
    "\n",
    "El procedimiento es como sigue. Se elije un valor inicial $x_0$ y se construye un rectángulo de área $num.$ Si un lado es $x_0$ el otro será $\\frac{num}{x_0}.$ El siguinete valor es la media de los lados del anterior rectángulo. Es decir \n",
    "\n",
    "$$\n",
    "x_1 = \\frac{1}{2}\\left(x_0 + \\frac{num}{x_0}\\right)\n",
    "$$\n",
    "\n",
    "La idea es que el rectágulo de lados $x_1$ y $num/x_1$ es más \"cuadrado\" que el que tiene lados $x_0$ y $\\frac{num}{x_0}.$ Entonces el valor del término $n+1$ es \n",
    "\n",
    "$$\n",
    "x_{n+1} = \\frac{1}{2}\\left(x_n + \\frac{num}{x_n}\\right)\n",
    "$$\n",
    "\n",
    "Es decir todos los rectángulos de lados $x_n$ y $\\frac{num}{x_n}$ tienen area $num.$ Pero según $n$ aumenta estos rectángulos son, a cada paso, más \"cuadrados\".\n",
    "\n",
    "Este antiguo procedimiento para calcular raices cuadradas podría ser la idea que generaliza el algoritmo de Newton-Raphson. El algoritmo babolonio se puede ver como un caso particular del de Newton-Raphson cuando $f(x) = x^2 - num.$ Obsérvese que el algoritmo babilonio es muy anterior al de Newton-Raphson. "
   ]
  },
  {
   "cell_type": "markdown",
   "id": "396dccff",
   "metadata": {},
   "source": [
    "__Ejercicio__"
   ]
  },
  {
   "cell_type": "markdown",
   "id": "0683d2b5",
   "metadata": {},
   "source": [
    "1. Obtener la función `Newton-Raphson_raiz3(a,epsilon)` que devueve la raíz cúbica de $a$ con un error menor que $\\varepsilon,$ utilizando el método de Newton-Raphson. "
   ]
  }
 ],
 "metadata": {
  "kernelspec": {
   "display_name": "Python 3 (ipykernel)",
   "language": "python",
   "name": "python3"
  },
  "language_info": {
   "codemirror_mode": {
    "name": "ipython",
    "version": 3
   },
   "file_extension": ".py",
   "mimetype": "text/x-python",
   "name": "python",
   "nbconvert_exporter": "python",
   "pygments_lexer": "ipython3",
   "version": "3.12.3"
  }
 },
 "nbformat": 4,
 "nbformat_minor": 5
}

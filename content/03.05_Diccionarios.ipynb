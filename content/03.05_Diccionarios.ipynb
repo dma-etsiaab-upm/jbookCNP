{
 "cells": [
  {
   "cell_type": "markdown",
   "id": "seeing-maldives",
   "metadata": {},
   "source": [
    "# Diccionarios\n",
    "\n",
    "* [Presentación](#u3c5.1)\n",
    "* [Generar diccionarios con `zip()`](#u3c5.2)\n",
    "* [Funciones y métodos](#u3c5.3)\n",
    "* [Ejemplos](#u3c5.4)\n",
    "* [Ejercicios](#u3c5.5)\n",
    "* [Cuestionarios de Moodle](#u3c5.6)"
   ]
  },
  {
   "cell_type": "markdown",
   "id": "vertical-baghdad",
   "metadata": {},
   "source": [
    "<a id=\"u3c5.1\"></a>\n",
    "## Presentación de los diccionarios"
   ]
  },
  {
   "cell_type": "markdown",
   "id": "hourly-british",
   "metadata": {},
   "source": [
    "Un diccionario es un conjunto de pares **clave:valor** donde **clave** es un dato no mutable y **valor** es cualquier tipo de dato.\n",
    "\n",
    "\n",
    "````python\n",
    "diccionario = {clave1:valor1, clave2:valor2,....,clavek:valork}\n",
    "````\n",
    "\n",
    "Un diccionario se define indicando sus elementos **clave:valor**:"
   ]
  },
  {
   "cell_type": "markdown",
   "id": "opened-rachel",
   "metadata": {},
   "source": [
    "**Ejemplos**"
   ]
  },
  {
   "cell_type": "code",
   "execution_count": null,
   "id": "happy-spouse",
   "metadata": {},
   "outputs": [],
   "source": [
    "horario = {'lunes':'11:30', 'martes':'8:30', 'miércoles':'8:30',  'viernes':'11:30'}"
   ]
  },
  {
   "cell_type": "markdown",
   "id": "sized-photography",
   "metadata": {},
   "source": [
    "El diccionario horario indica a que hora comienzan las clases de CNP."
   ]
  },
  {
   "cell_type": "markdown",
   "id": "complex-grocery",
   "metadata": {},
   "source": [
    "Podemos definir otro diccionario con   información adicional  indicando el grupo que tiene clase en el día y la hora indicados. Para ello utilizamos listas como valores:"
   ]
  },
  {
   "cell_type": "code",
   "execution_count": null,
   "id": "willing-tender",
   "metadata": {},
   "outputs": [],
   "source": [
    "clases = {'lunes':['11:30','IAL'], 'martes':['8:30','IAG'], 'miércoles':['8:30','IAL'],  'viernes':['11:30','IAG']}"
   ]
  },
  {
   "cell_type": "markdown",
   "id": "proper-queue",
   "metadata": {},
   "source": [
    "### Observaciones\n",
    "\n",
    "- Los elementos están formados por `clave:valor`\n",
    "\n",
    "\n",
    "- A cada clave le corresponde un solo valor\n",
    "\n",
    "\n",
    "- Puede definirse un diccionario vacío. Esta expersión asigna un diccionario vacio a la variable `vacio`: `vacio = {}`\n",
    "\n",
    "\n",
    "- Los elementos van separados por comas\n",
    "\n",
    "\n",
    "- La clave de cada elemento puede se cualquier tipo que sea inmutable\n",
    "\n",
    "\n",
    "- El valor de cada elemento puede ser de cuaquier tipo\n",
    "\n",
    "\n",
    "- Un diccionario es un iterable. La expresión\n",
    "    - `for u in diccionario:` -> itera sobre el conjunto de claves de diccionario \n",
    "    \n",
    "    - `for u in diccionario.keys()` -> y es equivalente a la anterior\n",
    "\n",
    "\n",
    "- Es una estructura más general que los iterables que ya hemos vistos (cadenas, listas y tuplas). Para los diccionarios:\n",
    "    - no hay un orden establecido en la suceción de elementos del diccionario y \n",
    "    - se accede a los elementos del diccionario por la clave; no por la posición como en las anteriores estructuras (cadenas, listas y tuplas)."
   ]
  },
  {
   "cell_type": "markdown",
   "id": "cubic-upgrade",
   "metadata": {},
   "source": [
    "<a id=\"u3c5.2\"></a>\n",
    "## Generar diccionarios con `zip`"
   ]
  },
  {
   "cell_type": "markdown",
   "id": "impaired-remove",
   "metadata": {},
   "source": [
    "Si `L1` y `L2` son dos iterables de igual longitud, el objeto **zip(L1,L2)** es un iterable que contiene tuplas\n",
    "`````python\n",
    "     (u1,u2) = (L1[k],L2[k]) con k = 0,1,2,...,len(L1) - 1.\n",
    "`````"
   ]
  },
  {
   "cell_type": "markdown",
   "id": "grand-islam",
   "metadata": {},
   "source": [
    "**Ejemplo**"
   ]
  },
  {
   "cell_type": "code",
   "execution_count": null,
   "id": "blocked-gauge",
   "metadata": {},
   "outputs": [],
   "source": [
    "I = zip('abcdef', list(range(6)))"
   ]
  },
  {
   "cell_type": "code",
   "execution_count": null,
   "id": "demographic-blend",
   "metadata": {},
   "outputs": [],
   "source": [
    "for u in I:\n",
    "    print(u)"
   ]
  },
  {
   "cell_type": "markdown",
   "id": "blessed-creation",
   "metadata": {},
   "source": [
    "    \n",
    "Con el objeto **zip**  podemos definir un diccionario a partir de dos iterables L1, L2 de igual longitud. Los elementos del primer iterable serán las claves y los elementos correspondientes del segundo serán los valores:\n",
    "`````python\n",
    "     nuevo_diccionario = dict(zip(L1,L2))    \n",
    "`````"
   ]
  },
  {
   "cell_type": "markdown",
   "id": "sustained-vaccine",
   "metadata": {},
   "source": [
    "**Ejemplos**"
   ]
  },
  {
   "cell_type": "code",
   "execution_count": null,
   "id": "ecological-dietary",
   "metadata": {},
   "outputs": [],
   "source": [
    "letras = dict(zip('abcdef', list(range(6))))\n",
    "letras"
   ]
  },
  {
   "cell_type": "code",
   "execution_count": null,
   "id": "surrounded-reform",
   "metadata": {},
   "outputs": [],
   "source": [
    "L1 = ['La Mari', 'La Paqui', 'La Juani']\n",
    "L2 = [24,26,31]\n",
    "edad = dict(zip(L1,L2))"
   ]
  },
  {
   "cell_type": "code",
   "execution_count": null,
   "id": "secondary-suite",
   "metadata": {},
   "outputs": [],
   "source": [
    "edad"
   ]
  },
  {
   "cell_type": "markdown",
   "id": "b5fbf8c9",
   "metadata": {},
   "source": [
    "<a id=\"u3c5.3\"></a>\n",
    "## Funciones y métodos"
   ]
  },
  {
   "cell_type": "markdown",
   "id": "educational-prompt",
   "metadata": {},
   "source": [
    "__Obtener el valor de una clave dada__"
   ]
  },
  {
   "cell_type": "code",
   "execution_count": null,
   "id": "satisfactory-hardware",
   "metadata": {},
   "outputs": [],
   "source": [
    "letras['a']"
   ]
  },
  {
   "cell_type": "markdown",
   "id": "civilian-serbia",
   "metadata": {},
   "source": [
    "Si la clave no existe de un a error (`KeyError`)"
   ]
  },
  {
   "cell_type": "code",
   "execution_count": null,
   "id": "french-cruise",
   "metadata": {},
   "outputs": [],
   "source": [
    "letras['S']"
   ]
  },
  {
   "cell_type": "markdown",
   "id": "overhead-cooperation",
   "metadata": {},
   "source": [
    "__Longitud de un diccionario__"
   ]
  },
  {
   "cell_type": "code",
   "execution_count": null,
   "id": "duplicate-fiber",
   "metadata": {},
   "outputs": [],
   "source": [
    "len(letras)"
   ]
  },
  {
   "cell_type": "markdown",
   "id": "thorough-ferry",
   "metadata": {},
   "source": [
    "__Añadir elementos a un diccionario__\n",
    "\n",
    "Se pueden añadir nuevos elementos o cambiar los valores de las claves:\n",
    "\n",
    "    diccionario[clave] = valor\n",
    "\n",
    "Si la clave no está en diccionario, se añade el par clave:valor, si ya está, cambia el valor asociado a clave:    "
   ]
  },
  {
   "cell_type": "markdown",
   "id": "introductory-bahamas",
   "metadata": {},
   "source": [
    "**Ejemplo 1**"
   ]
  },
  {
   "cell_type": "markdown",
   "id": "offshore-reward",
   "metadata": {},
   "source": [
    "- añadir un nuevo par clave:valor"
   ]
  },
  {
   "cell_type": "code",
   "execution_count": null,
   "id": "appropriate-charity",
   "metadata": {},
   "outputs": [],
   "source": [
    "letras['g'] = 6\n",
    "letras"
   ]
  },
  {
   "cell_type": "markdown",
   "id": "consistent-amino",
   "metadata": {},
   "source": [
    "- modificar un par clave:valor"
   ]
  },
  {
   "cell_type": "code",
   "execution_count": null,
   "id": "burning-mapping",
   "metadata": {},
   "outputs": [],
   "source": [
    "letras['a'] = 1\n",
    "letras"
   ]
  },
  {
   "cell_type": "markdown",
   "id": "finished-lawrence",
   "metadata": {},
   "source": [
    "**Ejemplo 2**\n",
    "\n",
    "En este caso creamos un diccionario vacío y le añadimos elementos:"
   ]
  },
  {
   "cell_type": "code",
   "execution_count": null,
   "id": "answering-there",
   "metadata": {},
   "outputs": [],
   "source": [
    "patas = {}\n",
    "\n",
    "patas['gallina'] = 2\n",
    "\n",
    "patas['vaca'] = 4\n",
    "\n",
    "patas['rana'] = 4\n",
    "\n",
    "patas['pulpo'] = 8\n",
    "\n",
    "patas['mosca'] = 6\n",
    "\n",
    "patas['araña'] = 8\n",
    "\n",
    "patas['cigala'] = 10\n",
    "\n",
    "patas"
   ]
  },
  {
   "cell_type": "markdown",
   "id": "jewish-hepatitis",
   "metadata": {},
   "source": [
    "__Comprobar las claves__"
   ]
  },
  {
   "cell_type": "code",
   "execution_count": null,
   "id": "bridal-aquatic",
   "metadata": {},
   "outputs": [],
   "source": [
    "'A' in letras, 'a' in letras"
   ]
  },
  {
   "cell_type": "markdown",
   "id": "weird-optics",
   "metadata": {},
   "source": [
    "__Borrar__"
   ]
  },
  {
   "cell_type": "code",
   "execution_count": null,
   "id": "impressive-immune",
   "metadata": {},
   "outputs": [],
   "source": [
    "del(letras['a'])"
   ]
  },
  {
   "cell_type": "code",
   "execution_count": null,
   "id": "short-seminar",
   "metadata": {},
   "outputs": [],
   "source": [
    "letras"
   ]
  },
  {
   "cell_type": "markdown",
   "id": "useful-nylon",
   "metadata": {},
   "source": [
    "__Lista de claves, valores y items de un diccionario__"
   ]
  },
  {
   "cell_type": "markdown",
   "id": "yellow-pound",
   "metadata": {},
   "source": [
    "Las claves y los valores"
   ]
  },
  {
   "cell_type": "code",
   "execution_count": null,
   "id": "arranged-colombia",
   "metadata": {},
   "outputs": [],
   "source": [
    "list(letras.keys())"
   ]
  },
  {
   "cell_type": "code",
   "execution_count": null,
   "id": "accurate-jacob",
   "metadata": {},
   "outputs": [],
   "source": [
    "list(letras.values())"
   ]
  },
  {
   "cell_type": "code",
   "execution_count": null,
   "id": "unique-operator",
   "metadata": {},
   "outputs": [],
   "source": [
    "for p in letras.keys():\n",
    "    print(p)"
   ]
  },
  {
   "cell_type": "code",
   "execution_count": null,
   "id": "swedish-click",
   "metadata": {},
   "outputs": [],
   "source": [
    "for p in letras:\n",
    "    print(p)"
   ]
  },
  {
   "cell_type": "code",
   "execution_count": null,
   "id": "modern-david",
   "metadata": {},
   "outputs": [],
   "source": [
    "for p in letras.values():\n",
    "    print(p)"
   ]
  },
  {
   "cell_type": "markdown",
   "id": "nuclear-prison",
   "metadata": {},
   "source": [
    "Los items"
   ]
  },
  {
   "cell_type": "code",
   "execution_count": null,
   "id": "moved-fantasy",
   "metadata": {},
   "outputs": [],
   "source": [
    "list(letras.items())"
   ]
  },
  {
   "cell_type": "code",
   "execution_count": null,
   "id": "heavy-correction",
   "metadata": {},
   "outputs": [],
   "source": [
    "for item in letras.items():\n",
    "    print(item)"
   ]
  },
  {
   "cell_type": "markdown",
   "id": "mexican-guest",
   "metadata": {},
   "source": [
    "\"Ordenar\" un diccionario"
   ]
  },
  {
   "cell_type": "code",
   "execution_count": null,
   "id": "variable-survival",
   "metadata": {},
   "outputs": [],
   "source": [
    "sorted(letras)"
   ]
  },
  {
   "cell_type": "code",
   "execution_count": null,
   "id": "completed-loading",
   "metadata": {},
   "outputs": [],
   "source": [
    "sorted(letras.items())"
   ]
  },
  {
   "cell_type": "markdown",
   "id": "another-people",
   "metadata": {},
   "source": [
    "__Listado de funciones y métodos para los diccionarios__\n",
    "\n",
    "Función o método | Resultado\n",
    ":-- | :--\n",
    "diccionario**[clave]**  | devuelve el valor asociado a clave en diccionario, **error si clave no pertenece a diccionario**\n",
    "**len**(diccionario)     |  cantidad de pares clave:valor del diccionario\n",
    "**del**(diccionario[clave])  | elimina el par clave:valor del diccionario\n",
    "**sorted**(diccionario) | devuelve la lista ordenada de las claves \n",
    "**sorted**(diccionario.items()) | devuelve la lista ordenada de los elementos (como tuplas (clave, valor))\n",
    "diccionario**.keys()**     | devuelve un iterable que contiene las claves del diccionario\n",
    "diccionario**.values()**   | devuelve un iterable que contiene los valores del diccionario\n",
    "diccionario**.items()**    | devuelve las tuplas (clave,valor) en un iterable\n",
    "clave **in** diccionario   | devuelve True o False según clave esté en diccionario o no\n",
    "diccionario**.get(clave)** | devuelve el valor asociado a clave, None si clave no está en diccionario\n",
    "diccionario**.get(clave,otro)** | devuelve el valor asociado a clave, y **otro** si clave no está en diccionario\n"
   ]
  },
  {
   "cell_type": "markdown",
   "id": "ordinary-lloyd",
   "metadata": {},
   "source": [
    "__Uso de `.get()`__"
   ]
  },
  {
   "cell_type": "code",
   "execution_count": null,
   "id": "intended-compression",
   "metadata": {},
   "outputs": [],
   "source": [
    "letras"
   ]
  },
  {
   "cell_type": "code",
   "execution_count": null,
   "id": "rapid-sodium",
   "metadata": {},
   "outputs": [],
   "source": [
    "letras.get('Catia')"
   ]
  },
  {
   "cell_type": "code",
   "execution_count": null,
   "id": "directed-horror",
   "metadata": {},
   "outputs": [],
   "source": [
    "letras.get('b', 'no está')"
   ]
  },
  {
   "cell_type": "code",
   "execution_count": null,
   "id": "rising-refund",
   "metadata": {},
   "outputs": [],
   "source": [
    "letras.get('Catia', 'no está')"
   ]
  },
  {
   "cell_type": "markdown",
   "id": "biological-sport",
   "metadata": {},
   "source": [
    "<a id=\"u3c5.4\"></a>\n",
    "## Ejemplos"
   ]
  },
  {
   "cell_type": "code",
   "execution_count": null,
   "id": "furnished-chassis",
   "metadata": {},
   "outputs": [],
   "source": [
    "patas['araña']"
   ]
  },
  {
   "cell_type": "code",
   "execution_count": null,
   "id": "alternative-block",
   "metadata": {},
   "outputs": [],
   "source": [
    "patas['cabra']"
   ]
  },
  {
   "cell_type": "code",
   "execution_count": null,
   "id": "reasonable-investment",
   "metadata": {},
   "outputs": [],
   "source": [
    "len(patas)"
   ]
  },
  {
   "cell_type": "code",
   "execution_count": null,
   "id": "appreciated-waterproof",
   "metadata": {},
   "outputs": [],
   "source": [
    "del patas['rana']"
   ]
  },
  {
   "cell_type": "code",
   "execution_count": null,
   "id": "sound-explanation",
   "metadata": {},
   "outputs": [],
   "source": [
    "patas"
   ]
  },
  {
   "cell_type": "code",
   "execution_count": null,
   "id": "authentic-plasma",
   "metadata": {},
   "outputs": [],
   "source": [
    "for u in patas.keys():\n",
    "    print(u)"
   ]
  },
  {
   "cell_type": "code",
   "execution_count": null,
   "id": "british-corps",
   "metadata": {},
   "outputs": [],
   "source": [
    "animales = list(patas.keys())"
   ]
  },
  {
   "cell_type": "code",
   "execution_count": null,
   "id": "statewide-checkout",
   "metadata": {},
   "outputs": [],
   "source": [
    "animales.sort()\n",
    "for u in animales:\n",
    "    print(u)"
   ]
  },
  {
   "cell_type": "code",
   "execution_count": null,
   "id": "pointed-calibration",
   "metadata": {},
   "outputs": [],
   "source": [
    "for u in animales:\n",
    "    print(u, patas[u])"
   ]
  },
  {
   "cell_type": "code",
   "execution_count": null,
   "id": "particular-split",
   "metadata": {},
   "outputs": [],
   "source": [
    "'cuervo' in patas"
   ]
  },
  {
   "cell_type": "code",
   "execution_count": null,
   "id": "strategic-tackle",
   "metadata": {},
   "outputs": [],
   "source": [
    "for u in patas.items():\n",
    "    print(u)"
   ]
  },
  {
   "cell_type": "code",
   "execution_count": null,
   "id": "mexican-vehicle",
   "metadata": {},
   "outputs": [],
   "source": [
    "for u in patas.items():\n",
    "    print(u[0], u[1])"
   ]
  },
  {
   "cell_type": "markdown",
   "id": "alternative-connectivity",
   "metadata": {},
   "source": [
    "- Lo que hacemos ahora no está relacionado directamente con diccionarios, pero es conveniente saber producir un listado con formato apropiado"
   ]
  },
  {
   "cell_type": "code",
   "execution_count": null,
   "id": "conceptual-dakota",
   "metadata": {},
   "outputs": [],
   "source": [
    "for u in animales:\n",
    "    print(u.ljust(10), patas[u])"
   ]
  },
  {
   "cell_type": "code",
   "execution_count": null,
   "id": "imperial-estate",
   "metadata": {},
   "outputs": [],
   "source": [
    "print('Número de patas por animales')\n",
    "print()\n",
    "for u in animales:\n",
    "    print(u.ljust(10), str(patas[u]).rjust(2))"
   ]
  },
  {
   "cell_type": "code",
   "execution_count": null,
   "id": "cellular-ceremony",
   "metadata": {},
   "outputs": [],
   "source": [
    "print('Clases de CNP')\n",
    "print()\n",
    "dias = list(clases.keys()) \n",
    "for u in dias:\n",
    "    print(u.ljust(9), clases[u][0].rjust(7), ' ' + clases[u][1])"
   ]
  },
  {
   "cell_type": "code",
   "execution_count": null,
   "id": "classified-paris",
   "metadata": {},
   "outputs": [],
   "source": [
    "def frecuencias(texto):\n",
    "    letras = 'bcdfghjklmnñpqrstvwxyz'\n",
    "    texto.lower()\n",
    "    diccionario = {}\n",
    "    for letra in letras:\n",
    "        frecuencia = 0\n",
    "        for u in texto:\n",
    "            if u == letra:\n",
    "                frecuencia += 1\n",
    "        if frecuencia:\n",
    "            diccionario[letra] = frecuencia\n",
    "    return diccionario"
   ]
  },
  {
   "cell_type": "code",
   "execution_count": null,
   "id": "harmful-leeds",
   "metadata": {},
   "outputs": [],
   "source": [
    "frecuencias('Cuando se elabora el pan, las condiciones atmosféricas influyen en el resultado final')"
   ]
  },
  {
   "cell_type": "markdown",
   "id": "upset-boost",
   "metadata": {},
   "source": [
    "<a id=\"u3c5.5\"></a>\n",
    "## Ejercicios"
   ]
  },
  {
   "cell_type": "markdown",
   "id": "green-compensation",
   "metadata": {},
   "source": [
    "1. Definir el diccionario  **capitales** que contenga al menos cinco paises y sus respectivas capitales, con el formato\n",
    "       capitales = {pais1:capital1,......}.\n",
    "      \n",
    "   - Una vez definido el diccionario, añadirle dos países más que no están en él. Antes de añadirlos, compruebe que realmente no están con el operador **in**.\n",
    "   - Imprime una lista ordenada alfabéticamente de los países y sus capitales\n",
    "   \n",
    "2. El diccionario **notas** contiene los nombres de los alumnos de un curso como claves, y como valores las listas de las notas en las tres evaluaciones parciales que se han realizado:\n",
    "       notas = {'Alfaro, Daniel':[4,3], 'Estable, Anabel':[5,6,5], 'García-Peña, Tomás':[2,5,6], 'Julián, Francisco':[9,9,7],'Ruiz, Hipólito':[3,7]}\n",
    "       \n",
    "    - Imprimir una lista de los alumnos matriculados en el curso.\n",
    "    - Imprimir una lista de los alumnos que han aprobado todas las evaluaciones.\n",
    "    - Imprimir una lista de los alumnos y sus notas medias.\n",
    "    - Imprimir una lista de los alumnos que no han participado en alguna evaluación.\n",
    "\n",
    "3. La información de las existencias de fruta en una frutería se guarda en el diccionario **existencia** cuyas claves son las frutas y los valores son las cantidades correspondientes en kilos. Por ejemplo:\n",
    "       existencias = {'pera':20, 'manzana':50, 'kiwi':25, 'nectarina': 40, 'naranja':25, 'pomelo':15, 'limón':10}.\n",
    "    Se llevan también los diccionarios **ventas** y **suministros** de estructura similar y que se actualizan al final del día.\n",
    "\n",
    "   - Definir la función **actualizar(existencias,ventas,suministros)** que actualiza los valores de **existencias** después de las ventas y entradas del día.\n",
    "   - Imprimir una lista de las frutas cuya cantidad haya aumentado al final del día.\n",
    "   \n",
    "4. Definir la función **frecuencias(texto)** que devuelve un diccionario cuyas claves son las consonantes y los valores son las frecuencias con que cada letra aparecen en **texto**. A continuación, utiliza la función definida para:\n",
    "\n",
    "   - Ddefinir la función **consonantes(texto)** que imprime una lista de las consonantes que aparecen en **texto**.\n",
    "   - Definir la función **mas_frecuente(texto)** que devuelve la consonante más frecuente en **texto**.\n",
    "   - Definir la función **raras(texto)** que devuelve una lista de las consonantes que no aparecen en **texto**.\n",
    "   "
   ]
  },
  {
   "cell_type": "markdown",
   "id": "protected-security",
   "metadata": {},
   "source": [
    "<a id=\"u3c5.6\"></a>\n",
    "## Cuestionarios de Moodle\n",
    "\n",
    "[Cuestionario sobre diccionarios](https://moodle.upm.es/titulaciones/oficiales/mod/quiz/view.php?id=230411)\n",
    "\n",
    "[Las notas de una asignatura](https://moodle.upm.es/titulaciones/oficiales/mod/quiz/view.php?id=230412)\n",
    "\n",
    "[Manejo de Diccionarios, Ficheros y Módulos](https://moodle.upm.es/titulaciones/oficiales/mod/resource/view.php?id=230414)"
   ]
  }
 ],
 "metadata": {
  "kernelspec": {
   "display_name": "Python 3 (ipykernel)",
   "language": "python",
   "name": "python3"
  },
  "language_info": {
   "codemirror_mode": {
    "name": "ipython",
    "version": 3
   },
   "file_extension": ".py",
   "mimetype": "text/x-python",
   "name": "python",
   "nbconvert_exporter": "python",
   "pygments_lexer": "ipython3",
   "version": "3.10.6"
  }
 },
 "nbformat": 4,
 "nbformat_minor": 5
}

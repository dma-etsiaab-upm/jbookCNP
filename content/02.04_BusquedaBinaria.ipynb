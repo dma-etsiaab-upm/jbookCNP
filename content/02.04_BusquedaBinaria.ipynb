{
 "cells": [
  {
   "cell_type": "markdown",
   "id": "f7398a5e",
   "metadata": {},
   "source": [
    "# Búsqueda binaria\n",
    "\n",
    "* [Adivinar un número entero entre el 1 y el 100](#u2c4.1)\n",
    "* [Uso de la búsqueda binaria para calcular la raíz cuadrada](#u2c4.2)\n",
    "* [Ventajas de la búsqueda binaria](#u2c4.3)\n",
    "* [Comparación de la búsqueda exhaustiva y la búsqueda binaria: hallar la raíz cúbica de un número $N$](#u2c4.4)\n",
    "* [La búsqueda binaria: descripción](#u2c4.5)\n",
    "* [Más detalles de la comparación de la búsqueda exhaustiva y la búsqueda binaria en la obtención de la raíz cuadrada](#u2c4.6)\n",
    "* [Ejercicios](#u2c4.7)"
   ]
  },
  {
   "cell_type": "markdown",
   "id": "fdb7ec28",
   "metadata": {},
   "source": [
    "<a id=\"u2c4.1\"></a>\n",
    "## Adivinar un número entre el 1 y el 100\n",
    "\n",
    "\n",
    "Nos piden adivinar un número entero $N$ del 1 al 100. Ya conocemos un algoritmo de búsqueda exhaustiva. En el algoritmo de búsqueda binaria se empieza en $n_0=50,$ el punto medio de la secuencia considerada, no en el primer valor, y se verifica si $N$ es o bien \n",
    "\n",
    "    i) igual a $n_0$, o bien \n",
    "    ii) mayor que $n_0$ o bien \n",
    "    iii) menor a $n_0$. \n",
    "\n",
    "En el primer caso ya habríamos acabado. En el segundo caso, escogeríamos el punto medio entre 0 y 50, es decir 25, como nuestra siguente apuesta; en el tercer caso se escogería el 75. Reptiendo el procedimiento llegaremos a $N$."
   ]
  },
  {
   "cell_type": "code",
   "execution_count": null,
   "id": "da41e050",
   "metadata": {},
   "outputs": [],
   "source": [
    "import random\n",
    "N = random.randint(1,100)\n",
    "\n",
    "def busqueda_binaria(N):\n",
    "    \n",
    "    limInf = 1\n",
    "    limSup = 100\n",
    "    n = int((limSup + limInf)/2)\n",
    "    \n",
    "    while n != N:\n",
    "        if n < N:\n",
    "            limInf = n\n",
    "        else:\n",
    "            limSup = n\n",
    "        n = int((limSup + limInf)/2)\n",
    "    \n",
    "    print('Has acertado, el número es: ',n,N)\n",
    "\n",
    "busqueda_binaria(N)      "
   ]
  },
  {
   "cell_type": "markdown",
   "id": "0f946f7a",
   "metadata": {},
   "source": [
    "En la búsqueda binaria las condiciones que se verifican a cada paso requieren mucha información: si nuestra apuesta es mayor, igual o menor a $N$. Para poder hacer estas verificaciones es necesario que haya algún tipo de __orden__ subyacente en los elementos entre los que buscamos. En particular, los número enteros son un conjunto ordenado y poseen las propiedades necesarias para esta tarea. En este caso usamos también los operadores de comparación `>` y `<`."
   ]
  },
  {
   "cell_type": "markdown",
   "id": "b50032cc",
   "metadata": {},
   "source": [
    "<a id=\"u2c4.2\"></a>\n",
    "## Uso de la búsqueda binaria para calcular la raíz cuadrada\n",
    "\n",
    "Vamos a mejorar el algoritmo de búsqueda de la raíz cuadrada de un número mayor que uno. Para ello usaremos que si $N>1$ entonces\n",
    "\n",
    "$$\n",
    "1<N<N^2\\Leftrightarrow 1<\\sqrt[2]{N}<N.\n",
    "$$\n",
    "\n",
    "Por tanto, dado un número $N$, su raíz cuadrada estará en el intervalo $[1,N]$. Llamaremos $r$ al valor buscado, es decir, a la raíz cuadrada de $N$: $r=\\sqrt{N}$.\n",
    "\n",
    "Como el intervalo $[1,N]$ es un conjunto ordenado podemos usar, como primera aproximación de $r$, el punto medio del intervalo, $\\tilde{r}$, y preguntar si el cuadrado de ese número es\n",
    "\n",
    "    i) igual a $N$ (con una precisión dada), \n",
    "    ii) mayor (con una precisión dada) o \n",
    "    iii) menor que $N$ (con una precisión dada). \n",
    "\n",
    "En el primer caso hemos terminado. En el segundo ocurrirá que la raíz cuadrada de $N$ estará en el intervalo $[1,\\tilde{r}]$ y en el tercero en $[\\tilde{r},N]$. Repetimos el procedimiento con una nueva aproximación a $r$, que sea el punto medio del intervalo obtenido en el paso anterior.\n",
    "\n",
    "__Atención:__ no podemos usar preguntas del tipo ¿es $\\tilde{r}$ igual/mayor/menor que la raíz de $N$? No conocemos ese valor, por tanto hemos de comparar usando $\\tilde{r}^2$."
   ]
  },
  {
   "cell_type": "code",
   "execution_count": null,
   "id": "e35b009b",
   "metadata": {},
   "outputs": [],
   "source": [
    "N = 389\n",
    "precision = 0.001\n",
    "\n",
    "menor = 1\n",
    "mayor = N\n",
    "prueba = (menor + mayor)/2\n",
    "contador = 0\n",
    "\n",
    "while abs(prueba**2 - N) >= precision:\n",
    "    if prueba**2 > N:\n",
    "        mayor = prueba\n",
    "    else:\n",
    "        menor = prueba\n",
    "    prueba =(menor + mayor)/2\n",
    "    contador += 1\n",
    "\n",
    "print('La raíz cuadrada de ',N,' es ',prueba, 'con una precisión ',precision)\n",
    "print('Hemos dado: ',contador,' iteraciones.')"
   ]
  },
  {
   "cell_type": "markdown",
   "id": "1ce5f101",
   "metadata": {},
   "source": [
    "<a id=\"u2c4.3\"></a>\n",
    "## Ventajas de la búsqueda binaria"
   ]
  },
  {
   "cell_type": "markdown",
   "id": "3fbb5885",
   "metadata": {},
   "source": [
    "Hemos visto que la búsqueda binaria es más restrictiva que la búsqueda exhaustiva: es necesaria una ordenación del conjunto donde estamos buscando. En el caso de los números enteros o reales esta ordenación existe, pero en otros casos puede no existir o no ser tan obvia. Pensemos en la tarea de contar la cantidad de letras _s_ de las obras completas de Calderón de la Barca. ¿Qué tipo de orden existe entre las letras de, por ejemplo, La vida es sueño?\n",
    "\n",
    "Esta restricción, tan fastidiosa a veces, viene con una gran ventaja: la búsqueda binaria es mucho más eficiente que la búsqueda exhaustiva. Usando la búsqueda binaria daremos muchos menos pasos, en media, para llegar a nuestro objetivo.\n",
    "\n",
    "__Observaciones:__ Existen algoritmos que mejoran la velocidad de la búsqueda binaria."
   ]
  },
  {
   "cell_type": "markdown",
   "id": "87592ccc",
   "metadata": {},
   "source": [
    "__Adivinar un número entre 1 y 100__\n",
    "\n",
    "Vamos a contar el número de preguntas que tenemos que hacer en cada caso, es decir, el número de iteraciones que hay que realizar para obtener el resultado."
   ]
  },
  {
   "cell_type": "code",
   "execution_count": null,
   "id": "9aec0a9f",
   "metadata": {},
   "outputs": [],
   "source": [
    "#import random\n",
    "#N = random.randint(1,100)\n",
    "N = 86\n",
    "\n",
    "def busqueda_exhaustiva_pasos(N):\n",
    "    pasos = 0\n",
    "    for i in range(1,101):\n",
    "        pasos += 1\n",
    "        if i == N:\n",
    "            print('Has acertado, el número es: ',i,N)\n",
    "            print('Hemos necesitado: ',pasos,' pasos.')\n",
    "            break\n",
    "\n",
    "def busqueda_binaria_pasos(N):\n",
    "    limInf = 1\n",
    "    limSup = 100\n",
    "    n = int((limSup+limInf)/2)\n",
    "    pasos = 0\n",
    "    \n",
    "    while n != N:\n",
    "        if N > n:\n",
    "            limInf = n\n",
    "        else:\n",
    "            limSup = n\n",
    "        n = int((limSup + limInf)/2)\n",
    "        pasos+=1\n",
    "    \n",
    "    print('Has acertado, el número es: ',n,N)\n",
    "    print('Hemos necesitado: ',pasos,' pasos.')\n",
    "\n",
    "busqueda_exhaustiva_pasos(N)\n",
    "busqueda_binaria_pasos(N) "
   ]
  },
  {
   "cell_type": "markdown",
   "id": "e31ca6cd",
   "metadata": {},
   "source": [
    "Para el caso particular $N=86$ necesitamos $86$ pasos en la búsqueda exhaustiva y solamente 6 de la búsqueda binaria. Veamos qué sucede en media."
   ]
  },
  {
   "cell_type": "markdown",
   "id": "d9e56570",
   "metadata": {},
   "source": [
    "Vamos a realizar varias simulaciones aleatorias con ambas búsquedas. Veremos que, en media, el número de iteracines  en la búsqueda binaria es próximo 5 en media, mientras que en la búsqueda exhaustiva es próxima, en media, a 53, con 10 simulaciones."
   ]
  },
  {
   "cell_type": "code",
   "execution_count": 2,
   "id": "7ee6ebd7",
   "metadata": {},
   "outputs": [
    {
     "name": "stdout",
     "output_type": "stream",
     "text": [
      "Media de pasos en búsqueda exhaustiva:  49.638018200202225\n",
      "Media de pasos en búsqueda binaria:  4.759352881698685\n",
      "Tenemos 989 simulaciones\n"
     ]
    }
   ],
   "source": [
    "def busqueda_exhaustiva_numero_pasos(N):\n",
    "    pasos = 0\n",
    "    for i in range(1,101):\n",
    "        pasos += 1\n",
    "        if i == N:\n",
    "            break\n",
    "    return pasos\n",
    "            \n",
    "def busqueda_binaria_numero_pasos(N):\n",
    "    limInf = 1\n",
    "    limSup = 100\n",
    "    n = int((limSup + limInf)/2)\n",
    "    pasos = 0\n",
    "    \n",
    "    while n != N:\n",
    "        if n < N:\n",
    "            limInf = n\n",
    "        else:\n",
    "            limSup = n\n",
    "        n = int((limSup + limInf)/2)\n",
    "        pasos += 1\n",
    "    return pasos\n",
    "\n",
    "pasos_busqueda_exhaustiva = 0\n",
    "pasos_busqueda_binaria = 0\n",
    "\n",
    "media_exhaustiva = 0\n",
    "media_binaria = 0\n",
    "    \n",
    "simulaciones = 1000\n",
    "simulaciones_efectivas = 0\n",
    "estamos_en_100 = False\n",
    "enes = ''\n",
    "\n",
    "import random\n",
    "for s in range(simulaciones):\n",
    "    N = random.randint(1,100)\n",
    "    enes += str(N) +','\n",
    "    if N == 100:\n",
    "        #print('N es:',N)\n",
    "        estamos_en_100 = True\n",
    "        continue\n",
    "    else:\n",
    "        pasos_busqueda_exhaustiva += busqueda_exhaustiva_numero_pasos(N)\n",
    "        pasos_busqueda_binaria += busqueda_binaria_numero_pasos(N)\n",
    "    simulaciones_efectivas += 1\n",
    "\n",
    "media_exhaustiva = pasos_busqueda_exhaustiva/simulaciones_efectivas\n",
    "media_binaria = pasos_busqueda_binaria/simulaciones_efectivas\n",
    "\n",
    "print('Media de pasos en búsqueda exhaustiva: ',media_exhaustiva)\n",
    "print('Media de pasos en búsqueda binaria: ',media_binaria)\n",
    "print('Tenemos', simulaciones_efectivas, 'simulaciones')\n",
    "#print(enes[:-1])"
   ]
  },
  {
   "cell_type": "markdown",
   "id": "424704a4",
   "metadata": {},
   "source": [
    "__Observación:__\n",
    "\n",
    "Hay un problema con el número $100,$ $N = 100.$ En ese caso la búsqueda binaria no funciona, porque la operación:\n",
    "\n",
    "$$\\text{n} = \\text{int}((\\text{limSup} + \\text{limInf})/2)$$\n",
    "\n",
    "cuando $\\textrm{limSup} = 100$ y $\\textrm{limInf} = 99,$ implica que $n = 99,$ por tanto nunca se podrá elegir $100$ en el caso de este sea el valor seleccionado por la máquina. Por esta razón hemos eliminado el valor $100,$ en caso de que salga."
   ]
  },
  {
   "cell_type": "markdown",
   "id": "1fc2ac23",
   "metadata": {},
   "source": [
    "__Raíz cuadrada__"
   ]
  },
  {
   "cell_type": "markdown",
   "id": "8e809a20",
   "metadata": {},
   "source": [
    "Las siguientes funciones cuentan el número de pasos para calcular la raíz cuadrada de un número con una precisón de   $0.001$ y un paso de $0.0001$"
   ]
  },
  {
   "cell_type": "code",
   "execution_count": null,
   "id": "601af94e",
   "metadata": {},
   "outputs": [],
   "source": [
    "def raiz_cuadrada_exhaustiva(N):\n",
    "    precision = 0.001\n",
    "    paso = 0.0001\n",
    "    prueba = 1\n",
    "    contador = 0\n",
    "    señal = False\n",
    "\n",
    "    while abs(prueba**2-N) >= precision:\n",
    "        if prueba**2 > N + precision:\n",
    "            señal = True\n",
    "            break       \n",
    "        prueba +=paso\n",
    "        contador+=1\n",
    "    if señal:\n",
    "        print('Nos hemos pasado')\n",
    "    else:\n",
    "        print('Pasos con la búsqueda exhaustiva:  ', contador)  \n",
    "\n",
    "def raiz_cuadrada_binaria(N):\n",
    "    precision = 0.001\n",
    "\n",
    "    menor = 1\n",
    "    mayor = N\n",
    "    prueba = (menor + mayor)/2\n",
    "    contador = 0\n",
    "\n",
    "    while abs(prueba**2 - N) >= precision:\n",
    "        if prueba**2 > N:\n",
    "            mayor = prueba\n",
    "        else:\n",
    "            menor = prueba\n",
    "        prueba =(menor + mayor)/2\n",
    "        contador += 1\n",
    "    print('Pasos con la búsqueda binaria:  ', contador)\n",
    "\n",
    "raiz_cuadrada_exhaustiva(125)\n",
    "raiz_cuadrada_binaria(125)"
   ]
  },
  {
   "cell_type": "markdown",
   "id": "9da36ac2",
   "metadata": {},
   "source": [
    "Hemos pasado de 101803 iteraciones en la búsqueda exhaustiva a 20 en la búsqueda binaria. Uno puede pensar que esto es un ejemplo concreto, pero si repetimos este procedimiento para todos los números entre el 100 y el 125 veremos que se repite este resultado."
   ]
  },
  {
   "cell_type": "code",
   "execution_count": null,
   "id": "15c9bb13",
   "metadata": {},
   "outputs": [],
   "source": [
    "def raiz_cuadrada_exhaustiva(N):\n",
    "    precision = 0.001\n",
    "    paso = 0.0001\n",
    "    prueba = 1\n",
    "    contador = 0\n",
    "    señal = False\n",
    "\n",
    "    while abs(prueba**2 - N) >= precision:\n",
    "        if prueba**2 > N + precision:\n",
    "            señal = True\n",
    "            break       \n",
    "        prueba += paso\n",
    "        contador += 1\n",
    "    return contador \n",
    "\n",
    "def raiz_cuadrada_binaria(N):\n",
    "    precision = 0.001\n",
    "\n",
    "    menor = 1\n",
    "    mayor = N\n",
    "    prueba = (menor + mayor)/2\n",
    "    contador = 0\n",
    "\n",
    "    while abs(prueba**2 - N) >= precision:\n",
    "        if prueba**2 > N:\n",
    "            mayor = prueba\n",
    "        else:\n",
    "            menor = prueba\n",
    "        prueba = (menor + mayor)/2\n",
    "        contador += 1\n",
    "    return contador\n",
    "\n",
    "\n",
    "pasos_busqueda_exhaustiva = 0\n",
    "pasos_busqueda_binaria = 0\n",
    "numero_pruebas = 25\n",
    "\n",
    "for s in range(100,100 + numero_pruebas):\n",
    "    pasos_busqueda_exhaustiva += raiz_cuadrada_exhaustiva(s)\n",
    "    pasos_busqueda_binaria += raiz_cuadrada_binaria(s)\n",
    "\n",
    "media_raiz_cuadrada_exhaustiva = pasos_busqueda_exhaustiva/numero_pruebas\n",
    "media_raiz_cuadrada_binaria = pasos_busqueda_binaria/numero_pruebas\n",
    "print('Media iteraciones en la búsqueda exhaustiva de la raíz: ',media_raiz_cuadrada_exhaustiva)\n",
    "print('Media iteraciones en la búsqueda binaria de la raíz: ',media_raiz_cuadrada_binaria)"
   ]
  },
  {
   "cell_type": "markdown",
   "id": "63422a85",
   "metadata": {},
   "source": [
    "__Observación:__ Como ya se ha indicado la búsqueda binaria en este caso mejora mucho la eficiencia del algoritmo. En el caso del cálculo de raices el algoritmo de Newton-Raphson  mejora aún más esta eficiencia de la búsqueda binaria."
   ]
  },
  {
   "cell_type": "markdown",
   "id": "1d7854ed",
   "metadata": {},
   "source": [
    "<a id=\"u2c4.5\"></a>\n",
    "## La búsqueda binaria: descripción"
   ]
  },
  {
   "cell_type": "markdown",
   "id": "2a3033c3",
   "metadata": {},
   "source": [
    "La búsqueda binaria es un tipo de búsqueda rápida que puede realizarse en conjuntos ordenados. \n",
    "\n",
    "Si buscamos un elemento en un conjunto ordenado,  dividimos el conjunto en dos partes (iguales) y conservamos aquella mitad donde podría encontrarse el elemento buscado. Volvemos a repetir este proceso con la mitad seleccionada y continuamos hasta encontrar el valor buscado.\n",
    "\n",
    "**Ejemplo** Supongamos que tenemos un conjunto de cajas\n",
    "\n",
    "$$\\{ \\square_1, \\square_2,\\square_3,\\square_4,\\square_5,\\square_6,\\square_7,\\square_8 \\}.$$\n",
    "\n",
    "Las cajas contienen los números\n",
    "\n",
    "$$\\{ 1,2,3,5,6,8,11,15\\},$$\n",
    "\n",
    "en ese orden, pero no lo sabemos antes de abrirlas. El problema consiste en determinar si el número $3$ está en alguna de las cajas.\n",
    "\n",
    "**Algoritmo** Si dividimos el conjunto de cajas en dos partes (de igual tamaño)\n",
    "\n",
    "$$\\{\\square_1, \\square_2,\\square_3,\\square_4\\}, \\quad \\{ \\square_5, \\square_6,\\square_7,\\square_8\\},$$\n",
    "\n",
    "el $3$ estará en alguna de ellas.\n",
    "\n",
    "Abrimos una de las cajas centrales:\n",
    "\n",
    "$$ \\square_5 = 6$$\n",
    "\n",
    "Como $3 < 6$, el $3$ debe estar en la mitad izquierda (si está). Debemos buscar por ello en \n",
    "\n",
    "$$\\{\\square_1, \\square_2,\\square_3,\\square_4\\}.$$\n",
    "\n",
    "Repetimos el proceso:\n",
    "\n",
    "$$\\square_2 = 2$$\n",
    "\n",
    "por lo que continuamos buscando en \n",
    "\n",
    "$$\\{\\square_3, \\square_4\\}.$$\n",
    "\n",
    "Una vez más\n",
    "\n",
    "$$\\square_4 = 2$$\n",
    "\n",
    "por lo que continuamos buscando en\n",
    "\n",
    "$$\\{\\square_3\\}.$$\n",
    "\n",
    "Y por último, abrimos la última caja:\n",
    "\n",
    "$$\\square_3=3$$\n",
    "\n",
    "y comprobamos que $3$ sí está en el conjunto, precisamente en la tercera caja.\n",
    "\n",
    "**Observaciones:** \n",
    "\n",
    "- Si en el último paso obtenemos un número diferente de $3$, entonces $3$ no formaría parte del conjunto. Hay dos problemas posibles: averiguar si $3$ está en el conjunto y averiguar en que caja está.\n",
    "\n",
    "- Como en cada paso se reduce el número de elementos a la mitad, el algoritmo termina un número finito de pasos. Si el conjunto donde buscamos tiene $N$ cajas, serán necesarios $\\log_2N$ pasos (en el peor escenario).\n",
    "\n",
    "- La búsqueda exhaustiva (lineal) sería diferentes. Consistiría en ir abriendo las cajas $\\square_1$, $\\square_2$, $\\dots$ en ese orden hasta encontrar (o no) el número buscado. En este caso serán necesarios $N$ pasos (en el peor escenario).\n",
    "\n",
    "- La búsqueda binaria es más rápida pero exige que *los números contenidos en las cajas estén ordenados*. Esta condición es restrictiva."
   ]
  },
  {
   "cell_type": "markdown",
   "id": "95b713ae",
   "metadata": {},
   "source": [
    "<a id=\"u2c4.6\"></a>\n",
    "## Más detalles de la comparación de la búsqueda exhaustiva y la búsqueda binaria en la obtención de la raíz cuadrada\n",
    "\n",
    "Vamos a ver más detalles de la comparación de la eficiencia de ambos algoritmos en la búsqueda de la raíz cuadrada de un número mayor que uno.\n",
    "\n",
    "Vamos a hallar, computacionalmente, la raíz cuadrada de un número, $N$, suponiendo que no disponemos de la operación _elevar a 1/2_ y a comparar el comprtamiento de estos dos algoritmos en este caso particular.\n",
    "\n",
    "Sea $N$ un número mayor que $1$ cualquiera (tipo ``float``). Estamos buscando un número $r$ tal que $r=\\sqrt[2]{N}$, es decir, $r^2=N$. Pero ya hemos visto que esta condición a veces es imposible de probar usando variables de tipo ``float`` y el operador ``==``. Por ejemplo, si $N=3$:"
   ]
  },
  {
   "cell_type": "code",
   "execution_count": null,
   "id": "a766c18d",
   "metadata": {},
   "outputs": [],
   "source": [
    "N=3\n",
    "raiz = N**(1/2)\n",
    "raiz,raiz**2,N,raiz**2 == N"
   ]
  },
  {
   "cell_type": "markdown",
   "id": "58e05ac4",
   "metadata": {},
   "source": [
    "Es necesario usar el concepto de __precisión__. Diremos que un número $r$ es la raíz cuadrada de $N$ con precisión $\\varepsilon$ si\n",
    "\n",
    "$$\n",
    "\\left|r^2-N\\right|<\\varepsilon,\\qquad \\varepsilon>0.\n",
    "$$\n",
    "\n",
    "Dicho de otro modo, $r$ __no__ será la raíz cuadrada de $N$ si $|r^2-N|\\geq \\varepsilon$, para una precisón $\\varepsilon>0$ dada.\n",
    "\n",
    "Solamente queda decidir qué números $r$ _probaremos_. \n",
    "\n",
    "Sabemos que se verifica que si $x>1$ entonces $1<x<x^2$ (la raíz cuadrada de un número mayor que 1 es mayor que uno y menor que dicho número). entonces un buen candidato para comenzar a buscar la raíz de un número $N$ mayor que 1 es $r=1$. Si resulta que $|r^2-N|\\geq\\varepsilon$ entonces procederemos a __incrementar__ el valor de $r$ y probar de nuevo. El tamaño del incremento lo llamaremos ``paso``.\n",
    "\n",
    "__Ejemplo__\n",
    "\n",
    "Buscamos $\\sqrt[2]{2}\\cong 1.4140$ con una precisión de $\\varepsilon=0.05$. Si nuestra _prueba_ inicial es $r=1$ y el ``paso`` es 0.05, entonces las iteraciones serán:"
   ]
  },
  {
   "cell_type": "code",
   "execution_count": null,
   "id": "c28b4b0d",
   "metadata": {},
   "outputs": [],
   "source": [
    "2**(1/2)"
   ]
  },
  {
   "cell_type": "code",
   "execution_count": null,
   "id": "a51859e1",
   "metadata": {},
   "outputs": [],
   "source": [
    "N=3\n",
    "precision = 0.05\n",
    "paso = 0.01\n",
    "prueba = 1\n",
    "contador = 0\n",
    "\n",
    "print('prueba','\\t\\t\\t','abs(prueba**2-N)')\n",
    "print(prueba,'\\t\\t\\t',abs(prueba**2-N))\n",
    "\n",
    "while abs(prueba**2-N)>=precision:\n",
    "    prueba +=paso\n",
    "    contador+=1\n",
    "    print(prueba,'\\t\\t\\t',abs(prueba**2-N))\n",
    "    \n",
    "print('Hemos necesitado: ',contador,' iteraciones.')\n",
    "print('El candidato a raíz cuadrada es: ',prueba)\n",
    "    "
   ]
  },
  {
   "cell_type": "markdown",
   "id": "a3ee03a8",
   "metadata": {},
   "source": [
    "Podemos aumentar la precisión, pero necesitaremos más pasos.\n",
    "\n",
    "Este procedimiento tiene un peligro: si usamos el mismo ejemplo que antes, pero el paso es muy grande, o la precisión muy pequeña, podemos _pasarnos de largo_ y continuar iterando sin fin; puede suceder que entremos en un bucle infinito."
   ]
  },
  {
   "cell_type": "code",
   "execution_count": null,
   "id": "1ad1e240",
   "metadata": {},
   "outputs": [],
   "source": [
    "N=3\n",
    "precision = 0.01\n",
    "paso = 0.1\n",
    "prueba = 1\n",
    "contador = 0\n",
    "\n",
    "print('prueba','\\t\\t\\t','abs(prueba**2-N)')\n",
    "print(prueba,'\\t\\t\\t',abs(prueba**2-N))\n",
    "\n",
    "while abs(prueba**2-N)>=precision:\n",
    "    prueba +=paso\n",
    "    contador+=1\n",
    "    print(prueba,'\\t\\t\\t',abs(prueba**2-N))\n",
    "    if contador >20:\n",
    "        break"
   ]
  },
  {
   "cell_type": "markdown",
   "id": "f061861e",
   "metadata": {},
   "source": [
    "Es necesario poner una condición de parada. En el programa anterior hemos puesto la condición que el número de iteraciones del bucle sea, como mucho, 20. Observamos que con ese número de iteraciones ya hemos llegado a probar números mayores que 3 como candidatos a raíz cuadrada de 3, lo cual es una tontería. Ya hemos visto antes que la raíz cuadrada de un número mayor que uno será menor que dicho número.\n",
    "\n",
    "También puede suceder lo contrario: puede suceder que 20 iteraciones no sean suficientes para alcanzar la raíz cuadrada. Por ejemplo, usando el ejemplo anterior, si $N=25,$ se obtiene:"
   ]
  },
  {
   "cell_type": "code",
   "execution_count": null,
   "id": "024efc6e",
   "metadata": {},
   "outputs": [],
   "source": [
    "N=25\n",
    "precision = 0.01\n",
    "paso = 0.04\n",
    "prueba = 1\n",
    "contador = 0\n",
    "\n",
    "print('prueba','\\t\\t\\t','abs(prueba**2-N)')\n",
    "print(prueba,'\\t\\t\\t',abs(prueba**2-N))\n",
    "\n",
    "while abs(prueba**2-N)>=precision:\n",
    "    prueba +=paso\n",
    "    contador+=1\n",
    "    print(prueba,'\\t\\t\\t',abs(prueba**2-N))\n",
    "    if contador > 20:\n",
    "        break"
   ]
  },
  {
   "cell_type": "markdown",
   "id": "2d9ebfb8",
   "metadata": {},
   "source": [
    "__Conclusión:__ La condición de fijar un número máximo a la cantidad de iteraciones no es buena. Necesitamos otra condición. Pensando en el ejemplo anterior ($N=3$) una primera idea sería que si llegamos a un valor de _prueba_ tal que $prueba>N$ entonces deberíamos parar. En ese caso no habríamos encontrado la raíz cúbica de $N$ para los valores de _paso_ y _precisión_ usados; deberíamos cambiarlos para obtener un resultado. \n",
    "\n",
    "Pero esta opción es poco informativa y se puede mejorar. Pararemos el bucle si $prueba^2>N$. En ese caso, al terminar el bucle __sin__ haber hallado un buen candidato para la raíz de $N,$ podremos comenzar de nuevo el proceso con un valor cercano al último valor de _prueba_ obtenido, modificando los valores de _paso_ y _precisión_."
   ]
  },
  {
   "cell_type": "code",
   "execution_count": null,
   "id": "ad723130",
   "metadata": {},
   "outputs": [],
   "source": [
    "N=3\n",
    "precision = 0.01\n",
    "paso = 0.01\n",
    "prueba = 1\n",
    "contador = 0\n",
    "señal = False\n",
    "\n",
    "while abs(prueba**2-N)>=precision:\n",
    "\n",
    "    if prueba**2>N or contador >10**6:\n",
    "        señal = True\n",
    "        break\n",
    "    \n",
    "    prueba +=paso\n",
    "    contador+=1\n",
    "\n",
    "if señal:\n",
    "    print('Nos hemos pasado. El último valor probado es: ',prueba)\n",
    "else:\n",
    "    print('La raíz cuadrada de ',N,' es ',prueba, 'con una precisión ',precision)\n",
    "print('Hemos dado: ',contador,' iteraciones.')"
   ]
  },
  {
   "cell_type": "code",
   "execution_count": null,
   "id": "362433d3",
   "metadata": {},
   "outputs": [],
   "source": [
    "N=3\n",
    "precision = 0.01\n",
    "paso = 0.001\n",
    "prueba = 1\n",
    "contador = 0\n",
    "señal = False\n",
    "\n",
    "while abs(prueba**2-N)>=precision:\n",
    "\n",
    "    #print(prueba,'\\t\\t\\t',abs(prueba**2-N))\n",
    "    if prueba**2 > N or contador > 10**6:\n",
    "        señal = True\n",
    "        break\n",
    "    \n",
    "    prueba += paso\n",
    "    contador += 1\n",
    "\n",
    "if señal:\n",
    "    print('Nos hemos pasado. El último valor probado es: ',prueba)\n",
    "else:\n",
    "    print('La raíz cuadrada de ',N,' es ',prueba, 'con una precisión ',precision)\n",
    "print('Hemos dado: ',contador,' iteraciones.')"
   ]
  },
  {
   "cell_type": "markdown",
   "id": "51d463d7",
   "metadata": {},
   "source": [
    "En el programa anterior hemos usado una variable semáfor0 (flag) que nos indica si nos hemos pasado o no. En función del valor del semáforo mostraremos un mensaje u otro.\n",
    "\n",
    "Observamos que disminuyendo el paso son necesarias muchas más iteraciones para obtener el resultado. Esto es obvio, ya que vamos avanzando con pasos más pequeños y necesitaremos más para llegar al valor de parada. Si usamos un valor de $N$ más grande:"
   ]
  },
  {
   "cell_type": "code",
   "execution_count": null,
   "id": "007456a2",
   "metadata": {},
   "outputs": [],
   "source": [
    "N=389\n",
    "precision = 0.001\n",
    "paso = 0.00001\n",
    "prueba = 1\n",
    "contador = 0\n",
    "señal = False\n",
    "\n",
    "while abs(prueba**2-N)>=precision:\n",
    "\n",
    "    #print(prueba,'\\t\\t\\t',abs(prueba**2-N))\n",
    "    if prueba**2 > N or contador > 10**6:\n",
    "        señal = True\n",
    "        break\n",
    "    \n",
    "    prueba += paso\n",
    "    contador += 1\n",
    "\n",
    "if señal:\n",
    "    print('Nos hemos pasado. El último valor probado es: ',prueba)\n",
    "else:\n",
    "    print('La raíz cuadrada de ',N,' es ',prueba, 'con una precisión ',precision)\n",
    "print('Hemos dado: ',contador,' iteraciones.')"
   ]
  },
  {
   "cell_type": "markdown",
   "id": "55c26405",
   "metadata": {},
   "source": [
    "<a id=\"u2c4.7\"></a>\n",
    "## Ejercicios"
   ]
  },
  {
   "cell_type": "markdown",
   "id": "c6be9339",
   "metadata": {},
   "source": [
    "1. Obtener la raíz cúbica de un número no negativo menor que $1.$\n",
    "\n",
    "\n",
    "2. Obtener la raíz cúbica de un número arbitrario."
   ]
  }
 ],
 "metadata": {
  "kernelspec": {
   "display_name": "Python 3",
   "language": "python",
   "name": "python3"
  },
  "language_info": {
   "codemirror_mode": {
    "name": "ipython",
    "version": 3
   },
   "file_extension": ".py",
   "mimetype": "text/x-python",
   "name": "python",
   "nbconvert_exporter": "python",
   "pygments_lexer": "ipython3",
   "version": "3.8.10"
  }
 },
 "nbformat": 4,
 "nbformat_minor": 5
}

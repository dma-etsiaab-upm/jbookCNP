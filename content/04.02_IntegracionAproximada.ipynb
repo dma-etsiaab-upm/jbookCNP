{
 "cells": [
  {
   "cell_type": "markdown",
   "id": "first-virus",
   "metadata": {},
   "source": [
    "# Cálculo aproximado de integrales con sumas de Riemann\n",
    "\n",
    "+ [Introducción: planteamiento del problema](#u4c2.1)\n",
    "* [Sumas de Riemann](#u4c2.2)\n",
    "* [Método del trapecio](#u4c2.3)\n",
    "* [Ejercicios](#u4c2.4)"
   ]
  },
  {
   "cell_type": "markdown",
   "id": "third-valuation",
   "metadata": {},
   "source": [
    "<a id=\"u4c2.1\"></a>\n",
    "## Introducción: planteamiento del problema"
   ]
  },
  {
   "cell_type": "markdown",
   "id": "7b440fca",
   "metadata": {},
   "source": [
    "Calcular la integral de Riemann (o integral definida)\n",
    "\n",
    "$$\n",
    "\\intop_{a}^{b}f(x)dx\n",
    "$$\n",
    "\n",
    "es en general difícil. Por eso resulta útil disponer de métodos para calcular el valor de la integral de modo aproximado."
   ]
  },
  {
   "cell_type": "markdown",
   "id": "theoretical-capital",
   "metadata": {},
   "source": [
    "<a id=\"u4c2.2\"></a>\n",
    "## Sumas de Riemann"
   ]
  },
  {
   "cell_type": "markdown",
   "id": "annoying-strain",
   "metadata": {},
   "source": [
    "El método más sencillo es aproximar la integral por sumas de Riemann.\n",
    "Se divide el intervalo $(a,b)$ en $N$ subintervalos\n",
    "\n",
    "$$\n",
    "(x_{0},x_{1}),(x_{1},x_{2}),(x_{2},x_{3}),\\ldots(x_{N-1},x_{N}).\n",
    "$$\n",
    "\n",
    "de igual longitud\n",
    " \n",
    "$$\n",
    "h=\\frac{b-a}{N}.\n",
    "$$\n",
    "\n",
    "Los extremos de los subintervalos se calculan como\n",
    "\n",
    "$$\n",
    "x_{n}=a+n\\cdot h,\\ \\ \\ n=0,1,2,\\ldots,N.\n",
    "$$\n",
    " \n",
    "\n",
    "A continuación se escoge un punto en cada subintervalo \n",
    "\n",
    "$$\n",
    "\\xi_{n}\\in(x_{n},x_{n+1}),\\ \\ \\ n=0,1,2,\\ldots,N-1\n",
    "$$\n",
    "\n",
    "y se aproxima \n",
    "\n",
    "$$\n",
    "\\intop_{x_{n}}^{x_{n+1}}f(x)dx\\sim hf(\\xi_{n}).\n",
    "$$\n",
    "\n",
    "Esto significa que el área bajo el gráfico de $f$ en el intervalo\n",
    "$(x_{n},x_{n+1})$ se aproxima por el área del rectángulo de base\n",
    "$x_{n+1}-x_{n}=h$ y altura $f(\\xi_{n})$. \n",
    "\n",
    "Sumando resulta finalmente \n",
    "\n",
    "$$\n",
    "\\intop_{a}^{b}f(x)dx\\sim\\sum_{n=0}^{N-1}hf(\\xi_{n})=h\\sum_{n=0}^{N-1}f(\\xi_{n}).\n",
    "$$\n",
    "\n",
    "Esta suma recibe el nombre de _suma de Riemann_. \n",
    "\n",
    "Los puntos intermedios $\\xi_{n}\\in(x_{n},x_{n+1})$ pueden escogerse\n",
    "de muchos modos, pero en general la elección no influye en el resultado\n",
    "cuando $N$ es grande. Por eso suelen tomarse valores de $\\xi_{n}$\n",
    "que se calculan fácilmente.\n",
    "\n",
    "Las elecciones más frecuentes son:\n",
    "\n",
    "- $\\xi_{n}$ es el extremo izquierdo del subintervalo $(x_{n},x_{n+1})$\n",
    "\n",
    "$$\n",
    "\\xi_{n}=x_{n}=a+n\\cdot h,\n",
    "$$\n",
    "\n",
    "de donde resulta\n",
    "\n",
    "$$\n",
    "\\intop_{a}^{b}f(x)dx\\sim h\\sum_{n=0}^{N-1}f(a+n\\cdot h).\n",
    "$$\n",
    "\n",
    "- $\\xi_{n}$ es el extremo derecho del subintervalo $(x_{n},x_{n+1})$\n",
    "\n",
    "$$\n",
    "\\xi_{n}=x_{n+1}=a+(n+1)\\cdot h,\n",
    "$$\n",
    "\n",
    "de donde resulta \n",
    "\n",
    "$$\n",
    "\\intop_{a}^{b}f(x)dx\\sim h\\sum_{n=0}^{N-1}f(a+(n+1)\\cdot h).\n",
    "$$\n",
    "\n",
    "- $\\xi_{n}$ es el punto medio del subintervalo $(x_{n},x_{n+1})$\n",
    "\n",
    "$$\n",
    "\\xi_{n}=\\frac{x_{n}+x_{n+1}}{2}=a+(n+\\frac{1}{2})\\cdot h,\n",
    "$$\n",
    "\n",
    "de donde resulta\n",
    "\n",
    "$$\n",
    "\\intop_{a}^{b}f(x)dx\\sim h\\sum_{n=0}^{N-1}f(a+(n+\\frac{1}{2})\\cdot h).\n",
    "$$"
   ]
  },
  {
   "cell_type": "markdown",
   "id": "balanced-hearing",
   "metadata": {},
   "source": [
    "<img src=../images/riem.png width=\"100%\">\n",
    "\n",
    "Arriba a la izquierda, aproximación con las sumas de Riemann eligiendo el extremo izquierda, arriba a la derecha, aproximación con el extremo derecho, abajo a la izquierda, se ha elegido el punto medio y abajo a la derecha se ha elgido un punto arbitrario."
   ]
  },
  {
   "cell_type": "markdown",
   "id": "37e95185",
   "metadata": {},
   "source": [
    "__Ejercicio__\n",
    "\n",
    "1. Sumas de Riemann para la integral $\\intop_{0}^{2}e^{-\\frac{x^{2}}{2}}dx$ para $N=8$ y extremos izquierdos, extremos derechos, puntos medios y puntos aleatorios"
   ]
  },
  {
   "cell_type": "markdown",
   "id": "recreational-massachusetts",
   "metadata": {},
   "source": [
    "<a id=\"u4c2.3\"><a/>\n",
    "## Método del trapecio"
   ]
  },
  {
   "cell_type": "markdown",
   "id": "minor-location",
   "metadata": {},
   "source": [
    "Este método suele ser más preciso para aproximar el valor de la integral.\n",
    "Esto significa que se requiere $N$ más pequeño para obtener una buena\n",
    "aproximación. En cada subintervalo se aproxima el área bajo la curva\n",
    "por el área del trapecio inscrito, resulta la fórmula\n",
    "\n",
    "$$\n",
    "\\int_{a}^{b}f(x)dx\\sim \\sum_{n=1}^{N}\\left(\\frac{f(a+(n-1)h) + f(a+nh)}{2} \\right)h = h\\left(\\frac{f(a)+f(b)}{2}+\\sum_{n=1}^{N-1}f(a+n\\cdot h)\\right) \n",
    "$$"
   ]
  },
  {
   "cell_type": "markdown",
   "id": "exempt-microphone",
   "metadata": {},
   "source": [
    "<a id=\"u4c2.4\"></a>\n",
    "## Ejercicios"
   ]
  },
  {
   "cell_type": "markdown",
   "id": "distant-observation",
   "metadata": {},
   "source": [
    "1. Definir la función `riemann_izq(f,a,b,N)` que devuelve el valor de la suma de Riemann de la integral \n",
    "\n",
    "$$\n",
    "\\intop_{a}^{b}f(x)dx\n",
    "$$\n",
    "\n",
    "con $N$ subintervalos y los extremos izquierdos como puntos intermedios."
   ]
  },
  {
   "cell_type": "markdown",
   "id": "organic-spotlight",
   "metadata": {},
   "source": [
    "2. Definir la función `riemann_der(f,a,b,N)` que devuelve el valor de la suma de Riemann de la integral \n",
    "\n",
    "$$\n",
    "\\intop_{a}^{b}f(x)dx\n",
    "$$\n",
    "\n",
    "con $N$ subintervalos y los extremos derechos como puntos intermedios."
   ]
  },
  {
   "cell_type": "markdown",
   "id": "retired-space",
   "metadata": {},
   "source": [
    "3. Definir la función `trapecio(f,a,b,N)` que devuelve el valor de la suma de Riemann de la integral \n",
    "\n",
    "$$\n",
    "\\intop_{a}^{b}f(x)dx\n",
    "$$\n",
    "\n",
    "con $N$ subintervalos."
   ]
  },
  {
   "cell_type": "markdown",
   "id": "close-stationery",
   "metadata": {},
   "source": [
    "4. Teniendo en cuenta que \n",
    "\n",
    "$$\n",
    "\\intop_{0}^{1}x^{3}dx=\\frac{1}{4},\n",
    "$$\n",
    "\n",
    "calcular el error que se obtiene al aproximar esta integral usando las funciones `riemann_izq`, `riemann_der` y `trapecio(f,a,b,N)` con $N=1000$."
   ]
  },
  {
   "cell_type": "markdown",
   "id": "sudden-gather",
   "metadata": {},
   "source": [
    "5. Escogemos $f(x)=1$, y definimos la función `F(x)=riemann_izq(f,0,x,1000)`, es decir\n",
    "```python\n",
    "def F(x):\n",
    "    return riemann_izq(f,0,x,1000)\n",
    "``` \n",
    "Representar gráficamente la función $F(x)$ en $(0,5).$ ¿Qué función se ha obtenido? ¿Qué significa este resultado?"
   ]
  },
  {
   "cell_type": "markdown",
   "id": "confirmed-retrieval",
   "metadata": {},
   "source": [
    "6. Repetir el ejercicio anterior para $g(x)=\\cos(x)$."
   ]
  },
  {
   "cell_type": "markdown",
   "id": "annual-virgin",
   "metadata": {},
   "source": [
    "7. Implementar la siguiente aproximación de la regla del trapecio de la integral definida de $f(x)$ en el intervalo $(a,b)$ cuando $h=(b-a)/N.$\n",
    "\n",
    "$$\n",
    "\\int_{a}^{b}f(x)dx\\sim \n",
    "\\sum_{n=1}^{N}\\left(\\frac{f(a+(n-1)h) + f(a+nh)}{2}\\right)h = h\\left(\\frac{f(a) + f(b)}{2} +\\sum_{n=1}^{N-1}f(a+nh) \\right)\n",
    "$$\n",
    "Escribir la función `regla_trapecio(f, a, b, N)` donde f es una función matemática definida como función de Python con `def`, $a$ y $b$ son los extremos del intervalo de integración y $N$ es el número de subintervalos de la correspondiente suma de Riemann. La función devuelve un número decimal con tres decimales."
   ]
  },
  {
   "cell_type": "code",
   "execution_count": null,
   "id": "56a2aeee",
   "metadata": {},
   "outputs": [],
   "source": []
  }
 ],
 "metadata": {
  "kernelspec": {
   "display_name": "Python 3 (ipykernel)",
   "language": "python",
   "name": "python3"
  },
  "language_info": {
   "codemirror_mode": {
    "name": "ipython",
    "version": 3
   },
   "file_extension": ".py",
   "mimetype": "text/x-python",
   "name": "python",
   "nbconvert_exporter": "python",
   "pygments_lexer": "ipython3",
   "version": "3.12.3"
  }
 },
 "nbformat": 4,
 "nbformat_minor": 5
}

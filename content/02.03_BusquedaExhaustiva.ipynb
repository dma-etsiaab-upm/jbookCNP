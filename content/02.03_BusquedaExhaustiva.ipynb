{
 "cells": [
  {
   "cell_type": "markdown",
   "id": "b980dba3",
   "metadata": {},
   "source": [
    "# Búsqueda exhaustiva\n",
    "\n",
    "\n",
    "* [Adivinar un número entre 1 y 100](#u2c3.1)\n",
    "* [Máximo o mínimo de una secuencia](#u2c3.2)\n",
    "* [Máximo de una función en un conjunto de puntos](#u2c3.3)\n",
    "* [Ejercicios](#u2c3.4)\n",
    "* [Cuestionarios de Moodle](#u2c3.5)\n"
   ]
  },
  {
   "cell_type": "markdown",
   "id": "f8124a1c",
   "metadata": {},
   "source": [
    "<a id=\"u2c3.1\"></a>\n",
    "## Adivinar un número entre 1 y 100"
   ]
  },
  {
   "cell_type": "markdown",
   "id": "39f06b3c",
   "metadata": {},
   "source": [
    "Nos piden adivinar un número entero $N$ entre el $1$ y el $100,$ ambos inclusive. Un algoritmo de búsqueda exhaustiva consistiría en _probar suerte_ con todos los números entre el $1$ y el $100,$ hasta que llegemos al número $N$ que hay que adivinar. Para no olvidar niguna posibilidad, lo mejor es ser sistemático y elegirlos en orden; primero el $1$ después el $2$ y así sucesivamente. En este algoritmo empecemos, en este caso, por el valor $n_0 = 1.$\n",
    "\n",
    "Vamos a hacer un programa. Primero asignamos un valor arbitrario a la variable $N$ y despúes vamos probando, sitemáticamente, con todos los número hasta que acertemos. \n",
    "\n",
    "Así generamos el número que hay que adivinar y que se guarda en la variable `N`."
   ]
  },
  {
   "cell_type": "code",
   "execution_count": null,
   "id": "887ccdd9",
   "metadata": {},
   "outputs": [],
   "source": [
    "import random\n",
    "N = random.randint(1,100)"
   ]
  },
  {
   "cell_type": "markdown",
   "id": "f8a7aecd",
   "metadata": {},
   "source": [
    "Ahora definimos la función que va haciendo las comprobaciones hasta que se llega al número que guada la máquina. En ese momento hemos acertado el número que habíaque adivinar. Ya podemos parar."
   ]
  },
  {
   "cell_type": "code",
   "execution_count": null,
   "id": "8cc7af0f",
   "metadata": {},
   "outputs": [],
   "source": [
    "def busqueda_exhaustiva(N):\n",
    "\n",
    "    for i in range(1,101):\n",
    "        if i == N:\n",
    "            print('Este es el número que había que adivinar:', N)\n",
    "            print('Has acertado, este el número que has eligido:',i)\n",
    "            break\n",
    "\n",
    "busqueda_exhaustiva(N)"
   ]
  },
  {
   "cell_type": "markdown",
   "id": "45cc03f0",
   "metadata": {},
   "source": [
    "__Observación:__ la pregunta de la que disponemos en la búsqueda exhaustiva es si nuestra apuesta es __igual__ al número $N$ que debemos adivinar. En este caso usamos el operador de comparación `==`, porque estamos trabajando con enteros."
   ]
  },
  {
   "cell_type": "markdown",
   "id": "b38de070",
   "metadata": {},
   "source": [
    "<a id=\"u2c3.2\"></a>\n",
    "## Máximo o mínimo de una secuencia"
   ]
  },
  {
   "cell_type": "markdown",
   "id": "63a1db02",
   "metadata": {},
   "source": [
    "Estos ejemplos son similares a los que vimos en la sección, Estrategias de programación, de la unidad anterior.\n",
    "\n",
    "Vamos a determinar el dígito mayor de una secuencia de dígitos."
   ]
  },
  {
   "cell_type": "raw",
   "id": "ced2d5c9",
   "metadata": {
    "tags": [
     "remove-output"
    ]
   },
   "source": [
    "digitos = input('Escribe una cadena que solo contenga dígitos: ')"
   ]
  },
  {
   "cell_type": "code",
   "execution_count": null,
   "id": "54b4f20b",
   "metadata": {
    "tags": [
     "remove-output"
    ]
   },
   "outputs": [],
   "source": [
    "mayor = int(digitos[0])\n",
    "\n",
    "for digito in digitos:\n",
    "    if int(digito) > mayor:\n",
    "        mayor = int(digito)\n",
    "        \n",
    "print('El mayor dígito es ' + str(mayor))"
   ]
  },
  {
   "cell_type": "markdown",
   "id": "9b194001",
   "metadata": {},
   "source": [
    "__Aquí la estrategía es la siguiente:__\n",
    "\n",
    "- se inicia la variable `mayor` con el valor del primer dígito\n",
    "- se recorren sucesivamente los todos los dígitos de la secuencia\n",
    "- se cambia el valor de `mayor` cada vez que aparece uno mayor\n",
    "\n",
    "Así de forma exhaustiva encontramos el mayor.\n",
    "\n",
    "De forma similar se podría determinar el dígito menor."
   ]
  },
  {
   "cell_type": "markdown",
   "id": "584332d4",
   "metadata": {},
   "source": [
    "En este ejemplo determinamos la letra \"menor\" de las que contiene una cadena"
   ]
  },
  {
   "cell_type": "code",
   "execution_count": 1,
   "id": "54ebfaf9",
   "metadata": {
    "tags": [
     "remove-output"
    ]
   },
   "outputs": [
    {
     "name": "stdout",
     "output_type": "stream",
     "text": [
      "Escribe una cadena que solo tenga letras minúsculas sin tilde: hnjkld\n"
     ]
    }
   ],
   "source": [
    "secuencia_de_letras = input('Escribe una cadena que solo tenga letras minúsculas sin tilde: ')"
   ]
  },
  {
   "cell_type": "code",
   "execution_count": 2,
   "id": "3f31de18",
   "metadata": {
    "tags": [
     "remove-output"
    ]
   },
   "outputs": [
    {
     "name": "stdout",
     "output_type": "stream",
     "text": [
      "El letra \"menor\" es d\n"
     ]
    }
   ],
   "source": [
    "menor = secuencia_de_letras[0]\n",
    "\n",
    "for letra in secuencia_de_letras:\n",
    "    if letra < menor:\n",
    "        menor = letra\n",
    "        \n",
    "print('El letra \"menor\" es ' + menor)"
   ]
  },
  {
   "cell_type": "markdown",
   "id": "93774d5a",
   "metadata": {},
   "source": [
    "__Obsérvese como se inicia la variable `menor` con el valor de la primera letra de la secuencia__\n",
    "\n",
    "De forma similar se podría determinar la letra \"mayor\"."
   ]
  },
  {
   "cell_type": "markdown",
   "id": "bf521dc7",
   "metadata": {},
   "source": [
    "<a id=\"u2c3.3\"></a>\n",
    "## Máximo de una función en un conjunto de puntos"
   ]
  },
  {
   "cell_type": "markdown",
   "id": "fb3bc072",
   "metadata": {},
   "source": [
    "Veamos primero un caso particular. \n",
    "\n",
    "Tenemos la función $f(x) = -(x-2)(x-5)$ y queremo determinar el máximo de $f$ en los números $1, 2, 3, 4, 5, 6$\n",
    "\n",
    "Primer defino la función $f:$"
   ]
  },
  {
   "cell_type": "code",
   "execution_count": 3,
   "id": "0623b032",
   "metadata": {},
   "outputs": [],
   "source": [
    "def f(x):\n",
    "    return -(x-2)*(x-5)"
   ]
  },
  {
   "cell_type": "markdown",
   "id": "92794afa",
   "metadata": {},
   "source": [
    "Ahora voy a utilizar un procedimiento similar al del anterior epígrafe, pero buscando el máximo de los valores de $f(x)$ cuando $x\\in\\{1,2,3,4,5,6\\}.$ Obsrevese que los valores de $x$ están ordenados. "
   ]
  },
  {
   "cell_type": "code",
   "execution_count": 4,
   "id": "79ebc8e4",
   "metadata": {},
   "outputs": [
    {
     "name": "stdout",
     "output_type": "stream",
     "text": [
      "Maximo =  2\n",
      "Primero =  1\n",
      "Primer valor de x dónde se alcanza el máximo:  3\n"
     ]
    }
   ],
   "source": [
    "I = range(1,7)\n",
    "\n",
    "for x1 in I:\n",
    "    primero = x1\n",
    "    break\n",
    "\n",
    "maximo = f(primero)\n",
    "\n",
    "x = primero\n",
    "for x2 in I:\n",
    "    if f(x2) > maximo:\n",
    "        maximo = f(x2)\n",
    "        x = x2\n",
    "\n",
    "print('Maximo = ', maximo)\n",
    "print('Primero = ', primero)\n",
    "print('Primer valor de x dónde se alcanza el máximo: ', x)"
   ]
  },
  {
   "cell_type": "markdown",
   "id": "32384282",
   "metadata": {},
   "source": [
    "Obsérvese que:"
   ]
  },
  {
   "cell_type": "code",
   "execution_count": 5,
   "id": "7bbd2e49",
   "metadata": {},
   "outputs": [
    {
     "name": "stdout",
     "output_type": "stream",
     "text": [
      "-4\n",
      "0\n",
      "2\n",
      "2\n",
      "0\n",
      "-4\n"
     ]
    }
   ],
   "source": [
    "for x in I:\n",
    "    print(f(x))"
   ]
  },
  {
   "cell_type": "markdown",
   "id": "f2f0a647",
   "metadata": {},
   "source": [
    "Es decir, $f(3) =f(4) =2:$ para los valores de $x$ especificados, $f(x)$ alcanza el máximo en los puntos $2$ y $3.$  "
   ]
  },
  {
   "cell_type": "markdown",
   "id": "178ea77c",
   "metadata": {},
   "source": [
    "Vamos a crear una función para este programa. Lo haremos en dos pasos:\n",
    "- creamos una función que elige el primero de los números de `I`; la llamaremos `primero(I)`\n",
    "- creamos la funión que selecciona el mayor valor de $f(x)$ para lo números de `I`: la llamaremos `maximo_funcion_iterable_1(I,f)`\n",
    "\n",
    "Por último encapsularemos todo en una sola función."
   ]
  },
  {
   "cell_type": "code",
   "execution_count": 6,
   "id": "41c4dda2",
   "metadata": {},
   "outputs": [],
   "source": [
    "def primero(I):\n",
    "    for p in I:\n",
    "        return p"
   ]
  },
  {
   "cell_type": "code",
   "execution_count": 7,
   "id": "58ae0da1",
   "metadata": {},
   "outputs": [
    {
     "data": {
      "text/plain": [
       "1"
      ]
     },
     "execution_count": 7,
     "metadata": {},
     "output_type": "execute_result"
    }
   ],
   "source": [
    "primero(I)"
   ]
  },
  {
   "cell_type": "code",
   "execution_count": 8,
   "id": "55da64fa",
   "metadata": {},
   "outputs": [],
   "source": [
    "def maximo_funcion_iterable_1(I,f):\n",
    "    maximo = f(primero(I))\n",
    "    for x in I:\n",
    "        if f(x) > maximo:\n",
    "            maximo = f(x)\n",
    "    return maximo"
   ]
  },
  {
   "cell_type": "code",
   "execution_count": 9,
   "id": "985f422e",
   "metadata": {},
   "outputs": [
    {
     "data": {
      "text/plain": [
       "2"
      ]
     },
     "execution_count": 9,
     "metadata": {},
     "output_type": "execute_result"
    }
   ],
   "source": [
    "maximo_funcion_iterable_1(I,f)"
   ]
  },
  {
   "cell_type": "markdown",
   "id": "d171541c",
   "metadata": {},
   "source": [
    "Ahora encapsulamos todo en una sola función:"
   ]
  },
  {
   "cell_type": "code",
   "execution_count": 10,
   "id": "0921d7e7",
   "metadata": {},
   "outputs": [],
   "source": [
    "def maximo_funcion_iterable(I,f):\n",
    "    def primero(I):\n",
    "        for p in I:\n",
    "            return p\n",
    "    maximo = f(primero(I))\n",
    "    for x in I:\n",
    "        if f(x) > maximo:\n",
    "            maximo = f(x)\n",
    "    return maximo"
   ]
  },
  {
   "cell_type": "markdown",
   "id": "445f5376",
   "metadata": {},
   "source": [
    "__Ejemplo__\n",
    "\n",
    "Máximo valor de $x(8-x)$ en $\\{0,1, \\ldots, 10\\}$."
   ]
  },
  {
   "cell_type": "code",
   "execution_count": 11,
   "id": "6402798e",
   "metadata": {},
   "outputs": [
    {
     "data": {
      "text/plain": [
       "16"
      ]
     },
     "execution_count": 11,
     "metadata": {},
     "output_type": "execute_result"
    }
   ],
   "source": [
    "def f(x):\n",
    "    return x*(8-x)\n",
    "\n",
    "maximo_funcion_iterable(range(11),f)"
   ]
  },
  {
   "cell_type": "markdown",
   "id": "f023cd83",
   "metadata": {},
   "source": [
    "### Máximo de una función en una malla de paso $h$ en el intervalo $(a,b)$."
   ]
  },
  {
   "cell_type": "markdown",
   "id": "7b601a56",
   "metadata": {},
   "source": [
    "La gráfica de $f(x)=-(x-2)(x-5),$ de antes, es una parábola que pasa por los puntos $(3,2)$ y $(4,2),$ ya uqe $f(3)=f(4)=2.$ Pero, hay valores de la $x$ entre $3$ y $4$ que son mayores que $2.$\n",
    "\n",
    "¿Cómo podemos obtener esos valores? Un métoco consiste en considerar un mayor número de punto entre $1$ y $6.$ \n",
    "\n",
    "Los números $1, 2, 3, 4, 5, 6$ se pueden ver como una malla de puntos entre $1$ y $6$ con un paso igual a $1:$ la distancia que hay entre dos puntos consecutivos cualesquiera es $1,$ o también, cada uno se obtiene a partir del anterior sumando $1.$ Esto es una malla en el intervalo $(1, 6)$ de paso $1.$\n",
    "\n",
    "Los punto de esta malla se obtienen de la siguiente forma:"
   ]
  },
  {
   "cell_type": "code",
   "execution_count": 12,
   "id": "7c5e57e8",
   "metadata": {},
   "outputs": [
    {
     "name": "stdout",
     "output_type": "stream",
     "text": [
      "1\n",
      "2\n",
      "3\n",
      "4\n",
      "5\n",
      "6\n"
     ]
    }
   ],
   "source": [
    "a, b, h = 1, 6, 1\n",
    "\n",
    "N = int((b - a)/h)\n",
    "\n",
    "for i in range(N+1):\n",
    "    puntos = a + i*h\n",
    "    print(puntos)"
   ]
  },
  {
   "cell_type": "markdown",
   "id": "4556080b",
   "metadata": {},
   "source": [
    "En la malla anterior hay $6$ puntos y $5$ subintervalos. Los subintervalos son:\n",
    "\n",
    "$$(1,2), (2,3), (3,4), (4,5), (5,6)$$\n",
    "\n",
    "Disminuyendo el paso tenemos una malla más tupida; con un paso de $0.5$ tenemos $11$ puntos y $10$ subintervalos"
   ]
  },
  {
   "cell_type": "code",
   "execution_count": 13,
   "id": "7351b309",
   "metadata": {},
   "outputs": [
    {
     "name": "stdout",
     "output_type": "stream",
     "text": [
      "1.0\n",
      "1.5\n",
      "2.0\n",
      "2.5\n",
      "3.0\n",
      "3.5\n",
      "4.0\n",
      "4.5\n",
      "5.0\n",
      "5.5\n",
      "6.0\n"
     ]
    }
   ],
   "source": [
    "a, b, h = 1, 6, 0.5\n",
    "\n",
    "N = int((b - a)/h)\n",
    "\n",
    "for p in range(N + 1):\n",
    "    puntos = a + p*h\n",
    "    print(puntos)"
   ]
  },
  {
   "cell_type": "markdown",
   "id": "e05b664a",
   "metadata": {},
   "source": [
    "Ahora creamos una malla con un paso $0.1;$ tenemos $51$ puntos y $50$ subintervalos"
   ]
  },
  {
   "cell_type": "code",
   "execution_count": 14,
   "id": "f1febe31",
   "metadata": {},
   "outputs": [
    {
     "name": "stdout",
     "output_type": "stream",
     "text": [
      "1.0\n",
      "1.1\n",
      "1.2\n",
      "1.3\n",
      "1.4\n",
      "1.5\n",
      "1.6\n",
      "1.7000000000000002\n",
      "1.8\n",
      "1.9\n",
      "2.0\n",
      "2.1\n",
      "2.2\n",
      "2.3\n",
      "2.4000000000000004\n",
      "2.5\n",
      "2.6\n",
      "2.7\n",
      "2.8\n",
      "2.9000000000000004\n",
      "3.0\n",
      "3.1\n",
      "3.2\n",
      "3.3000000000000003\n",
      "3.4000000000000004\n",
      "3.5\n",
      "3.6\n",
      "3.7\n",
      "3.8000000000000003\n",
      "3.9000000000000004\n",
      "4.0\n",
      "4.1\n",
      "4.2\n",
      "4.300000000000001\n",
      "4.4\n",
      "4.5\n",
      "4.6\n",
      "4.7\n",
      "4.800000000000001\n",
      "4.9\n",
      "5.0\n",
      "5.1000000000000005\n",
      "5.2\n",
      "5.3\n",
      "5.4\n",
      "5.5\n",
      "5.6000000000000005\n",
      "5.7\n",
      "5.800000000000001\n",
      "5.9\n",
      "6.0\n"
     ]
    }
   ],
   "source": [
    "a, b, h = 1, 6, .1\n",
    "\n",
    "N = int((b - a)/h)\n",
    "\n",
    "for i in range(N + 1):\n",
    "    puntos = a + i*h\n",
    "    print(puntos)"
   ]
  },
  {
   "cell_type": "markdown",
   "id": "3a875e54",
   "metadata": {},
   "source": [
    "__Obsérvese que uando `I = range(N+1)` el número de puntos de la malla es $\\textbf{N+1}$ y que el número de subintervalos es $N$__"
   ]
  },
  {
   "cell_type": "markdown",
   "id": "cc18fa36",
   "metadata": {},
   "source": [
    "Ahora podemos usar `maximo_funcion_iterable_(I,g)` dónde:\n",
    "- `I` son los valores de los índices de los puntos de la malla \n",
    "- `g` será el valor de la función $f$ en el punto $a + ih,$ es decir $g(i) = f(a + ih)$\n",
    "\n",
    "Entonces, si defino:"
   ]
  },
  {
   "cell_type": "code",
   "execution_count": 15,
   "id": "6bc91e71",
   "metadata": {},
   "outputs": [],
   "source": [
    "## datos de entrada: (i) función y (ii) extremos del intervalo y paso\n",
    "def f(x):\n",
    "    return -(x-2)*(x-5)\n",
    "\n",
    "a, b, h = 1, 6, 1\n",
    "\n",
    "# númeo de intervalos en lso que se divide le intervalo (a,b) con un paso h\n",
    "N = int((b - a)/h)\n",
    "\n",
    "# iterable con el número de puntos de la malla\n",
    "I = range(N+1)\n",
    "\n",
    "# función que se maximiza: valores f(x) en los puntos de la malla\n",
    "def g(i):\n",
    "    return f(a + i*h)"
   ]
  },
  {
   "cell_type": "markdown",
   "id": "701cc16c",
   "metadata": {},
   "source": [
    "Se puede obtener el máximo de $f$ en la malla del intervalo $(1,6)$ de paso $0.1$ de la siguiente forma."
   ]
  },
  {
   "cell_type": "code",
   "execution_count": 16,
   "id": "58093409",
   "metadata": {},
   "outputs": [
    {
     "data": {
      "text/plain": [
       "2"
      ]
     },
     "execution_count": 16,
     "metadata": {},
     "output_type": "execute_result"
    }
   ],
   "source": [
    "maximo_funcion_iterable(I,g)"
   ]
  },
  {
   "cell_type": "markdown",
   "id": "b0c25c2f",
   "metadata": {},
   "source": [
    "Podemos mejorar el resultado si refinamos la malla"
   ]
  },
  {
   "cell_type": "code",
   "execution_count": 17,
   "id": "b88e64eb",
   "metadata": {},
   "outputs": [],
   "source": [
    "## datos de entrada: (i) función y (ii) extremos del intervalo y paso\n",
    "def f(x):\n",
    "    return -(x-2)*(x-5)\n",
    "\n",
    "a, b, h = 1, 6, .5\n",
    "\n",
    "# númeo de intervalos en lso que se divide le intervalo (a,b) con un paso h\n",
    "N = int((b - a)/h)\n",
    "\n",
    "# iterable con el número de puntos de la malla\n",
    "I = range(N+1)\n",
    "\n",
    "# función que se maximiza: valores f(x) en los puntos de la malla\n",
    "def g(i):\n",
    "    return f(a + i*h)"
   ]
  },
  {
   "cell_type": "code",
   "execution_count": 18,
   "id": "0154dde5",
   "metadata": {},
   "outputs": [
    {
     "data": {
      "text/plain": [
       "2.25"
      ]
     },
     "execution_count": 18,
     "metadata": {},
     "output_type": "execute_result"
    }
   ],
   "source": [
    "maximo_funcion_iterable(I,g)"
   ]
  },
  {
   "cell_type": "markdown",
   "id": "b56b9972",
   "metadata": {},
   "source": [
    "Pero en esta ocasión no mejora el resultado si aumentamos el número de puntos de la malla disminuyendo el paso. Veamos"
   ]
  },
  {
   "cell_type": "code",
   "execution_count": 2,
   "id": "0d88e8a7",
   "metadata": {},
   "outputs": [],
   "source": [
    "## datos de entrada: (i) función y (ii) extremos del intervalo y paso\n",
    "def f(x):\n",
    "    return -(x-2)*(x-5)\n",
    "\n",
    "a, b, h = 1, 6, .1\n",
    "\n",
    "# númeo de intervalos en lso que se divide le intervalo (a,b) con un paso h\n",
    "N = int((b - a)/h)\n",
    "\n",
    "# iterable con el número de puntos de la malla\n",
    "I = range(N+1)\n",
    "\n",
    "# función que se maximiza: valores f(x) en los puntos de la malla\n",
    "def g(i):\n",
    "    return f(a + i*h)"
   ]
  },
  {
   "cell_type": "code",
   "execution_count": 20,
   "id": "5383b417",
   "metadata": {},
   "outputs": [
    {
     "data": {
      "text/plain": [
       "2.25"
      ]
     },
     "execution_count": 20,
     "metadata": {},
     "output_type": "execute_result"
    }
   ],
   "source": [
    "maximo_funcion_iterable(I,g)"
   ]
  },
  {
   "cell_type": "markdown",
   "id": "5d0b9cf8",
   "metadata": {},
   "source": [
    "Sabemos que el máximo de $f(x)=-(2-x)(5-x)$ se alcanza en el punto medio del intervalo $(2,5),$ $(2+5)/2=3.5$ Pero este punto pertenece a la malla de paso $0.5$"
   ]
  },
  {
   "cell_type": "code",
   "execution_count": 3,
   "id": "97e25bbd",
   "metadata": {},
   "outputs": [
    {
     "data": {
      "text/plain": [
       "2.25"
      ]
     },
     "execution_count": 3,
     "metadata": {},
     "output_type": "execute_result"
    }
   ],
   "source": [
    "f((2+5)/2)"
   ]
  },
  {
   "cell_type": "markdown",
   "id": "3cab1873",
   "metadata": {},
   "source": [
    "__Ejemplo__"
   ]
  },
  {
   "cell_type": "code",
   "execution_count": 22,
   "id": "88d72bd9",
   "metadata": {},
   "outputs": [
    {
     "data": {
      "text/plain": [
       "1.7453491190000001"
      ]
     },
     "execution_count": 22,
     "metadata": {},
     "output_type": "execute_result"
    }
   ],
   "source": [
    "def f(x):\n",
    "    return x**3 - 5*x**2 - 4*x + 1\n",
    "\n",
    "h, a, b = 0.001, -4, 5\n",
    "\n",
    "N = int((b-a)/h)\n",
    "\n",
    "def puntos(i,a,h):\n",
    "    return a + i*h\n",
    "\n",
    "def g(i):\n",
    "    return f(puntos(i,a,h))\n",
    "\n",
    "I = range(N + 1)\n",
    "maximo_funcion_iterable(I,g)"
   ]
  },
  {
   "cell_type": "markdown",
   "id": "8e140281",
   "metadata": {},
   "source": [
    "<a id=\"u2c3.4\"></a>\n",
    "## Ejercicios"
   ]
  },
  {
   "cell_type": "markdown",
   "id": "cbb87880",
   "metadata": {},
   "source": [
    "1. Escribir una función que determine si un entero no negativo es un cuadrado perfecto. La función deveulve la raíz del entero no negativo, cuando se trata de un cuadrado perfecto y devuelve `No` cuando no lo es.\n",
    "\n",
    "\n",
    "2. Comprobar que la disminución del paso mejora la determinación del máximo de $f(x) = -(x-2.01)(x-4.05).$ Tomar valores de $h$ como $1, 0.5, 0.1, 0.01, \\dots.$ ¿Cuándo deja de mejorar la determinación? ¿Cómo se puede interpretar esto?\n",
    "\n",
    "\n",
    "3. Definir la función `maximo_funcion(a, b, h, f)` que devuelve el máximo de $f$ en el intervalo $(a, b)$ con una malla de paso $h.$\n",
    "\n",
    "\n",
    "4. Utilizar el esquema seguido para calcular el máximo de una función sobre un iterable para definir la función `mayor_frecuencia(texto)`. Esta función devuelve el máximo de la frecuencia de los caracteres del un texto. En este caso se puede utilizar la cadena de la variable `texto` como iterable en la función `maximo_funcion_iterable(I,f)`; la función `f` tendría por argumento un caracter de `texto` y devolvería la frecuencia de ese caracter.\n"
   ]
  },
  {
   "cell_type": "markdown",
   "id": "24569725",
   "metadata": {},
   "source": [
    "<a id=\"u2c3.5\"></a>\n",
    "## Cuestionarios de Moodle\n",
    "\n",
    "[Enumeración exhaustiva 1](https://moodle.upm.es/titulaciones/oficiales/mod/quiz/view.php?id=473262)\n",
    "\n",
    "[Enumeración exhaustiva 2](https://moodle.upm.es/titulaciones/oficiales/mod/quiz/view.php?id=197645)\n"
   ]
  },
  {
   "cell_type": "code",
   "execution_count": null,
   "id": "6cdcbfd5",
   "metadata": {},
   "outputs": [],
   "source": []
  }
 ],
 "metadata": {
  "celltoolbar": "Tags",
  "kernelspec": {
   "display_name": "Python 3 (ipykernel)",
   "language": "python",
   "name": "python3"
  },
  "language_info": {
   "codemirror_mode": {
    "name": "ipython",
    "version": 3
   },
   "file_extension": ".py",
   "mimetype": "text/x-python",
   "name": "python",
   "nbconvert_exporter": "python",
   "pygments_lexer": "ipython3",
   "version": "3.12.3"
  }
 },
 "nbformat": 4,
 "nbformat_minor": 5
}

{
 "cells": [
  {
   "cell_type": "markdown",
   "id": "f641e8f7",
   "metadata": {},
   "source": [
    "# Funciones\n",
    "\n",
    "\n",
    "\n",
    "* [Funciones con parámetros y retorno](#u2c1.1)\n",
    "* [Funciones sin parámetro y sin retorno](#u2c1.2)\n",
    "* [Funciones sin parámetros y con retorno](#u2c1.3)\n",
    "* [Ámbito de las variables definidas dentro de funciones](#u2c1.4)\n",
    "* [Uso de una función dentro de otra](#u2c1.5)\n",
    "* [Parámetros: orden, posición y valores](#u2c1.6)\n",
    "* [Ejemplos](#u2c1.7)\n",
    "* [Ejercicios](#u2c1.8)\n",
    "* [Cuestionarios de Moodle](#u2c1.9)"
   ]
  },
  {
   "cell_type": "markdown",
   "id": "43e5f9cc",
   "metadata": {},
   "source": [
    "## Enlaces\n",
    "\n",
    "* [w3Schools](https://www.w3schools.com/python/python_functions.asp)"
   ]
  },
  {
   "cell_type": "markdown",
   "id": "a7ddc5f5",
   "metadata": {},
   "source": [
    "<a id=\"u2c1.1\"></a>\n",
    "## Funciones con parámetros y retorno\n",
    "\n"
   ]
  },
  {
   "cell_type": "code",
   "execution_count": null,
   "id": "f20af47d",
   "metadata": {},
   "outputs": [],
   "source": [
    "def funcion_1(x):\n",
    "    \"\"\"\n",
    "    Esto se llama en inglés \"docstring\". Sirve para explicar lo que hace la función, \n",
    "    cualquier información que pueda ser útil al usuario y a quién la haya creado\n",
    "    \n",
    "    x: número (real o entero)\n",
    "    función_1: valor de x**2 - 1\n",
    "    \"\"\"\n",
    "    resultado = x**2 -1\n",
    "    return resultado"
   ]
  },
  {
   "cell_type": "code",
   "execution_count": null,
   "id": "6ad01959",
   "metadata": {},
   "outputs": [],
   "source": [
    "funcion_1(2)"
   ]
  },
  {
   "cell_type": "code",
   "execution_count": null,
   "id": "3d700ba2",
   "metadata": {},
   "outputs": [],
   "source": [
    "funcion_1()"
   ]
  },
  {
   "cell_type": "code",
   "execution_count": null,
   "id": "fe2277fe",
   "metadata": {},
   "outputs": [],
   "source": [
    "funcion_1"
   ]
  },
  {
   "cell_type": "code",
   "execution_count": null,
   "id": "4792f3a8",
   "metadata": {},
   "outputs": [],
   "source": [
    "type(funcion_1(2.))"
   ]
  },
  {
   "cell_type": "code",
   "execution_count": null,
   "id": "db40569d",
   "metadata": {},
   "outputs": [],
   "source": [
    "def funcion_2(a,b,c):\n",
    "    \"\"\"\n",
    "    a,b,c: números\n",
    "    funcion_2: suma de cuadrados de a, b y c\n",
    "    \"\"\"\n",
    "    return a**2 + b**2 + c**2"
   ]
  },
  {
   "cell_type": "code",
   "execution_count": null,
   "id": "42e00e20",
   "metadata": {},
   "outputs": [],
   "source": [
    "funcion_2(1,2,1)"
   ]
  },
  {
   "cell_type": "code",
   "execution_count": null,
   "id": "62fa5998",
   "metadata": {},
   "outputs": [],
   "source": [
    "def funcion_3(cadena):\n",
    "    \"\"\"\n",
    "    cadena: str\n",
    "    funcion_3: devuelve True o False según tenga cadena más de tres caracteres o no\n",
    "    \"\"\"\n",
    "    if len(cadena) > 3:\n",
    "        return True\n",
    "    else:\n",
    "        return False"
   ]
  },
  {
   "cell_type": "code",
   "execution_count": null,
   "id": "1b6aa8bf",
   "metadata": {},
   "outputs": [],
   "source": [
    "funcion_3('estudios')"
   ]
  },
  {
   "cell_type": "code",
   "execution_count": null,
   "id": "5b9be9a2",
   "metadata": {},
   "outputs": [],
   "source": [
    "type(funcion_3('estudios'))"
   ]
  },
  {
   "cell_type": "code",
   "execution_count": null,
   "id": "28f3d30e",
   "metadata": {},
   "outputs": [],
   "source": [
    "def funcion_4(palabra, letra):\n",
    "    \"\"\"\n",
    "    palabra: str, cadena de texto\n",
    "    letra: str, una letra \n",
    "    funcion_4: devuelve una nueva palabra donde se han cambiado las vocales por letra\n",
    "    \"\"\"\n",
    "    rsltd = ''\n",
    "    vocales = 'aeiouáéíóúüAEIOUÁÉÍÚÜ'\n",
    "    for s in palabra:\n",
    "        if s in vocales:\n",
    "            rsltd += letra\n",
    "        else:\n",
    "            rsltd += s     \n",
    "    return rsltd "
   ]
  },
  {
   "cell_type": "code",
   "execution_count": null,
   "id": "e17d260e",
   "metadata": {},
   "outputs": [],
   "source": [
    "funcion_4('barco','s')"
   ]
  },
  {
   "cell_type": "code",
   "execution_count": null,
   "id": "bfa0f047",
   "metadata": {},
   "outputs": [],
   "source": [
    "type(funcion_4('barco','s'))"
   ]
  },
  {
   "cell_type": "markdown",
   "id": "1ae25593",
   "metadata": {},
   "source": [
    "<a id=\"u2c1.2\"></a>\n",
    "## Funciones sin paramétros y sin retorno\n"
   ]
  },
  {
   "cell_type": "code",
   "execution_count": null,
   "id": "a919f86a",
   "metadata": {},
   "outputs": [],
   "source": [
    "def funcion_5():\n",
    "    \"\"\"\n",
    "    Imprime '¡Hola Mundo!'\n",
    "    \"\"\"\n",
    "    print('¡Hola Mundo!')"
   ]
  },
  {
   "cell_type": "code",
   "execution_count": null,
   "id": "2b5caf26",
   "metadata": {},
   "outputs": [],
   "source": [
    "funcion_5()"
   ]
  },
  {
   "cell_type": "code",
   "execution_count": null,
   "id": "97f8c031",
   "metadata": {},
   "outputs": [],
   "source": [
    "a = funcion_5()"
   ]
  },
  {
   "cell_type": "code",
   "execution_count": null,
   "id": "74fd7cf1",
   "metadata": {},
   "outputs": [],
   "source": [
    "a"
   ]
  },
  {
   "cell_type": "code",
   "execution_count": null,
   "id": "b31cc0e5",
   "metadata": {},
   "outputs": [],
   "source": [
    "type(a)"
   ]
  },
  {
   "cell_type": "code",
   "execution_count": null,
   "id": "b9a839db",
   "metadata": {},
   "outputs": [],
   "source": [
    "def funcion_6():\n",
    "    \"\"\"\n",
    "    Dibuja un rectángulo con asteriscos\n",
    "    \"\"\"\n",
    "    for i in range(8):\n",
    "        print('* '*8)"
   ]
  },
  {
   "cell_type": "code",
   "execution_count": null,
   "id": "cdd3e565",
   "metadata": {},
   "outputs": [],
   "source": [
    "funcion_6()"
   ]
  },
  {
   "cell_type": "code",
   "execution_count": null,
   "id": "5522a7d8",
   "metadata": {},
   "outputs": [],
   "source": [
    "type(funcion_6())"
   ]
  },
  {
   "cell_type": "markdown",
   "id": "13feefc6",
   "metadata": {},
   "source": [
    "<a id=\"u2c1.3\"></a>\n",
    "## Funciones sin paramétros y con retorno\n"
   ]
  },
  {
   "cell_type": "code",
   "execution_count": null,
   "id": "8ad4cd01",
   "metadata": {},
   "outputs": [],
   "source": [
    "def funcion_7():\n",
    "    \"\"\"\n",
    "    devuelve ¡Hola!\n",
    "    \"\"\"\n",
    "    rsltd = '¡Hola!'\n",
    "    return rsltd"
   ]
  },
  {
   "cell_type": "code",
   "execution_count": null,
   "id": "988a3cca",
   "metadata": {},
   "outputs": [],
   "source": [
    "funcion_7()"
   ]
  },
  {
   "cell_type": "code",
   "execution_count": null,
   "id": "0a4569bc",
   "metadata": {},
   "outputs": [],
   "source": [
    "type(funcion_7())"
   ]
  },
  {
   "cell_type": "markdown",
   "id": "3ce76ead",
   "metadata": {},
   "source": [
    "<a id=\"u2c1.4\"></a>\n",
    "## Ámbito de las variables definidas dentro de funciones\n"
   ]
  },
  {
   "cell_type": "markdown",
   "id": "bd713c4b",
   "metadata": {},
   "source": [
    "Las variables definidas dentro de una función solo tienen existencia en el **espacio de nombres** de esa función"
   ]
  },
  {
   "cell_type": "code",
   "execution_count": null,
   "id": "94959348",
   "metadata": {},
   "outputs": [],
   "source": [
    "def funcion_8():\n",
    "    i = 1\n",
    "    j = i + 1\n",
    "    print(j)"
   ]
  },
  {
   "cell_type": "code",
   "execution_count": null,
   "id": "de257e6e",
   "metadata": {},
   "outputs": [],
   "source": [
    "funcion_8()"
   ]
  },
  {
   "cell_type": "code",
   "execution_count": null,
   "id": "16da59a1",
   "metadata": {},
   "outputs": [],
   "source": [
    "i"
   ]
  },
  {
   "cell_type": "code",
   "execution_count": null,
   "id": "b72dfff9",
   "metadata": {},
   "outputs": [],
   "source": [
    "j"
   ]
  },
  {
   "cell_type": "markdown",
   "id": "aaed2419",
   "metadata": {},
   "source": [
    "Cuando se invoca una función se crea un espacio de nombres propio de esa función. De esta forma no se produce ningún problema si en el interior de varias funciones hemos utilizado el mismo nombre para variables que se comportan de forma distinta en cada función. \n",
    "\n",
    "Si un variable se utiliza dentro de una función y no se ha inicializado dentro de la función, antes de producir un error, Python busca fuera del espacio de nombres de la función para ver si está definida en el espacio de nombres que se abre cuando se lanza Python. Podríamos llamar a éste, el **espacio general de nombres** de Python. Observad que cada vez que se cierra Python se cierra este espacio general de nombres y todos los espacios de nombres generados cada vez que se invoca una función. Al abrir Python de nuevo se genera un nuevo espacio general de nombres, que no hereda nada del anterior, ya que es el espacio de la anterior sesión ha desaparecido junto con todos los espacios de nombres que se hayan generado cada vez que se invoca una función. \n",
    "\n",
    "**En resumen:** Una variable definida en el cuerpo de una función solo tiene existencia en el espacio de nombres de esa función. Pero todas las funciones pueden usar variables del espacio de nombres general de Python, siempre y cuando **no cambien su valor**."
   ]
  },
  {
   "cell_type": "markdown",
   "id": "8d9c4aea",
   "metadata": {},
   "source": [
    "En el caso de abajo no hay problema"
   ]
  },
  {
   "cell_type": "code",
   "execution_count": null,
   "id": "d9397e62",
   "metadata": {},
   "outputs": [],
   "source": [
    "a = 3\n",
    "\n",
    "def funcion_9():\n",
    "    b = a + 1\n",
    "    print(b)"
   ]
  },
  {
   "cell_type": "code",
   "execution_count": null,
   "id": "863063f1",
   "metadata": {},
   "outputs": [],
   "source": [
    "funcion_9()"
   ]
  },
  {
   "cell_type": "code",
   "execution_count": null,
   "id": "b874dfea",
   "metadata": {},
   "outputs": [],
   "source": [
    "a"
   ]
  },
  {
   "cell_type": "code",
   "execution_count": null,
   "id": "351fd6a4",
   "metadata": {},
   "outputs": [],
   "source": [
    "b"
   ]
  },
  {
   "cell_type": "markdown",
   "id": "b6874037",
   "metadata": {},
   "source": [
    "Pero en este caso de abajo hay un problema ya que **no** se puede modificar el valos de `a` en el cuerpo de la función:"
   ]
  },
  {
   "cell_type": "code",
   "execution_count": null,
   "id": "5385e731",
   "metadata": {},
   "outputs": [],
   "source": [
    "a = 5\n",
    "\n",
    "def funcion_10():\n",
    "    a = a + 1\n",
    "    return a"
   ]
  },
  {
   "cell_type": "code",
   "execution_count": null,
   "id": "bc00aff4",
   "metadata": {},
   "outputs": [],
   "source": [
    "funcion_10()"
   ]
  },
  {
   "cell_type": "markdown",
   "id": "9993949a",
   "metadata": {},
   "source": [
    "Sin embargo en el ejemplo de abajo no hay problema ya que hay una variable `b` en el espacio de la función que por lo tanto es diferente del la variable `b` del espacio generla de nombres:"
   ]
  },
  {
   "cell_type": "code",
   "execution_count": null,
   "id": "8333d847",
   "metadata": {},
   "outputs": [],
   "source": [
    "b = 5\n",
    "\n",
    "def funcion_11(x):\n",
    "    b = x\n",
    "    return x + 1"
   ]
  },
  {
   "cell_type": "code",
   "execution_count": null,
   "id": "f3d12411",
   "metadata": {},
   "outputs": [],
   "source": [
    "funcion_11(2)"
   ]
  },
  {
   "cell_type": "code",
   "execution_count": null,
   "id": "db2974a1",
   "metadata": {},
   "outputs": [],
   "source": [
    "b"
   ]
  },
  {
   "cell_type": "markdown",
   "id": "5d312e84",
   "metadata": {},
   "source": [
    "Si definimos una variable dentro de una función, no estará disponible fuera:"
   ]
  },
  {
   "cell_type": "code",
   "execution_count": null,
   "id": "2103af4e",
   "metadata": {},
   "outputs": [],
   "source": [
    "def funcion_12(x,y):\n",
    "    aux = x % y\n",
    "    return aux"
   ]
  },
  {
   "cell_type": "code",
   "execution_count": null,
   "id": "48140f6a",
   "metadata": {},
   "outputs": [],
   "source": [
    "funcion_12(13,5)"
   ]
  },
  {
   "cell_type": "code",
   "execution_count": null,
   "id": "7d8c0e1c",
   "metadata": {},
   "outputs": [],
   "source": [
    "aux"
   ]
  },
  {
   "cell_type": "markdown",
   "id": "9fc22118",
   "metadata": {},
   "source": [
    "Si queremos que la variable aux esté disponible fuera de la función **funcion_12** debemos definirla como variable global:"
   ]
  },
  {
   "cell_type": "code",
   "execution_count": null,
   "id": "00e3ff1f",
   "metadata": {},
   "outputs": [],
   "source": [
    "def funcion_13(x,y):\n",
    "    global aux\n",
    "    aux = x % y\n",
    "    return aux"
   ]
  },
  {
   "cell_type": "code",
   "execution_count": null,
   "id": "e96b1dff",
   "metadata": {},
   "outputs": [],
   "source": [
    "funcion_13(13,5)"
   ]
  },
  {
   "cell_type": "code",
   "execution_count": null,
   "id": "abc20449",
   "metadata": {},
   "outputs": [],
   "source": [
    "aux"
   ]
  },
  {
   "cell_type": "markdown",
   "id": "4059a4c3",
   "metadata": {},
   "source": [
    "Otros cuatro ejemplos para ilustrar el ámbito de las variables definidas dentro de una función. Primer caso:"
   ]
  },
  {
   "cell_type": "code",
   "execution_count": null,
   "id": "4e26a02e",
   "metadata": {},
   "outputs": [],
   "source": [
    "def f(y):\n",
    "    x = 1\n",
    "    x += 1\n",
    "    print(x)\n"
   ]
  },
  {
   "cell_type": "code",
   "execution_count": null,
   "id": "1ccf3dba",
   "metadata": {},
   "outputs": [],
   "source": [
    "x = 5 \n",
    "f(x) \n",
    "print(x)"
   ]
  },
  {
   "cell_type": "markdown",
   "id": "e3159b68",
   "metadata": {},
   "source": [
    "Segundo caso:"
   ]
  },
  {
   "cell_type": "code",
   "execution_count": null,
   "id": "8b3c273e",
   "metadata": {},
   "outputs": [],
   "source": [
    "def g(y):\n",
    "    print(x)\n",
    "    print(x + 1)"
   ]
  },
  {
   "cell_type": "code",
   "execution_count": null,
   "id": "0c1dfd0a",
   "metadata": {},
   "outputs": [],
   "source": [
    "x = 5 \n",
    "g(x) \n",
    "print(x)"
   ]
  },
  {
   "cell_type": "markdown",
   "id": "80870fa7",
   "metadata": {},
   "source": [
    "Tercer caso:"
   ]
  },
  {
   "cell_type": "code",
   "execution_count": null,
   "id": "9840440e",
   "metadata": {},
   "outputs": [],
   "source": [
    "def h(x):\n",
    "    x = x + 1"
   ]
  },
  {
   "cell_type": "code",
   "execution_count": null,
   "id": "62d50877",
   "metadata": {},
   "outputs": [],
   "source": [
    "x = 5 \n",
    "h(x) \n",
    "print(x)"
   ]
  },
  {
   "cell_type": "markdown",
   "id": "f12080de",
   "metadata": {},
   "source": [
    "Cuarto caso:"
   ]
  },
  {
   "cell_type": "code",
   "execution_count": null,
   "id": "e4b06c10",
   "metadata": {},
   "outputs": [],
   "source": [
    "def k(x):\n",
    "    x = x + 1\n",
    "    y = y + 1\n",
    "    return x, y"
   ]
  },
  {
   "cell_type": "code",
   "execution_count": null,
   "id": "1e376792",
   "metadata": {},
   "outputs": [],
   "source": [
    "x = 5 \n",
    "y = 1\n",
    "k(x) \n",
    "print(x)"
   ]
  },
  {
   "cell_type": "markdown",
   "id": "797edf0a",
   "metadata": {},
   "source": [
    "<a id=\"u2c1.5\"></a>\n",
    "## Uso de una función en el cuerpo de otra\n"
   ]
  },
  {
   "cell_type": "markdown",
   "id": "13977ed6",
   "metadata": {},
   "source": [
    "### Ejemplos"
   ]
  },
  {
   "cell_type": "markdown",
   "id": "8a4cf211",
   "metadata": {},
   "source": [
    "**Ejemplo 1**"
   ]
  },
  {
   "cell_type": "code",
   "execution_count": null,
   "id": "47b72dfa",
   "metadata": {},
   "outputs": [],
   "source": [
    "def u(x):\n",
    "    if x != 0:\n",
    "        return x**3 + 2*x\n",
    "    else:\n",
    "        return 5\n",
    "\n",
    "def w_1(x):\n",
    "    return x + u(x)"
   ]
  },
  {
   "cell_type": "code",
   "execution_count": null,
   "id": "02c6966a",
   "metadata": {},
   "outputs": [],
   "source": [
    "w_1(1)"
   ]
  },
  {
   "cell_type": "markdown",
   "id": "b043cda2",
   "metadata": {},
   "source": [
    "**Ejemplo 2**\n",
    "\n",
    "Ahora definimos una solo función en cuyo cuerpo hay otra función. Vermos que estos dos procedimientos dan el mismo resultado."
   ]
  },
  {
   "cell_type": "code",
   "execution_count": null,
   "id": "bf35f5c1",
   "metadata": {},
   "outputs": [],
   "source": [
    "def w_2(x):\n",
    "    def u(x):\n",
    "        if x != 0:\n",
    "            return x**3 + 2*x\n",
    "        else:\n",
    "            return 5\n",
    "    return x + u(x)"
   ]
  },
  {
   "cell_type": "code",
   "execution_count": null,
   "id": "6903d117",
   "metadata": {},
   "outputs": [],
   "source": [
    "w_2(1)"
   ]
  },
  {
   "cell_type": "markdown",
   "id": "ce62289a",
   "metadata": {},
   "source": [
    "Las funciones anteriores `w_1()` y `w_2()` hacen lo mismo"
   ]
  },
  {
   "cell_type": "code",
   "execution_count": null,
   "id": "05267008",
   "metadata": {},
   "outputs": [],
   "source": [
    "for n in range(-7, 7):\n",
    "    if w_1(n) != w_2(n):\n",
    "        print('Horror')\n",
    "    else:\n",
    "        print('Todo va bien')"
   ]
  },
  {
   "cell_type": "code",
   "execution_count": null,
   "id": "46fd0f70",
   "metadata": {},
   "outputs": [],
   "source": [
    "def comprobación(f, g):\n",
    "    \"\"\"\n",
    "    Con esto podemos comprobar que las dos funciones devuelven los mismos valores \n",
    "    si los parámetros toman como valores, número enteros\n",
    "    \"\"\"\n",
    "    diferentes = False\n",
    "    for n in range(-20, 20):\n",
    "        if f(n) != g(n):\n",
    "            diferentes = True\n",
    "            break\n",
    "    if diferentes:\n",
    "         print('Horror')\n",
    "    else:\n",
    "        print('Todo va bien')\n",
    "    "
   ]
  },
  {
   "cell_type": "code",
   "execution_count": null,
   "id": "30f76778",
   "metadata": {},
   "outputs": [],
   "source": [
    "comprobación(w_1, w_2)"
   ]
  },
  {
   "cell_type": "markdown",
   "id": "dca30271",
   "metadata": {},
   "source": [
    "### Composición de funciones\n",
    "\n"
   ]
  },
  {
   "cell_type": "markdown",
   "id": "a29c0186",
   "metadata": {},
   "source": [
    "#### Ejemplo"
   ]
  },
  {
   "cell_type": "code",
   "execution_count": null,
   "id": "75caa3d9",
   "metadata": {},
   "outputs": [],
   "source": [
    "def f(x):\n",
    "    return x + 1\n",
    "\n",
    "def g(x):\n",
    "    return 3*x"
   ]
  },
  {
   "cell_type": "code",
   "execution_count": null,
   "id": "1bda6a38",
   "metadata": {},
   "outputs": [],
   "source": [
    "g(f(2))"
   ]
  },
  {
   "cell_type": "code",
   "execution_count": null,
   "id": "16f89d14",
   "metadata": {},
   "outputs": [],
   "source": [
    "f(3 + g(-1))"
   ]
  },
  {
   "cell_type": "markdown",
   "id": "5723fa2b",
   "metadata": {},
   "source": [
    "<a id=\"u2c1.6\"></a>\n",
    "## Parámetros: orden, posición y valores\n",
    "\n",
    "El orden en que se escriben los parámetros se puede cambiar"
   ]
  },
  {
   "cell_type": "markdown",
   "id": "42bd855c",
   "metadata": {},
   "source": [
    "Definimos la siguiente función que depende de tres parámetros:"
   ]
  },
  {
   "cell_type": "code",
   "execution_count": null,
   "id": "7597d170",
   "metadata": {},
   "outputs": [],
   "source": [
    "def subintervalos(N,a,b):\n",
    "    \"\"\"\n",
    "    N: int\n",
    "    a,b: float o int\n",
    "    funcion_12: sin retorno. Divide el intervalo (a,b) en N subintervalos iguales y \n",
    "                los imprime\n",
    "    \"\"\"\n",
    "    h = (b-a)/N\n",
    "    for k in range(N):\n",
    "        print('(' + str(a + h*k) + ',' + str(a + h*(k+1)) + ')')"
   ]
  },
  {
   "cell_type": "code",
   "execution_count": null,
   "id": "8d8349af",
   "metadata": {},
   "outputs": [],
   "source": [
    "subintervalos(20,1,2)"
   ]
  },
  {
   "cell_type": "markdown",
   "id": "80935ebc",
   "metadata": {},
   "source": [
    "Cuando se utilizan los parámetros de una función sin indicar su nombre se habla de **parámetros posicionales** ( _positional parameters_ ). Si variamos de orden los valores `(20, 1, 2)` obtendremos cosas distintas al invocar la función."
   ]
  },
  {
   "cell_type": "markdown",
   "id": "d9b61d91",
   "metadata": {},
   "source": [
    "También se puede escribir"
   ]
  },
  {
   "cell_type": "code",
   "execution_count": null,
   "id": "ad3014af",
   "metadata": {},
   "outputs": [],
   "source": [
    "subintervalos(b = 2, N = 20, a = 1)"
   ]
  },
  {
   "cell_type": "markdown",
   "id": "8ad4a7a3",
   "metadata": {},
   "source": [
    "Cuando se utilizan los parámetros de una función indicando su nombre se habla de **parámetros referenciales** ( _keywords arguments_ ). De esta forma podemos utilizar cualquier orden para introducir los parámetros."
   ]
  },
  {
   "cell_type": "markdown",
   "id": "f6745425",
   "metadata": {},
   "source": [
    "### Parámetros con valores por defecto"
   ]
  },
  {
   "cell_type": "markdown",
   "id": "8feab493",
   "metadata": {},
   "source": [
    "En la siguiente función, el parámetro `N` toma el valor `20`  _por defecto_. Son los **parámetros por defecto**"
   ]
  },
  {
   "cell_type": "code",
   "execution_count": null,
   "id": "20aaa194",
   "metadata": {},
   "outputs": [],
   "source": [
    "def subintervalos_p(a,b, N = 20):\n",
    "    \"\"\"\n",
    "    N: int\n",
    "    a,b: float o int\n",
    "    funcion_12: sin retorno. Divide el intervalo (a,b) en N subintervalos iguales y \n",
    "                los imprime\n",
    "    \"\"\"\n",
    "    h = (b-a)/N\n",
    "    for k in range(N):\n",
    "        print('(' + str(a + h*k) + ',' + str(a + h*(k+1)) + ')')"
   ]
  },
  {
   "cell_type": "markdown",
   "id": "2a962d96",
   "metadata": {},
   "source": [
    "Esto significa que si solo indicamos el valor de dos parámetros, Python le dará el valor `20` a `N`. Los otros dos parámetros se asignarán por orden, el primero a `a` y el segundo a `b`."
   ]
  },
  {
   "cell_type": "code",
   "execution_count": null,
   "id": "62320b4a",
   "metadata": {},
   "outputs": [],
   "source": [
    "subintervalos_p(1,2)"
   ]
  },
  {
   "cell_type": "markdown",
   "id": "c6ec4b4b",
   "metadata": {},
   "source": [
    "Pero también podemos suministrar un valor específico para `N` mediante el uso referenciales del parámetro. Por ejemplo:"
   ]
  },
  {
   "cell_type": "code",
   "execution_count": null,
   "id": "e5218b9b",
   "metadata": {},
   "outputs": [],
   "source": [
    "subintervalos_p(1,2,N = 10)"
   ]
  },
  {
   "cell_type": "markdown",
   "id": "66162d50",
   "metadata": {},
   "source": [
    "Como ya hemos visto, los parámetros como `a` y `b` son **posicionales** y `N` sería un parámetro **referencial**. De esta forma hemos cambiado el valor por defecto de `N`."
   ]
  },
  {
   "cell_type": "markdown",
   "id": "fc2d275f",
   "metadata": {},
   "source": [
    "Los parámetros referenciales siempre deben de ir al final. En caso contrario tendremos un error"
   ]
  },
  {
   "cell_type": "code",
   "execution_count": null,
   "id": "269540fb",
   "metadata": {},
   "outputs": [],
   "source": [
    "subintervalos_p(1,N=10,2)"
   ]
  },
  {
   "cell_type": "code",
   "execution_count": null,
   "id": "50579fdd",
   "metadata": {},
   "outputs": [],
   "source": [
    "subintervalos_p(N=10, 1, 2)"
   ]
  },
  {
   "cell_type": "markdown",
   "id": "972c00bd",
   "metadata": {},
   "source": [
    "<a id='u2c1.7'></a>\n",
    "## Ejemplos\n"
   ]
  },
  {
   "cell_type": "markdown",
   "id": "bbff15fa",
   "metadata": {},
   "source": [
    "### Ejemplo\n",
    "\n",
    "Escribe la función ``saludo()`` que devuelve \"Buenos dias\""
   ]
  },
  {
   "cell_type": "code",
   "execution_count": null,
   "id": "455175bc",
   "metadata": {},
   "outputs": [],
   "source": [
    "def saludo1():\n",
    "    return \"Buenos días\""
   ]
  },
  {
   "cell_type": "code",
   "execution_count": null,
   "id": "c0196faa",
   "metadata": {},
   "outputs": [],
   "source": [
    "saludo1()"
   ]
  },
  {
   "cell_type": "markdown",
   "id": "4fc28e02",
   "metadata": {},
   "source": [
    "### Ejemplo\n",
    "\n",
    "Escribe la función ``saludo2(x)`` que devuelve \"Buenos dias x\", donde `x` es una cadena"
   ]
  },
  {
   "cell_type": "code",
   "execution_count": null,
   "id": "365552d7",
   "metadata": {},
   "outputs": [],
   "source": [
    "def saludo2(x):\n",
    "    s=\"Buenos días \"+x\n",
    "    return s"
   ]
  },
  {
   "cell_type": "code",
   "execution_count": null,
   "id": "efd5a090",
   "metadata": {},
   "outputs": [],
   "source": [
    "saludo2(\"Luis\")"
   ]
  },
  {
   "cell_type": "markdown",
   "id": "031ab8bf",
   "metadata": {},
   "source": [
    "### Ejemplo\n",
    "\n",
    "Escribe la función ``metroscentimetros(x)`` devuelve x metros en centímetros donde `x` es un número"
   ]
  },
  {
   "cell_type": "code",
   "execution_count": null,
   "id": "62d3c5d7",
   "metadata": {},
   "outputs": [],
   "source": [
    "def metroscentimetros(x):\n",
    "    return x*100"
   ]
  },
  {
   "cell_type": "code",
   "execution_count": null,
   "id": "4f76b935",
   "metadata": {},
   "outputs": [],
   "source": [
    "metroscentimetros(15)"
   ]
  },
  {
   "cell_type": "markdown",
   "id": "2fd16f34",
   "metadata": {},
   "source": [
    "### Ejemplo\n",
    "\n",
    "Escribe la función ``centigrkelvin(x)`` que devuelve xºC en ºK donde `x` es un número"
   ]
  },
  {
   "cell_type": "code",
   "execution_count": null,
   "id": "f1cd87d7",
   "metadata": {},
   "outputs": [],
   "source": [
    "def centigrkelvin(x):\n",
    "    return x+273.15"
   ]
  },
  {
   "cell_type": "code",
   "execution_count": null,
   "id": "889866b3",
   "metadata": {},
   "outputs": [],
   "source": [
    "centigrkelvin(0)"
   ]
  },
  {
   "cell_type": "markdown",
   "id": "f222c35d",
   "metadata": {},
   "source": [
    "### Ejemplo\n",
    "\n",
    "Escribe la función ``long(x)`` que cuenta los caracteres de una cadena `x`"
   ]
  },
  {
   "cell_type": "code",
   "execution_count": null,
   "id": "5769ffc1",
   "metadata": {},
   "outputs": [],
   "source": [
    "def long(x):\n",
    "    contador=0\n",
    "    for i in x:\n",
    "        contador+=1\n",
    "    return contador    "
   ]
  },
  {
   "cell_type": "code",
   "execution_count": null,
   "id": "4582f7ea",
   "metadata": {},
   "outputs": [],
   "source": [
    "long(\"mi cadena\")"
   ]
  },
  {
   "cell_type": "markdown",
   "id": "58639e3a",
   "metadata": {},
   "source": [
    "### Ejemplo\n",
    "\n",
    "Escribe la función ``reemplazar(texto, letra, nletra)`` que reemplaza el caracter `letra` por `nletra` en la cadena `texto`"
   ]
  },
  {
   "cell_type": "code",
   "execution_count": null,
   "id": "bb6802a2",
   "metadata": {},
   "outputs": [],
   "source": [
    "def reemplazar(texto, letra, nletra):\n",
    "    ntexto=\"\"\n",
    "    for l in texto:\n",
    "        if l==letra:\n",
    "            ntexto+=nletra\n",
    "        else:\n",
    "            ntexto+=l\n",
    "    return ntexto"
   ]
  },
  {
   "cell_type": "code",
   "execution_count": null,
   "id": "19cbf117",
   "metadata": {},
   "outputs": [],
   "source": [
    "reemplazar(\"mi cadena\",nletra=\"***\",letra=\"a\")"
   ]
  },
  {
   "cell_type": "code",
   "execution_count": null,
   "id": "5d7b06c7",
   "metadata": {},
   "outputs": [],
   "source": [
    "reemplazar(saludo1(),nletra=\"***\",letra=\"a\")"
   ]
  },
  {
   "cell_type": "markdown",
   "id": "5cef3b6c",
   "metadata": {},
   "source": [
    "### Ejemplo\n",
    "\n",
    "Escribe la función ``sinacentos1(texto)`` que devuelve una cadena de letras minúsculas sin acentos. La variable `texto` es una cadena de letras minúsculas."
   ]
  },
  {
   "cell_type": "code",
   "execution_count": null,
   "id": "86e83bb1",
   "metadata": {},
   "outputs": [],
   "source": [
    "def sinacentos1(texto):\n",
    "    ntexto=\"\"\n",
    "    for letra in texto:\n",
    "        if letra==\"á\":\n",
    "            ntexto+=\"a\"\n",
    "        elif letra==\"é\":\n",
    "            ntexto+=\"e\"\n",
    "        elif letra==\"í\":\n",
    "           ntexto+=\"i\"\n",
    "        elif letra==\"ó\":\n",
    "           ntexto+=\"o\"\n",
    "        elif letra==\"ú\":\n",
    "            ntexto+=\"u\"\n",
    "        else:\n",
    "            ntexto+=letra\n",
    "    return  ntexto"
   ]
  },
  {
   "cell_type": "code",
   "execution_count": null,
   "id": "47ebfa8e",
   "metadata": {},
   "outputs": [],
   "source": [
    "sinacentos1(\"adéúdé\")"
   ]
  },
  {
   "cell_type": "markdown",
   "id": "0f238e93",
   "metadata": {},
   "source": [
    "Otra versión de `sinacentos(texto)`"
   ]
  },
  {
   "cell_type": "code",
   "execution_count": null,
   "id": "8609364f",
   "metadata": {},
   "outputs": [],
   "source": [
    "def sinacentos2(texto): \n",
    "    conAcentos = 'áéíóúü'\n",
    "    sinAcentos = 'aeiouu'\n",
    "    for i in range(len(conAcentos)):\n",
    "        nuevo_texto = ''\n",
    "        for s in texto:\n",
    "            #print(i,s)\n",
    "            if s == conAcentos[i]:\n",
    "                nuevo_texto += sinAcentos[i]\n",
    "            else:\n",
    "                nuevo_texto += s\n",
    "            #print(nuevo_texto)\n",
    "        texto=nuevo_texto\n",
    "    return texto"
   ]
  },
  {
   "cell_type": "code",
   "execution_count": null,
   "id": "14b10283",
   "metadata": {},
   "outputs": [],
   "source": [
    "sinacentos2(\"además\")"
   ]
  },
  {
   "cell_type": "markdown",
   "id": "8a446b55",
   "metadata": {},
   "source": [
    "La última versión de `sinacentos(texto)` utilizando la función `reemplazar()` que creamos más arriba"
   ]
  },
  {
   "cell_type": "code",
   "execution_count": null,
   "id": "f0bcab0e",
   "metadata": {},
   "outputs": [],
   "source": [
    "def sinacentos3(texto):\n",
    "    st=\"áéíóú\"\n",
    "    s=\"aeiou\"\n",
    "    for i in range(5):\n",
    "        if st[i] in texto:\n",
    "           texto = reemplazar(texto,st[i],s[i])\n",
    "    return texto"
   ]
  },
  {
   "cell_type": "code",
   "execution_count": null,
   "id": "6790c49b",
   "metadata": {},
   "outputs": [],
   "source": [
    "sinacentos3(\"además\")"
   ]
  },
  {
   "cell_type": "markdown",
   "id": "e1b2b1d2",
   "metadata": {},
   "source": [
    "### Ejemplo\n",
    "\n",
    "Ámbito de una variable: Utilizamos una variable `x` en la función g, en la función h y en el programa principal ¿qué ocurre?"
   ]
  },
  {
   "cell_type": "markdown",
   "id": "5f5df8b4",
   "metadata": {},
   "source": [
    "**_Caso 1_**"
   ]
  },
  {
   "cell_type": "code",
   "execution_count": null,
   "id": "b678d0b2",
   "metadata": {},
   "outputs": [],
   "source": [
    "def g1(x):\n",
    "    def h():\n",
    "        x = 'abc'\n",
    "    x = x + 1\n",
    "    print('En g1(x): x =', x)\n",
    "    h()\n",
    "    return x"
   ]
  },
  {
   "cell_type": "code",
   "execution_count": null,
   "id": "e095b0b4",
   "metadata": {},
   "outputs": [],
   "source": [
    "x = 3\n",
    "z = g1(x)"
   ]
  },
  {
   "cell_type": "code",
   "execution_count": null,
   "id": "f1794f2c",
   "metadata": {},
   "outputs": [],
   "source": [
    "x"
   ]
  },
  {
   "cell_type": "code",
   "execution_count": null,
   "id": "ec726a26",
   "metadata": {},
   "outputs": [],
   "source": [
    "z"
   ]
  },
  {
   "cell_type": "markdown",
   "id": "dfb37a7d",
   "metadata": {},
   "source": [
    "**_Caso 2_**"
   ]
  },
  {
   "cell_type": "code",
   "execution_count": null,
   "id": "d76854c2",
   "metadata": {},
   "outputs": [],
   "source": [
    "def g2(x):\n",
    "    def h():\n",
    "        x = 'abc'\n",
    "        return x\n",
    "    x = x + 1\n",
    "    print('En g2(x): x =', x)\n",
    "    return h()\n"
   ]
  },
  {
   "cell_type": "code",
   "execution_count": null,
   "id": "6c166535",
   "metadata": {},
   "outputs": [],
   "source": [
    "x = 3\n",
    "z = g2(x)"
   ]
  },
  {
   "cell_type": "code",
   "execution_count": null,
   "id": "1cf984c0",
   "metadata": {},
   "outputs": [],
   "source": [
    "x"
   ]
  },
  {
   "cell_type": "code",
   "execution_count": null,
   "id": "c9ffb004",
   "metadata": {},
   "outputs": [],
   "source": [
    "z"
   ]
  },
  {
   "cell_type": "markdown",
   "id": "6c1d6d04",
   "metadata": {},
   "source": [
    "Ponemos un `print()` en el cuerpo de la función `h()` para ver que está pasando"
   ]
  },
  {
   "cell_type": "code",
   "execution_count": null,
   "id": "e96e5866",
   "metadata": {},
   "outputs": [],
   "source": [
    "def g3(x):\n",
    "    def h():\n",
    "        x = 'abc'\n",
    "        print('En h(): x =', x)\n",
    "        return x\n",
    "    x = x + 1\n",
    "    print('En g3(x): x =', x)\n",
    "    return h()\n"
   ]
  },
  {
   "cell_type": "code",
   "execution_count": null,
   "id": "24e4106d",
   "metadata": {},
   "outputs": [],
   "source": [
    "z = g3(3)"
   ]
  },
  {
   "cell_type": "code",
   "execution_count": null,
   "id": "3ceecf20",
   "metadata": {},
   "outputs": [],
   "source": [
    "x"
   ]
  },
  {
   "cell_type": "code",
   "execution_count": null,
   "id": "bb9a4961",
   "metadata": {},
   "outputs": [],
   "source": [
    "z"
   ]
  },
  {
   "cell_type": "markdown",
   "id": "cd3b69fa",
   "metadata": {},
   "source": [
    "### Ejemplo\n",
    "\n",
    "Escribe la función `bisiesto(año)` que devuelve `True` o `False` si el año es bisiesto o no, donde `año` es un entero"
   ]
  },
  {
   "cell_type": "code",
   "execution_count": null,
   "id": "64d179ed",
   "metadata": {},
   "outputs": [],
   "source": [
    "def bisiesto(año):\n",
    "    \"\"\"\n",
    "    año - número que corresponde a un año\n",
    "    Devuelve True o False si el año es bisiesto o no\n",
    "    \"\"\"\n",
    "    return (año%4 == 0)"
   ]
  },
  {
   "cell_type": "code",
   "execution_count": null,
   "id": "09da34d9",
   "metadata": {},
   "outputs": [],
   "source": [
    "bisiesto(2020)"
   ]
  },
  {
   "cell_type": "code",
   "execution_count": null,
   "id": "1e2ce4e6",
   "metadata": {},
   "outputs": [],
   "source": [
    "bisiesto(2019)"
   ]
  },
  {
   "cell_type": "markdown",
   "id": "0fc03fe1",
   "metadata": {},
   "source": [
    "### Ejemplo\n",
    "\n",
    "Escribe la función `dias(año)` que devuelve el número de días de un año. La variable `año` es entera."
   ]
  },
  {
   "cell_type": "code",
   "execution_count": null,
   "id": "84739070",
   "metadata": {},
   "outputs": [],
   "source": [
    "def dias(año):\n",
    "    if bisiesto(año):\n",
    "        return 366\n",
    "    else:\n",
    "        return 365"
   ]
  },
  {
   "cell_type": "code",
   "execution_count": null,
   "id": "2dd7871b",
   "metadata": {},
   "outputs": [],
   "source": [
    "dias(2020)"
   ]
  },
  {
   "cell_type": "code",
   "execution_count": null,
   "id": "9baa9a7b",
   "metadata": {},
   "outputs": [],
   "source": [
    "dias(2019)"
   ]
  },
  {
   "cell_type": "code",
   "execution_count": null,
   "id": "464bc4db",
   "metadata": {},
   "outputs": [],
   "source": [
    "def bisiesto(año):\n",
    "    \"\"\"\n",
    "    año - número que corresponde a un año\n",
    "    Devuelve True o False si el año es bisiesto o no\n",
    "    \"\"\"\n",
    "    return (año%4 == 0)\n",
    "\n",
    "def dias(año):\n",
    "    if bisiesto(año):\n",
    "        return 366\n",
    "    else:\n",
    "        return 365"
   ]
  },
  {
   "cell_type": "code",
   "execution_count": null,
   "id": "0afc909f",
   "metadata": {},
   "outputs": [],
   "source": [
    "def dias(año):\n",
    "    def bisiesto(año):\n",
    "        \"\"\"\n",
    "        año - número que corresponde a un año\n",
    "        Devuelve True o False si el año es bisiesto o no\n",
    "        \"\"\"\n",
    "        return (año%4 == 0)\n",
    "    if bisiesto(año):\n",
    "        return 366\n",
    "    else:\n",
    "        return 365"
   ]
  },
  {
   "cell_type": "markdown",
   "id": "2df4a69b",
   "metadata": {},
   "source": [
    "### Ejemplo\n",
    "\n",
    "Escribe la función `mayor(nombre1,edad1,nombre2,edad2)` que compara `edad1` y `edad2` e imprime lo siguiente:\n",
    "\n",
    "**Ejemplos:** \n",
    "\n",
    "`mayor('Juan',18, 'Ana', 15)` imprime **Juan es 3 años mayor que Ana**\n",
    "\n",
    "`mayor('Juan',18, 'Ana', 18)` imprime **Juan y Ana tienen la misma edad**"
   ]
  },
  {
   "cell_type": "code",
   "execution_count": null,
   "id": "bc780ac1",
   "metadata": {},
   "outputs": [],
   "source": [
    "def mayor(nombre1,edad1,nombre2,edad2):\n",
    "    if edad1 > edad2:\n",
    "        print(nombre1 + ' es ' + str(edad1 - edad2) + ' años mayor que ' + nombre2)\n",
    "    elif edad2 > edad1:\n",
    "        print(nombre2 + ' es ' + str(edad2 - edad1) + ' años mayor que ' + nombre1)\n",
    "    else:\n",
    "        print(nombre1 + ' y ' + nombre2 + ' tienen la misma edad')"
   ]
  },
  {
   "cell_type": "code",
   "execution_count": null,
   "id": "e0582b7a",
   "metadata": {},
   "outputs": [],
   "source": [
    "mayor('Juan',24, 'Ana', 24)"
   ]
  },
  {
   "cell_type": "markdown",
   "id": "b12b42ab",
   "metadata": {},
   "source": [
    "### Ejemplo\n",
    "\n",
    "Escribe la función `primer_elemento(I)` que devuelve el primer elemento del iterable `I`"
   ]
  },
  {
   "cell_type": "code",
   "execution_count": null,
   "id": "7edc9739",
   "metadata": {},
   "outputs": [],
   "source": [
    "def primer_elemento(I):\n",
    "    \"\"\"\n",
    "    I - iterable arbitrario\n",
    "    devuelve el primer elemento de I\n",
    "    \"\"\"\n",
    "    for u in I:\n",
    "        return u"
   ]
  },
  {
   "cell_type": "code",
   "execution_count": null,
   "id": "707fea2e",
   "metadata": {},
   "outputs": [],
   "source": [
    "I = 'ahora'"
   ]
  },
  {
   "cell_type": "code",
   "execution_count": null,
   "id": "be7b97d8",
   "metadata": {},
   "outputs": [],
   "source": [
    "primer_elemento(I)"
   ]
  },
  {
   "cell_type": "code",
   "execution_count": null,
   "id": "98a51578",
   "metadata": {},
   "outputs": [],
   "source": [
    "primer_elemento(range(8,24))"
   ]
  },
  {
   "cell_type": "markdown",
   "id": "67292a74",
   "metadata": {},
   "source": [
    "### Ejemplo\n",
    "\n",
    "Escribe la función `suma(m,n)` que devuelve la suma de los números enteros de `m` a `n` ambos inclusive. En caso de que `m` sea mayor que `n` no debe devolver nada."
   ]
  },
  {
   "cell_type": "code",
   "execution_count": null,
   "id": "4f7e9d32",
   "metadata": {},
   "outputs": [],
   "source": [
    "def suma(m,n):\n",
    "    if m <= n:\n",
    "        suma = 0\n",
    "        for u in range(m, n + 1):\n",
    "            suma += u\n",
    "        return suma"
   ]
  },
  {
   "cell_type": "code",
   "execution_count": null,
   "id": "dcdc5568",
   "metadata": {},
   "outputs": [],
   "source": [
    "suma(1,3)"
   ]
  },
  {
   "cell_type": "code",
   "execution_count": null,
   "id": "cbd3e2ae",
   "metadata": {},
   "outputs": [],
   "source": [
    "suma(3,1)"
   ]
  },
  {
   "cell_type": "markdown",
   "id": "6650241c",
   "metadata": {},
   "source": [
    "### Ejemplo\n",
    "\n",
    "Escriba la función `juego()` que escoge un número entre 1 y 6, ambos inclusive, pero no nos lo dice. Nos pide un número por teclado y si es correcto imprime **Has acertado**. En caso contrario, imprime **No has acertado. Prueba otra vez** y nos da la posiblidad de volver a decir un número.\n",
    "\n",
    "Aquí se puede utilizar la función `randint()` que no es una función propia de Python, pertence al módulo `random`. Esta función proporciona números aleatorios.\n",
    "\n",
    "Después define la función `juego(N)` que inicia un juego como el de antes para los números del $1$ al $N,$ ambos inclusive."
   ]
  },
  {
   "cell_type": "code",
   "execution_count": null,
   "id": "be3e7530",
   "metadata": {},
   "outputs": [],
   "source": [
    "def juego():\n",
    "    from random import randint # así podemos utilizar la funcíon randint() del módulo random\n",
    "    N = randint(1,6)\n",
    "    \n",
    "    while True:\n",
    "        n = int(input('Di un número entre 1 y 6 :'))\n",
    "        if n == N:\n",
    "            print('Has acertado')\n",
    "            break\n",
    "        else:\n",
    "            print('No has acertado. Prueba otra vez')\n",
    "            print()"
   ]
  },
  {
   "cell_type": "code",
   "execution_count": null,
   "id": "06a84d5c",
   "metadata": {
    "tags": [
     "remove-output"
    ]
   },
   "outputs": [],
   "source": [
    "juego()"
   ]
  },
  {
   "cell_type": "code",
   "execution_count": null,
   "id": "983a4390",
   "metadata": {},
   "outputs": [],
   "source": [
    "def Juego(K):\n",
    "    from random import randint\n",
    "    N = randint(1,K)\n",
    "    \n",
    "    while True:\n",
    "        n = int(input('Di un número entre 1 y ' + str(K) + ': '))\n",
    "        if n == N:\n",
    "            print('Has acertado')\n",
    "            break\n",
    "        else:\n",
    "            print('No has acertado. Prueba otra vez')\n",
    "            print()"
   ]
  },
  {
   "cell_type": "code",
   "execution_count": null,
   "id": "3efaefc2",
   "metadata": {
    "tags": [
     "remove-output"
    ]
   },
   "outputs": [],
   "source": [
    "Juego(10)"
   ]
  },
  {
   "cell_type": "markdown",
   "id": "64c1b50c",
   "metadata": {},
   "source": [
    "<a id=\"u2c1.8\"></a>\n",
    "## Ejercicios\n"
   ]
  },
  {
   "cell_type": "markdown",
   "id": "0c731557",
   "metadata": {},
   "source": [
    "Definir las siguientes funciones que realizan las tareas indicadas a continuación:\n",
    "\n",
    "1. **bienvenida()**:  imprime el mensaje `Bienvenido a Python`.\n",
    "\n",
    "\n",
    "2. **f(x)**: devuelve el valor de $x^3 - 3x^2 + 1$ para un número `n`.\n",
    "\n",
    "\n",
    "3. **potencia_numero(n,m)**: devuelve $n$ elevado a $m,$ donde $n$ y $m$ son enteros.\n",
    "\n",
    "\n",
    "4. **suma_digitos(n)**: devuelve la suma de los dígitos del número entero `n`.\n",
    "    * Ejemplo: la llamada `suma_digitos(631)` devuelve el entero `10`.\n",
    "\n",
    "\n",
    "5. **compara(x,y)**: devuelve $0$ si $x=y$, $1$ si $x>y$, $-1$ si $x<y$.\n",
    "    * Ejemplo: la llamada `compara(3,2)`devuelve `1`\n",
    "\n",
    "\n",
    "6. **punto_medio(a,b)**: devuelve el punto medio del intervalo $(a,b)$.\n",
    "\n",
    "\n",
    "7. **semintervalo_izq(a,b)**: devuelve el semintervalo (mitad) izquierdo del intervalo $(a,b)$.\n",
    "    * Ejemplo: la llamada `semintervalo_izquierdo(0,2)`devuelve `(0,1)`\n",
    "\n",
    "\n",
    "8. **semintervalo_der(a,b)**: devuelve el semintervalo (mitad) derecho del intervalo $(a,b)$.\n",
    "\n",
    "\n",
    "9. **pertenece(N,a,b)**: devuelve `True` o `False` según $N$ pertenezca o no al intervalo $(a,b)$.\n",
    "\n",
    "\n",
    "10. **divide_mitad(N,a,b)**: devuelve el semintervalo de $(a,b)$ donde se encuentra $N$. Si $N$ no pertenece al intervalo, devuelve `N no está en el intervalo`.\n",
    "     * Ejemplo: la llamada `divide_mitad(17, 0, 100)` devuelve `(0,50)`   \n",
    "     * Ejemplo: la llamada `divide_mitad(65, 0, 100)` devuelve `(50,100)`\n",
    "     * Ejemplo: la llamada `divide_mitad(165, 0, 100)` devuelve `165 no etá en el intervalo`\n",
    "\n",
    "\n",
    "11.\t**zoom(palabra)**: devuelve la palabra en mayúsculas y con sus letras separadas por un espacio.\n",
    "     * Ejemplo: la llamada `zoom(‘sandwich’)` devuelve la cadena `S A N D W I C H`\n",
    "\n",
    "\n",
    "12.\t**mayor2(a,b)**: devuelve el máximo de los números $a,b$.  \n",
    "\n",
    "\n",
    "13.\t**mayor3(a,b,c)**: devuelve el máximo de los números $a,b,c$.\n",
    "\n",
    "\n",
    "14. **maximo4(a,b,c,d)** que devuelve el máximo de los números $a, b, c$ y $d.$\n",
    "\n",
    "\n",
    "15.\t**rectangulo(n,m)**:  dibuja un rectángulo con el símbolo `0` de ancho $n$ y alto $m,$ donde $n$ y $m$ son enteros.\n",
    "\n",
    "\n",
    "16.\t**factorial(n)**: devuelve el factorial del entero no negativo $n$.\n",
    "\n",
    "\n",
    "17. **alfa(cadena)**: devuelve una cadena en la que se han cambiado las tres primeras letras `a` de `cadena` por `A`.\n",
    "\n",
    "\n",
    "18.\t**suma_cuadrados_2(a,b,c,d)**: devuelve la suma de los cuadrados de los dos números más grandes entre $a,b,c,d$.\n",
    "     * Ejemplo: la llamada `suma_cuadrados_2(2,4,1,6)` devuelve `52` ($= 4^2 + 6^2$).\n",
    "\n",
    "\n",
    "19.\t**frecuencia(texto,letra)**: devuelve el número de veces que aparece **letra** en **texto**.\n",
    "     * Ejemplo: la llamada `frecuencia(‘vaca’, ‘a’)` devuelve `2`.\n",
    "     * Ejemplo: la llamada `frecuencia(‘vaca’, ‘q’)` devuelve `0`.\n",
    "\n",
    "\n",
    "20.\t**esta_ordenado(cadena)**: devuelve `True` o `False` según las letras de `cadena` estén ordenados alfabéticamente o no, suponiendo que las letras de `cadena` son minúsculas y no tienen tildes.\n",
    "\n",
    "\n",
    "21. **mi_max(cadena)**: devuelve el mayor de los caracteres de `cadena` que está formada por letras minúsculas sin acentos.\n",
    "     * Ejemplo: la llamada `mi_max('una vaca asturiana')` devuelve `v`\n",
    "\n",
    "\n",
    "22. **sin_tildes(cadena)**: devuelve una cadena que corresponde a quitar las tildes de las vocales de `cadena`.\n",
    "     * Ejemplo: la llamada `sin_tildes('un relámpago iluminó el cielo')` devuelve `un relampago ilumino el cielo`\n",
    "\n",
    "\n",
    "23. **letra_mas_frecuente(cadena)**: devuelve la letra más frecuente en el texto `cadena`.\n",
    "\n",
    "\n",
    "24. **dinamica(n,f,a)**: devuelve el $n$-ésimo término de la sucesión definida por \n",
    "\n",
    "$$ x_0 = a, \\quad, x_{n+1} = f(x_n),$$\n",
    "\n",
    "donde $a$ es un número real y $f$ una función."
   ]
  },
  {
   "cell_type": "markdown",
   "id": "8f5c5789",
   "metadata": {},
   "source": [
    "<a id=\"u2c1.9\"></a>\n",
    "## Cuestionarios de Moodle\n",
    "\n",
    "[Funciones 1](https://moodle.upm.es/titulaciones/oficiales/mod/quiz/view.php?id=197641)\n",
    "\n",
    "[Funciones 2](https://moodle.upm.es/titulaciones/oficiales/mod/quiz/view.php?id=197642)\n",
    "\n",
    "[Funciones 3](https://moodle.upm.es/titulaciones/oficiales/mod/quiz/view.php?id=197643)\n"
   ]
  },
  {
   "cell_type": "code",
   "execution_count": null,
   "id": "ca62350f",
   "metadata": {},
   "outputs": [],
   "source": []
  }
 ],
 "metadata": {
  "kernelspec": {
   "display_name": "Python 3 (ipykernel)",
   "language": "python",
   "name": "python3"
  },
  "language_info": {
   "codemirror_mode": {
    "name": "ipython",
    "version": 3
   },
   "file_extension": ".py",
   "mimetype": "text/x-python",
   "name": "python",
   "nbconvert_exporter": "python",
   "pygments_lexer": "ipython3",
   "version": "3.10.12"
  }
 },
 "nbformat": 4,
 "nbformat_minor": 5
}

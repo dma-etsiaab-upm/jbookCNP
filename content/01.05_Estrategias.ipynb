{
 "cells": [
  {
   "cell_type": "markdown",
   "id": "fancy-extent",
   "metadata": {},
   "source": [
    "# Estrategias de programación\n",
    "\n",
    "* [Enumeración exhaustiva](#u1.c5.1)\n",
    "* [Variables que actúan como acumuladores (de texto o numéricos)](#u1.c5.2)\n",
    "* [Obtención de máximos y de mínimos](#u1.c5.3)\n",
    "* [Variables que actúan como semáforos (flags)](#u1.c5.4)\n",
    "* [Cuestionario Moodle](#u1.c5.5)\n"
   ]
  },
  {
   "cell_type": "markdown",
   "id": "cleared-garden",
   "metadata": {
    "tags": []
   },
   "source": [
    "<a id=\"u1.c5.1\"></a>\n",
    "## Enumeración exhaustiva\n",
    "\n",
    "Se recorren todas las posibilidades sin dejar ninguna sin considerar, es decir, se consideran exhautivamente todas las posibilidades.\n"
   ]
  },
  {
   "cell_type": "markdown",
   "id": "cdd08c59",
   "metadata": {},
   "source": [
    "### Ejemplos"
   ]
  },
  {
   "cell_type": "markdown",
   "id": "artificial-broadway",
   "metadata": {},
   "source": [
    "**Ejemplo 1**\n",
    "\n",
    "Imprimir las consonantes de un texto.\n",
    "\n",
    "En este ejemplo se recorren todas las letras de una variable que contiene el texto comprobando si son vocales (en minúsculas, mayúsculas, acentuadas o no). En caso negativo, se imprime."
   ]
  },
  {
   "cell_type": "code",
   "execution_count": 1,
   "id": "developed-resistance",
   "metadata": {
    "tags": [
     "remove-output"
    ]
   },
   "outputs": [
    {
     "name": "stdout",
     "output_type": "stream",
     "text": [
      "Escribe un texto: fewr\n",
      "f\n",
      "w\n",
      "r\n"
     ]
    }
   ],
   "source": [
    "texto = input('Escribe un texto: ')\n",
    "\n",
    "vocales = 'aeiouAEIOUáéíóúüÁÉÍÓÚÜ'\n",
    "\n",
    "for letra in texto:\n",
    "    if letra not in vocales:\n",
    "        print(letra)"
   ]
  },
  {
   "cell_type": "markdown",
   "id": "ambient-journalism",
   "metadata": {},
   "source": [
    "**Ejemplo 2**\n",
    "\n",
    "Buscar las vocales diferentes que aparecen en un texto.\n",
    "\n",
    "En este ejemplo se recorren todas las letras de una cadena que contiene todas las vocales y después se comprueba si cada una, sucesivamente, está en el texto, en caso afirmativo, se imprime."
   ]
  },
  {
   "cell_type": "code",
   "execution_count": null,
   "id": "necessary-money",
   "metadata": {
    "tags": [
     "remove-output"
    ]
   },
   "outputs": [],
   "source": [
    "texto = input('Escribe un texto: ')\n",
    "\n",
    "vocales = 'aeiouAEIOUáéíóúüÁÉÍÓÚÜ'\n",
    "\n",
    "for vocal in vocales:\n",
    "    if vocal in texto:\n",
    "        print(vocal)"
   ]
  },
  {
   "cell_type": "markdown",
   "id": "round-macintosh",
   "metadata": {},
   "source": [
    "**Ejemplo 3**\n",
    "\n",
    "Determinar el menor número natural $n$ tal que $4n^2-n^3 <0$."
   ]
  },
  {
   "cell_type": "markdown",
   "id": "labeled-buying",
   "metadata": {},
   "source": [
    "Versión con while (condición de ejecución)"
   ]
  },
  {
   "cell_type": "code",
   "execution_count": null,
   "id": "attractive-guarantee",
   "metadata": {},
   "outputs": [],
   "source": [
    "# probamos con los números 1, 2, 3, ... hasta encontrar \n",
    "# alguno (que será el menor) que cumpla la condición\n",
    "\n",
    "# n - variable de control\n",
    "# 4*n**2 - n**3 >= 0 condición de ejecución\n",
    "\n",
    "n = 0\n",
    "while 4*n**2 - n**3 >= 0:\n",
    "    n += 1\n",
    "print(n)"
   ]
  },
  {
   "cell_type": "markdown",
   "id": "advance-revolution",
   "metadata": {},
   "source": [
    "Versión con while True, (condición de finalización) y break:"
   ]
  },
  {
   "cell_type": "code",
   "execution_count": null,
   "id": "simplified-checkout",
   "metadata": {},
   "outputs": [],
   "source": [
    "# probamos con los números 1, 2, 3, ... hasta encontrar \n",
    "# alguno (que será el menor) que cumpla la condición\n",
    "\n",
    "# n - variable de control\n",
    "# 4*n**2 - n**3 < 0 condición de finalización\n",
    "\n",
    "n = 0\n",
    "while True:\n",
    "    n += 1\n",
    "    if 4*n**2 - n**3 < 0:\n",
    "        break\n",
    "print(n)"
   ]
  },
  {
   "cell_type": "markdown",
   "id": "cellular-rogers",
   "metadata": {},
   "source": [
    "El algoritmo que acabamos de implementar es un **algoritmo de búsqueda** - intentamos encontrar un valor que cumple una condición.\n",
    "\n",
    "Existen diferentes tareas de búsqueda que se ejecutan de manera similar, recorriendo todo el conjunto y comprobando si sus elementos cumplen la condición deseada. Este tipo de búsqueda recibe el nombre de **búsqueda exhaustiva**.\n",
    "\n",
    "Dado un conjunto ordenado que se puede recorrer elemento a elemento y una condición C, los siguientes son algunos problemas de búsqueda:\n",
    "\n",
    "- encontrar el primer elemento que cumple C\n",
    "\n",
    "- encontrar todos los elementos que cumplen C\n",
    "\n",
    "- contar cuantos elementos cumplen C\n",
    "\n",
    "- determinar si algún elemento cumple C\n",
    "\n",
    "La búsqueda exhaustiva es muy sencilla, vamos recorriendo el conjunto de candidatos y comprobando si cumplen la condición deseada."
   ]
  },
  {
   "cell_type": "markdown",
   "id": "individual-gather",
   "metadata": {
    "tags": []
   },
   "source": [
    "<a id=\"u1.c5.2\"></a>\n",
    "## Variables que actúan como acumuladores (de texto o numéricos)"
   ]
  },
  {
   "cell_type": "markdown",
   "id": "adjustable-lobby",
   "metadata": {
    "tags": []
   },
   "source": [
    "### Acumuladores de caracteres\n",
    "\n",
    "Se añaden caracteres a una variable del tipo cadena"
   ]
  },
  {
   "cell_type": "markdown",
   "id": "exterior-brand",
   "metadata": {},
   "source": [
    "\n",
    "**Ejemplo**\n",
    "\n",
    "Código para el ejemplo anterior: recorriendo las letras del texto\n",
    "\n",
    "El acumulador de texto nos permite guardar las vocales en una variable para su uso posterior si fuera necesario"
   ]
  },
  {
   "cell_type": "code",
   "execution_count": null,
   "id": "removable-bryan",
   "metadata": {
    "tags": [
     "remove-output"
    ]
   },
   "outputs": [],
   "source": [
    "texto = input('Escribe un texto: ')\n",
    "\n",
    "vocales = 'aeiouAEIOUáéíóúüÁÉÍÓÚÜ'\n",
    "\n",
    "vocales_encontradas = ''\n",
    "\n",
    "for letra in texto:\n",
    "    if (letra in vocales) and (letra not in vocales_encontradas):\n",
    "        vocales_encontradas += letra\n",
    "\n",
    "print(vocales_encontradas)"
   ]
  },
  {
   "cell_type": "markdown",
   "id": "champion-defensive",
   "metadata": {},
   "source": [
    "Código para el el anterior ejercicio: recorriendo las vocales"
   ]
  },
  {
   "cell_type": "code",
   "execution_count": null,
   "id": "suitable-scholarship",
   "metadata": {
    "tags": [
     "remove-output"
    ]
   },
   "outputs": [],
   "source": [
    "texto = input('Escribe un texto: ')\n",
    "\n",
    "vocales = 'aeiouAEIOUáéíóúüÁÉÍÓÚÜ'\n",
    "\n",
    "vocales_encontradas = ''\n",
    "\n",
    "for vocal in vocales:\n",
    "    if vocal in texto:\n",
    "        vocales_encontradas += vocal\n",
    "\n",
    "print(vocales_encontradas)"
   ]
  },
  {
   "cell_type": "markdown",
   "id": "defined-assist",
   "metadata": {},
   "source": [
    "### Acumuladores numéricos\n",
    "\n",
    "Se modifica el valor de una variable numérica con una misma operación (suma, resta, multiplicación, división, etc.) de dicho valor numérico con diferentes valores numéricos obtenidos de alguna secuencia de números\n",
    "\n"
   ]
  },
  {
   "cell_type": "markdown",
   "id": "former-being",
   "metadata": {},
   "source": [
    "**Ejemplo 1**\n",
    "\n",
    "Código para calcular el factorial de un número entero positivo"
   ]
  },
  {
   "cell_type": "code",
   "execution_count": null,
   "id": "former-sheffield",
   "metadata": {
    "tags": [
     "remove-output"
    ]
   },
   "outputs": [],
   "source": [
    "n = int(input('Escibe un número entero positivo: '))\n",
    "\n",
    "factorial = 1\n",
    "\n",
    "for valor in range(1, n+1):\n",
    "    factorial *= valor\n",
    "\n",
    "print('El factorial del númeo entero positivo ' + str(n) + ' es ' + str(factorial))"
   ]
  },
  {
   "cell_type": "markdown",
   "id": "crazy-siemens",
   "metadata": {},
   "source": [
    "**Ejemplo 2**\n",
    "\n",
    "Cálculo del cuadrado de un número entero como una suma"
   ]
  },
  {
   "cell_type": "code",
   "execution_count": null,
   "id": "informational-desire",
   "metadata": {
    "tags": [
     "remove-output"
    ]
   },
   "outputs": [],
   "source": [
    "m = int(input('Escribe un número entero positivo: '))\n",
    "\n",
    "cuadrado = 0\n",
    "\n",
    "for iteracion in range(m):\n",
    "    cuadrado += m\n",
    "\n",
    "print('El cuadrado del número entero positivo ' + str(m) + ', calculado como una suma reiterada ' + str(m) + ' veces, es ' + str(cuadrado) + '.')"
   ]
  },
  {
   "cell_type": "markdown",
   "id": "joined-victoria",
   "metadata": {},
   "source": [
    "<a id=\"u1.c5.3\"></a>\n",
    "## Obtención de máximos y de mínimos"
   ]
  },
  {
   "cell_type": "markdown",
   "id": "cordless-introduction",
   "metadata": {},
   "source": [
    "Encontrar, con una condición de desigualdad, el valor máximo o el valor mínimo de una variable, que puede tomar varios valores."
   ]
  },
  {
   "cell_type": "markdown",
   "id": "representative-questionnaire",
   "metadata": {},
   "source": [
    "**Ejemplo: numéricos**\n",
    "\n",
    "Determinar el máximo de una colección de `N` números que se le piden al usuario por el teclado"
   ]
  },
  {
   "cell_type": "markdown",
   "id": "applicable-facial",
   "metadata": {},
   "source": []
  },
  {
   "cell_type": "code",
   "execution_count": null,
   "id": "attended-feeding",
   "metadata": {
    "tags": [
     "remove-output"
    ]
   },
   "outputs": [],
   "source": [
    "N = int(input('¿Cuántos números va a introducir? \\n'))\n",
    "for i in range(1,N + 1):\n",
    "    temp = int(input('Introduzca el número n' + str(i)+ ': \\n'))\n",
    "    if i == 1:\n",
    "        máx = temp\n",
    "    else:\n",
    "        if temp > máx:\n",
    "            máx = temp\n",
    "\n",
    "print(' ')\n",
    "print('El mayor número es', máx) "
   ]
  },
  {
   "cell_type": "markdown",
   "id": "speaking-techno",
   "metadata": {},
   "source": [
    "**Ejemplo: alfabéticos**\n",
    "\n",
    "Determinar la letra \"mayor\" y la letra \"menor\", por orden alfabético, de una palabra. En este caso consideraremos que las letras son minúsculas y no están acentuadas. La palabra es una cadena cuyos elementos son letras minúsculas sin tildes del castellano."
   ]
  },
  {
   "cell_type": "code",
   "execution_count": null,
   "id": "known-stage",
   "metadata": {
    "tags": [
     "remove-output"
    ]
   },
   "outputs": [],
   "source": [
    "palabra = input('Escribe una palabra aunque no tenga sentido en minúsculas y sin tildes: ')\n",
    "\n",
    "menor = 'z'\n",
    "mayor = 'a'\n",
    "\n",
    "for letra in palabra:\n",
    "    if letra < menor:\n",
    "        menor = letra\n",
    "    if letra > mayor:\n",
    "        mayor = letra\n",
    "        \n",
    "print('La letra \"menor\" es ' + menor + ', y la letra \"mayor\" es ' + mayor)"
   ]
  },
  {
   "cell_type": "markdown",
   "id": "suburban-diploma",
   "metadata": {},
   "source": [
    "__Obsérvese como se inicia la variable `menor` con la letra \"mayor\" y la variable `mayor` con la letra \"menor\"__"
   ]
  },
  {
   "cell_type": "markdown",
   "id": "prime-satin",
   "metadata": {},
   "source": [
    "<a id=\"u1.c5.4\"></a>\n",
    "## Variables que actuan como semáforos (flags)\n",
    "\n"
   ]
  },
  {
   "cell_type": "markdown",
   "id": "comprehensive-million",
   "metadata": {},
   "source": [
    "- Permiten un control más fino del orden de ejecución de las líneas de un programa. \n",
    "- Son variables que toman valores binarios y actuan como semáforos: cuando están en un estado, se realiza una operación, cuando están en el estado contrario, se realiza otra operación distinta."
   ]
  },
  {
   "cell_type": "markdown",
   "id": "three-burke",
   "metadata": {},
   "source": [
    "**Ejemplo 1**\n",
    "\n",
    "Programa que determina si las letras de una palabra (subcadena) están ordenadas alfabéticamente."
   ]
  },
  {
   "cell_type": "code",
   "execution_count": null,
   "id": "offshore-saudi",
   "metadata": {
    "tags": [
     "remove-output"
    ]
   },
   "outputs": [],
   "source": [
    "texto = input('Escribe un texto con letras minúsculas, sin tildes y sin espacios: ')\n",
    "\n",
    "for indice in range(len(texto)-1):\n",
    "    if texto[indice] <= texto[indice+1]:\n",
    "        semaforo = True\n",
    "    else:\n",
    "        semaforo = False\n",
    "        break\n",
    "        \n",
    "if semaforo:\n",
    "    print('Las letras están en orden alfabético')\n",
    "else:\n",
    "    print('Las letras no están en orden alfabético')"
   ]
  },
  {
   "cell_type": "markdown",
   "id": "described-safety",
   "metadata": {},
   "source": [
    "**Ejemplo 2**\n",
    "\n",
    "Otro programa que hace lo mismo con menos líneas de código"
   ]
  },
  {
   "cell_type": "code",
   "execution_count": null,
   "id": "certified-plaza",
   "metadata": {
    "tags": [
     "remove-output"
    ]
   },
   "outputs": [],
   "source": [
    "texto = input('Escribe un texto con letras minśuculas y sin espacios: ')\n",
    "\n",
    "semaforo = True\n",
    "\n",
    "for indice in range(len(texto)-1):\n",
    "    if texto[indice] > texto[indice+1]:\n",
    "        semaforo = False\n",
    "        break\n",
    "        \n",
    "if semaforo:\n",
    "    print('Las letras están en orden alfabético')\n",
    "else:\n",
    "    print('Las letras no están en orden alfabético')"
   ]
  },
  {
   "cell_type": "markdown",
   "id": "compliant-twelve",
   "metadata": {},
   "source": [
    "**Ejemplo 2**\n",
    "\n",
    "Suponga que `cadena` es una cadena de letras minúsculas sin tildes.\n",
    "\n",
    "Escriba un programa que imprima la subcadena más larga de `cadena`, de forma que los elementos de esta subcadena estén en orden alfabético. Por ejemplo, si `cadena = 'azcbobobegghakl'`, entonces el programa de imprimir:\n",
    "\n",
    "    La subcadena más larga en orden alfabético es: beggh\n",
    "\n",
    "En el caso de que tengamos varias subcadenas con la máxima longitud posible, se deberá imprimir la primera en aparecer en la variable `cadena`. Por ejemplo, si `cadena = 'abcbcd'`, el programa deberá imprimir \n",
    "\n",
    "    La subcadena más larga en orden alfabético es: abc"
   ]
  },
  {
   "cell_type": "code",
   "execution_count": null,
   "id": "accessory-pillow",
   "metadata": {},
   "outputs": [],
   "source": [
    "#cadena = 'azcbobobegghakl' # beggh\n",
    "cadena = 'abcbcd' # abc\n",
    "#cadena = 'betlsodsesftwlxj' # bet \n",
    "#cadena = 'dxxxjmrw' # dxx\n",
    "#cadena = 'cfnpznhnllup' # cfnpz\n",
    "#cadena = 'xietxyxawjih' # etxy\n",
    "#cadena = 'wyygintvfcdxqo' # gintv"
   ]
  },
  {
   "cell_type": "code",
   "execution_count": null,
   "id": "paperback-obligation",
   "metadata": {},
   "outputs": [],
   "source": [
    "respuesta = ''\n",
    "temp = ''\n",
    "\n",
    "for p in range(len(cadena)):\n",
    "    temp = cadena[p]\n",
    "    semaforo = True\n",
    "    for n in range(p, len(cadena)-1):\n",
    "        if cadena[n] <= cadena[n+1] and semaforo == True: # flag\n",
    "            temp += cadena[n+1]\n",
    "        else:\n",
    "            semaforo = False        \n",
    "    if len(temp) > len(respuesta):\n",
    "        respuesta = temp\n",
    "print('La subcadena más larga en orden alfabético es: ' + respuesta)  "
   ]
  },
  {
   "cell_type": "markdown",
   "id": "certain-butter",
   "metadata": {},
   "source": [
    "Observad como actua el código del anterior programa si quitamos la variable auxiliar `semaforo`"
   ]
  },
  {
   "cell_type": "code",
   "execution_count": null,
   "id": "suburban-logan",
   "metadata": {},
   "outputs": [],
   "source": [
    "respuesta = ''\n",
    "temp = ''\n",
    "\n",
    "for p in range(len(cadena)):\n",
    "    temp = cadena[p]\n",
    "    for n in range(p, len(cadena)-1):\n",
    "        if cadena[n] <= cadena[n+1]:\n",
    "            temp += cadena[n+1]        \n",
    "    if len(temp) > len(respuesta):\n",
    "        respuesta = temp\n",
    "        #print(temp)\n",
    "print('La subcadena más larga en orden alfabético es: ' + respuesta)  "
   ]
  },
  {
   "cell_type": "markdown",
   "id": "rental-seventh",
   "metadata": {},
   "source": [
    "<a id=\"u1.c5.5\"></a>\n",
    "## Cuestionario Moodle\n",
    "\n",
    "[Cuestionario Código con bifurcaciones](https://moodle.upm.es/titulaciones/oficiales/mod/quiz/view.php?id=230381)\n",
    "\n",
    "[Cuestionario Código con bifurcaciones e iteraciones](https://moodle.upm.es/titulaciones/oficiales/mod/quiz/view.php?id=230382)"
   ]
  }
 ],
 "metadata": {
  "kernelspec": {
   "display_name": "Python 3 (ipykernel)",
   "language": "python",
   "name": "python3"
  },
  "language_info": {
   "codemirror_mode": {
    "name": "ipython",
    "version": 3
   },
   "file_extension": ".py",
   "mimetype": "text/x-python",
   "name": "python",
   "nbconvert_exporter": "python",
   "pygments_lexer": "ipython3",
   "version": "3.10.6"
  }
 },
 "nbformat": 4,
 "nbformat_minor": 5
}

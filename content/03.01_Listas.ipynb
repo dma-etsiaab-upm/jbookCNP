{
 "cells": [
  {
   "cell_type": "markdown",
   "id": "critical-lodge",
   "metadata": {
    "tags": []
   },
   "source": [
    "# Listas\n",
    "\n",
    "* [Definición y creación de listas](#u3c1.1)\n",
    "* [Operaciones con listas](#u3c1.2)\n",
    "* [Funciones para listas](#u3c1.3)\n",
    "* [Iteración con listas](#u3c1.4)\n",
    "* [Métodos para listas](#u3c1.5)\n",
    "* [Efectos colaterales del uso de listas](#u3c1.6)\n",
    "* [Cadenas y listas](#u3c1.7)\n",
    "* [Ejemplos](#u3c1.8)\n",
    "* [Ejercicios](#u3c1.9)\n",
    "* [Cuestionario de Moodle](#u3c1.10)\n",
    "\n",
    "__Referencia__\n",
    "\n",
    "https://docs.python.org/3.5/tutorial/introduction.html#lists\n",
    "\n",
    "\n"
   ]
  },
  {
   "cell_type": "markdown",
   "id": "unsigned-determination",
   "metadata": {},
   "source": [
    "<a id=\"u3c1.1\"></a>\n",
    "## Definición y creación de listas\n",
    "\n",
    "\n",
    "\n",
    "Una lista es un conjunto ordenado de objetos que se escriben separados por coma entre corchetes\n",
    "\n",
    "    L = [0,  2, -1, 3]\n",
    "    \n",
    "    M = ['hola', 'buenas', 'hi', 'hello']\n",
    "    \n",
    "    N = [2, 'hola', True, [2, 6]]\n",
    "\n",
    "\n",
    "\n",
    "Las listas son estructuras de datos que permiten almacenar diferentes tipos de objetos (numéricos, de texto, binarios o listas) secuencialmente:\n",
    "- no son escalares: tienen elementos (se parecen a las cadenas y en este sentido son diferentes de los tipos numéricos)\n",
    "- los elementos se ordenan secuencialmente por su posición como en las cadenas\n",
    "- las podemos modificar: son mutables \n",
    "\n",
    "Como las cadenas, las listas están formadas por elementos ordenados secuencialmente. Pero a diferencia de las cadenas, los elmentos de las listas pueden se de cualquier tipo y estas, las listas, son nmutables (las cadenas son imutables).\n"
   ]
  },
  {
   "cell_type": "code",
   "execution_count": 2,
   "id": "eleven-shore",
   "metadata": {},
   "outputs": [],
   "source": [
    "l0 = []\n",
    "l1 = [1,6,8]\n",
    "l2 = [1, 'ab', 3, 8.0, True]\n",
    "l3 = [7, [9, 1, 7], 'mn']"
   ]
  },
  {
   "cell_type": "code",
   "execution_count": null,
   "id": "southeast-doubt",
   "metadata": {},
   "outputs": [],
   "source": [
    "l0"
   ]
  },
  {
   "cell_type": "code",
   "execution_count": null,
   "id": "interim-petite",
   "metadata": {},
   "outputs": [],
   "source": [
    "l1"
   ]
  },
  {
   "cell_type": "code",
   "execution_count": null,
   "id": "metallic-rover",
   "metadata": {},
   "outputs": [],
   "source": [
    "l2"
   ]
  },
  {
   "cell_type": "code",
   "execution_count": null,
   "id": "regional-professional",
   "metadata": {},
   "outputs": [],
   "source": [
    "l3"
   ]
  },
  {
   "cell_type": "code",
   "execution_count": null,
   "id": "moral-documentary",
   "metadata": {},
   "outputs": [],
   "source": [
    "type(l0)"
   ]
  },
  {
   "cell_type": "markdown",
   "id": "b41c9889",
   "metadata": {},
   "source": [
    "__*Las listas son mutables*__"
   ]
  },
  {
   "cell_type": "code",
   "execution_count": 4,
   "id": "cb777d19",
   "metadata": {},
   "outputs": [],
   "source": [
    "l1[0]='a'"
   ]
  },
  {
   "cell_type": "code",
   "execution_count": 5,
   "id": "6d43a3a8",
   "metadata": {},
   "outputs": [
    {
     "data": {
      "text/plain": [
       "['a', 6, 8]"
      ]
     },
     "execution_count": 5,
     "metadata": {},
     "output_type": "execute_result"
    }
   ],
   "source": [
    "l1"
   ]
  },
  {
   "cell_type": "markdown",
   "id": "633fe0cb",
   "metadata": {},
   "source": [
    "Con cadenas esta operación arroja un error"
   ]
  },
  {
   "cell_type": "code",
   "execution_count": 6,
   "id": "3695f722",
   "metadata": {},
   "outputs": [
    {
     "ename": "TypeError",
     "evalue": "'str' object does not support item assignment",
     "output_type": "error",
     "traceback": [
      "\u001b[0;31m---------------------------------------------------------------------------\u001b[0m",
      "\u001b[0;31mTypeError\u001b[0m                                 Traceback (most recent call last)",
      "Cell \u001b[0;32mIn [6], line 2\u001b[0m\n\u001b[1;32m      1\u001b[0m s1 \u001b[38;5;241m=\u001b[39m \u001b[38;5;124m'\u001b[39m\u001b[38;5;124mab\u001b[39m\u001b[38;5;124m'\u001b[39m\n\u001b[0;32m----> 2\u001b[0m \u001b[43ms1\u001b[49m\u001b[43m[\u001b[49m\u001b[38;5;241;43m0\u001b[39;49m\u001b[43m]\u001b[49m \u001b[38;5;241m=\u001b[39m \u001b[38;5;124m'\u001b[39m\u001b[38;5;124mx\u001b[39m\u001b[38;5;124m'\u001b[39m\n\u001b[1;32m      3\u001b[0m s1\n",
      "\u001b[0;31mTypeError\u001b[0m: 'str' object does not support item assignment"
     ]
    }
   ],
   "source": [
    "s1 = 'ab'\n",
    "s1[0] = 'x'\n",
    "s1"
   ]
  },
  {
   "cell_type": "markdown",
   "id": "rapid-consent",
   "metadata": {},
   "source": [
    "### Creación de listas por iteración\n",
    "\n",
    "Las listas se pueden crear escribiendo todos los elementos que la contienen pero también se pueden crear usando la iteración:"
   ]
  },
  {
   "cell_type": "code",
   "execution_count": null,
   "id": "vital-banana",
   "metadata": {},
   "outputs": [],
   "source": [
    "l6 = [x**3 for x in range(7)]\n",
    "l6"
   ]
  },
  {
   "cell_type": "code",
   "execution_count": null,
   "id": "vocational-giving",
   "metadata": {},
   "outputs": [],
   "source": [
    "l7 = [20 + 0.001*n for n in range(6)]\n",
    "l7"
   ]
  },
  {
   "cell_type": "code",
   "execution_count": null,
   "id": "medieval-bridge",
   "metadata": {},
   "outputs": [],
   "source": [
    "[x**3 for x in l7]"
   ]
  },
  {
   "cell_type": "markdown",
   "id": "plain-sandwich",
   "metadata": {},
   "source": [
    "Lo que estamos haciendo es lo siguiente:\n",
    "\n",
    "Sea `f` una función e `I` un iterable. \n",
    "\n",
    "Con la instrucción\n",
    "\n",
    "     [f(u) for u in I (if condición)]\n",
    "     \n",
    "se define la lista\n",
    "\n",
    "    [f(u1), f(u2),..., f(um)]\n",
    "    \n",
    "siendo `u1`, `u2`,...,`um` los elementos del iterable `I` para los cuales la condición es `True`.\n",
    "\n",
    "  "
   ]
  },
  {
   "cell_type": "markdown",
   "id": "massive-elite",
   "metadata": {},
   "source": [
    "**Ejemplos**\n"
   ]
  },
  {
   "cell_type": "code",
   "execution_count": null,
   "id": "graduate-collins",
   "metadata": {},
   "outputs": [],
   "source": [
    "[i**2 for i in range(8)]"
   ]
  },
  {
   "cell_type": "code",
   "execution_count": null,
   "id": "endless-detective",
   "metadata": {},
   "outputs": [],
   "source": [
    "[2*a for a in 'champiñón']"
   ]
  },
  {
   "cell_type": "code",
   "execution_count": null,
   "id": "concrete-brief",
   "metadata": {},
   "outputs": [],
   "source": [
    "[i**2 for i in range(20) if i%5 == 1]"
   ]
  },
  {
   "cell_type": "code",
   "execution_count": null,
   "id": "enabling-premises",
   "metadata": {},
   "outputs": [],
   "source": [
    "[[i,i + 1] for i in range(5)]"
   ]
  },
  {
   "cell_type": "code",
   "execution_count": null,
   "id": "august-greenhouse",
   "metadata": {},
   "outputs": [],
   "source": [
    "[letra for letra in 'esqueleto' if letra in 'aeiou']"
   ]
  },
  {
   "cell_type": "markdown",
   "id": "incorporated-senegal",
   "metadata": {},
   "source": [
    "¿Qué se hace en las líneas siguientes?"
   ]
  },
  {
   "cell_type": "code",
   "execution_count": null,
   "id": "logical-april",
   "metadata": {},
   "outputs": [],
   "source": [
    "a, b = 0, 1\n",
    "N = 10\n",
    "h = (b - a)/N\n",
    "\n",
    "L = [a + k*h for k in range(N + 1)]\n",
    "L"
   ]
  },
  {
   "cell_type": "code",
   "execution_count": null,
   "id": "close-symbol",
   "metadata": {},
   "outputs": [],
   "source": [
    "def f(x):\n",
    "    return x**3 - 3*x**2 + 1"
   ]
  },
  {
   "cell_type": "code",
   "execution_count": null,
   "id": "aerial-insurance",
   "metadata": {},
   "outputs": [],
   "source": [
    "[f(u) for u in L]"
   ]
  },
  {
   "cell_type": "markdown",
   "id": "spoken-marijuana",
   "metadata": {},
   "source": [
    "<a id=\"u3c1.2\"></a>\n",
    "## Operaciones con listas\n",
    "\n"
   ]
  },
  {
   "cell_type": "markdown",
   "id": "expired-congo",
   "metadata": {},
   "source": [
    "### Concatenación\n",
    "\n",
    "Usaremos el símbolo `+`. Se dice que es un símblo sobrecargado ('overloaded'): tiene diferentes significados según el contexto."
   ]
  },
  {
   "cell_type": "code",
   "execution_count": null,
   "id": "raised-birth",
   "metadata": {},
   "outputs": [],
   "source": [
    "l1 + l2 + l3"
   ]
  },
  {
   "cell_type": "code",
   "execution_count": null,
   "id": "neural-eight",
   "metadata": {},
   "outputs": [],
   "source": [
    "M = [2, 1, 5]\n",
    "N = ['h', 'o', 'l', 'a']\n",
    "\n",
    "M + N"
   ]
  },
  {
   "cell_type": "markdown",
   "id": "a30fec8c",
   "metadata": {},
   "source": [
    "Obserbad el siguiente código. Arroja diferentes resultados según la línea que utilicemos al cambiar de lugar el símbolo `#`"
   ]
  },
  {
   "cell_type": "code",
   "execution_count": null,
   "id": "e91d679c",
   "metadata": {},
   "outputs": [],
   "source": [
    "salida = []\n",
    "\n",
    "for letra in 'hola':\n",
    "    #salida += [letra]\n",
    "    #salida = salida + [letra]\n",
    "    salida = [letra] + salida\n",
    "\n",
    "salida"
   ]
  },
  {
   "cell_type": "markdown",
   "id": "periodic-receipt",
   "metadata": {},
   "source": [
    "### Repetición"
   ]
  },
  {
   "cell_type": "code",
   "execution_count": null,
   "id": "handy-animation",
   "metadata": {},
   "outputs": [],
   "source": [
    "7 * l1"
   ]
  },
  {
   "cell_type": "markdown",
   "id": "dimensional-saint",
   "metadata": {},
   "source": [
    "### Obtener un elemento"
   ]
  },
  {
   "cell_type": "code",
   "execution_count": null,
   "id": "later-tactics",
   "metadata": {},
   "outputs": [],
   "source": [
    "l2"
   ]
  },
  {
   "cell_type": "code",
   "execution_count": null,
   "id": "unusual-butter",
   "metadata": {},
   "outputs": [],
   "source": [
    "l2[1]"
   ]
  },
  {
   "cell_type": "code",
   "execution_count": null,
   "id": "primary-virus",
   "metadata": {},
   "outputs": [],
   "source": [
    "l2[1][-1]"
   ]
  },
  {
   "cell_type": "code",
   "execution_count": null,
   "id": "particular-track",
   "metadata": {},
   "outputs": [],
   "source": [
    "l2[-1]"
   ]
  },
  {
   "cell_type": "code",
   "execution_count": null,
   "id": "perceived-coffee",
   "metadata": {},
   "outputs": [],
   "source": [
    "l2[-1][-1]"
   ]
  },
  {
   "cell_type": "markdown",
   "id": "atmospheric-survivor",
   "metadata": {},
   "source": [
    "Se produce un error si no hay elemento con el índice indicado "
   ]
  },
  {
   "cell_type": "code",
   "execution_count": null,
   "id": "alert-nurse",
   "metadata": {},
   "outputs": [],
   "source": [
    "l2[7]"
   ]
  },
  {
   "cell_type": "markdown",
   "id": "0bff7b97",
   "metadata": {},
   "source": [
    "__Observación:__\n",
    "\n",
    "El tipo del objeto que devuelve la anterior operación depende el tipo del elemento que tiene el índice pedido."
   ]
  },
  {
   "cell_type": "markdown",
   "id": "fifteen-organizer",
   "metadata": {},
   "source": [
    "### Operador corte (troceado, \"slicing\"): extraer una sublista\n",
    "\n",
    "__Observación:__\n",
    "Esta operación siempre devuelve un objeto de tipo lista "
   ]
  },
  {
   "cell_type": "code",
   "execution_count": null,
   "id": "buried-causing",
   "metadata": {},
   "outputs": [],
   "source": [
    "l1 = [1, 6, 8]\n",
    "l2 = [1, 'ab', 3]\n",
    "l3 = [7, [9, 1, 7], 'mn']"
   ]
  },
  {
   "cell_type": "code",
   "execution_count": null,
   "id": "processed-importance",
   "metadata": {},
   "outputs": [],
   "source": [
    "l1[2:]"
   ]
  },
  {
   "cell_type": "code",
   "execution_count": null,
   "id": "suspected-married",
   "metadata": {},
   "outputs": [],
   "source": [
    "l2[:-1]"
   ]
  },
  {
   "cell_type": "code",
   "execution_count": null,
   "id": "acquired-lying",
   "metadata": {},
   "outputs": [],
   "source": [
    "l3[1:2]"
   ]
  },
  {
   "cell_type": "code",
   "execution_count": null,
   "id": "beginning-aggregate",
   "metadata": {},
   "outputs": [],
   "source": [
    "l3[1]"
   ]
  },
  {
   "cell_type": "markdown",
   "id": "martial-mouse",
   "metadata": {},
   "source": [
    "Elegir los elementos de índice par"
   ]
  },
  {
   "cell_type": "code",
   "execution_count": null,
   "id": "billion-holly",
   "metadata": {},
   "outputs": [],
   "source": [
    "L = 7*l1\n",
    "L"
   ]
  },
  {
   "cell_type": "code",
   "execution_count": null,
   "id": "raised-discrimination",
   "metadata": {},
   "outputs": [],
   "source": [
    "L[::2]"
   ]
  },
  {
   "cell_type": "markdown",
   "id": "alive-notification",
   "metadata": {},
   "source": [
    "Elegir los elementos de índice múltiplo de 3"
   ]
  },
  {
   "cell_type": "code",
   "execution_count": null,
   "id": "incorporated-firmware",
   "metadata": {},
   "outputs": [],
   "source": [
    "L[::3]"
   ]
  },
  {
   "cell_type": "markdown",
   "id": "twelve-defendant",
   "metadata": {},
   "source": [
    "Invertir un lista"
   ]
  },
  {
   "cell_type": "code",
   "execution_count": null,
   "id": "agreed-intellectual",
   "metadata": {},
   "outputs": [],
   "source": [
    "l1[::-1]"
   ]
  },
  {
   "cell_type": "markdown",
   "id": "together-factory",
   "metadata": {},
   "source": [
    "### Pertenencia"
   ]
  },
  {
   "cell_type": "code",
   "execution_count": null,
   "id": "ignored-gathering",
   "metadata": {},
   "outputs": [],
   "source": [
    "l1 = [1, 6, 8]\n",
    "l2 = [1, 'ab', 3]\n",
    "l3 = [7, [9, 1, 7], 'mn']"
   ]
  },
  {
   "cell_type": "code",
   "execution_count": null,
   "id": "polar-pipeline",
   "metadata": {
    "scrolled": true
   },
   "outputs": [],
   "source": [
    "'a' in l1"
   ]
  },
  {
   "cell_type": "code",
   "execution_count": null,
   "id": "938c66ac-f799-49ee-be77-c0bfcd926c09",
   "metadata": {},
   "outputs": [],
   "source": []
  },
  {
   "cell_type": "code",
   "execution_count": null,
   "id": "later-photography",
   "metadata": {},
   "outputs": [],
   "source": [
    "'ab' not in l2"
   ]
  },
  {
   "cell_type": "code",
   "execution_count": null,
   "id": "global-maximum",
   "metadata": {},
   "outputs": [],
   "source": [
    "1 in l3"
   ]
  },
  {
   "cell_type": "markdown",
   "id": "seventh-disco",
   "metadata": {},
   "source": [
    "<a id=\"u3c1.3\"></a>\n",
    "## Funciones para listas\n",
    "\n"
   ]
  },
  {
   "cell_type": "markdown",
   "id": "stupid-turner",
   "metadata": {},
   "source": [
    "### Longitud"
   ]
  },
  {
   "cell_type": "code",
   "execution_count": null,
   "id": "economic-monaco",
   "metadata": {},
   "outputs": [],
   "source": [
    "len(l1)"
   ]
  },
  {
   "cell_type": "code",
   "execution_count": null,
   "id": "complimentary-hungary",
   "metadata": {},
   "outputs": [],
   "source": [
    "len(l2)"
   ]
  },
  {
   "cell_type": "code",
   "execution_count": null,
   "id": "embedded-shelf",
   "metadata": {},
   "outputs": [],
   "source": [
    "len(l3)"
   ]
  },
  {
   "cell_type": "markdown",
   "id": "amended-dover",
   "metadata": {},
   "source": [
    "### Max y min\n",
    "\n",
    "Los elementos del objeto deben de ser comparables; deben de ser del mismo tipo "
   ]
  },
  {
   "cell_type": "code",
   "execution_count": null,
   "id": "successful-space",
   "metadata": {},
   "outputs": [],
   "source": [
    "l1 = [1, 6, 8]\n",
    "l2 = [1, 'ab', 3]\n",
    "l3 = [7, [9, 1, 7], 'mn']"
   ]
  },
  {
   "cell_type": "code",
   "execution_count": null,
   "id": "recent-donna",
   "metadata": {},
   "outputs": [],
   "source": [
    "max(l1)"
   ]
  },
  {
   "cell_type": "code",
   "execution_count": null,
   "id": "complex-twelve",
   "metadata": {},
   "outputs": [],
   "source": [
    "min(l2)"
   ]
  },
  {
   "cell_type": "code",
   "execution_count": null,
   "id": "aboriginal-conducting",
   "metadata": {},
   "outputs": [],
   "source": [
    "l4 = ['ab', '1cb', 'W']\n",
    "min(l4)"
   ]
  },
  {
   "cell_type": "code",
   "execution_count": null,
   "id": "sharing-teach",
   "metadata": {},
   "outputs": [],
   "source": [
    "l4 = ['ab', 'W']\n",
    "min(l4)"
   ]
  },
  {
   "cell_type": "markdown",
   "id": "stunning-phenomenon",
   "metadata": {},
   "source": [
    "### Ordenar\n",
    "\n",
    "La función del nucleo de Python `sorted()` proporciona un procedimiento para ordenar listas si están formadas por elementos del mismo tipo. Por ejemplo: todos son cadenas, todos son números."
   ]
  },
  {
   "cell_type": "code",
   "execution_count": null,
   "id": "advisory-heath",
   "metadata": {},
   "outputs": [],
   "source": [
    "l1 = [1, 8, 6, 0]\n",
    "l2 = [1, 'ab', 3]\n",
    "l4 = ['ab', '1cb', 'W', 'x', 'ñ']"
   ]
  },
  {
   "cell_type": "code",
   "execution_count": null,
   "id": "statutory-blackberry",
   "metadata": {},
   "outputs": [],
   "source": [
    "sorted(l1)"
   ]
  },
  {
   "cell_type": "code",
   "execution_count": null,
   "id": "coated-continent",
   "metadata": {},
   "outputs": [],
   "source": [
    "sorted(l2)"
   ]
  },
  {
   "cell_type": "code",
   "execution_count": null,
   "id": "italian-regression",
   "metadata": {},
   "outputs": [],
   "source": [
    "sorted(l4)"
   ]
  },
  {
   "cell_type": "code",
   "execution_count": null,
   "id": "initial-melbourne",
   "metadata": {},
   "outputs": [],
   "source": [
    "l1"
   ]
  },
  {
   "cell_type": "markdown",
   "id": "united-steam",
   "metadata": {},
   "source": [
    "<a id=\"u3c1.4\"></a>\n",
    "## Iteración con listas\n",
    "\n",
    "Las listas son variables _iterables_, veremos algunos ejemplos de su uso\n",
    "\n"
   ]
  },
  {
   "cell_type": "markdown",
   "id": "parallel-monster",
   "metadata": {},
   "source": [
    "Un ejemplo: sumar los dígitos de un número entero positivo"
   ]
  },
  {
   "cell_type": "code",
   "execution_count": null,
   "id": "floral-stable",
   "metadata": {},
   "outputs": [],
   "source": [
    "n = 743"
   ]
  },
  {
   "cell_type": "code",
   "execution_count": null,
   "id": "stupid-interview",
   "metadata": {},
   "outputs": [],
   "source": [
    "# sumar los dígitos de un entero introducido con una cadena\n",
    "\n",
    "l = []\n",
    "for p in str(n):\n",
    "    l += [int(p)]\n",
    "l"
   ]
  },
  {
   "cell_type": "code",
   "execution_count": null,
   "id": "united-salmon",
   "metadata": {},
   "outputs": [],
   "source": [
    "# ahora se suman los elementos de la lista formada por enteros positivos\n",
    "suma = 0\n",
    "for p in l:\n",
    "    suma += p\n",
    "suma"
   ]
  },
  {
   "cell_type": "markdown",
   "id": "seventh-netherlands",
   "metadata": {},
   "source": [
    "Función para sumar los dígitos de un número natural "
   ]
  },
  {
   "cell_type": "code",
   "execution_count": null,
   "id": "every-operator",
   "metadata": {},
   "outputs": [],
   "source": [
    "# función para sumar los dígitos de un número entero positivo \n",
    "\n",
    "def suma_digitos(entero):\n",
    "    temp = []\n",
    "    rsltd = 0\n",
    "    for p in str(entero):\n",
    "        temp += [int(p)]\n",
    "    for q in temp:\n",
    "        rsltd += q\n",
    "    return rsltd\n",
    "\n",
    "z = suma_digitos(346)\n",
    "z"
   ]
  },
  {
   "cell_type": "markdown",
   "id": "damaged-newman",
   "metadata": {},
   "source": [
    "Otro ejemplo: formar una lista con los tipos de los elementos de una lista"
   ]
  },
  {
   "cell_type": "code",
   "execution_count": null,
   "id": "desperate-stephen",
   "metadata": {},
   "outputs": [],
   "source": [
    "l3 = [7, [9, 1, 7], 'mn']"
   ]
  },
  {
   "cell_type": "code",
   "execution_count": null,
   "id": "occasional-package",
   "metadata": {},
   "outputs": [],
   "source": [
    "# formar una tupla con los tipos de los elementos de una tupla\n",
    "rsltd = []\n",
    "for p in l3:\n",
    "    rsltd += [type(p)]\n",
    "rsltd"
   ]
  },
  {
   "cell_type": "markdown",
   "id": "resident-doctrine",
   "metadata": {},
   "source": [
    "Un último ejemplo:\n",
    "\n",
    "Considerar una lista formada por enteros positivos, cadenas o listas. Generar una lista con la longitud de los elementos de una lista del tipo anterior asignando la suma de sus dígitos a los enteros de dicha lista."
   ]
  },
  {
   "cell_type": "code",
   "execution_count": null,
   "id": "primary-stockholm",
   "metadata": {},
   "outputs": [],
   "source": [
    "l5 = ['abs', 123, 430, '', ['a', 1, 3]]"
   ]
  },
  {
   "cell_type": "code",
   "execution_count": null,
   "id": "sitting-procedure",
   "metadata": {},
   "outputs": [],
   "source": [
    "# formar una lista con la longitud de los elementos de una lista\n",
    "# la lista debe estar formada por cadenas, listas o enteros positivos\n",
    "# si es un entero posotivo da la suma de los dígitos del entero\n",
    "\n",
    "l = []\n",
    "for p in l5:\n",
    "    if type(p) == int:\n",
    "        l += [suma_digitos(p)]\n",
    "    else:\n",
    "        l += [len(p)]\n",
    "    \n",
    "l"
   ]
  },
  {
   "cell_type": "markdown",
   "id": "alone-adaptation",
   "metadata": {},
   "source": [
    "<a id=\"u3c1.5\"></a>\n",
    "## Métodos para listas\n",
    "\n",
    "https://docs.python.org/3.5/tutorial/datastructures.html#more-on-lists\n",
    "\n",
    "Los métodos son funciones de un tipo específico o de varios tipos. \n",
    "\n",
    "Lo veremos más adelante cuando veamos métodos para cadenas. En este sentido es similar a la operación `+`: es una operación para los tipos numéricos pero también para cadenas y listas"
   ]
  },
  {
   "cell_type": "markdown",
   "id": "involved-yesterday",
   "metadata": {},
   "source": [
    "### Índice"
   ]
  },
  {
   "cell_type": "markdown",
   "id": "pleased-duration",
   "metadata": {},
   "source": [
    "Devuelve el índice de la primera vez que aparece el elemento especificado. Si este elemento no existe, se produce un error "
   ]
  },
  {
   "cell_type": "code",
   "execution_count": null,
   "id": "familiar-lightning",
   "metadata": {},
   "outputs": [],
   "source": [
    "l1 = [1, 6, 8, 1]"
   ]
  },
  {
   "cell_type": "code",
   "execution_count": null,
   "id": "pacific-spine",
   "metadata": {},
   "outputs": [],
   "source": [
    "[1, 6, 8, 1].index(1)"
   ]
  },
  {
   "cell_type": "code",
   "execution_count": null,
   "id": "quiet-mercury",
   "metadata": {
    "scrolled": true
   },
   "outputs": [],
   "source": [
    "l1.index(6)"
   ]
  },
  {
   "cell_type": "code",
   "execution_count": null,
   "id": "solar-monitor",
   "metadata": {},
   "outputs": [],
   "source": [
    "l1.index(3)"
   ]
  },
  {
   "cell_type": "code",
   "execution_count": null,
   "id": "micro-plumbing",
   "metadata": {},
   "outputs": [],
   "source": [
    "l1.index"
   ]
  },
  {
   "cell_type": "code",
   "execution_count": null,
   "id": "ancient-constitutional",
   "metadata": {},
   "outputs": [],
   "source": [
    "l1.index()"
   ]
  },
  {
   "cell_type": "markdown",
   "id": "seventh-reform",
   "metadata": {},
   "source": [
    "También se puede utilizar limitando el segmento de la búsqueda"
   ]
  },
  {
   "cell_type": "code",
   "execution_count": null,
   "id": "separate-exploration",
   "metadata": {},
   "outputs": [],
   "source": [
    "l1.index(1, 1, -1)"
   ]
  },
  {
   "cell_type": "code",
   "execution_count": null,
   "id": "certain-joyce",
   "metadata": {},
   "outputs": [],
   "source": [
    "l1.index(1, 0, 1)"
   ]
  },
  {
   "cell_type": "markdown",
   "id": "intense-static",
   "metadata": {},
   "source": [
    "### Contar"
   ]
  },
  {
   "cell_type": "code",
   "execution_count": null,
   "id": "failing-playlist",
   "metadata": {},
   "outputs": [],
   "source": [
    "l1.count('z')"
   ]
  },
  {
   "cell_type": "code",
   "execution_count": null,
   "id": "yellow-capitol",
   "metadata": {},
   "outputs": [],
   "source": [
    "l1.count(1)"
   ]
  },
  {
   "cell_type": "markdown",
   "id": "demographic-partnership",
   "metadata": {},
   "source": [
    "No se puede usar limitando el segmento de búsqueda"
   ]
  },
  {
   "cell_type": "markdown",
   "id": "anonymous-evaluation",
   "metadata": {},
   "source": [
    "### Métodos que cambian listas (los objetos del tipo lista son objetos mutables)"
   ]
  },
  {
   "cell_type": "markdown",
   "id": "hourly-numbers",
   "metadata": {},
   "source": [
    "Recordemos que __las listas son objetos mutables,__ se puede cambiar un elemento (cambia el valor de la lista)"
   ]
  },
  {
   "cell_type": "code",
   "execution_count": null,
   "id": "comparable-compromise",
   "metadata": {},
   "outputs": [],
   "source": [
    "# Cambiar un elemento indicando la posición\n",
    "l8 = [7, [9, 1, 7], 'mn', 'adiós', 55]\n",
    "l8[-1] = 'c'"
   ]
  },
  {
   "cell_type": "code",
   "execution_count": null,
   "id": "monthly-electric",
   "metadata": {},
   "outputs": [],
   "source": [
    "l8"
   ]
  },
  {
   "cell_type": "markdown",
   "id": "cosmetic-creation",
   "metadata": {},
   "source": [
    "**_Insertar un elmento_** (cambia el valor de la lista pero no devuelve nada)"
   ]
  },
  {
   "cell_type": "markdown",
   "id": "tender-bankruptcy",
   "metadata": {},
   "source": [
    "Inserta un elemento, que corresponde al segundo argumeto, en la posición de índice que corresonde al primer argumento todos los elementos a partir de dicha posición se mueven hacia la derecha "
   ]
  },
  {
   "cell_type": "code",
   "execution_count": null,
   "id": "critical-place",
   "metadata": {},
   "outputs": [],
   "source": [
    "l8.insert(1, 0)"
   ]
  },
  {
   "cell_type": "code",
   "execution_count": null,
   "id": "expired-detector",
   "metadata": {},
   "outputs": [],
   "source": [
    "l8"
   ]
  },
  {
   "cell_type": "markdown",
   "id": "initial-ghana",
   "metadata": {},
   "source": [
    "Este método no devuelve nada. Lo que hace es cambiar el valor de la lista `l8`.  "
   ]
  },
  {
   "cell_type": "code",
   "execution_count": null,
   "id": "effective-elephant",
   "metadata": {},
   "outputs": [],
   "source": [
    "type(l8.insert(1, 0))"
   ]
  },
  {
   "cell_type": "code",
   "execution_count": null,
   "id": "veterinary-snapshot",
   "metadata": {},
   "outputs": [],
   "source": [
    "l8"
   ]
  },
  {
   "cell_type": "code",
   "execution_count": null,
   "id": "asian-catalyst",
   "metadata": {},
   "outputs": [],
   "source": [
    "l8.insert(1, 0), l8"
   ]
  },
  {
   "cell_type": "markdown",
   "id": "alpine-retention",
   "metadata": {},
   "source": [
    "**_Añadir un elemento después de la última posición_** (cambia el valor de la lista pero no devuelve nada)"
   ]
  },
  {
   "cell_type": "code",
   "execution_count": null,
   "id": "induced-collection",
   "metadata": {},
   "outputs": [],
   "source": [
    "# añadir un elemento después de la última posición\n",
    "l8.append([7])\n",
    "l8"
   ]
  },
  {
   "cell_type": "markdown",
   "id": "genetic-davis",
   "metadata": {},
   "source": [
    "**Ejemplo:** Crear una lista de 20 ceros. Podemos hacerlo de varias formas:"
   ]
  },
  {
   "cell_type": "code",
   "execution_count": null,
   "id": "suspended-volleyball",
   "metadata": {},
   "outputs": [],
   "source": [
    "L = 20 * [0]\n",
    "L"
   ]
  },
  {
   "cell_type": "code",
   "execution_count": null,
   "id": "fleet-living",
   "metadata": {},
   "outputs": [],
   "source": [
    "M = []\n",
    "for k in range(20):\n",
    "    M += [0]\n",
    "\n",
    "M"
   ]
  },
  {
   "cell_type": "code",
   "execution_count": null,
   "id": "valued-cemetery",
   "metadata": {},
   "outputs": [],
   "source": [
    "N = []\n",
    "for k in range(20):\n",
    "    N.append(0)\n",
    "\n",
    "N"
   ]
  },
  {
   "cell_type": "markdown",
   "id": "tight-stable",
   "metadata": {},
   "source": [
    "Luego veremos más formas de crear esa lista."
   ]
  },
  {
   "cell_type": "markdown",
   "id": "future-congo",
   "metadata": {},
   "source": [
    "**_Añadir varios elementos al final: extender una lista con los elementos de otra lista_** (cambia el valor de la lista pero no devuelve nada)"
   ]
  },
  {
   "cell_type": "code",
   "execution_count": null,
   "id": "alone-bidding",
   "metadata": {},
   "outputs": [],
   "source": [
    "# extiende una lista con los elmentos de otra, colocándolos al final\n",
    "l8.extend([3, 2, 1, 'hola', ['a', 56]])\n",
    "l8"
   ]
  },
  {
   "cell_type": "markdown",
   "id": "impressed-leadership",
   "metadata": {},
   "source": [
    "**_Quitar un elemento por su valor_** (cambia el valor de la lista pero no devuelve nada)"
   ]
  },
  {
   "cell_type": "markdown",
   "id": "built-observation",
   "metadata": {},
   "source": [
    "Quita de la lista la primera vez que aparece el elemnto especificado. "
   ]
  },
  {
   "cell_type": "code",
   "execution_count": null,
   "id": "super-concord",
   "metadata": {},
   "outputs": [],
   "source": [
    "l8.remove([9, 1, 7])\n",
    "l8"
   ]
  },
  {
   "cell_type": "code",
   "execution_count": null,
   "id": "conventional-equity",
   "metadata": {},
   "outputs": [],
   "source": [
    "l8.remove(3)\n",
    "l8"
   ]
  },
  {
   "cell_type": "markdown",
   "id": "whole-denmark",
   "metadata": {},
   "source": [
    "**_Quitar un elemento por su índice_** (cambia el valor de la lista pero no devuelve nada)"
   ]
  },
  {
   "cell_type": "code",
   "execution_count": null,
   "id": "differential-entrance",
   "metadata": {},
   "outputs": [],
   "source": [
    "# Quitar un elemento por su índicde\n",
    "del(l8[3])\n",
    "l8"
   ]
  },
  {
   "cell_type": "markdown",
   "id": "adequate-constitutional",
   "metadata": {},
   "source": [
    "**_Quitar un trozo de una lista_** (cambia el valor de la lista pero no devuelve nada)"
   ]
  },
  {
   "cell_type": "code",
   "execution_count": null,
   "id": "cultural-recognition",
   "metadata": {},
   "outputs": [],
   "source": [
    "# Quitar un trozo de una lista\n",
    "del(l8[:3])\n",
    "l8"
   ]
  },
  {
   "cell_type": "markdown",
   "id": "ethical-thompson",
   "metadata": {},
   "source": [
    "**_Quitar un elemento por su posición y devolverlo._**\n",
    "\n",
    "El método `.pop()` devuelve el elemento del índice especificado y lo quita del objeto. Si no se especifica índice alguno, devuelve y quita el último elemento."
   ]
  },
  {
   "cell_type": "code",
   "execution_count": null,
   "id": "creative-spotlight",
   "metadata": {},
   "outputs": [],
   "source": [
    "l8.pop()"
   ]
  },
  {
   "cell_type": "code",
   "execution_count": null,
   "id": "differential-adams",
   "metadata": {},
   "outputs": [],
   "source": [
    "l8"
   ]
  },
  {
   "cell_type": "code",
   "execution_count": null,
   "id": "sublime-secretariat",
   "metadata": {},
   "outputs": [],
   "source": [
    "l8.pop(0)"
   ]
  },
  {
   "cell_type": "code",
   "execution_count": null,
   "id": "incoming-netscape",
   "metadata": {},
   "outputs": [],
   "source": [
    "l8"
   ]
  },
  {
   "cell_type": "markdown",
   "id": "divided-webcam",
   "metadata": {},
   "source": [
    "**_Ordenar_**\n",
    "\n",
    "`.sort()`"
   ]
  },
  {
   "cell_type": "code",
   "execution_count": null,
   "id": "checked-jacksonville",
   "metadata": {},
   "outputs": [],
   "source": [
    "# ordena en orden 'creciente'\n",
    "l9 = [2, 9, 1, 7, 0]\n",
    "l9.sort(), l9"
   ]
  },
  {
   "cell_type": "code",
   "execution_count": null,
   "id": "union-engagement",
   "metadata": {},
   "outputs": [],
   "source": [
    "# ordena en orden 'decreciente'\n",
    "l9 = [2, 9, 1, 7, 0]\n",
    "l9.sort(reverse=True), l9"
   ]
  },
  {
   "cell_type": "code",
   "execution_count": null,
   "id": "greatest-scene",
   "metadata": {},
   "outputs": [],
   "source": [
    "# ordena en orden 'creciente'\n",
    "l9 = [2, 9, 1, 7, 0]\n",
    "l9.sort(reverse=False), l9"
   ]
  },
  {
   "cell_type": "markdown",
   "id": "noted-needle",
   "metadata": {},
   "source": [
    "¡NO cofundir con [sorted](https://docs.python.org/3.7/library/functions.html#sorted)! Esta es una [función propia de Python](https://docs.python.org/3.7/library/functions.html) que ordena una lista sin transformarla, como antes se ha visto\n",
    "\n",
    "Funciones propias de Python: https://docs.python.org/3.7/library/functions.html \n"
   ]
  },
  {
   "cell_type": "markdown",
   "id": "eligible-graduate",
   "metadata": {},
   "source": [
    "**_Revertir la posición de los elementos de una lista_**\n",
    "\n",
    "`.reverse()`"
   ]
  },
  {
   "cell_type": "code",
   "execution_count": null,
   "id": "forward-journalist",
   "metadata": {},
   "outputs": [],
   "source": [
    "# cambia los elemetos de posición revirtiendo la posición de los elemento\n",
    "# este método revierte la posición de los elementos de una lista no la ordena\n",
    "l9 = [2, 9, 1, 7, 0]\n",
    "l9.reverse(), l9"
   ]
  },
  {
   "cell_type": "markdown",
   "id": "northern-future",
   "metadata": {},
   "source": [
    "<a id=\"u3c1.6\"></a>\n",
    "## Efectos colaterales del uso de listas\n",
    "\n"
   ]
  },
  {
   "cell_type": "markdown",
   "id": "affected-doctor",
   "metadata": {},
   "source": [
    "### Dos comportamientos diferentes: (i) Listas iguales con nombres diferentes (clones)"
   ]
  },
  {
   "cell_type": "markdown",
   "id": "aerial-center",
   "metadata": {},
   "source": [
    "Los valores son iguales pero la dirección en la memoria es diferente excepto para los enteros y ciertas cadenas la dirección en la memoria es la misma"
   ]
  },
  {
   "cell_type": "code",
   "execution_count": null,
   "id": "developing-maximum",
   "metadata": {},
   "outputs": [],
   "source": [
    "L1 = [7, 2, 9, 0]\n",
    "L2 = [7, 2, 9, 0]\n",
    "L1 == L2"
   ]
  },
  {
   "cell_type": "code",
   "execution_count": null,
   "id": "declared-trigger",
   "metadata": {},
   "outputs": [],
   "source": [
    "L1 is L2"
   ]
  },
  {
   "cell_type": "markdown",
   "id": "closing-middle",
   "metadata": {},
   "source": [
    "Tienen identificadores diferentes"
   ]
  },
  {
   "cell_type": "code",
   "execution_count": null,
   "id": "inappropriate-spirit",
   "metadata": {},
   "outputs": [],
   "source": [
    "print(id(L1))\n",
    "print(id(L2))"
   ]
  },
  {
   "cell_type": "markdown",
   "id": "orange-router",
   "metadata": {},
   "source": [
    "Cambiar una lista no implica cambios en la otra la otra, igual que para los otros tipos. Son dos objeto distintos aunque tengan el mismo valor "
   ]
  },
  {
   "cell_type": "code",
   "execution_count": null,
   "id": "adverse-insured",
   "metadata": {},
   "outputs": [],
   "source": [
    "L1[0] = 420\n",
    "print(L1)\n",
    "print(L2)\n",
    "print(L1 == L2)\n",
    "print(L1 is L2)"
   ]
  },
  {
   "cell_type": "markdown",
   "id": "signal-nirvana",
   "metadata": {},
   "source": [
    "Otro ejemplo"
   ]
  },
  {
   "cell_type": "code",
   "execution_count": null,
   "id": "cubic-recovery",
   "metadata": {},
   "outputs": [],
   "source": [
    "lista1 = ['azul', 'violeta', 'marrón']\n",
    "lista2 = ['azul', 'violeta', 'marrón']\n",
    "print(lista1)\n",
    "print(lista2)"
   ]
  },
  {
   "cell_type": "code",
   "execution_count": null,
   "id": "fifteen-fitting",
   "metadata": {},
   "outputs": [],
   "source": [
    "print(lista1)\n",
    "print(lista2)\n",
    "print(lista1 == lista2)\n",
    "print(lista1 is lista2)"
   ]
  },
  {
   "cell_type": "code",
   "execution_count": null,
   "id": "classified-maker",
   "metadata": {},
   "outputs": [],
   "source": [
    "lista2[2] = 'verde'\n",
    "print(lista1)\n",
    "print(lista2)"
   ]
  },
  {
   "cell_type": "code",
   "execution_count": null,
   "id": "experienced-butler",
   "metadata": {},
   "outputs": [],
   "source": [
    "print(lista1)\n",
    "print(lista2)\n",
    "print(lista1 == lista2)\n",
    "print(lista1 is lista2)"
   ]
  },
  {
   "cell_type": "markdown",
   "id": "accredited-travel",
   "metadata": {},
   "source": [
    "El siguiente código genera dos listas distintas con el mismo valor"
   ]
  },
  {
   "cell_type": "code",
   "execution_count": null,
   "id": "athletic-envelope",
   "metadata": {},
   "outputs": [],
   "source": [
    "L1 = [7, 2, 9, 0]\n",
    "L3 = []\n",
    "for l in L1:\n",
    "    L3.append(l)\n",
    "    \n",
    "L3"
   ]
  },
  {
   "cell_type": "code",
   "execution_count": null,
   "id": "durable-permit",
   "metadata": {},
   "outputs": [],
   "source": [
    "print(L1 == L3)\n",
    "print(L1 is L3)"
   ]
  },
  {
   "cell_type": "markdown",
   "id": "polish-composite",
   "metadata": {},
   "source": [
    "__Nota:__ Este comportamiento es similar para los números decimales (tipo `float`) pero no para los enteros (tipo `int`) y las cadenas (tipo `str`) "
   ]
  },
  {
   "cell_type": "markdown",
   "id": "8125f5f5",
   "metadata": {},
   "source": [
    "Enteros:"
   ]
  },
  {
   "cell_type": "code",
   "execution_count": null,
   "id": "functional-performance",
   "metadata": {},
   "outputs": [],
   "source": [
    "a = 3\n",
    "b = 3"
   ]
  },
  {
   "cell_type": "code",
   "execution_count": null,
   "id": "south-injury",
   "metadata": {},
   "outputs": [],
   "source": [
    "print(a == b)\n",
    "print(a is b)"
   ]
  },
  {
   "cell_type": "code",
   "execution_count": null,
   "id": "disciplinary-davis",
   "metadata": {},
   "outputs": [],
   "source": [
    "print(id(a)) \n",
    "print(id(b))"
   ]
  },
  {
   "cell_type": "markdown",
   "id": "ac742cd1",
   "metadata": {},
   "source": [
    "Cadenas:"
   ]
  },
  {
   "cell_type": "code",
   "execution_count": null,
   "id": "natural-suggestion",
   "metadata": {},
   "outputs": [],
   "source": [
    "c1 = 'a'\n",
    "c2 = 'a'"
   ]
  },
  {
   "cell_type": "code",
   "execution_count": null,
   "id": "sound-murder",
   "metadata": {},
   "outputs": [],
   "source": [
    "print(c1 == c2)\n",
    "print(c1 is c2)"
   ]
  },
  {
   "cell_type": "code",
   "execution_count": null,
   "id": "unable-party",
   "metadata": {},
   "outputs": [],
   "source": [
    "print(id(c1)) \n",
    "print(id(c2))"
   ]
  },
  {
   "cell_type": "markdown",
   "id": "c419cb5d",
   "metadata": {},
   "source": [
    "Decimales"
   ]
  },
  {
   "cell_type": "code",
   "execution_count": null,
   "id": "44b517cc",
   "metadata": {},
   "outputs": [],
   "source": [
    "f = 3.1\n",
    "g = 3.1"
   ]
  },
  {
   "cell_type": "code",
   "execution_count": null,
   "id": "cadb161f",
   "metadata": {},
   "outputs": [],
   "source": [
    "print(f == g)\n",
    "print(f is g)"
   ]
  },
  {
   "cell_type": "code",
   "execution_count": null,
   "id": "2e46c9f5",
   "metadata": {},
   "outputs": [],
   "source": [
    "print(id(f)) \n",
    "print(id(g))"
   ]
  },
  {
   "cell_type": "markdown",
   "id": "f9acb215",
   "metadata": {},
   "source": [
    "#### Clonar listas: Generar un nuevo objeto con el valor de otro "
   ]
  },
  {
   "cell_type": "markdown",
   "id": "583c380a",
   "metadata": {},
   "source": [
    "*__Primer procedimiento__*"
   ]
  },
  {
   "cell_type": "code",
   "execution_count": null,
   "id": "27abf32e",
   "metadata": {},
   "outputs": [],
   "source": [
    "L5 = ['azul', 'violeta', 'marrón']\n",
    "L6 = L5[:]\n",
    "print(L5)\n",
    "print(L6)"
   ]
  },
  {
   "cell_type": "code",
   "execution_count": null,
   "id": "5de2ee70",
   "metadata": {},
   "outputs": [],
   "source": [
    "print(L5 == L6)\n",
    "print(L5 is L6)"
   ]
  },
  {
   "cell_type": "code",
   "execution_count": null,
   "id": "77b5f732",
   "metadata": {},
   "outputs": [],
   "source": [
    "print(id(L5))\n",
    "print(id(L6))"
   ]
  },
  {
   "cell_type": "markdown",
   "id": "c88afd68",
   "metadata": {},
   "source": [
    "De esta forma si cambio una no se ve afectada la otra"
   ]
  },
  {
   "cell_type": "code",
   "execution_count": null,
   "id": "0771102f",
   "metadata": {},
   "outputs": [],
   "source": [
    "L6.append('negro')\n",
    "\n",
    "print(L5)\n",
    "print(L6)"
   ]
  },
  {
   "cell_type": "markdown",
   "id": "3f59625a",
   "metadata": {},
   "source": [
    "*__Segundo procedimiento__*"
   ]
  },
  {
   "cell_type": "code",
   "execution_count": 8,
   "id": "fc6394a6",
   "metadata": {},
   "outputs": [],
   "source": [
    "L5 = ['azul', 'violeta', 'marrón']\n",
    "\n",
    "L7 = []\n",
    "for elemento in L5:\n",
    "    L7.append(elemento)"
   ]
  },
  {
   "cell_type": "code",
   "execution_count": 9,
   "id": "24fc2628",
   "metadata": {},
   "outputs": [
    {
     "data": {
      "text/plain": [
       "['azul', 'violeta', 'marrón']"
      ]
     },
     "execution_count": 9,
     "metadata": {},
     "output_type": "execute_result"
    }
   ],
   "source": [
    "L7"
   ]
  },
  {
   "cell_type": "code",
   "execution_count": 10,
   "id": "c3304b17",
   "metadata": {},
   "outputs": [
    {
     "name": "stdout",
     "output_type": "stream",
     "text": [
      "True\n",
      "False\n"
     ]
    }
   ],
   "source": [
    "print(L5 == L7)\n",
    "print(L5 is L7)"
   ]
  },
  {
   "cell_type": "code",
   "execution_count": 11,
   "id": "70a26fc6",
   "metadata": {},
   "outputs": [
    {
     "name": "stdout",
     "output_type": "stream",
     "text": [
      "140029017811008\n",
      "140029017904064\n"
     ]
    }
   ],
   "source": [
    "print(id(L5))\n",
    "print(id(L7))"
   ]
  },
  {
   "cell_type": "markdown",
   "id": "relevant-damage",
   "metadata": {},
   "source": [
    "### Dos comportamientos diferentes: (ii) Dos nombres distintos para un mismo objeto (alias)"
   ]
  },
  {
   "cell_type": "code",
   "execution_count": null,
   "id": "sized-connection",
   "metadata": {},
   "outputs": [],
   "source": [
    "L1 = [7, 2, 9, 0]\n",
    "L4 = L1 \n",
    "L4"
   ]
  },
  {
   "cell_type": "code",
   "execution_count": null,
   "id": "early-exchange",
   "metadata": {},
   "outputs": [],
   "source": [
    "print(L1 == L4)\n",
    "print(L1 is L4)"
   ]
  },
  {
   "cell_type": "code",
   "execution_count": null,
   "id": "pretty-biotechnology",
   "metadata": {},
   "outputs": [],
   "source": [
    "print(id(L1))\n",
    "print(id(L4))"
   ]
  },
  {
   "cell_type": "markdown",
   "id": "breathing-economy",
   "metadata": {},
   "source": [
    "De esta forma se crea un alias o un apodo para la lista `L1`. Ahora tenemos un solo objeto con dos nombres y si cambio uno cambia el otro"
   ]
  },
  {
   "cell_type": "code",
   "execution_count": null,
   "id": "worse-personality",
   "metadata": {},
   "outputs": [],
   "source": [
    "L1[0] = 420\n",
    "print(L1)\n",
    "print(L4)"
   ]
  },
  {
   "cell_type": "code",
   "execution_count": null,
   "id": "classified-anxiety",
   "metadata": {},
   "outputs": [],
   "source": [
    "L4[-1] = 759\n",
    "print(L1)\n",
    "print(L4)\n",
    "print(L1 == L4)\n",
    "print(L1 is L4)\n",
    "print(id(L1))\n",
    "print(id(L4))"
   ]
  },
  {
   "cell_type": "markdown",
   "id": "computational-circus",
   "metadata": {},
   "source": [
    "Otro ejemplo"
   ]
  },
  {
   "cell_type": "code",
   "execution_count": null,
   "id": "extra-sample",
   "metadata": {},
   "outputs": [],
   "source": [
    "frio = ['marrón', 'ocre', 'naranja'] \n",
    "fresco = frio\n",
    "print(frio) \n",
    "print(fresco)"
   ]
  },
  {
   "cell_type": "code",
   "execution_count": null,
   "id": "tracked-walker",
   "metadata": {},
   "outputs": [],
   "source": [
    "print(id(fresco))\n",
    "print(id(frio))"
   ]
  },
  {
   "cell_type": "code",
   "execution_count": null,
   "id": "chubby-transcript",
   "metadata": {},
   "outputs": [],
   "source": [
    "fresco is frio"
   ]
  },
  {
   "cell_type": "code",
   "execution_count": null,
   "id": "accurate-sandwich",
   "metadata": {},
   "outputs": [],
   "source": [
    "frio.append('marillo')\n",
    "print(frio) \n",
    "print(fresco)"
   ]
  },
  {
   "cell_type": "code",
   "execution_count": null,
   "id": "agreed-lancaster",
   "metadata": {},
   "outputs": [],
   "source": [
    "print(id(fresco))\n",
    "print(id(frio))"
   ]
  },
  {
   "cell_type": "code",
   "execution_count": null,
   "id": "normal-winter",
   "metadata": {},
   "outputs": [],
   "source": [
    "fresco is frio"
   ]
  },
  {
   "cell_type": "markdown",
   "id": "banned-consortium",
   "metadata": {},
   "source": [
    "### Efectos colaterales con listas anidadas"
   ]
  },
  {
   "cell_type": "markdown",
   "id": "noted-probability",
   "metadata": {},
   "source": [
    "Si una lista está formada por sublistas el cambio en una de estas sublistas produce cambios en la lista que las contiene"
   ]
  },
  {
   "cell_type": "code",
   "execution_count": null,
   "id": "fifth-instrument",
   "metadata": {},
   "outputs": [],
   "source": [
    "lista1 = ['azul', 'violeta']\n",
    "lista2 = ['rojo']\n",
    "lista3 = [lista1]\n",
    "print(lista3)"
   ]
  },
  {
   "cell_type": "code",
   "execution_count": null,
   "id": "north-dollar",
   "metadata": {},
   "outputs": [],
   "source": [
    "lista3.append(lista2)\n",
    "print(lista3)"
   ]
  },
  {
   "cell_type": "code",
   "execution_count": null,
   "id": "finnish-vampire",
   "metadata": {},
   "outputs": [],
   "source": [
    "lista2.append('verde')\n",
    "print(lista2)\n",
    "print(lista3)"
   ]
  },
  {
   "cell_type": "markdown",
   "id": "necessary-pioneer",
   "metadata": {},
   "source": [
    "`lista3`esta formada por dos elemnetos, las listas `lista1` y `lista2`. Al cambiar `lista2` cambia `lista3` "
   ]
  },
  {
   "cell_type": "markdown",
   "id": "thirty-visitor",
   "metadata": {},
   "source": [
    "### Efectos colaterales al iterar sobre listas"
   ]
  },
  {
   "cell_type": "markdown",
   "id": "aggregate-bubble",
   "metadata": {},
   "source": [
    "Al iterar sobre una lista que estamos cambiando, no se tendrán en cuenta todos los elementos de la lista original"
   ]
  },
  {
   "cell_type": "markdown",
   "id": "conscious-voltage",
   "metadata": {},
   "source": [
    "La siguiente función pretende quitar los elementos de la lista `L` que están en la lista `M`"
   ]
  },
  {
   "cell_type": "code",
   "execution_count": null,
   "id": "round-dominant",
   "metadata": {},
   "outputs": [],
   "source": [
    "def quitar_rep(L, M): \n",
    "    for e in L:\n",
    "        if e in M:\n",
    "            L.remove(e)\n",
    "    return L\n",
    "        \n",
    "L = [1, 2, 3, 4]\n",
    "M = [1, 2, 5, 6]\n",
    "\n",
    "L9 = quitar_rep(L, M)\n",
    "L9"
   ]
  },
  {
   "cell_type": "markdown",
   "id": "impaired-sender",
   "metadata": {},
   "source": [
    "`L.remove(e)` cambia la longitud de la lista pero Python no actualiza el contador que corresponde a `L.remove(e)`.\n",
    "\n",
    "Al quitar el 1, en la siguiente iteración hay que coger el elemento de la posición con índice 1 que en la lista cambiada es 3: el bucle nunca ve el 2"
   ]
  },
  {
   "cell_type": "code",
   "execution_count": null,
   "id": "developmental-hurricane",
   "metadata": {},
   "outputs": [],
   "source": [
    "def quitar_rep_nueva(L, M): \n",
    "    L1_nueva = L[:]\n",
    "    for e in L1_nueva:\n",
    "        if e in M:\n",
    "            L.remove(e)\n",
    "    return L\n",
    "        \n",
    "L = [1, 2, 3, 4]\n",
    "M = [1, 2, 5, 6]\n",
    "\n",
    "L10 = quitar_rep_nueva(L, M)\n",
    "L10"
   ]
  },
  {
   "cell_type": "markdown",
   "id": "chubby-healthcare",
   "metadata": {},
   "source": [
    "### Otro ejemplo para visualizar efectos colaterares en las listas"
   ]
  },
  {
   "cell_type": "markdown",
   "id": "olive-russia",
   "metadata": {},
   "source": [
    "Ejemplo 1"
   ]
  },
  {
   "cell_type": "code",
   "execution_count": null,
   "id": "accepted-baker",
   "metadata": {},
   "outputs": [],
   "source": [
    "m = [3]\n",
    "n = [3]\n",
    "print(m == n)\n",
    "print(m is n)"
   ]
  },
  {
   "cell_type": "code",
   "execution_count": null,
   "id": "raised-mathematics",
   "metadata": {},
   "outputs": [],
   "source": [
    "p = m"
   ]
  },
  {
   "cell_type": "code",
   "execution_count": null,
   "id": "resident-wealth",
   "metadata": {},
   "outputs": [],
   "source": [
    "print(p == m)\n",
    "print(p is m)"
   ]
  },
  {
   "cell_type": "code",
   "execution_count": null,
   "id": "coral-graham",
   "metadata": {},
   "outputs": [],
   "source": [
    "n.append(7)"
   ]
  },
  {
   "cell_type": "code",
   "execution_count": null,
   "id": "otherwise-physiology",
   "metadata": {},
   "outputs": [],
   "source": [
    "n"
   ]
  },
  {
   "cell_type": "code",
   "execution_count": null,
   "id": "prime-graphic",
   "metadata": {},
   "outputs": [],
   "source": [
    "m"
   ]
  },
  {
   "cell_type": "code",
   "execution_count": null,
   "id": "solid-hudson",
   "metadata": {},
   "outputs": [],
   "source": [
    "p"
   ]
  },
  {
   "cell_type": "code",
   "execution_count": null,
   "id": "twenty-ribbon",
   "metadata": {},
   "outputs": [],
   "source": [
    "p.append(7)"
   ]
  },
  {
   "cell_type": "code",
   "execution_count": null,
   "id": "dependent-bench",
   "metadata": {},
   "outputs": [],
   "source": [
    "p"
   ]
  },
  {
   "cell_type": "code",
   "execution_count": null,
   "id": "determined-opening",
   "metadata": {},
   "outputs": [],
   "source": [
    "m"
   ]
  },
  {
   "cell_type": "code",
   "execution_count": null,
   "id": "compact-colonial",
   "metadata": {},
   "outputs": [],
   "source": [
    "print(n == m)\n",
    "print(n is m)"
   ]
  },
  {
   "cell_type": "code",
   "execution_count": null,
   "id": "optimum-stuff",
   "metadata": {},
   "outputs": [],
   "source": [
    "print(p == m)\n",
    "print(p is m)"
   ]
  },
  {
   "cell_type": "markdown",
   "id": "union-transportation",
   "metadata": {},
   "source": [
    "Ejemplo 2"
   ]
  },
  {
   "cell_type": "code",
   "execution_count": null,
   "id": "hungarian-benjamin",
   "metadata": {},
   "outputs": [],
   "source": [
    "def lista(L):\n",
    "    rsltd = []\n",
    "    for l in L:\n",
    "        rsltd.append(l)\n",
    "    return rsltd   "
   ]
  },
  {
   "cell_type": "code",
   "execution_count": null,
   "id": "selected-failing",
   "metadata": {},
   "outputs": [],
   "source": [
    "L_entrada = ['a', 34.3, ['abs'], True]\n",
    "L_salida = lista(L_entrada)\n",
    "L_salida"
   ]
  },
  {
   "cell_type": "code",
   "execution_count": null,
   "id": "sized-shelf",
   "metadata": {},
   "outputs": [],
   "source": [
    "L_entrada == L_salida"
   ]
  },
  {
   "cell_type": "code",
   "execution_count": null,
   "id": "acoustic-canvas",
   "metadata": {},
   "outputs": [],
   "source": [
    "L_entrada is L_salida"
   ]
  },
  {
   "cell_type": "code",
   "execution_count": null,
   "id": "pending-milwaukee",
   "metadata": {
    "scrolled": true
   },
   "outputs": [],
   "source": [
    "print(id(L_entrada))\n",
    "print(id(L_salida))"
   ]
  },
  {
   "cell_type": "markdown",
   "id": "official-welcome",
   "metadata": {},
   "source": [
    "<a id=\"u3c1.8\"></a>\n",
    "## Ejemplos\n"
   ]
  },
  {
   "cell_type": "markdown",
   "id": "becoming-phenomenon",
   "metadata": {},
   "source": [
    "1. Lista de las palabras que se obtienen al eliminar, alternativamente, cada una de las letras de una palabra dada"
   ]
  },
  {
   "cell_type": "code",
   "execution_count": null,
   "id": "antique-belize",
   "metadata": {},
   "outputs": [],
   "source": [
    "def lista_palabras(palabra):\n",
    "    lista = []\n",
    "    for n in range(len(palabra)):\n",
    "        elemento = palabra[:n] + palabra[n+1:]\n",
    "        lista.append(elemento)\n",
    "    return lista\n",
    "\n",
    "lista_palabras('abcdefg')"
   ]
  },
  {
   "cell_type": "markdown",
   "id": "detected-murder",
   "metadata": {},
   "source": [
    "2. Lista ordenada de los dígitos que no se repiten en un entero que no es negativo. Esta función devuelve un lista de números enteros, ordenados de menor a mayor."
   ]
  },
  {
   "cell_type": "code",
   "execution_count": null,
   "id": "employed-paris",
   "metadata": {},
   "outputs": [],
   "source": [
    "def digitos(num):\n",
    "    L = list(str(num))\n",
    "    aux = L[:]\n",
    "    se_repite = []\n",
    "    for e in L:\n",
    "        aux.remove(e)\n",
    "        if e in aux:\n",
    "            se_repite.append(e)\n",
    "    rsltd = []\n",
    "    for e in L:\n",
    "        if int(e) not in rsltd and e not in se_repite:\n",
    "            rsltd.append(int(e))\n",
    "    rsltd.sort()\n",
    "    return rsltd\n",
    "\n",
    "digitos(7745730)    "
   ]
  },
  {
   "cell_type": "markdown",
   "id": "stunning-termination",
   "metadata": {},
   "source": [
    "Otra versión"
   ]
  },
  {
   "cell_type": "code",
   "execution_count": null,
   "id": "beautiful-thought",
   "metadata": {},
   "outputs": [],
   "source": [
    "def digitos(num):\n",
    "    L = list(str(num))\n",
    "    rsltd = []\n",
    "    for e in L:\n",
    "        if int(e) not in rsltd and L.count(e) == 1:\n",
    "            rsltd.append(int(e))\n",
    "    rsltd.sort()\n",
    "    return rsltd\n",
    "\n",
    "digitos(7745730)   "
   ]
  },
  {
   "cell_type": "markdown",
   "id": "rational-immunology",
   "metadata": {},
   "source": [
    "<a id=\"u3c1.9\"></a>\n",
    "## Ejercicios\n",
    "\n",
    "En los siguientes ejercicios, siempre que sea posible, trata de resolverlos también sustituyendo las listas por tuplas.\n",
    "\n",
    "1. Sea ``L = [1, -4, 8, -9]``. Encontrar funciones f para que la instrucción\n",
    "``[f(u) for u in L]`` genere las siguientes listas:\n",
    "    * ``[5, -20, 40, -45]``\n",
    "    * ``[1, 4, 8, 9]``\n",
    "    * ``[2, -3, 9, -8]``  \n",
    "2. Generar las siguientes listas:\n",
    "    * ``[1,2,3,4,5,6,7,8,9,10,11,12 ]``\n",
    "    * ``[2,4,...,48]``\n",
    "    * ``[1,1,...,1]`` (N veces el número $1$)\n",
    "    * ``[1,4,9,16,25,36,49,64,81,100]``\n",
    "    * $[1,\\frac{1}{3},\\frac{1}{5},\\frac{1}{7},\\frac{1}{9},\\frac{1}{11},\\frac{1}{13},\\frac{1}{15}]$\n",
    "    * $[\\rm{True,}\\;\\rm{False,}\\;\\rm{True,}\\;\\rm{False,}\\;\\rm{True,}\\;\\rm{False,}\\;\\rm{True,}\\;\\rm{False}]$\n",
    "    * ``[[0,1],[1,2],[2,3],[3,4],[4,5],[5,6]]``\n",
    "    * ``[1,12,123,1234,12345,123456,1234567,12345678,123456789]``\n",
    "3. Definir la función **aplicar_a_todos(f,L)** que devuelva la misma lista que genera [f(u) for u in L] sin utilizar esta instrucción.\n",
    " \n",
    "4. Definir la función **pares(lista)** que dada una lista, devuelva la lista con los elementos de **lista** con índice impar.\n",
    "\n",
    "5. Definir la función **mas_corta(lista_1,lista_2)** que devuelva la más corta de las listas **lista_1** y **lista_2**.\n",
    "\n",
    "6. Definir la función **alguno_comun(lista_1,lista_2)** que devuelve True o False si las listas tienen algún elemento en común o no.\n",
    "\n",
    "7. Definir la función **comunes(lista_1,lista_2)** que devuelva la lista de los elementos comunes a las listas **lista_1** y **lista_2**.\n",
    "\n",
    "8. Definir la función **diferencia(lista_1,lista_2)** que devuelva una lista con los elementos de  **lista_1** que no están en  **lista_2**.\n",
    "\n",
    "9. Definir la función **mayor_que(lista,a)** que devuelva una lista con los elementos de  **lista** que son mayores que **a**. Si algún elemento de **lista** no puede compararse con **a** la función debe devolver la cadena _'datos incorrectos'_.\n",
    "\n",
    "10. Definir la función **mi_suma(lista)** que devuelva la suma de los elementos de **lista**.\n",
    "11. Definir a función **mi_max(lista)** que devuelva la máximo de los elementos de **lista**.\n",
    "12. Definir a función **simple(lista)** que devuelva una lista en la que aparecen los elementos de **lista** solo una vez (elimina multiplicidades).\n",
    "\n",
    "13. Definir la función **frecuencia(lista,a)** que devuelva el número de veces que **a** está contenido en **lista**.\n",
    "\n",
    "14. Definir la función **indice(lista,a)** que devuelva el índice de **a** en **lista** si pertenece a **lista** y **len(lista)** si no pertenece.\n",
    "\n",
    "\n",
    "15. Definir la función **traslacion_circular(lista, n)** que devuelve una translación circular de **n** unidades de **lista**.\n",
    "        Ejemplos: \n",
    "        traslacion_circular([1,2,3,5,6],3); devuelve [5,6,1,2,3]\n",
    "        traslacion_circular(['a','b'],1); devuelve ['b','a']\n",
    "\n",
    "16. Definir la función **id_circular(lista_1, lista_2)** que devuelve True o False según se obtenga **lista_1** por una traslación circular de **lista_2** o no.\n",
    "\n",
    " \n",
    "17. Definir la función `alfa(L1, L2)` que devuelve `True` o `False` según los elementos de `L1` estén **todos** en `L2` o no.\n",
    "\n",
    "18. Definir la función `es_trozo(L1, L2)` que devuelve `True` si `L1` es un trozo (una sublsita) de `L2` y `False` en caso contrario.\n",
    "\n",
    "19. Definir la función `beta(L)` que devuelve el máximo de las sumas de dos elementos consecutivos de la lista `L`.\n",
    "\n",
    "20. Definir la función `delta(L, n)` que devuelve `True` si `L` contiene dos elemento consecutivos que sumen `n` y `False` en caso contrario.\n",
    "\n",
    "21. Definir la función **maximo(f,a,b,N)** que devuelva el valor máximo de la función **f** en una malla uniforme del intervalo **(a,b)** con **N** subintervalos.\n",
    "\n",
    "22. Definir la función **frecuencia_maximo(f,a,b,N)** que devuelva el número de puntos de la malla donde se alcanza el máximo de la función **f** (ver ejercicio anterior).\n",
    "\n",
    "23. Definir la función **puntos_maximo(f,a,b,N)** que devuelva la lista de  puntos de la malla donde se alcanza el máximo de la función **f** (ver ejercicios anteriores).\n",
    "\n",
    "24. Definir la función **sublistas(lista)** que devuelve una lista con todas las sublistas de **lista**. Entenderemos por sublista, un lista de lementos consecutivos de la lista original; es decir, el porducto del operador corte (\"slicing\") sin saltos."
   ]
  },
  {
   "cell_type": "markdown",
   "id": "associate-progress",
   "metadata": {},
   "source": [
    "<a id=\"u3c1.10\"></a>\n",
    "## Cuestionarios Moodle\n",
    "\n",
    "[Operaciones básicas con listas](https://moodle.upm.es/titulaciones/oficiales/mod/quiz/view.php?id=230400)\n",
    "\n",
    "[Funciones con listas](https://moodle.upm.es/titulaciones/oficiales/mod/quiz/view.php?id=230402)\n",
    "\n",
    "[Efectos colaterales](https://moodle.upm.es/titulaciones/oficiales/mod/quiz/view.php?id=230403)"
   ]
  }
 ],
 "metadata": {
  "kernelspec": {
   "display_name": "Python 3 (ipykernel)",
   "language": "python",
   "name": "python3"
  },
  "language_info": {
   "codemirror_mode": {
    "name": "ipython",
    "version": 3
   },
   "file_extension": ".py",
   "mimetype": "text/x-python",
   "name": "python",
   "nbconvert_exporter": "python",
   "pygments_lexer": "ipython3",
   "version": "3.10.6"
  }
 },
 "nbformat": 4,
 "nbformat_minor": 5
}

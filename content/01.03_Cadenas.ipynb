{
 "cells": [
  {
   "cell_type": "markdown",
   "id": "southern-policy",
   "metadata": {},
   "source": [
    "# Cadenas\n",
    "\n",
    "* [Tipo texto: cadenas (_string_)](#u1c3.1)\n",
    "* [Operadores para cadenas](#u1c3.2)\n",
    "* [Indexación de cadenas](#u1c3.3)\n",
    "* [La función `print` con cadenas](#u1c3.4)\n",
    "* [Orden y comparación de caracteres](#u1c3.5)\n",
    "* [Ejemplos](#u1c3.6)\n",
    "* [Ejercicios](#u1c3.7)\n",
    "* [Cuestionarios de Moodle](#u1c3.8)\n"
   ]
  },
  {
   "cell_type": "markdown",
   "id": "flying-nicaragua",
   "metadata": {},
   "source": [
    "<a id=\"u1c3.1\"></a>\n",
    "## Tipo texto: cadenas (_string_)\n",
    "\n",
    "Secuencia de \n",
    "- letras, caracteres especiales y de puntuación, espacios y dígitos (Símbolos UNICODE https://en.wikipedia.org/wiki/Unicode)\n",
    "- entre comillas, simples o dobles\n",
    "- El tipo de las cadenas es ``str``.\n",
    "\n"
   ]
  },
  {
   "cell_type": "code",
   "execution_count": null,
   "id": "chemical-floating",
   "metadata": {},
   "outputs": [],
   "source": [
    "saludo = 'Hola a todos'\n",
    "saludo1 = \"Hola a todos\"\n",
    "falso = \"it's not true\"\n",
    "falso_escape = 'it\\'s not true'\n",
    "falso_otra_comilla_1 = 'it´s not true'\n",
    "falso_otra_comilla_2 = 'it`s not true'"
   ]
  },
  {
   "cell_type": "code",
   "execution_count": null,
   "id": "decreased-marketplace",
   "metadata": {},
   "outputs": [],
   "source": [
    "saludo, saludo1, falso, falso_escape, falso_otra_comilla_1, falso_otra_comilla_2"
   ]
  },
  {
   "cell_type": "code",
   "execution_count": null,
   "id": "failing-cathedral",
   "metadata": {},
   "outputs": [],
   "source": [
    "otra = '¿es esto una cadena?'"
   ]
  },
  {
   "cell_type": "code",
   "execution_count": null,
   "id": "raising-great",
   "metadata": {},
   "outputs": [],
   "source": [
    "otra"
   ]
  },
  {
   "cell_type": "code",
   "execution_count": null,
   "id": "julian-survivor",
   "metadata": {},
   "outputs": [],
   "source": [
    "type('hola')"
   ]
  },
  {
   "cell_type": "markdown",
   "id": "improving-fight",
   "metadata": {},
   "source": [
    "**Observación** ``str`` también funciona como operador de conversión a cadena\n",
    "\n"
   ]
  },
  {
   "cell_type": "code",
   "execution_count": null,
   "id": "addressed-radio",
   "metadata": {},
   "outputs": [],
   "source": [
    "str(4.5)"
   ]
  },
  {
   "cell_type": "markdown",
   "id": "adapted-pitch",
   "metadata": {},
   "source": [
    "A su vez, `int` y `float` convierten cadenas que son números entre comillas en números:\n"
   ]
  },
  {
   "cell_type": "code",
   "execution_count": null,
   "id": "express-photographer",
   "metadata": {},
   "outputs": [],
   "source": [
    "int('402')"
   ]
  },
  {
   "cell_type": "code",
   "execution_count": null,
   "id": "funded-bridges",
   "metadata": {},
   "outputs": [],
   "source": [
    "int('4.02')"
   ]
  },
  {
   "cell_type": "code",
   "execution_count": null,
   "id": "experienced-mobile",
   "metadata": {},
   "outputs": [],
   "source": [
    "float('4.04')"
   ]
  },
  {
   "cell_type": "markdown",
   "id": "fixed-label",
   "metadata": {},
   "source": [
    "<a id=\"u1c3.2\"></a>\n",
    "## Operadores para cadenas\n",
    "\n",
    "\n",
    "**Enlaces**\n",
    "\n",
    "* <a href=\"https://docs.python.org/3/tutorial/introduction.html#strings\"> Python-strings </a>\n",
    "\n",
    "\n"
   ]
  },
  {
   "cell_type": "markdown",
   "id": "insured-glossary",
   "metadata": {},
   "source": [
    "### Concatenación de dos cadenas"
   ]
  },
  {
   "cell_type": "code",
   "execution_count": null,
   "id": "exact-virgin",
   "metadata": {},
   "outputs": [],
   "source": [
    "'hola' + 'Antonio' "
   ]
  },
  {
   "cell_type": "code",
   "execution_count": null,
   "id": "continuous-mauritius",
   "metadata": {},
   "outputs": [],
   "source": [
    "'hola' + ' Antonio' "
   ]
  },
  {
   "cell_type": "code",
   "execution_count": null,
   "id": "classical-origin",
   "metadata": {},
   "outputs": [],
   "source": [
    "'hola' + '24'"
   ]
  },
  {
   "cell_type": "code",
   "execution_count": null,
   "id": "enormous-phoenix",
   "metadata": {},
   "outputs": [],
   "source": [
    "'bienvenido'  +' ' + 'a' + ' ' + 'Python'"
   ]
  },
  {
   "cell_type": "markdown",
   "id": "vital-railway",
   "metadata": {},
   "source": [
    "### Repetición de una cadena un número de veces determinado\n",
    "\n",
    "Concatenación múltiple"
   ]
  },
  {
   "cell_type": "code",
   "execution_count": null,
   "id": "systematic-constitution",
   "metadata": {},
   "outputs": [],
   "source": [
    "3 * 'hola'"
   ]
  },
  {
   "cell_type": "code",
   "execution_count": null,
   "id": "ahead-estate",
   "metadata": {},
   "outputs": [],
   "source": [
    "3 * 'hola '"
   ]
  },
  {
   "cell_type": "code",
   "execution_count": null,
   "id": "golden-clearing",
   "metadata": {},
   "outputs": [],
   "source": [
    "'a ' * 3"
   ]
  },
  {
   "cell_type": "markdown",
   "id": "liked-reviewer",
   "metadata": {},
   "source": [
    "### Longitud de una cadena\n",
    "\n",
    "La función `len`"
   ]
  },
  {
   "cell_type": "code",
   "execution_count": null,
   "id": "comparative-terrorist",
   "metadata": {},
   "outputs": [],
   "source": [
    "len('hola')"
   ]
  },
  {
   "cell_type": "markdown",
   "id": "agreed-valve",
   "metadata": {
    "tags": []
   },
   "source": [
    "### Pertenencia"
   ]
  },
  {
   "cell_type": "code",
   "execution_count": null,
   "id": "comfortable-croatia",
   "metadata": {},
   "outputs": [],
   "source": [
    "'o' in 'hola'"
   ]
  },
  {
   "cell_type": "code",
   "execution_count": null,
   "id": "pursuant-darkness",
   "metadata": {},
   "outputs": [],
   "source": [
    "'hl' in 'hola'"
   ]
  },
  {
   "cell_type": "markdown",
   "id": "consistent-green",
   "metadata": {},
   "source": [
    "**Ejemplo**\n",
    "\n",
    "Dado el texto ``Hoy hace un día fantástico para disfrutar en los pinares de Valsaín``, hacemos un programa que busque una palabra dada por el usuario en dicho texto"
   ]
  },
  {
   "cell_type": "code",
   "execution_count": null,
   "id": "registered-preparation",
   "metadata": {
    "tags": [
     "remove-output"
    ]
   },
   "outputs": [],
   "source": [
    "palabra = input('¿Qué palabra quieres buscar en el texto?: ')\n",
    "texto = 'Hoy hace un día fantástico para disfrutar en los pinares de Valsaín'\n",
    "\n",
    "if palabra in texto:\n",
    "    print('')\n",
    "    print(' Eureka, la palabra que has escrito está en el texto')\n",
    "    print('')\n",
    "else:\n",
    "    print('')\n",
    "    print(' Lo siento, la palabra que has escrito no está en el texto')\n",
    "    print('')\n",
    "\n",
    "print('Acabó la bifurcación')"
   ]
  },
  {
   "cell_type": "markdown",
   "id": "minus-stamp",
   "metadata": {},
   "source": [
    "<a id=\"u1c3.3\"></a>\n",
    "## Indexación de cadenas\n",
    "\n",
    "\n",
    "Las cadenas son secuencia de caracteres ordenados e indexados"
   ]
  },
  {
   "cell_type": "code",
   "execution_count": null,
   "id": "functional-columbus",
   "metadata": {},
   "outputs": [],
   "source": [
    "'hola'[0]"
   ]
  },
  {
   "cell_type": "code",
   "execution_count": null,
   "id": "inside-preserve",
   "metadata": {},
   "outputs": [],
   "source": [
    "'hola'[1]"
   ]
  },
  {
   "cell_type": "code",
   "execution_count": null,
   "id": "conservative-muscle",
   "metadata": {},
   "outputs": [],
   "source": [
    "'hola'[4]"
   ]
  },
  {
   "cell_type": "code",
   "execution_count": null,
   "id": "coastal-probe",
   "metadata": {},
   "outputs": [],
   "source": [
    "'Hoy hace un día estupendo'[1:10]"
   ]
  },
  {
   "cell_type": "markdown",
   "id": "mysterious-assistant",
   "metadata": {},
   "source": [
    "| P | y | t | h | o | n |\n",
    "|:-:|:-:|:-:|:-:|:-:|:-:|\n",
    "| 0 | 1 | 2 | 3 | 4 | 5 |\n",
    "|-6 |-5 |-4 |-3 |-2 |-1 |"
   ]
  },
  {
   "cell_type": "code",
   "execution_count": null,
   "id": "english-collapse",
   "metadata": {},
   "outputs": [],
   "source": [
    "p = 'Python'"
   ]
  },
  {
   "cell_type": "code",
   "execution_count": null,
   "id": "adolescent-paraguay",
   "metadata": {},
   "outputs": [],
   "source": [
    "p[-1]"
   ]
  },
  {
   "cell_type": "code",
   "execution_count": null,
   "id": "efficient-alberta",
   "metadata": {},
   "outputs": [],
   "source": [
    "saludo = 'Hola Madrid'"
   ]
  },
  {
   "cell_type": "markdown",
   "id": "agricultural-suggestion",
   "metadata": {},
   "source": [
    "| H | o | l | a |\\_  | M | a | d | r | i | d |\n",
    "|:-:|:-:|:-:|:-:|:-:|:-:|:-:|:-:|:-:|:-:|:-:|\n",
    "| 0 | 1 | 2 | 3 | 4 | 5 | 6 | 7 | 8 | 9 |10 |\n",
    "|-11|-10|-9 |-8 |-7 |-6 |-5 |-4 |-3 |-2 |-1 |"
   ]
  },
  {
   "cell_type": "code",
   "execution_count": null,
   "id": "nutritional-membrane",
   "metadata": {},
   "outputs": [],
   "source": [
    "saludo[4]"
   ]
  },
  {
   "cell_type": "code",
   "execution_count": null,
   "id": "fitting-correlation",
   "metadata": {},
   "outputs": [],
   "source": [
    "saludo[-7]"
   ]
  },
  {
   "cell_type": "markdown",
   "id": "several-retro",
   "metadata": {
    "tags": []
   },
   "source": [
    "### Subcadenas: el operador de corte (_slicing_)"
   ]
  },
  {
   "cell_type": "code",
   "execution_count": null,
   "id": "outdoor-coordination",
   "metadata": {},
   "outputs": [],
   "source": [
    "saludo[1:5]"
   ]
  },
  {
   "cell_type": "code",
   "execution_count": null,
   "id": "dated-wages",
   "metadata": {},
   "outputs": [],
   "source": [
    "saludo[:5]"
   ]
  },
  {
   "cell_type": "code",
   "execution_count": null,
   "id": "desirable-technical",
   "metadata": {},
   "outputs": [],
   "source": [
    "saludo[4:]"
   ]
  },
  {
   "cell_type": "code",
   "execution_count": null,
   "id": "loaded-screening",
   "metadata": {},
   "outputs": [],
   "source": [
    "saludo[-5:]"
   ]
  },
  {
   "cell_type": "code",
   "execution_count": null,
   "id": "least-elephant",
   "metadata": {},
   "outputs": [],
   "source": [
    "# Letras en posición par o, equivalentemente, que tienen índice impar\n",
    "saludo[::2]"
   ]
  },
  {
   "cell_type": "code",
   "execution_count": null,
   "id": "polar-promise",
   "metadata": {},
   "outputs": [],
   "source": [
    "# Letras en posición impar o, equivalentemente, que tienen índice par\n",
    "saludo[1:8:2]"
   ]
  },
  {
   "cell_type": "code",
   "execution_count": null,
   "id": "wireless-locking",
   "metadata": {},
   "outputs": [],
   "source": [
    "saludo[::3]"
   ]
  },
  {
   "cell_type": "markdown",
   "id": "associate-timer",
   "metadata": {
    "tags": []
   },
   "source": [
    "<a id=\"u1c3.4\"></a>\n",
    "## La función `print` con cadenas\n",
    "\n"
   ]
  },
  {
   "cell_type": "code",
   "execution_count": 3,
   "id": "express-horse",
   "metadata": {},
   "outputs": [],
   "source": [
    "numero = 1"
   ]
  },
  {
   "cell_type": "code",
   "execution_count": null,
   "id": "presidential-examination",
   "metadata": {},
   "outputs": [],
   "source": [
    "print('Mi número favorito es el número ' + str(numero))"
   ]
  },
  {
   "cell_type": "markdown",
   "id": "civic-reference",
   "metadata": {},
   "source": [
    "La función ``print`` nos permite combinar cadenas con variables"
   ]
  },
  {
   "cell_type": "code",
   "execution_count": null,
   "id": "cloudy-person",
   "metadata": {},
   "outputs": [],
   "source": [
    "print('Mi número favorito es el número: ', numero, '. El siguiente es: ', numero+1)"
   ]
  },
  {
   "cell_type": "markdown",
   "id": "educated-feeling",
   "metadata": {},
   "source": [
    "<a id=\"u1c3.5\"></a>\n",
    "## Orden y comparación de caracteres\n",
    "\n",
    "\n",
    "Python usa [Unicode](https://es.wikipedia.org/wiki/Unicode)\n",
    "\n",
    "* [El código Ascii](https://elcodigoascii.com.ar/)\n",
    "* [Wikipedia](https://es.wikipedia.org/wiki/ASCII)\n",
    "\n",
    "Para saber el código UNICODE de un carácter ejecutamos ``ord``\n"
   ]
  },
  {
   "cell_type": "code",
   "execution_count": 1,
   "id": "foreign-delhi",
   "metadata": {},
   "outputs": [
    {
     "data": {
      "text/plain": [
       "35"
      ]
     },
     "execution_count": 1,
     "metadata": {},
     "output_type": "execute_result"
    }
   ],
   "source": [
    "ord('#')"
   ]
  },
  {
   "cell_type": "code",
   "execution_count": null,
   "id": "chief-philadelphia",
   "metadata": {},
   "outputs": [],
   "source": [
    "ord('a')"
   ]
  },
  {
   "cell_type": "code",
   "execution_count": null,
   "id": "centered-nicaragua",
   "metadata": {},
   "outputs": [],
   "source": [
    "ord(' ')"
   ]
  },
  {
   "cell_type": "markdown",
   "id": "minute-insertion",
   "metadata": {},
   "source": [
    "En particular, tenemos que:\n",
    "\n",
    "- Las letras están ordenadas alfabéticamente: 'a' < 'b' < ... < 'z'\n",
    "\n",
    "- Los números tienen el orden natural\n",
    "\n",
    "- Las letras son mayores que los números\n",
    "\n",
    "- Las letras y números son mayores que los símbolos\n",
    "\n",
    "- El orden de los simbolos está determinado por el código ASCI que les corresponde (esto es así para todos los caracteres).\n"
   ]
  },
  {
   "cell_type": "code",
   "execution_count": null,
   "id": "descending-escape",
   "metadata": {},
   "outputs": [],
   "source": [
    "'b' > 'e'"
   ]
  },
  {
   "cell_type": "code",
   "execution_count": null,
   "id": "limited-vintage",
   "metadata": {},
   "outputs": [],
   "source": [
    "'b' > '4'"
   ]
  },
  {
   "cell_type": "code",
   "execution_count": null,
   "id": "ethical-abortion",
   "metadata": {},
   "outputs": [],
   "source": [
    "'p' > '%'"
   ]
  },
  {
   "cell_type": "code",
   "execution_count": null,
   "id": "surrounded-scientist",
   "metadata": {},
   "outputs": [],
   "source": [
    "'q' < '#'"
   ]
  },
  {
   "cell_type": "code",
   "execution_count": null,
   "id": "silent-banner",
   "metadata": {},
   "outputs": [],
   "source": [
    "'#' > '&'"
   ]
  },
  {
   "cell_type": "markdown",
   "id": "theoretical-designer",
   "metadata": {},
   "source": [
    "### Comparación de cadenas\n",
    "\n",
    "La cadena vacía es menor que todas las otras cadenas:"
   ]
  },
  {
   "cell_type": "code",
   "execution_count": null,
   "id": "median-reynolds",
   "metadata": {},
   "outputs": [],
   "source": [
    "'' > 'ab'"
   ]
  },
  {
   "cell_type": "markdown",
   "id": "thousand-placement",
   "metadata": {},
   "source": [
    "Las cadenas se comparan elemento a elemento comenzando por la izquierda. Una cadena es mayor que otra, si para cada posición (índice) el elemento de la primera cadena es mayor o igual  que el de la segunda.\n",
    "\n",
    "El orden alfabético es para letras sin acentos que no incluyan la _ñ_, siendo todas o bien mayúsculas o bien minúsculas"
   ]
  },
  {
   "cell_type": "code",
   "execution_count": null,
   "id": "talented-administration",
   "metadata": {},
   "outputs": [],
   "source": [
    "'escuela' > 'escolar'"
   ]
  },
  {
   "cell_type": "code",
   "execution_count": null,
   "id": "earned-disability",
   "metadata": {},
   "outputs": [],
   "source": [
    "'lia' > 'lio'"
   ]
  },
  {
   "cell_type": "code",
   "execution_count": null,
   "id": "abandoned-repeat",
   "metadata": {},
   "outputs": [],
   "source": [
    "'entusiasmado' > 'entusiasmados'"
   ]
  },
  {
   "cell_type": "markdown",
   "id": "maritime-power",
   "metadata": {},
   "source": [
    "Los restantes operadores de comparación **==**,  **!=**,  **<**, **>=**, **<=** se definen como para los números:"
   ]
  },
  {
   "cell_type": "code",
   "execution_count": null,
   "id": "north-mason",
   "metadata": {},
   "outputs": [],
   "source": [
    "'deseo' < 'deseos'"
   ]
  },
  {
   "cell_type": "code",
   "execution_count": null,
   "id": "anticipated-limit",
   "metadata": {},
   "outputs": [],
   "source": [
    "'cabrilla mediterránea' > 'cabrilla mediterranea'"
   ]
  },
  {
   "cell_type": "markdown",
   "id": "aerial-glossary",
   "metadata": {},
   "source": [
    "En ese ejemplo vemos que las letras con tilde con mayores:"
   ]
  },
  {
   "cell_type": "code",
   "execution_count": null,
   "id": "central-atlas",
   "metadata": {},
   "outputs": [],
   "source": [
    "'á' > 'a'"
   ]
  },
  {
   "cell_type": "markdown",
   "id": "surprised-print",
   "metadata": {},
   "source": [
    "Sin embargo, las mayúsculas son menores y observad el orden que tienen respecto a las acentuadas"
   ]
  },
  {
   "cell_type": "code",
   "execution_count": null,
   "id": "proper-algeria",
   "metadata": {},
   "outputs": [],
   "source": [
    "'A' < 'a' < 'Á' < 'á' "
   ]
  },
  {
   "cell_type": "markdown",
   "id": "adequate-process",
   "metadata": {},
   "source": [
    "<a id=\"u1c3.6\"></a>\n",
    "## Ejemplos\n",
    "\n"
   ]
  },
  {
   "cell_type": "markdown",
   "id": "weekly-camping",
   "metadata": {},
   "source": [
    "**Ejemplo 1**\n",
    "\n",
    "Determinar el número de caracteres del texto `La aparición de las hormigas es una muestra inequívoca del fin de la temporada de lluvias`, contando los espacios en blanco."
   ]
  },
  {
   "cell_type": "code",
   "execution_count": null,
   "id": "worthy-liver",
   "metadata": {},
   "outputs": [],
   "source": [
    "len('La aparición de las hormigas es una muestra inequívoca del fin de la temporada de lluvias')"
   ]
  },
  {
   "cell_type": "markdown",
   "id": "joint-yemen",
   "metadata": {},
   "source": [
    "**Ejemplo 2**\n",
    "\n",
    "Determinar el elemento con índice 11 de la cadena 'a8&x2wdmaciehnttooslle@ñ'"
   ]
  },
  {
   "cell_type": "code",
   "execution_count": null,
   "id": "sharp-lending",
   "metadata": {},
   "outputs": [],
   "source": [
    "'a8&x2wdmaciehnttooslle@ñ'[11]"
   ]
  },
  {
   "cell_type": "markdown",
   "id": "organized-court",
   "metadata": {},
   "source": [
    "**Ejemplo 3**\n",
    "\n",
    "Escribir el trozo de la cadena 'esperanzador' que da como resultado 'ranzad'"
   ]
  },
  {
   "cell_type": "code",
   "execution_count": 2,
   "id": "growing-multiple",
   "metadata": {},
   "outputs": [
    {
     "data": {
      "text/plain": [
       "'ranzad'"
      ]
     },
     "execution_count": 2,
     "metadata": {},
     "output_type": "execute_result"
    }
   ],
   "source": [
    "'esperanzador'[4:10]"
   ]
  },
  {
   "cell_type": "markdown",
   "id": "dimensional-ambassador",
   "metadata": {},
   "source": [
    "**Ejemplo 4**\n",
    "\n",
    "Dibujar un cuadrado de 3x3 ceros"
   ]
  },
  {
   "cell_type": "code",
   "execution_count": null,
   "id": "smoking-guess",
   "metadata": {},
   "outputs": [],
   "source": [
    "print('0 0 0')\n",
    "print('0 0 0')\n",
    "print('0 0 0')"
   ]
  },
  {
   "cell_type": "code",
   "execution_count": null,
   "id": "lyric-latin",
   "metadata": {},
   "outputs": [],
   "source": [
    "print(8*'0 ')\n",
    "print(8*'0 ')\n",
    "print(8*'0 ')\n",
    "print(8*'0 ')\n",
    "print(8*'0 ')\n",
    "print(8*'0 ')\n",
    "print(8*'0 ')\n",
    "print(8*'0 ')"
   ]
  },
  {
   "cell_type": "markdown",
   "id": "standing-japan",
   "metadata": {},
   "source": [
    "**Ejemplo 5**\n",
    "\n",
    "Dibujar un cuadrado de 5x5 ceros donde falte el cero del centro, pero que conserve la forma de cuadrado."
   ]
  },
  {
   "cell_type": "code",
   "execution_count": null,
   "id": "coral-owner",
   "metadata": {},
   "outputs": [],
   "source": [
    "print(5*'0 ')\n",
    "print(5*'0 ')\n",
    "print('0 0   0 0')\n",
    "print(5*'0 ')\n",
    "print(5*'0 ')"
   ]
  },
  {
   "cell_type": "markdown",
   "id": "younger-julian",
   "metadata": {},
   "source": [
    "<a id=\"u1c3.7\"></a>\n",
    "## Ejercicios\n",
    "\n",
    "\n",
    "1. Pide introducir la contraseña de cuatro caracteres (que hemos definido de antemano) y compara la introducida con la que había sido definida. Debe imprimir `Contraseña aceptada` en caso de coincidir. En caso de que no, debe imprimir `Error`\n",
    "\n",
    "\n",
    "2. Haz un programa que pida el número de DNI y calcule e imprima la letra correspondiente."
   ]
  },
  {
   "cell_type": "markdown",
   "id": "fourth-timothy",
   "metadata": {},
   "source": [
    "<a id=\"u1c3.8\"></a>\n",
    "## Cuestionario Moodle\n",
    "\n",
    "[Cuestionario Cadenas](https://moodle.upm.es/titulaciones/oficiales/mod/quiz/view.php?id=197628)"
   ]
  },
  {
   "cell_type": "code",
   "execution_count": null,
   "id": "a249b41d",
   "metadata": {},
   "outputs": [],
   "source": []
  }
 ],
 "metadata": {
  "kernelspec": {
   "display_name": "Python 3 (ipykernel)",
   "language": "python",
   "name": "python3"
  },
  "language_info": {
   "codemirror_mode": {
    "name": "ipython",
    "version": 3
   },
   "file_extension": ".py",
   "mimetype": "text/x-python",
   "name": "python",
   "nbconvert_exporter": "python",
   "pygments_lexer": "ipython3",
   "version": "3.10.6"
  }
 },
 "nbformat": 4,
 "nbformat_minor": 5
}

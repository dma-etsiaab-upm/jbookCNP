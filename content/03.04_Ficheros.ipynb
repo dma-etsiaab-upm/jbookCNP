{
 "cells": [
  {
   "cell_type": "markdown",
   "id": "dominant-turtle",
   "metadata": {},
   "source": [
    "# Manejo de Ficheros\n",
    "\n",
    "* [Operaciones básicas con ficheros](#u3c4.1)\n",
    "* [Lectura de ficheros](#u3c4.2)\n",
    "* [Escritura en ficheros](#u3c4.3)\n",
    "* [Añadir información a un fichero](#u3c4.4)\n",
    "* [Códigos](#u3c4.5)\n",
    "* [Ejemplos](#u3c4.6)\n",
    "* [Ejercicios](#u3c4.7)\n",
    "\n",
    "\n",
    "Vamos a describir procedimientos para las siguientes cuestiones:\n",
    "\n",
    "* Leer el contenido de un fichero\n",
    "* Escribir información en un fichero\n",
    "* Añadir información a un fichero\n",
    "\n",
    "Se van a utilizar la ficheros: `Recuerde2.txt`, `numeros.txt`, `a18b.txt`,  `a18b_utf-8.txt`, `listado.txt` y `palabras_español_utf-8.txt`\n",
    "\n",
    "__Referencia__\n",
    "\n",
    "https://docs.python.org/3/tutorial/inputoutput.html#reading-and-writing-files\n"
   ]
  },
  {
   "cell_type": "markdown",
   "id": "0cc41743",
   "metadata": {},
   "source": [
    "<a id=\"u3c4.1\"></a>\n",
    "## Operaciones básicas con ficheros"
   ]
  },
  {
   "cell_type": "markdown",
   "id": "upset-motorcycle",
   "metadata": {},
   "source": [
    "Nombre | Uso | Efecto\n",
    ":-- | :-- | :--\n",
    "open  con r| fichero = open(nombre_archivo,'r') | abre el archivo \"nombre_archivo\" para lectura, genera una secuencia con las líneas del archivo y asigna al objeto creado a la variable \"fichero\" \n",
    "open con w    |  fichero = open(nombre_archivo,'w') | abre o crea el archivo \"nombre_archivo\" para escritura - borra el contenido del archivo si ya existiera\n",
    "close | fichero.close() | cierra el archivo que se había abierto y elimina el objeto \"fichero\""
   ]
  },
  {
   "cell_type": "markdown",
   "id": "seventh-partition",
   "metadata": {},
   "source": [
    "<a id=\"u3c4.2\"></a>\n",
    "## Lectura de ficheros"
   ]
  },
  {
   "cell_type": "markdown",
   "id": "ee376f70",
   "metadata": {},
   "source": [
    "Se genera un objeto con la función `open()` que toma por argumentos el nombre de un fichero y el parámetro `r` cuando se quiere leer (r -> read -> leer)"
   ]
  },
  {
   "cell_type": "code",
   "execution_count": null,
   "id": "infectious-consumer",
   "metadata": {},
   "outputs": [],
   "source": [
    "poema = open('../data/Recuerde2.txt', 'r', encoding = 'utf8')"
   ]
  },
  {
   "cell_type": "code",
   "execution_count": null,
   "id": "clean-college",
   "metadata": {},
   "outputs": [],
   "source": [
    "type(poema)"
   ]
  },
  {
   "cell_type": "markdown",
   "id": "synthetic-advance",
   "metadata": {},
   "source": [
    "Esto objeto es un iterable y cada elemento es una línea del fichero. Vamos a guardar la información en una lista: cada línea sera un elemento de la lista que creemos  "
   ]
  },
  {
   "cell_type": "code",
   "execution_count": null,
   "id": "successful-expense",
   "metadata": {},
   "outputs": [],
   "source": [
    "texto = []\n",
    "for linea in poema:\n",
    "    texto.append(linea)\n",
    "texto"
   ]
  },
  {
   "cell_type": "markdown",
   "id": "optical-reverse",
   "metadata": {},
   "source": [
    "Al acabar esta operación es muy importante cerrar el fichero"
   ]
  },
  {
   "cell_type": "code",
   "execution_count": null,
   "id": "featured-theology",
   "metadata": {},
   "outputs": [],
   "source": [
    "poema.close()"
   ]
  },
  {
   "cell_type": "markdown",
   "id": "private-breakdown",
   "metadata": {},
   "source": [
    "Veamos que pasa si imprimimos una línea detrás de otra"
   ]
  },
  {
   "cell_type": "code",
   "execution_count": null,
   "id": "worth-carbon",
   "metadata": {},
   "outputs": [],
   "source": [
    "for p in texto:\n",
    "    print(p)"
   ]
  },
  {
   "cell_type": "markdown",
   "id": "private-retreat",
   "metadata": {},
   "source": [
    "Es destacable que cada elemento, aparte de tener los caracteres de cada línea contiene el carácter que se representa por los símbolos `\\n`. Esto es un símbolo \"invisible\" con el que se indica que hay que empezar una nueva línea. Por esta razón aparece una línea en blanco al imprimir los elementos de la lista. El carácter que se representa con `\\n` produce un línea nueva.\n",
    "\n",
    "¿Como podemos deshacernos de él?  \n",
    "\n",
    "Veamos dos procedimientos\n",
    "\n",
    "__*Primer procedimiento:*__ añadir todos los caracteres de cada línea menos el último"
   ]
  },
  {
   "cell_type": "code",
   "execution_count": null,
   "id": "normal-cradle",
   "metadata": {},
   "outputs": [],
   "source": [
    "texto_nuevo = []\n",
    "for p in texto:\n",
    "    texto_nuevo.append(p[:-1])\n",
    "texto_nuevo"
   ]
  },
  {
   "cell_type": "markdown",
   "id": "flexible-blond",
   "metadata": {},
   "source": [
    "Veamos ahora que, efectivamente, ya no se imprime una línea en blanco. "
   ]
  },
  {
   "cell_type": "code",
   "execution_count": null,
   "id": "moderate-examination",
   "metadata": {},
   "outputs": [],
   "source": [
    "for p in texto_nuevo:\n",
    "    print(p)"
   ]
  },
  {
   "cell_type": "markdown",
   "id": "uniform-leeds",
   "metadata": {},
   "source": [
    "__*Segundo procedimiento:*__ utilizar el método `.strip()` de las cadenas (https://docs.python.org/3/library/stdtypes.html#string-methods)\n",
    "\n",
    "Cuando no se utiliza ningún argumento, este método elimina los caracteres en \"blanco\" delante y detrás de la cadena. En particular el carácter \"invisble\" correspondiente al cambio de línea, `\\n`.\n",
    "\n",
    "Algunos de los carateres \"invisbles\" son:` `, `\\t`, `\\n`, `\\r`, `\\x0b`y `\\x0c`."
   ]
  },
  {
   "cell_type": "code",
   "execution_count": null,
   "id": "27159e1a",
   "metadata": {},
   "outputs": [],
   "source": [
    "import string\n",
    "string.whitespace"
   ]
  },
  {
   "cell_type": "markdown",
   "id": "d6e86bef",
   "metadata": {},
   "source": [
    "Con este segundo método haríamos lo siguiente: "
   ]
  },
  {
   "cell_type": "code",
   "execution_count": null,
   "id": "limited-bronze",
   "metadata": {},
   "outputs": [],
   "source": [
    "texto_nuevo2 = []\n",
    "for p in texto:\n",
    "    texto_nuevo2.append(p.strip())\n",
    "texto_nuevo"
   ]
  },
  {
   "cell_type": "markdown",
   "id": "final-reporter",
   "metadata": {},
   "source": [
    "Si quiero que cada verso esté en una lista cuyos elementos son las palabras del correspondiente verso"
   ]
  },
  {
   "cell_type": "code",
   "execution_count": null,
   "id": "documented-jones",
   "metadata": {},
   "outputs": [],
   "source": [
    "lista = []\n",
    "poema = open('../data/Recuerde2.txt')\n",
    "for linea in poema:\n",
    "    verso = linea.strip()\n",
    "    #lista.append(verso)\n",
    "    lista.append(verso.split(' '))\n",
    "poema.close()\n",
    "lista"
   ]
  },
  {
   "cell_type": "markdown",
   "id": "a83de8ce",
   "metadata": {},
   "source": [
    "Hay que destacar que primero hay que quitar el caracter de cambio de linea con el método `.strip()`. Después se descompone la corresponiente cadena  a cada verso en palabras que formarán una lista con el método `.split()`. En este caso los cortes se hacen por la cadena del un espacio en blanco `' '`.  \n"
   ]
  },
  {
   "cell_type": "markdown",
   "id": "correct-dancing",
   "metadata": {},
   "source": [
    "### Ejemplos"
   ]
  },
  {
   "cell_type": "markdown",
   "id": "f25df2e4",
   "metadata": {},
   "source": [
    "1. El fichero ``numeros.txt`` contiene datos para lectura. Leemos su contenido de diferentes maneras y obtendremos el resultado de diferentes operaciones con los números que contiene el fichero."
   ]
  },
  {
   "cell_type": "code",
   "execution_count": null,
   "id": "labeled-patrick",
   "metadata": {},
   "outputs": [],
   "source": [
    "fichero=open('../data/numeros.txt','r')\n",
    "\n",
    "for linea in fichero:\n",
    "    print(linea.strip())\n",
    "    print(type(linea))\n",
    "\n",
    "fichero.close()"
   ]
  },
  {
   "cell_type": "markdown",
   "id": "2ed5f7ab",
   "metadata": {},
   "source": [
    "Observad, de nuevo, la diferenca de no utilizar o utilizar el método para cadenas `.strip()`"
   ]
  },
  {
   "cell_type": "code",
   "execution_count": null,
   "id": "utility-contact",
   "metadata": {},
   "outputs": [],
   "source": [
    "fichero = open('../data/numeros.txt','r')\n",
    "\n",
    "c1 = ''\n",
    "for linea in fichero:\n",
    "    c1 += linea\n",
    "print(c1)\n",
    "    \n",
    "fichero.close()"
   ]
  },
  {
   "cell_type": "code",
   "execution_count": null,
   "id": "rotary-lemon",
   "metadata": {},
   "outputs": [],
   "source": [
    "fichero = open('../data/numeros.txt','r')\n",
    "\n",
    "c2 = ''\n",
    "for linea in fichero:\n",
    "    c2 += linea.strip()  \n",
    "print(c2)\n",
    "\n",
    "fichero.close()"
   ]
  },
  {
   "cell_type": "markdown",
   "id": "20abf1cb",
   "metadata": {},
   "source": [
    "Ahora escribimos una lista con los elementos del objeto que genera `open()` cuando no se \"limpian\" los elementos de ese objeto iterable con el método `.srtrip()`."
   ]
  },
  {
   "cell_type": "code",
   "execution_count": 1,
   "id": "continuing-petroleum",
   "metadata": {},
   "outputs": [
    {
     "name": "stdout",
     "output_type": "stream",
     "text": [
      "['\\n', '0\\n', '1\\n', '2\\n', '3\\n', '4\\n', '5\\n', '6\\n', '7\\n', '8\\n', '9\\n', '3\\n', '4\\n', '7\\n', '3\\n', '4\\n', '7\\n', '3\\n', '4\\n', '7\\n', '3\\n', '4\\n', '7\\n', '3\\n', '4\\n', '7\\n', '3\\n', '4\\n', '7\\n', '3\\n', '4\\n', '7\\n', '3\\n', '4\\n', '7\\n', '3\\n', '4\\n', '7\\n', '3\\n', '4\\n', '7\\n']\n",
      "hola\n",
      "adios\n"
     ]
    }
   ],
   "source": [
    "fichero = open('../data/numeros.txt','r')\n",
    "\n",
    "contenido = []\n",
    "for linea in fichero:\n",
    "    contenido.append(linea)  \n",
    "\n",
    "print(contenido)\n",
    "print(\"hola\"+\"\\n\"+\"adios\")\n",
    "\n",
    "fichero.close()"
   ]
  },
  {
   "cell_type": "markdown",
   "id": "devoted-amber",
   "metadata": {},
   "source": [
    "Necesitamos quitar los saltos de línea que aparecen. El método `.strip()` elimina los espacios en blanco y los saltos de línea de una cadena"
   ]
  },
  {
   "cell_type": "code",
   "execution_count": 2,
   "id": "sharing-gibson",
   "metadata": {},
   "outputs": [
    {
     "name": "stdout",
     "output_type": "stream",
     "text": [
      "['3', '4', '7']\n"
     ]
    }
   ],
   "source": [
    "fichero=open('../data/numeros.txt','r')\n",
    "\n",
    "contenido=[]\n",
    "for linea in fichero:\n",
    "    contenido.append(linea.strip())  \n",
    "\n",
    "print(contenido)\n",
    "\n",
    "fichero.close()"
   ]
  },
  {
   "cell_type": "markdown",
   "id": "editorial-response",
   "metadata": {},
   "source": [
    "Hemos conseguido construir una lista con las líneas que contenía el archivo. Ahora trabajaremos con ellas  "
   ]
  },
  {
   "cell_type": "code",
   "execution_count": null,
   "id": "sublime-appendix",
   "metadata": {},
   "outputs": [],
   "source": [
    "fichero = open('../data/numeros.txt','r')\n",
    "\n",
    "contenido=[]\n",
    "\n",
    "for linea in fichero:\n",
    "    contenido.append(linea.strip()) \n",
    "suma = 0\n",
    "\n",
    "for elemento in contenido[1:]:\n",
    "    suma += int(elemento)\n",
    "\n",
    "fichero.close()\n",
    "\n",
    "print(suma/(len(contenido[1:])))"
   ]
  },
  {
   "cell_type": "code",
   "execution_count": null,
   "id": "f8a529c8",
   "metadata": {},
   "outputs": [],
   "source": [
    "contenido"
   ]
  },
  {
   "cell_type": "markdown",
   "id": "willing-update",
   "metadata": {},
   "source": [
    "¿Quien es suma?"
   ]
  },
  {
   "cell_type": "markdown",
   "id": "indie-legislature",
   "metadata": {},
   "source": [
    "Definimos una función `suma(lista)` que tome el fichero anterior y devuelva suma de los números que contiene el fichero."
   ]
  },
  {
   "cell_type": "code",
   "execution_count": null,
   "id": "applicable-formation",
   "metadata": {},
   "outputs": [],
   "source": [
    "def suma(lista):\n",
    "    fichero = open(lista,'r')\n",
    "    contenido = []\n",
    "    for linea in fichero:\n",
    "        contenido.append(linea.strip()) \n",
    "    suma = 0\n",
    "    for elemento in contenido[1:]:\n",
    "        suma += int(elemento)\n",
    "    fichero.close()\n",
    "    return suma"
   ]
  },
  {
   "cell_type": "code",
   "execution_count": null,
   "id": "incident-automation",
   "metadata": {},
   "outputs": [],
   "source": [
    "suma(\"../data/numeros.txt\")"
   ]
  },
  {
   "cell_type": "code",
   "execution_count": null,
   "id": "mysterious-eagle",
   "metadata": {},
   "outputs": [],
   "source": [
    "fichero = open('../data/numeros.txt','r')\n",
    "\n",
    "contenido = []\n",
    "for linea in fichero:\n",
    "    contenido.append(linea.strip()) \n",
    "\n",
    "s = int(contenido[1])+int(contenido[len(contenido)-1])  \n",
    "\n",
    "fichero.close()\n",
    "\n",
    "print(s)"
   ]
  },
  {
   "cell_type": "markdown",
   "id": "utility-breach",
   "metadata": {},
   "source": [
    "¿Quien es `s`?"
   ]
  },
  {
   "cell_type": "markdown",
   "id": "vertical-serbia",
   "metadata": {},
   "source": [
    "Definimos una función `suma1(lista)` que tome el fichero anterior y devuelva `s`"
   ]
  },
  {
   "cell_type": "code",
   "execution_count": null,
   "id": "injured-address",
   "metadata": {},
   "outputs": [],
   "source": [
    "def suma1(lista):\n",
    "    fichero = open(lista,'r')\n",
    "    contenido = []\n",
    "    for linea in fichero:\n",
    "        contenido.append(linea.strip()) \n",
    "    s = int(contenido[1]) + int(contenido[len(contenido)-1])  \n",
    "    fichero.close()\n",
    "    return(s)"
   ]
  },
  {
   "cell_type": "code",
   "execution_count": null,
   "id": "durable-organization",
   "metadata": {},
   "outputs": [],
   "source": [
    "suma1(\"../data/numeros.txt\")"
   ]
  },
  {
   "cell_type": "markdown",
   "id": "centered-acrobat",
   "metadata": {},
   "source": [
    "2. El fichero `a18b.txt` contiene el listado de palabras del diccionario RAE que comienzan por `a` y tienen exactamente 18 letras."
   ]
  },
  {
   "cell_type": "code",
   "execution_count": null,
   "id": "residential-daisy",
   "metadata": {},
   "outputs": [],
   "source": [
    "fichero = open('../data/a18b.txt','r')"
   ]
  },
  {
   "cell_type": "markdown",
   "id": "built-judgment",
   "metadata": {},
   "source": [
    "fichero es un objeto que contiene las líneas de `a18b.txt`. Se puede iterar sobre él:"
   ]
  },
  {
   "cell_type": "code",
   "execution_count": null,
   "id": "supposed-photographer",
   "metadata": {},
   "outputs": [],
   "source": [
    "for linea in fichero:\n",
    "    print(linea)"
   ]
  },
  {
   "cell_type": "code",
   "execution_count": null,
   "id": "dental-infection",
   "metadata": {},
   "outputs": [],
   "source": [
    "fichero.close()"
   ]
  },
  {
   "cell_type": "markdown",
   "id": "sound-wisdom",
   "metadata": {},
   "source": [
    "Aunque Python ha imprimido las palabras contenidas en el fichero, ha dejado entre ellas una línea que no hemos pedido.\n",
    "\n",
    "Si creamos una lista con las palabras de `a18.txt` veremos por que ocurre esto."
   ]
  },
  {
   "cell_type": "code",
   "execution_count": null,
   "id": "coordinate-kuwait",
   "metadata": {},
   "outputs": [],
   "source": [
    "fichero = open('../data/a18b.txt','r')\n",
    "palabras18 = []\n",
    "for u in fichero:\n",
    "    palabras18.append(u)\n",
    "    \n",
    "fichero.close()\n",
    "\n",
    "palabras18"
   ]
  },
  {
   "cell_type": "markdown",
   "id": "vocal-ceiling",
   "metadata": {},
   "source": [
    "Vemos que al final de cada palabra aparece el símbolo `\\n`. Ese símbolo tiene la función de indicarle a Python que salte a la línea siguiente.\n",
    "\n",
    "Nosotros no lo necesitamos. Por ello, podemos crear la lista palabras18 de dos formas:"
   ]
  },
  {
   "cell_type": "code",
   "execution_count": null,
   "id": "tracked-velvet",
   "metadata": {},
   "outputs": [],
   "source": [
    "fichero = open('../data/a18b.txt','r')\n",
    "palabras18 = []\n",
    "for u in fichero:\n",
    "    palabras18.append(u[:-1])\n",
    "    \n",
    "fichero.close()\n",
    "\n",
    "palabras18"
   ]
  },
  {
   "cell_type": "markdown",
   "id": "spanish-plaintiff",
   "metadata": {},
   "source": [
    "O también:"
   ]
  },
  {
   "cell_type": "code",
   "execution_count": null,
   "id": "devoted-designer",
   "metadata": {},
   "outputs": [],
   "source": [
    "fichero = open('../data/a18b.txt','r')\n",
    "palabras18 = []\n",
    "for u in fichero:\n",
    "    palabras18.append(u.strip())\n",
    "    \n",
    "fichero.close()\n",
    "\n",
    "palabras18"
   ]
  },
  {
   "cell_type": "markdown",
   "id": "spare-communication",
   "metadata": {},
   "source": [
    "El método `strip()` para cadenas elimina los espacios en blanco y saltos de línea al principio y final de la palabra."
   ]
  },
  {
   "cell_type": "markdown",
   "id": "19905646",
   "metadata": {},
   "source": [
    "<a id=\"u3c4.3\"></a>\n",
    "## Escritura en ficheros"
   ]
  },
  {
   "cell_type": "markdown",
   "id": "atomic-duncan",
   "metadata": {},
   "source": [
    "Nombre | Uso | Efecto\n",
    ":-- | :-- | :--\n",
    "open con w    |  fichero = open(nombre_archivo,'w') | abre o crea el archivo \"nombre_archivo\" para escritura creando el objeto \"fichero\" - borra el contenido del archivo si ya existiera\n",
    "write  | fichero.write(texto) | añade una línea con la cadena \"texto\" al archivo que se ha abierto usando el objeto \"fichero\"\n",
    "\n",
    "Ahora se utliza la función `open()` con el argumento `w` (w -> write -> escribir)."
   ]
  },
  {
   "cell_type": "code",
   "execution_count": null,
   "id": "cathedral-difference",
   "metadata": {},
   "outputs": [],
   "source": [
    "numeros1_w = open('../data/numeros1.txt', 'w')\n",
    "numeros1_w.write('\\n')\n",
    "for p in range(3):\n",
    "    numeros1_w.write(str(p) + '\\n')"
   ]
  },
  {
   "cell_type": "markdown",
   "id": "minute-nigeria",
   "metadata": {},
   "source": [
    "Al invocar `open()` con la opción `w`, se crea un fichero con el nombre especificado\n",
    "\n",
    "**Atención:** si hubiera un fichero con el nombre especificado, desaparecería.\n",
    "\n",
    "Como antes, una vez acabado le trabajo requerido, se debe cerrar el fichero. "
   ]
  },
  {
   "cell_type": "code",
   "execution_count": null,
   "id": "mexican-wings",
   "metadata": {},
   "outputs": [],
   "source": [
    "numeros1_w.close()"
   ]
  },
  {
   "cell_type": "markdown",
   "id": "comparable-reward",
   "metadata": {},
   "source": [
    "Veamos si se ha guardado la información como se deseaba"
   ]
  },
  {
   "cell_type": "code",
   "execution_count": null,
   "id": "original-botswana",
   "metadata": {},
   "outputs": [],
   "source": [
    "numeros1_r = open('../data/numeros1.txt', 'r')"
   ]
  },
  {
   "cell_type": "code",
   "execution_count": null,
   "id": "unauthorized-spoke",
   "metadata": {},
   "outputs": [],
   "source": [
    "numeros1 = []\n",
    "for linea in numeros1_r:\n",
    "    if len(linea.strip()) == 0:\n",
    "        numeros1.append(linea.strip())\n",
    "    else:\n",
    "        numeros1.append(int(linea.strip()))\n",
    "numeros1"
   ]
  },
  {
   "cell_type": "code",
   "execution_count": null,
   "id": "gothic-worst",
   "metadata": {},
   "outputs": [],
   "source": [
    "numeros_r.close()"
   ]
  },
  {
   "cell_type": "markdown",
   "id": "ranging-purse",
   "metadata": {},
   "source": [
    "### Ejemplos"
   ]
  },
  {
   "cell_type": "markdown",
   "id": "09d984e1",
   "metadata": {},
   "source": [
    "1. El fichero `numeros.txt` contiene números. Creamos un fichero nuevo `divisiones.txt` donde escribimos cada uno de los números del fichero numeros.txt dividido entre 2 "
   ]
  },
  {
   "cell_type": "code",
   "execution_count": null,
   "id": "undefined-bullet",
   "metadata": {},
   "outputs": [],
   "source": [
    "fichero_n = open('../data/numeros.txt','r')\n",
    "\n",
    "contenido = []\n",
    "for linea in fichero_n:\n",
    "    contenido.append(linea.strip())  \n",
    "\n",
    "fichero_n.close()\n",
    "        \n",
    "fichero_d = open('../data/divisiones.txt', 'w')\n",
    "\n",
    "fichero_d.write('Resultados de la división\\n\\n')\n",
    "\n",
    "for u in contenido[1:]: \n",
    "    fichero_d.write(str(int(u)/2)+'\\n')\n",
    "        \n",
    "fichero_d.close()"
   ]
  },
  {
   "cell_type": "markdown",
   "id": "5d072b82",
   "metadata": {},
   "source": [
    "Observad que"
   ]
  },
  {
   "cell_type": "code",
   "execution_count": null,
   "id": "30f5b4b3",
   "metadata": {},
   "outputs": [],
   "source": [
    "contenido"
   ]
  },
  {
   "cell_type": "markdown",
   "id": "c7313fa0",
   "metadata": {},
   "source": [
    "Ahora se puede abrir el fichero `divisiones.txt` para ver que efectivamente contiene los números decimales que se obtienen al dividir por dos los números del fichero `numeros.txt`. Observad que la primera línea contiene el texto `Resultados de la división`, y después hay una línea en blanco; además la última también está en blanco."
   ]
  },
  {
   "cell_type": "markdown",
   "id": "handy-astrology",
   "metadata": {},
   "source": [
    "**Recordad**\n",
    "\n",
    "- Una vez que abrimos un archivo para escritura se borra su contenido.\n",
    "\n",
    "- No debemos olvidar cerrar los ficheros una vez que hemos trabajado con ellos, podrían dañarse si no lo hacemos.\n",
    "\n",
    "- Es posible leer o escribir ficheros en directorios distintos del directorio de trabajo.  Por ejemplo, si trabajos en el directorio **CNP**, contenido en el directorio **Clases** y queremos leer el archivo **apuntes.txt** del directorio **EDM** que también se encuentra en **Clases**, debemos escribir\n",
    "\n",
    "      '../EDM/apuntes.txt'"
   ]
  },
  {
   "cell_type": "markdown",
   "id": "e2bc6982",
   "metadata": {},
   "source": [
    "2. Creamos el fichero `a18_mayusculas.txt` donde escribimos las palabras de `a18b.txt` en letras mayúsculas. El contenido de este fichero lo volcamos, en un ejemplo anterior, en la lista `palabras18`.\n",
    "\n"
   ]
  },
  {
   "cell_type": "code",
   "execution_count": null,
   "id": "polished-penalty",
   "metadata": {},
   "outputs": [],
   "source": [
    "fichero = open('../data/a18_mayusculas.txt', 'w')\n",
    "\n",
    "fichero.write('Palabras de 18 letras del idioma español en mayúsculas\\n\\n')\n",
    "for u in palabras18:\n",
    "    fichero.write(u.upper() + '\\n')\n",
    "    \n",
    "fichero.close()"
   ]
  },
  {
   "cell_type": "markdown",
   "id": "8f395cf9",
   "metadata": {},
   "source": [
    "El fichero se guardará en el mismo directorio donde estamos trabajando."
   ]
  },
  {
   "cell_type": "markdown",
   "id": "fc9566fe",
   "metadata": {},
   "source": [
    "<a id=\"u3c4.4\"></a>\n",
    "## Añadir información a un fichero"
   ]
  },
  {
   "cell_type": "markdown",
   "id": "indian-diploma",
   "metadata": {},
   "source": [
    "Ahora se utiliza la opción `a`\n",
    "\n",
    "Nombre | Uso | Efecto\n",
    ":-- | :-- | :--\n",
    "open con a    |  fichero = open(nombre_archivo,'a') | abre o crea el archivo \"nombre_archivo\" para escritura creando el objeto \"fichero\" - no borra el contenido del archivo si ya existiera\n",
    "write  | fichero.write(texto) | añade una línea con la cadena \"texto\" al final del archivo que se ha abierto para escritura"
   ]
  },
  {
   "cell_type": "code",
   "execution_count": null,
   "id": "severe-primary",
   "metadata": {},
   "outputs": [],
   "source": [
    "numeros_wa = open('../data/numeros.txt', 'a')"
   ]
  },
  {
   "cell_type": "code",
   "execution_count": null,
   "id": "informative-chapter",
   "metadata": {},
   "outputs": [],
   "source": [
    "for p in range(3):\n",
    "    q = p**2 + 3\n",
    "    numeros_wa.write(str(q) + '\\n')"
   ]
  },
  {
   "cell_type": "code",
   "execution_count": null,
   "id": "expected-proxy",
   "metadata": {},
   "outputs": [],
   "source": [
    "numeros_wa.close()"
   ]
  },
  {
   "cell_type": "code",
   "execution_count": null,
   "id": "bored-parking",
   "metadata": {},
   "outputs": [],
   "source": [
    "numeros_wa_r = open('../data/numeros.txt', 'r')"
   ]
  },
  {
   "cell_type": "code",
   "execution_count": null,
   "id": "interracial-description",
   "metadata": {},
   "outputs": [],
   "source": [
    "numeros = []\n",
    "for p in numeros_wa_r:\n",
    "    numeros.append(p.strip())\n",
    "\n",
    "numeros_wa_r.close()\n",
    "numeros"
   ]
  },
  {
   "cell_type": "markdown",
   "id": "200ce340",
   "metadata": {},
   "source": [
    "<a id=\"u3c4.5\"></a>\n",
    "## Códigos"
   ]
  },
  {
   "cell_type": "markdown",
   "id": "5b416c19",
   "metadata": {},
   "source": [
    "Linux o Mac suelen usar el código `utf-8` para su los ficheros se producen. Sin embargo, Windows suele usar `cp1252`. Por esta, razón a veces será necesario utilizadr la opción `encoding` con el valor `utf8` si estamos en Windows y el ficehro se ha creado en Linux o `cp1252` si el fichero se ha creado en Windows y estamos en Linux."
   ]
  },
  {
   "cell_type": "code",
   "execution_count": null,
   "id": "c9e53b54",
   "metadata": {},
   "outputs": [],
   "source": [
    "fichero = open('../data/a18.txt','r')\n",
    "contenido = [elemento.strip() for elemento in fichero]\n",
    "fichero.close()\n",
    "contenido"
   ]
  },
  {
   "cell_type": "markdown",
   "id": "fe994805",
   "metadata": {},
   "source": [
    "En este fichero no se utliza el código `utf8`; utiliza el código `cp1252`"
   ]
  },
  {
   "cell_type": "code",
   "execution_count": null,
   "id": "7a05665f",
   "metadata": {},
   "outputs": [],
   "source": [
    "fichero = open('../data/a18.txt','r', encoding = 'cp1252')\n",
    "contenido = [elemento.strip() for elemento in fichero]\n",
    "fichero.close()\n",
    "contenido"
   ]
  },
  {
   "cell_type": "markdown",
   "id": "d68924ac",
   "metadata": {},
   "source": [
    "Para saber qué codigo se está utilizando usar la función `getpreferredencoding()` del módulo `locale`"
   ]
  },
  {
   "cell_type": "code",
   "execution_count": null,
   "id": "5914274b",
   "metadata": {},
   "outputs": [],
   "source": [
    "import locale\n",
    "locale.getpreferredencoding()"
   ]
  },
  {
   "cell_type": "markdown",
   "id": "2f223be0",
   "metadata": {},
   "source": [
    "Cuando se utilicen alguno de los ficheros de este curso en un sistema Windows habrá que utilizar la opción `encoding = 'utf8'`."
   ]
  },
  {
   "cell_type": "markdown",
   "id": "75ffc9e5",
   "metadata": {},
   "source": [
    "<a id=\"u3c4.6\"></a>\n",
    "## Ejemplos"
   ]
  },
  {
   "cell_type": "markdown",
   "id": "contemporary-conspiracy",
   "metadata": {},
   "source": [
    "1. Tenemos el fichero `listado.txt` donde se almacena el listado de las personas matriculadas en un curso. El listado contiene un nombre por línea:\n",
    "\n",
    "    Ana María Gómez Ramírez\n",
    "    \n",
    "    Abelardo Suarez López\n",
    "    \n",
    "    Carlos Pérez Manzano\n",
    "    \n",
    "    Azucena Pinto Rodríguez\n",
    "    \n",
    "    Miriam García Cuesta\n",
    "    \n",
    "    .......\n",
    "    \n",
    "\n",
    "Queremos realizar las siguientes acciones\n",
    "- Leer el listado desde el fichero para crear una lista donde se almacenarán las notas\n",
    "- Imprimir un listado de alumnos con su correspondiente nota en el archivo **notas.txt**\n",
    "\n",
    "Abrimos el archivo para lectura"
   ]
  },
  {
   "cell_type": "code",
   "execution_count": null,
   "id": "valued-inspection",
   "metadata": {},
   "outputs": [],
   "source": [
    "fichero = open('../data/listado.txt','r')"
   ]
  },
  {
   "cell_type": "markdown",
   "id": "pending-deviation",
   "metadata": {},
   "source": [
    "Creamos una lista con los nombres:"
   ]
  },
  {
   "cell_type": "code",
   "execution_count": null,
   "id": "prospective-stereo",
   "metadata": {},
   "outputs": [],
   "source": [
    "nombres = []\n",
    "for linea in fichero:\n",
    "    nombres.append(linea.strip())\n",
    "    \n",
    "fichero.close()"
   ]
  },
  {
   "cell_type": "markdown",
   "id": "outside-secondary",
   "metadata": {},
   "source": [
    "Creamos la lista `notas` con las notas correspondientes:"
   ]
  },
  {
   "cell_type": "code",
   "execution_count": null,
   "id": "strong-slide",
   "metadata": {},
   "outputs": [],
   "source": [
    "notas = [5,7.5, 6, 8, 4.5, 6, 3]"
   ]
  },
  {
   "cell_type": "markdown",
   "id": "ceramic-identity",
   "metadata": {},
   "source": [
    "Creamos el archivo `notas.txt` con la función `open()`, escribimos en él con la opción `w` y cerramos el objeto `fichero` que acabamos de crear:"
   ]
  },
  {
   "cell_type": "code",
   "execution_count": null,
   "id": "promising-authorization",
   "metadata": {},
   "outputs": [],
   "source": [
    "fichero = open('../data/notas.txt', 'w')\n",
    "\n",
    "fichero.write('NOTAS'.rjust(15) + '\\n\\n')\n",
    "for u in range(len(nombres)):\n",
    "    fichero.write(nombres[u].ljust(30) + str(notas[u]).ljust(3) + '\\n')\n",
    "    \n",
    "fichero.close()"
   ]
  },
  {
   "cell_type": "markdown",
   "id": "a0017e0b",
   "metadata": {},
   "source": [
    "2. Definir la función `palabra_aleatoria(nombre_fichero)` que devuelve una palabra escogida aleatoriamente del fichero `nombre_fichero`. Aquí, `nombre_fichero` es una cadena de texto con el nombre de un archivo que contiene una lista de palabras, una por línea."
   ]
  },
  {
   "cell_type": "code",
   "execution_count": null,
   "id": "de8b0980",
   "metadata": {},
   "outputs": [],
   "source": [
    "def palabra_aleatoria(nombre_fichero):\n",
    "    fichero = open(nombre_fichero, 'r')\n",
    "    contenido = [u.strip() for u in fichero]\n",
    "    fichero.close()\n",
    "    from random import randint\n",
    "    N = len(contenido)\n",
    "    return contenido[randint(0, N - 1)] "
   ]
  },
  {
   "cell_type": "markdown",
   "id": "19870dc9",
   "metadata": {},
   "source": [
    "Llamamos la anterior para el archivo `palabras_español_utf-8.txt`"
   ]
  },
  {
   "cell_type": "code",
   "execution_count": null,
   "id": "studied-minneapolis",
   "metadata": {},
   "outputs": [],
   "source": [
    "palabra_aleatoria('../data/palabras_español_utf-8.txt')"
   ]
  },
  {
   "cell_type": "markdown",
   "id": "f05dfc14",
   "metadata": {},
   "source": [
    "Como hemos dicho antes, si se produce un error, ejecutar la siguiente celda que permite conocer que codificación utiliza tu ordenador"
   ]
  },
  {
   "cell_type": "code",
   "execution_count": null,
   "id": "2865e068",
   "metadata": {},
   "outputs": [],
   "source": [
    "import locale\n",
    "locale.getpreferredencoding()"
   ]
  },
  {
   "cell_type": "markdown",
   "id": "8c628048",
   "metadata": {},
   "source": [
    "Si no devuelve `utf8`, habrá que utilizar `fichero = open(lista, 'r', encoding = 'utf8')` en la definición de la anterior función. Esta función devolverá `cp1252` en Windows."
   ]
  },
  {
   "cell_type": "markdown",
   "id": "north-eugene",
   "metadata": {},
   "source": [
    "3. Definir la función `palabra_aleatoria_5(nombre_fichero)` que devuelve una palabra de cinco letras escogida aleatoriamente del fichero `nombre_fichero`."
   ]
  },
  {
   "cell_type": "code",
   "execution_count": null,
   "id": "documentary-costume",
   "metadata": {},
   "outputs": [],
   "source": [
    "def palabra_aleatoria_5(nombre_fichero):\n",
    "    while True:\n",
    "        aux = palabra_aleatoria(nombre_fichero)\n",
    "        if len(aux) == 5:\n",
    "            break\n",
    "    return aux"
   ]
  },
  {
   "cell_type": "code",
   "execution_count": null,
   "id": "miniature-alexander",
   "metadata": {},
   "outputs": [],
   "source": [
    "palabra_aleatoria_5('../data/palabras_español_utf-8.txt')"
   ]
  },
  {
   "cell_type": "markdown",
   "id": "extended-marketplace",
   "metadata": {},
   "source": [
    "4. Definir la función `palabras(nombre_fichero,N)` que crea el fichero `Npalabras.txt`  que contiene `N` palabras, una por línea, escogidas aleatoriamente del fichero `nombre_fichero`. Observad que en cada llamada de la función `palabras()` el segundo parámetro es un número entero."
   ]
  },
  {
   "cell_type": "code",
   "execution_count": null,
   "id": "together-binding",
   "metadata": {},
   "outputs": [],
   "source": [
    "def palabras(nombre_fichero, N):\n",
    "    # creamos la lista aux con N palabras escogidas aleatoriamente\n",
    "    fichero = open(nombre_fichero, 'r', encoding = 'utf8')\n",
    "    contenido = [u.strip() for u in fichero]\n",
    "    fichero.close()\n",
    "    M = len(contenido)\n",
    "    from random import randint\n",
    "    aux = [contenido[randint(0, M - 1)] for u in range(N)]\n",
    "    \n",
    "    # creamos el fichero con la lista de palabras de aux\n",
    "    fichero = open(str(N) + '../data/palabras.txt', 'w')\n",
    "    for u in aux[:-1]:\n",
    "        fichero.write(u + '\\n')\n",
    "    fichero.write(aux[-1])\n",
    "    fichero.close()"
   ]
  },
  {
   "cell_type": "code",
   "execution_count": null,
   "id": "fifth-conviction",
   "metadata": {},
   "outputs": [],
   "source": [
    "palabras('../data/palabras_español_utf-8.txt', 10)"
   ]
  },
  {
   "cell_type": "markdown",
   "id": "medium-medicaid",
   "metadata": {},
   "source": [
    "5. Definir la función `mayor_longitud(nombre_fichero)` que devuelve la mayor longitud de las palabras contendias en el fichero `nombre_fichero`."
   ]
  },
  {
   "cell_type": "code",
   "execution_count": null,
   "id": "complimentary-mattress",
   "metadata": {},
   "outputs": [],
   "source": [
    "def mayor_longitud(nombre_fichero):\n",
    "    fichero = open(nombre_fichero, 'r', encoding = 'utf8')\n",
    "    contenido = [u.strip() for u in fichero]\n",
    "    fichero.close()\n",
    "    aux = [len(u) for u in contenido]\n",
    "    return max(aux)"
   ]
  },
  {
   "cell_type": "code",
   "execution_count": null,
   "id": "scientific-thompson",
   "metadata": {},
   "outputs": [],
   "source": [
    "mayor_longitud('../data/palabras_español_utf-8.txt')"
   ]
  },
  {
   "cell_type": "markdown",
   "id": "loaded-basics",
   "metadata": {},
   "source": [
    "En los siguientes ejercicios, el archivo `nombre_fichero` es una cadena de texto con el nombre de un archivo que contiene una lista de números enteros, uno por línea."
   ]
  },
  {
   "cell_type": "markdown",
   "id": "embedded-pepper",
   "metadata": {},
   "source": [
    "6. Definir la función `mayor(nombre_fichero)` que devuelve el mayor de los números contenidos en el fichero `nombre_fichero`."
   ]
  },
  {
   "cell_type": "markdown",
   "id": "1c8545b1",
   "metadata": {},
   "source": [
    "Busquemos primero qué código debemos usar en la función que nos piden."
   ]
  },
  {
   "cell_type": "code",
   "execution_count": null,
   "id": "cd7ef109",
   "metadata": {},
   "outputs": [],
   "source": [
    "fichero = open('../data/numeros.txt', 'r', encoding = 'utf8')\n",
    "contenido = [u.strip() for u in fichero]\n",
    "fichero.close()\n",
    "print(contenido)"
   ]
  },
  {
   "cell_type": "code",
   "execution_count": null,
   "id": "2b3bccd7",
   "metadata": {},
   "outputs": [],
   "source": [
    "contenido_i = [int(u) for u in contenido if u != '']\n",
    "print(contenido_i)"
   ]
  },
  {
   "cell_type": "markdown",
   "id": "6cd08fb5",
   "metadata": {},
   "source": [
    "Se ha de eliminar el caso en el que tengamos una línea en blanco. Al utilizar el método `.striop()` la línea en blanco se convierte en una cadena vacia."
   ]
  },
  {
   "cell_type": "code",
   "execution_count": null,
   "id": "ambient-channels",
   "metadata": {},
   "outputs": [],
   "source": [
    "def mayor(nombre_fichero):\n",
    "    fichero = open(nombre_fichero, 'r', encoding = 'utf8')\n",
    "    contenido = [int(u.strip()) for u in fichero if u.strip() != '']\n",
    "    fichero.close()\n",
    "    return max(contenido)"
   ]
  },
  {
   "cell_type": "code",
   "execution_count": null,
   "id": "viral-syntax",
   "metadata": {},
   "outputs": [],
   "source": [
    "mayor('../data/numeros.txt')"
   ]
  },
  {
   "cell_type": "markdown",
   "id": "private-marks",
   "metadata": {},
   "source": [
    "7. Definir la función `cuantos(nombre_fichero)` que devuelve la cantidad de  números contenidos en el fichero `nombre_fichero`."
   ]
  },
  {
   "cell_type": "code",
   "execution_count": null,
   "id": "wireless-mobility",
   "metadata": {},
   "outputs": [],
   "source": [
    "def cuantos(nombre_fichero):\n",
    "    fichero = open(nombre_fichero, 'r')\n",
    "    contenido = [int(u.strip()) for u in fichero if u.strip() != '']\n",
    "    fichero.close()\n",
    "    return len(contenido)"
   ]
  },
  {
   "cell_type": "code",
   "execution_count": null,
   "id": "spoken-welding",
   "metadata": {},
   "outputs": [],
   "source": [
    "cuantos('../data/numeros.txt')"
   ]
  },
  {
   "cell_type": "markdown",
   "id": "angry-conjunction",
   "metadata": {},
   "source": [
    "8. Definir la función `media(nombre_fichero)`  que devuelve la media de los números contenidos en el fichero `nombre_fichero` con dos decimales."
   ]
  },
  {
   "cell_type": "code",
   "execution_count": null,
   "id": "liberal-remove",
   "metadata": {},
   "outputs": [],
   "source": [
    "def media(lista):\n",
    "    fichero = open(lista, 'r')\n",
    "    contenido = [int(u.strip()) for u in fichero if u.strip() != '']\n",
    "    fichero.close()\n",
    "    return round(sum(contenido)/len(contenido), 2)"
   ]
  },
  {
   "cell_type": "code",
   "execution_count": null,
   "id": "herbal-signature",
   "metadata": {},
   "outputs": [],
   "source": [
    "media('../data/numeros.txt')"
   ]
  },
  {
   "cell_type": "markdown",
   "id": "understanding-water",
   "metadata": {},
   "source": [
    "<a id=\"u3c4.7\"></a>\n",
    "## Ejercicios"
   ]
  },
  {
   "cell_type": "markdown",
   "id": "greek-pricing",
   "metadata": {},
   "source": [
    "1. Crear un archivo que contenga la tabla de multiplicar por 7 con el formato:\n",
    "\n",
    "    7 x 1 =  7\n",
    "\n",
    "    7 x 2 = 14\n",
    "\n",
    "    7 x 3 = 21\n",
    "\n",
    "    ...\n",
    "    \n",
    "    7 x 9 = 63 \n",
    "    \n",
    "\n",
    "2. Definir una función `palabra_larga(nombre_fichero)` que devuelva la palabra más larga en el fichero `nombre_fichero`. Utilizar el archivo `palabras_español_utf-8.txt`para probar la función.\n",
    "\n",
    "3. Definir la función `palabra_aleatoria(nombre_fichero)` que devuelve una palabra escogida aleatoriamente del fichero `nombre_fichero`. Utilizar el archivo `palabras_español_utf-8.txt` para probar la función.\n",
    "    \n",
    "    Obs. Necesitamos la función `randint()` de la librería `random`. Utilizar la expresión **from random import randint** para cargar la librería.\n",
    "    \n",
    "4. Definir la función cifrar(mensaje, resultado) que lee un texto del archivo `mensaje.txt`, lo cifra y lo escribe en el fichero `resultado.txt`. Para el cifrado, a cada letra se le hace corresponder la siguiente en el orden alfabético y a la `z` la `a`. Los signos de puntuación no se cambian. El mensaje no contiene vocales con tilde.  "
   ]
  },
  {
   "cell_type": "markdown",
   "id": "featured-trainer",
   "metadata": {},
   "source": [
    "## U3.4.6 Cuestionarios de Moodle\n",
    "\n",
    "[Estadística de una encuesta](https://moodle.upm.es/titulaciones/oficiales/mod/quiz/view.php?id=230409)"
   ]
  }
 ],
 "metadata": {
  "kernelspec": {
   "display_name": "Python 3 (ipykernel)",
   "language": "python",
   "name": "python3"
  },
  "language_info": {
   "codemirror_mode": {
    "name": "ipython",
    "version": 3
   },
   "file_extension": ".py",
   "mimetype": "text/x-python",
   "name": "python",
   "nbconvert_exporter": "python",
   "pygments_lexer": "ipython3",
   "version": "3.12.3"
  }
 },
 "nbformat": 4,
 "nbformat_minor": 5
}

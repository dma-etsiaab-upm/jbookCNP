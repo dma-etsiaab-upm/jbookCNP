{
 "cells": [
  {
   "cell_type": "markdown",
   "id": "current-reform",
   "metadata": {},
   "source": [
    "# Tuplas, listas y, de nuevo, cadenas \n",
    "\n",
    "* [Tuplas](#u3c2.1)\n",
    "* [Operaciones para los tres tipos](#u3c2.2)\n",
    "* [Funciones para los tres tipos](#u3c2.3)\n",
    "* [Iteración](#u3c2.4)\n",
    "* [Métodos para los tres tipos](#u3c2.5)\n",
    "* [Métodos para cadenas](#u3c2.6)\n",
    "* [Cadenas y listas](#u3c2.7)\n",
    "* [Ejemplos](#u3c2.8)\n",
    "* [Ejercicios](#u3c2.9)\n",
    "* [Cuestionarios Moodle](#u3c2.10)"
   ]
  },
  {
   "cell_type": "markdown",
   "id": "dressed-hydrogen",
   "metadata": {},
   "source": [
    "<a id=\"u3c2.1\"></a>\n",
    "## Tuplas\n",
    "\n",
    "**Referencia**\n",
    "\n",
    "https://docs.python.org/3.5/library/stdtypes.html#sequence-types-list-tuple-range"
   ]
  },
  {
   "cell_type": "markdown",
   "id": "prompt-canvas",
   "metadata": {},
   "source": [
    "Secuencias **inmutables** de objetos de cualquier tipo"
   ]
  },
  {
   "cell_type": "code",
   "execution_count": null,
   "id": "another-direction",
   "metadata": {},
   "outputs": [],
   "source": [
    "t = (2, 3., 'abd', [3, True], (4,), (4.7, 'a'), ())"
   ]
  },
  {
   "cell_type": "code",
   "execution_count": null,
   "id": "acoustic-today",
   "metadata": {},
   "outputs": [],
   "source": [
    "t"
   ]
  },
  {
   "cell_type": "code",
   "execution_count": null,
   "id": "c1262346",
   "metadata": {},
   "outputs": [],
   "source": [
    "a = 3, True"
   ]
  },
  {
   "cell_type": "code",
   "execution_count": null,
   "id": "3133116f",
   "metadata": {},
   "outputs": [],
   "source": [
    "a"
   ]
  },
  {
   "cell_type": "markdown",
   "id": "obvious-matthew",
   "metadata": {},
   "source": [
    "Observadad que la tupla con un solo elemento lleva una coma"
   ]
  },
  {
   "cell_type": "markdown",
   "id": "21216481",
   "metadata": {},
   "source": [
    "No se pueden reasignar los elementos de una tupla. POr esto son objetos inmutables. Esta es la principal diferencia entre las tuplas y las listas. La celda de abajo debe dar un error."
   ]
  },
  {
   "cell_type": "code",
   "execution_count": null,
   "id": "fe6dcc89",
   "metadata": {},
   "outputs": [],
   "source": [
    "t[1] = 1"
   ]
  },
  {
   "cell_type": "markdown",
   "id": "printable-addiction",
   "metadata": {},
   "source": [
    "### Algunos usos de las tuplas"
   ]
  },
  {
   "cell_type": "markdown",
   "id": "spread-bishop",
   "metadata": {},
   "source": [
    "Empaquetar valores:\n",
    "\n",
    "_Cuando se introduce una secuencia de valores, que pueden ser de diferentes tipos, se genera una tupla_"
   ]
  },
  {
   "cell_type": "code",
   "execution_count": null,
   "id": "authentic-handbook",
   "metadata": {},
   "outputs": [],
   "source": [
    "x = 3\n",
    "y = 5.8\n",
    "z = 23\n",
    "t1 = x, y, x"
   ]
  },
  {
   "cell_type": "code",
   "execution_count": null,
   "id": "organic-shoulder",
   "metadata": {},
   "outputs": [],
   "source": [
    "t1"
   ]
  },
  {
   "cell_type": "markdown",
   "id": "finnish-television",
   "metadata": {},
   "source": [
    "Desempaquetar valores:"
   ]
  },
  {
   "cell_type": "code",
   "execution_count": null,
   "id": "herbal-cancellation",
   "metadata": {},
   "outputs": [],
   "source": [
    "t2 = (4.5, 7.2, 3.)\n",
    "u, v, w = t2"
   ]
  },
  {
   "cell_type": "code",
   "execution_count": null,
   "id": "painful-pillow",
   "metadata": {},
   "outputs": [],
   "source": [
    "u"
   ]
  },
  {
   "cell_type": "markdown",
   "id": "optional-mountain",
   "metadata": {},
   "source": [
    "Asignación simultánea de valores:"
   ]
  },
  {
   "cell_type": "code",
   "execution_count": null,
   "id": "catholic-liverpool",
   "metadata": {},
   "outputs": [],
   "source": [
    "p, q = 'abc', 'xyz'"
   ]
  },
  {
   "cell_type": "code",
   "execution_count": null,
   "id": "forty-illinois",
   "metadata": {},
   "outputs": [],
   "source": [
    "q"
   ]
  },
  {
   "cell_type": "markdown",
   "id": "passive-constitution",
   "metadata": {},
   "source": [
    "Intercambio de valores entre dos variables:"
   ]
  },
  {
   "cell_type": "code",
   "execution_count": null,
   "id": "horizontal-visit",
   "metadata": {},
   "outputs": [],
   "source": [
    "a = 3\n",
    "b = 2\n",
    "a, b = b, a"
   ]
  },
  {
   "cell_type": "code",
   "execution_count": null,
   "id": "touched-parks",
   "metadata": {},
   "outputs": [],
   "source": [
    "a, b"
   ]
  },
  {
   "cell_type": "markdown",
   "id": "spiritual-outside",
   "metadata": {},
   "source": [
    "Una forma más larga"
   ]
  },
  {
   "cell_type": "code",
   "execution_count": null,
   "id": "corresponding-fraction",
   "metadata": {},
   "outputs": [],
   "source": [
    "a = 3\n",
    "b = 2\n",
    "aux = b\n",
    "b = a\n",
    "a = aux\n",
    "a, b"
   ]
  },
  {
   "cell_type": "markdown",
   "id": "surprised-selling",
   "metadata": {},
   "source": [
    "<a id=\"u3c2.2\"></a>\n",
    "## Operaciones para los tres tipos\n"
   ]
  },
  {
   "cell_type": "code",
   "execution_count": null,
   "id": "thermal-concrete",
   "metadata": {},
   "outputs": [],
   "source": [
    "c = \"esto es una cadena\" # c es una cadena\n",
    "\n",
    "t = (1,3,6,3,4,5)        # t es una tupla \n",
    "\n",
    "l = [1,3,6,3,4,5]        # l es una lista"
   ]
  },
  {
   "cell_type": "markdown",
   "id": "drawn-overhead",
   "metadata": {},
   "source": [
    "**Indexado (\"indexing\"):** Como seleccionar una caracter de la cadena o un elemento de la tupla o de la lista. "
   ]
  },
  {
   "cell_type": "code",
   "execution_count": null,
   "id": "composed-creator",
   "metadata": {},
   "outputs": [],
   "source": [
    "c[0]"
   ]
  },
  {
   "cell_type": "code",
   "execution_count": null,
   "id": "joint-jungle",
   "metadata": {},
   "outputs": [],
   "source": [
    "t[0]"
   ]
  },
  {
   "cell_type": "code",
   "execution_count": null,
   "id": "economic-horse",
   "metadata": {},
   "outputs": [],
   "source": [
    "l[0]"
   ]
  },
  {
   "cell_type": "markdown",
   "id": "victorian-veteran",
   "metadata": {},
   "source": [
    "**Troceado (\"_slicing_\"):** Como seleccionar una trozo de la cadena, de la tupla o de la lista: subcadenas, sublistas y subtuplas "
   ]
  },
  {
   "cell_type": "code",
   "execution_count": null,
   "id": "responsible-opera",
   "metadata": {},
   "outputs": [],
   "source": [
    "c[2:5]"
   ]
  },
  {
   "cell_type": "code",
   "execution_count": null,
   "id": "three-benchmark",
   "metadata": {},
   "outputs": [],
   "source": [
    "t[2:5]"
   ]
  },
  {
   "cell_type": "code",
   "execution_count": null,
   "id": "widespread-married",
   "metadata": {},
   "outputs": [],
   "source": [
    "l[2:5]"
   ]
  },
  {
   "cell_type": "code",
   "execution_count": null,
   "id": "hazardous-homeless",
   "metadata": {},
   "outputs": [],
   "source": [
    "c[2:], t[:-1], l[1:2]"
   ]
  },
  {
   "cell_type": "code",
   "execution_count": null,
   "id": "marked-container",
   "metadata": {},
   "outputs": [],
   "source": [
    "c[::2], t[::-1], l[::2]"
   ]
  },
  {
   "cell_type": "markdown",
   "id": "small-montgomery",
   "metadata": {},
   "source": [
    "**Concatenar:** Como unir cadenas, tuplas o listas. "
   ]
  },
  {
   "cell_type": "code",
   "execution_count": null,
   "id": "secret-heater",
   "metadata": {},
   "outputs": [],
   "source": [
    "c1 = c + \" con otra\"\n",
    "c1"
   ]
  },
  {
   "cell_type": "code",
   "execution_count": null,
   "id": "sharp-accountability",
   "metadata": {},
   "outputs": [],
   "source": [
    "t1 = t + (7,15)\n",
    "t1"
   ]
  },
  {
   "cell_type": "code",
   "execution_count": null,
   "id": "lesser-marine",
   "metadata": {},
   "outputs": [],
   "source": [
    "l1= l + [20,56]\n",
    "l1"
   ]
  },
  {
   "cell_type": "code",
   "execution_count": null,
   "id": "limited-uncertainty",
   "metadata": {},
   "outputs": [],
   "source": [
    "c2 = c1 + 'a'\n",
    "t2 = (7, ) + t1\n",
    "l2 = l1 + [(3, 0)]\n",
    "c2, t2, l2"
   ]
  },
  {
   "cell_type": "markdown",
   "id": "southwest-moldova",
   "metadata": {},
   "source": [
    "**Repetición**"
   ]
  },
  {
   "cell_type": "code",
   "execution_count": null,
   "id": "organizational-heating",
   "metadata": {},
   "outputs": [],
   "source": [
    "7 * c1, 2 * t1, 3 * l1"
   ]
  },
  {
   "cell_type": "markdown",
   "id": "moved-telescope",
   "metadata": {},
   "source": [
    "**Pertenencia**"
   ]
  },
  {
   "cell_type": "code",
   "execution_count": null,
   "id": "tired-omaha",
   "metadata": {},
   "outputs": [],
   "source": [
    "'a' in c1, 'ab' not in t1, 1 in l1"
   ]
  },
  {
   "cell_type": "markdown",
   "id": "reliable-charm",
   "metadata": {},
   "source": [
    "<a id=\"u3c2.3\"></a>\n",
    "## Funciones para los tres tipos\n",
    "\n",
    "\n",
    "[Lista de funciones propias de Python](https://docs.python.org/3.7/library/functions.html)"
   ]
  },
  {
   "cell_type": "markdown",
   "id": "surprised-technique",
   "metadata": {},
   "source": [
    "### Longitud"
   ]
  },
  {
   "cell_type": "code",
   "execution_count": null,
   "id": "armed-qualification",
   "metadata": {},
   "outputs": [],
   "source": [
    "len(c1), len(t1), len(l1)"
   ]
  },
  {
   "cell_type": "markdown",
   "id": "characteristic-despite",
   "metadata": {},
   "source": [
    "### Max y min\n",
    "\n",
    "Los elementos del objeto deben de ser comparables; deben de ser del mismo tipo "
   ]
  },
  {
   "cell_type": "code",
   "execution_count": null,
   "id": "oriented-difference",
   "metadata": {},
   "outputs": [],
   "source": [
    "max(c1), min((3, 7, -20)), max(['ab', '1cb', 'W'])"
   ]
  },
  {
   "cell_type": "markdown",
   "id": "warming-weight",
   "metadata": {},
   "source": [
    "### Ordenar\n",
    "\n",
    "La función del nucleo de Python `sorted()` proporciona un procedimiento para ordenar este tipo de objetos (cadenas, tuplas o listas) si están formadas por elementos del mismo tipo. Por ejemplo: todos son cadenas, todos son números. Esta función convierte el objeto en una lista y después la ordena. La lista resultante estrá formada por objetos del mismo tipo."
   ]
  },
  {
   "cell_type": "code",
   "execution_count": null,
   "id": "sustainable-corrections",
   "metadata": {},
   "outputs": [],
   "source": [
    "c3 = 'ceha4'\n",
    "t3 = (15, 4, 7, 8, 10, 0)\n",
    "t4 = ('a', 'We', 'hn', '12')\n",
    "l3 = [15, 4, 7, 8, 10, 0.3]\n",
    "l4 = ['a', 'We', 'hn', '12']\n",
    "sorted(c3), sorted(t3), sorted(t4), sorted(l3), sorted(l4)"
   ]
  },
  {
   "cell_type": "code",
   "execution_count": null,
   "id": "rotary-ghost",
   "metadata": {},
   "outputs": [],
   "source": [
    "l5 = ['a', 'We', 'hn', '12', 1]\n",
    "sorted(l5)"
   ]
  },
  {
   "cell_type": "markdown",
   "id": "agreed-virgin",
   "metadata": {},
   "source": [
    "También funciona con tipos binarios"
   ]
  },
  {
   "cell_type": "code",
   "execution_count": null,
   "id": "abandoned-fantasy",
   "metadata": {},
   "outputs": [],
   "source": [
    "l6 = [True, False]\n",
    "sorted(l6)"
   ]
  },
  {
   "cell_type": "markdown",
   "id": "d0a9b442",
   "metadata": {},
   "source": [
    "<a id=\"u3c2.4\"></a>\n",
    "## Iteración"
   ]
  },
  {
   "cell_type": "markdown",
   "id": "4ed1dadc",
   "metadata": {},
   "source": [
    "Con tuplas: sumar los dígitos de un número entero positivo"
   ]
  },
  {
   "cell_type": "code",
   "execution_count": null,
   "id": "efbf65ec",
   "metadata": {},
   "outputs": [],
   "source": [
    "# sumar los dígitos de un entero posotivo\n",
    "# primero iteramos sobre la cadena asociada al entero positivo \n",
    "# cada elemento de la cadena lo convertimo en una tupla con un solo elemento  \n",
    "# a cada iteraión se concatena esta cada cadena a la anterior\n",
    "c = 743\n",
    "t = ()\n",
    "for p in str(c):\n",
    "    t += (int(p),)\n",
    "t"
   ]
  },
  {
   "cell_type": "code",
   "execution_count": null,
   "id": "2d7be0ff",
   "metadata": {},
   "outputs": [],
   "source": [
    "# ahora se suman los elementos de la tupla formada por enteros positivos\n",
    "suma = 0\n",
    "for p in t:\n",
    "    suma += p\n",
    "suma"
   ]
  },
  {
   "cell_type": "code",
   "execution_count": null,
   "id": "67194214",
   "metadata": {},
   "outputs": [],
   "source": [
    "# función para sumar los dígitos de un número entero positivo \n",
    "# se podría haber hecho con listas\n",
    "# obsérvese como se convierte  el entero en cadena para poder iterar \n",
    "def suma_digitos(entero):\n",
    "    temp = ()\n",
    "    rsltd = 0\n",
    "    for p in str(entero):\n",
    "        temp += (int(p),)\n",
    "    for q in temp:\n",
    "        rsltd += q\n",
    "    return rsltd\n",
    "\n",
    "z = suma_digitos(346)\n",
    "z"
   ]
  },
  {
   "cell_type": "markdown",
   "id": "e9b6b090",
   "metadata": {},
   "source": [
    "Formar una tupla con los tipos de los elementos de una tupla. Sería lo mismo para una lista"
   ]
  },
  {
   "cell_type": "code",
   "execution_count": null,
   "id": "3f140040",
   "metadata": {},
   "outputs": [],
   "source": [
    "# formar una tupla con los tipos de los elementos de una tupla\n",
    "rsltd = ()\n",
    "for p in t1:\n",
    "    rsltd += (type(p),)\n",
    "rsltd"
   ]
  },
  {
   "cell_type": "markdown",
   "id": "98f07b48",
   "metadata": {},
   "source": [
    "Considerar una tupla formada por enteros, cadenas, listas o tuplas. Vamos a escribir el código para generar una tupla con la longitud de los elementos de una lista del tipo anterior asignando la suma de sus dígitos a los enteros de dicha lista."
   ]
  },
  {
   "cell_type": "code",
   "execution_count": null,
   "id": "a3f64d13",
   "metadata": {},
   "outputs": [],
   "source": [
    "# formar una lista con la longitud de los elementos de una lista\n",
    "# si es un entero se añade a la lista la suma de los dígitos del entero positivo\n",
    "l = ()\n",
    "for p in l1:\n",
    "    if type(p) == int:\n",
    "        aux = str(abs(p))\n",
    "        l += (suma_digitos(aux),)\n",
    "    else:\n",
    "        l += (len(p),)\n",
    "l"
   ]
  },
  {
   "cell_type": "markdown",
   "id": "understood-equilibrium",
   "metadata": {},
   "source": [
    "<a id=\"u3c2.5\"></a>\n",
    "## Métodos para los tres tipos"
   ]
  },
  {
   "cell_type": "markdown",
   "id": "operational-overhead",
   "metadata": {},
   "source": [
    "### Índice"
   ]
  },
  {
   "cell_type": "markdown",
   "id": "communist-dragon",
   "metadata": {},
   "source": [
    "Devuelve el índice de la primera vez que aparece el elemento especificado. Si este elemento no existe, se produce un error "
   ]
  },
  {
   "cell_type": "code",
   "execution_count": null,
   "id": "brutal-segment",
   "metadata": {},
   "outputs": [],
   "source": [
    "c1 = 'cbedfg'\n",
    "t1 = (1, 'ab', (3,))\n",
    "l1 = [7, [9, 1, 7], 'mn']"
   ]
  },
  {
   "cell_type": "code",
   "execution_count": null,
   "id": "prescription-agenda",
   "metadata": {},
   "outputs": [],
   "source": [
    "c1.index('c'), t1.index('ab'), l1.index([9, 1, 7])"
   ]
  },
  {
   "cell_type": "markdown",
   "id": "norman-lithuania",
   "metadata": {},
   "source": [
    "El siguiente método para cadenas devuelve el entero `-1` cuando no existe el elmento especificado"
   ]
  },
  {
   "cell_type": "code",
   "execution_count": null,
   "id": "invalid-olive",
   "metadata": {},
   "outputs": [],
   "source": [
    "# solo para cadenas\n",
    "c1.find('c'), c1.find('H')"
   ]
  },
  {
   "cell_type": "markdown",
   "id": "national-columbia",
   "metadata": {},
   "source": [
    "En estos dos métodos se puede restringir el segmento de búsqueda. Por ejemplo:"
   ]
  },
  {
   "cell_type": "code",
   "execution_count": null,
   "id": "whole-banking",
   "metadata": {},
   "outputs": [],
   "source": [
    "l1.index(7, 0, -1)"
   ]
  },
  {
   "cell_type": "markdown",
   "id": "expanded-angle",
   "metadata": {},
   "source": [
    "### Contar"
   ]
  },
  {
   "cell_type": "code",
   "execution_count": null,
   "id": "essential-poultry",
   "metadata": {},
   "outputs": [],
   "source": [
    "c1.count('z'), t1.count('ab'), t1.count('a'), l1.count('z')"
   ]
  },
  {
   "cell_type": "markdown",
   "id": "polished-fellow",
   "metadata": {},
   "source": [
    "Para las cadenas se puede restrigir el segmento de búsqueda no para listas ni para tuplas"
   ]
  },
  {
   "cell_type": "code",
   "execution_count": null,
   "id": "official-trust",
   "metadata": {},
   "outputs": [],
   "source": [
    "'abacdefga'.count('a')"
   ]
  },
  {
   "cell_type": "code",
   "execution_count": null,
   "id": "selected-adapter",
   "metadata": {},
   "outputs": [],
   "source": [
    "'abacdefga'.count('a', 0, -1)"
   ]
  },
  {
   "cell_type": "code",
   "execution_count": null,
   "id": "arctic-permission",
   "metadata": {},
   "outputs": [],
   "source": [
    "t1.count((3,), 0, 1)"
   ]
  },
  {
   "cell_type": "markdown",
   "id": "deadly-player",
   "metadata": {},
   "source": [
    "<a id=\"u3c2.6\"></a>\n",
    "## Métodos para cadenas\n",
    "\n",
    "https://docs.python.org/3.5/library/stdtypes.html#string-methods"
   ]
  },
  {
   "cell_type": "markdown",
   "id": "round-kitchen",
   "metadata": {},
   "source": [
    "### Reemplazar"
   ]
  },
  {
   "cell_type": "code",
   "execution_count": null,
   "id": "paperback-dialogue",
   "metadata": {},
   "outputs": [],
   "source": [
    "c1 = 'cbedfg'\n",
    "c1.replace('c', 'z'), c1"
   ]
  },
  {
   "cell_type": "markdown",
   "id": "driving-universal",
   "metadata": {},
   "source": [
    "### Mayúsculas y minúsculas"
   ]
  },
  {
   "cell_type": "code",
   "execution_count": null,
   "id": "supported-hometown",
   "metadata": {},
   "outputs": [],
   "source": [
    "c1 = 'cbedfg'\n",
    "c1.capitalize(), c1.upper(), c1.islower(), c1.swapcase(), c1"
   ]
  },
  {
   "cell_type": "code",
   "execution_count": null,
   "id": "demographic-liquid",
   "metadata": {},
   "outputs": [],
   "source": [
    "c1.capitalize().lower().upper()"
   ]
  },
  {
   "cell_type": "markdown",
   "id": "nonprofit-smile",
   "metadata": {},
   "source": [
    "### Métodos de listas que también son de cadenas"
   ]
  },
  {
   "cell_type": "code",
   "execution_count": null,
   "id": "personal-collection",
   "metadata": {},
   "outputs": [],
   "source": [
    "c1.index('c')"
   ]
  },
  {
   "cell_type": "code",
   "execution_count": null,
   "id": "fitting-employee",
   "metadata": {},
   "outputs": [],
   "source": [
    "c1.count('e')"
   ]
  },
  {
   "cell_type": "markdown",
   "id": "presidential-duncan",
   "metadata": {},
   "source": [
    "También se pueden usar restringiendo el campo de búsqueda"
   ]
  },
  {
   "cell_type": "code",
   "execution_count": null,
   "id": "severe-aggregate",
   "metadata": {},
   "outputs": [],
   "source": [
    "c1.index('g', 0, )"
   ]
  },
  {
   "cell_type": "code",
   "execution_count": null,
   "id": "center-junior",
   "metadata": {},
   "outputs": [],
   "source": [
    "c1.index('c', 1, 3)"
   ]
  },
  {
   "cell_type": "code",
   "execution_count": null,
   "id": "seventh-nightmare",
   "metadata": {},
   "outputs": [],
   "source": [
    "c1.count('e', 3, -1)"
   ]
  },
  {
   "cell_type": "code",
   "execution_count": null,
   "id": "incorrect-assignment",
   "metadata": {},
   "outputs": [],
   "source": [
    "c1.count('g', 0, )"
   ]
  },
  {
   "cell_type": "markdown",
   "id": "2d4a922a",
   "metadata": {},
   "source": [
    "<a id=\"u3c2.7\"></a>\n",
    "## Cadenas y listas"
   ]
  },
  {
   "cell_type": "markdown",
   "id": "e565b500",
   "metadata": {},
   "source": [
    "### Hacer listas a partir de cadenas"
   ]
  },
  {
   "cell_type": "markdown",
   "id": "411912e4",
   "metadata": {},
   "source": [
    "1. Todos los elementos de la cadena pasan a elementos de un lista de caracteres con el mismo orden"
   ]
  },
  {
   "cell_type": "code",
   "execution_count": 1,
   "id": "b90a77cf",
   "metadata": {},
   "outputs": [
    {
     "data": {
      "text/plain": [
       "['a', 'm', ' ', 'd', 'e', ' ', '?', '_', '-', '&']"
      ]
     },
     "execution_count": 1,
     "metadata": {},
     "output_type": "execute_result"
    }
   ],
   "source": [
    "c1 = 'am de ?_-&'\n",
    "list(c1)"
   ]
  },
  {
   "cell_type": "markdown",
   "id": "985f265d",
   "metadata": {},
   "source": [
    "2. Se hace una lista con trozos de una cadena utilizando como separador el elemento que se elija de la cadena. Este elemento no se incluye."
   ]
  },
  {
   "cell_type": "markdown",
   "id": "887b27e6",
   "metadata": {},
   "source": [
    "Aquí se harán dos trozos ya que el caracter `'e'` aparece solo una vez"
   ]
  },
  {
   "cell_type": "code",
   "execution_count": 2,
   "id": "4527b3de",
   "metadata": {},
   "outputs": [
    {
     "data": {
      "text/plain": [
       "['am d', ' ?_-&']"
      ]
     },
     "execution_count": 2,
     "metadata": {},
     "output_type": "execute_result"
    }
   ],
   "source": [
    "c1.split('e')"
   ]
  },
  {
   "cell_type": "markdown",
   "id": "28b6b30a",
   "metadata": {},
   "source": [
    "Separar las palabras de un texto: ahora se harán muchos trozos porque el espacio en blanco aparece más de una vez"
   ]
  },
  {
   "cell_type": "code",
   "execution_count": null,
   "id": "de401ddd",
   "metadata": {},
   "outputs": [],
   "source": [
    "'Nos vamos a los puertos'.split(' ')"
   ]
  },
  {
   "cell_type": "markdown",
   "id": "68e604b0",
   "metadata": {},
   "source": [
    "El método `split` se podría utilizar para contar las palabras de un texto:"
   ]
  },
  {
   "cell_type": "code",
   "execution_count": null,
   "id": "5d4abdd6",
   "metadata": {},
   "outputs": [],
   "source": [
    "texto = 'se habían tomado diversas medidas para proteger a la población'\n",
    "\n",
    "M = texto.split(' ')\n",
    "\n",
    "len(M)"
   ]
  },
  {
   "cell_type": "markdown",
   "id": "abed5060",
   "metadata": {},
   "source": [
    "Sin argumento, el método `split()` divide por los espacios en blanco"
   ]
  },
  {
   "cell_type": "code",
   "execution_count": null,
   "id": "4d0054f2",
   "metadata": {},
   "outputs": [],
   "source": [
    "'uno dos tres'.split()"
   ]
  },
  {
   "cell_type": "markdown",
   "id": "41a76754",
   "metadata": {},
   "source": [
    "### Hacer cadenas a partir de listas"
   ]
  },
  {
   "cell_type": "markdown",
   "id": "4db8e9cc",
   "metadata": {},
   "source": [
    "El método, `.joint()`, es un método de las cadenas. Se aplica a una cadena y toma como argumento una lista: produce una cadena con los elmentos de la lista unidos por la cadena a la que se aplica "
   ]
  },
  {
   "cell_type": "code",
   "execution_count": null,
   "id": "7ad60db9",
   "metadata": {},
   "outputs": [],
   "source": [
    "c1 = 'hola y adios'\n",
    "l1 = list(c1)\n",
    "l2 = c1.split(' ')"
   ]
  },
  {
   "cell_type": "code",
   "execution_count": null,
   "id": "c09094ff",
   "metadata": {},
   "outputs": [],
   "source": [
    "l1"
   ]
  },
  {
   "cell_type": "code",
   "execution_count": null,
   "id": "973cc3b6",
   "metadata": {},
   "outputs": [],
   "source": [
    "l2"
   ]
  },
  {
   "cell_type": "markdown",
   "id": "1687b29a",
   "metadata": {},
   "source": [
    "Ahora formamos cadenas \"pegando\" los trozos que hay en una lista. el \"pegamento\" será una cadean. Abajo utilizamos las cadenas `'_'` y `' '`, como \"pegamento\"."
   ]
  },
  {
   "cell_type": "code",
   "execution_count": null,
   "id": "9af29f6f",
   "metadata": {},
   "outputs": [],
   "source": [
    "c2 = '_'.join(l1)\n",
    "c3 = '_'.join(l2)\n",
    "c4 = ' '.join(l2)"
   ]
  },
  {
   "cell_type": "code",
   "execution_count": null,
   "id": "008fa1db",
   "metadata": {},
   "outputs": [],
   "source": [
    "c2"
   ]
  },
  {
   "cell_type": "code",
   "execution_count": null,
   "id": "598a3d4e",
   "metadata": {},
   "outputs": [],
   "source": [
    "c3"
   ]
  },
  {
   "cell_type": "code",
   "execution_count": null,
   "id": "8a653b00",
   "metadata": {},
   "outputs": [],
   "source": [
    "c4"
   ]
  },
  {
   "cell_type": "markdown",
   "id": "0f908adf",
   "metadata": {},
   "source": [
    "__Observad__ que el argumento del método `.join()` debe ser una lista formada por cadenas "
   ]
  },
  {
   "cell_type": "code",
   "execution_count": null,
   "id": "809edfe9",
   "metadata": {},
   "outputs": [],
   "source": [
    "'.'.join([3, 2])"
   ]
  },
  {
   "cell_type": "code",
   "execution_count": null,
   "id": "dcb31ff9",
   "metadata": {},
   "outputs": [],
   "source": [
    "'.'.join(['3', '2'])"
   ]
  },
  {
   "cell_type": "markdown",
   "id": "95fc4363",
   "metadata": {},
   "source": [
    "**Convertir cadenas en listas y viceversa**\n",
    "\n",
    "Reelaborando lo anterior, as siguientes instrucciones resultan útiles si deseamos modificar cadenas:"
   ]
  },
  {
   "cell_type": "markdown",
   "id": "71bb83b6",
   "metadata": {},
   "source": [
    "Crear una lista con todos los caracteres de la cadena"
   ]
  },
  {
   "cell_type": "code",
   "execution_count": null,
   "id": "9058d0da",
   "metadata": {},
   "outputs": [],
   "source": [
    "list('hola')"
   ]
  },
  {
   "cell_type": "code",
   "execution_count": null,
   "id": "69afc289",
   "metadata": {},
   "outputs": [],
   "source": [
    "Crear una cadena uniendo los elemento de la lista usando como \"pegamento\" lo que se escribe entre comillas"
   ]
  },
  {
   "cell_type": "code",
   "execution_count": null,
   "id": "740d8987",
   "metadata": {},
   "outputs": [],
   "source": [
    "''.join(['h', 'o', 'l', 'a'])"
   ]
  },
  {
   "cell_type": "code",
   "execution_count": null,
   "id": "0aa5dac8",
   "metadata": {},
   "outputs": [],
   "source": [
    "'O'.join(['h', 'o', 'l', 'a'])"
   ]
  },
  {
   "cell_type": "markdown",
   "id": "394fb21a",
   "metadata": {},
   "source": [
    "**Modificar una cadena** \n",
    "\n",
    "El uso de `list` y `join` resulta útil si queremos modificar una cadena (algo que no se puede hacer directamente).\n",
    "\n",
    "El código de abajo remplaza las letras **e** de cadean por la letra **X** ."
   ]
  },
  {
   "cell_type": "code",
   "execution_count": null,
   "id": "851e94eb",
   "metadata": {},
   "outputs": [],
   "source": [
    "texto = 'las abejas tienen una organización muy compleja'\n",
    "\n",
    "M = list(texto)\n",
    "for u in range(len(M)):\n",
    "    if M[u] == 'e':\n",
    "        M[u] = 'X'\n",
    "''.join(M)"
   ]
  },
  {
   "cell_type": "markdown",
   "id": "magnetic-weight",
   "metadata": {},
   "source": [
    "<a id=\"u3c2.8\"></a>\n",
    "## Ejemplos"
   ]
  },
  {
   "cell_type": "markdown",
   "id": "prospective-possibility",
   "metadata": {},
   "source": [
    "1. Poner del revés una cadena"
   ]
  },
  {
   "cell_type": "code",
   "execution_count": null,
   "id": "daily-european",
   "metadata": {},
   "outputs": [],
   "source": [
    "c = 'abcd'\n",
    "c_al_revés = ''\n",
    "for l in c:\n",
    "    c_al_revés = l + c_al_revés\n",
    "c_al_revés"
   ]
  },
  {
   "cell_type": "markdown",
   "id": "assured-navigation",
   "metadata": {},
   "source": [
    "Observad"
   ]
  },
  {
   "cell_type": "code",
   "execution_count": null,
   "id": "colored-blond",
   "metadata": {},
   "outputs": [],
   "source": [
    "'abcd'[::-1]"
   ]
  },
  {
   "cell_type": "markdown",
   "id": "seeing-perception",
   "metadata": {},
   "source": [
    "2. Define una función, `suma(n)`, que reciba como argumento un número entero `n` y devuelva la suma de sus dígitos."
   ]
  },
  {
   "cell_type": "code",
   "execution_count": null,
   "id": "cultural-juvenile",
   "metadata": {},
   "outputs": [],
   "source": [
    "def suma(n):\n",
    "    s=0\n",
    "    for i in str(n):\n",
    "        s+=int(i)\n",
    "    return s"
   ]
  },
  {
   "cell_type": "code",
   "execution_count": null,
   "id": "necessary-break",
   "metadata": {},
   "outputs": [],
   "source": [
    "suma(12345)"
   ]
  },
  {
   "cell_type": "markdown",
   "id": "rocky-merit",
   "metadata": {},
   "source": [
    "3. Define una función, `Lsuma(L)`, que reciba como argumento una lista `L` de números enteros y devuelva una lista con las sumas de los dígitos de cada uno de ellos. Utiliza la función anterior."
   ]
  },
  {
   "cell_type": "code",
   "execution_count": null,
   "id": "discrete-accuracy",
   "metadata": {},
   "outputs": [],
   "source": [
    "def Lsuma(L):\n",
    "    Ls=[]\n",
    "    for i in L:\n",
    "        Ls.append(suma(i))\n",
    "    return Ls    \n",
    "Lsuma([12,13,56,7])"
   ]
  },
  {
   "cell_type": "markdown",
   "id": "cardiovascular-latvia",
   "metadata": {},
   "source": [
    "4. Define una función, suma(x), que reciba como argumento un número real x y devuelva la suma de sus dígitos."
   ]
  },
  {
   "cell_type": "code",
   "execution_count": null,
   "id": "opposed-strike",
   "metadata": {},
   "outputs": [],
   "source": [
    "def suma(x):\n",
    "    s=0\n",
    "    for i in str(x):\n",
    "        if i!=\".\":\n",
    "            s+=int(i)\n",
    "    return s"
   ]
  },
  {
   "cell_type": "code",
   "execution_count": null,
   "id": "extraordinary-cliff",
   "metadata": {},
   "outputs": [],
   "source": [
    "suma(12345.6)"
   ]
  },
  {
   "cell_type": "markdown",
   "id": "continuing-patient",
   "metadata": {},
   "source": [
    "5. Define una función `encontrar1(L,e)` que recibe como argumentos una lista `L` y un valor `e` y devuelve `True` si `e` es un elemento de la lista `L`"
   ]
  },
  {
   "cell_type": "code",
   "execution_count": null,
   "id": "medieval-poultry",
   "metadata": {},
   "outputs": [],
   "source": [
    "def encontrar1(L,e):\n",
    "    if e in L:\n",
    "        return True"
   ]
  },
  {
   "cell_type": "code",
   "execution_count": null,
   "id": "controversial-economy",
   "metadata": {},
   "outputs": [],
   "source": [
    "encontrar1([1,2,3,4],2)"
   ]
  },
  {
   "cell_type": "code",
   "execution_count": null,
   "id": "soviet-replication",
   "metadata": {},
   "outputs": [],
   "source": [
    "encontrar1([1,2,3,4],0)"
   ]
  },
  {
   "cell_type": "markdown",
   "id": "sensitive-drive",
   "metadata": {},
   "source": [
    "6. Define una función `encontrar2(L,e)` que recibe como argumentos una lista `L` y un valor `e` y devuelve `False` si `e` no es un elemento de la lista `L` "
   ]
  },
  {
   "cell_type": "code",
   "execution_count": null,
   "id": "answering-price",
   "metadata": {},
   "outputs": [],
   "source": [
    "def encontrar2(L,e):\n",
    "    if e not in L:\n",
    "        return False"
   ]
  },
  {
   "cell_type": "code",
   "execution_count": null,
   "id": "confident-salem",
   "metadata": {},
   "outputs": [],
   "source": [
    "encontrar2([1,2,3,4],'s')"
   ]
  },
  {
   "cell_type": "code",
   "execution_count": null,
   "id": "crucial-attribute",
   "metadata": {},
   "outputs": [],
   "source": [
    "encontrar2([1,2,3,4],1)"
   ]
  },
  {
   "cell_type": "markdown",
   "id": "outstanding-accent",
   "metadata": {},
   "source": [
    "Otra versión, utilizando `pass`"
   ]
  },
  {
   "cell_type": "code",
   "execution_count": 4,
   "id": "promising-desktop",
   "metadata": {},
   "outputs": [],
   "source": [
    "def encontrar3(L,e):\n",
    "    if e in L:\n",
    "        pass\n",
    "    else:\n",
    "        return False"
   ]
  },
  {
   "cell_type": "code",
   "execution_count": 6,
   "id": "egyptian-pearl",
   "metadata": {},
   "outputs": [],
   "source": [
    "encontrar3([1,2,3,4],1)"
   ]
  },
  {
   "cell_type": "code",
   "execution_count": null,
   "id": "fd85447a",
   "metadata": {},
   "outputs": [],
   "source": [
    "encontrar3([1,2,3,4],'s')"
   ]
  },
  {
   "cell_type": "markdown",
   "id": "touched-interest",
   "metadata": {},
   "source": [
    "7. Define una función `tuplaalista1(t)` que recibe como argumento una tupla `t` y devuelve una lista con los mismos elementos  "
   ]
  },
  {
   "cell_type": "code",
   "execution_count": null,
   "id": "passing-child",
   "metadata": {},
   "outputs": [],
   "source": [
    "def tuplaalista1(t):\n",
    "    l = []\n",
    "    for i in t:\n",
    "        l.append(i)\n",
    "    return l    "
   ]
  },
  {
   "cell_type": "code",
   "execution_count": null,
   "id": "compliant-waterproof",
   "metadata": {},
   "outputs": [],
   "source": [
    "tuplaalista1((1,2,\"a\",10))"
   ]
  },
  {
   "cell_type": "markdown",
   "id": "acquired-substitute",
   "metadata": {},
   "source": [
    "Otra versión"
   ]
  },
  {
   "cell_type": "code",
   "execution_count": null,
   "id": "comparative-stable",
   "metadata": {},
   "outputs": [],
   "source": [
    "def tuplaalista2(t):\n",
    "    return list(t)"
   ]
  },
  {
   "cell_type": "code",
   "execution_count": null,
   "id": "copyrighted-storm",
   "metadata": {},
   "outputs": [],
   "source": [
    "tuplaalista2((1,2,\"a\",10))"
   ]
  },
  {
   "cell_type": "markdown",
   "id": "polish-partnership",
   "metadata": {},
   "source": [
    "8. Define una función `tuplaalista2(t)` que recibe como argumento una tupla `t` y devuelve una lista con los elementos de `t` no repetidos"
   ]
  },
  {
   "cell_type": "code",
   "execution_count": null,
   "id": "southern-attendance",
   "metadata": {},
   "outputs": [],
   "source": [
    "def tuplaalista2(t):\n",
    "    l = []\n",
    "    for i in t:\n",
    "        if i not in l:\n",
    "            l.append(i)\n",
    "    return l    "
   ]
  },
  {
   "cell_type": "code",
   "execution_count": null,
   "id": "incoming-fisher",
   "metadata": {},
   "outputs": [],
   "source": [
    "tuplaalista2((1,2,\"a\",10,3,10,\"a\"))"
   ]
  },
  {
   "cell_type": "markdown",
   "id": "selective-stream",
   "metadata": {},
   "source": [
    "Otra versión"
   ]
  },
  {
   "cell_type": "code",
   "execution_count": null,
   "id": "patent-recall",
   "metadata": {},
   "outputs": [],
   "source": [
    "def tuplaalista3(t):\n",
    "    l = []\n",
    "    for i in t:\n",
    "        if l.count(i)==0:\n",
    "            l.append(i)\n",
    "    return l    "
   ]
  },
  {
   "cell_type": "code",
   "execution_count": null,
   "id": "inclusive-angle",
   "metadata": {},
   "outputs": [],
   "source": [
    "tuplaalista3((1,2,\"a\",10,3,10,\"a\"))"
   ]
  },
  {
   "cell_type": "markdown",
   "id": "demanding-intensity",
   "metadata": {},
   "source": [
    "9. Define una función `cadenaalista1(c)` que recibe como argumento una cadena `c` y devuelve una lista cuyos elementos son los caracteres de `c` (nuestra función `list()`)"
   ]
  },
  {
   "cell_type": "code",
   "execution_count": null,
   "id": "connected-frequency",
   "metadata": {},
   "outputs": [],
   "source": [
    "def cadenaalista1(c): #Es igual que la función tuplaalista1\n",
    "    l = []\n",
    "    for i in c:\n",
    "        l.append(i)\n",
    "    return l    "
   ]
  },
  {
   "cell_type": "code",
   "execution_count": null,
   "id": "entertaining-geology",
   "metadata": {},
   "outputs": [],
   "source": [
    "cadenaalista1(\"cadena \")"
   ]
  },
  {
   "cell_type": "markdown",
   "id": "27642565",
   "metadata": {},
   "source": [
    "Otra versión ahora se utiliza la fubnción `list()`"
   ]
  },
  {
   "cell_type": "code",
   "execution_count": null,
   "id": "actual-toner",
   "metadata": {},
   "outputs": [],
   "source": [
    "def cadenaalista1_1(c): # Utilizamos la función lista()\n",
    "    return list(c)"
   ]
  },
  {
   "cell_type": "code",
   "execution_count": null,
   "id": "subsequent-talent",
   "metadata": {},
   "outputs": [],
   "source": [
    "cadenaalista1_1(\"cadena \")"
   ]
  },
  {
   "cell_type": "markdown",
   "id": "finished-lebanon",
   "metadata": {},
   "source": [
    "10. Define una función `cadenaalista2(c)` que recibe como argumento una cadena `c` y devuelve una lista cuyos elementos son los caracteres de `c` no repetidos"
   ]
  },
  {
   "cell_type": "code",
   "execution_count": null,
   "id": "express-circle",
   "metadata": {},
   "outputs": [],
   "source": [
    "def cadenaalista2(c): #Es igual que la función tuplaalista2\n",
    "    l = []\n",
    "    for i in c:\n",
    "        if i not in l:\n",
    "            l.append(i)\n",
    "    return l   "
   ]
  },
  {
   "cell_type": "code",
   "execution_count": null,
   "id": "advance-hypothetical",
   "metadata": {},
   "outputs": [],
   "source": [
    "cadenaalista2(\"cadena de prueba\")"
   ]
  },
  {
   "cell_type": "markdown",
   "id": "technical-transcript",
   "metadata": {},
   "source": [
    "Otra versión"
   ]
  },
  {
   "cell_type": "code",
   "execution_count": null,
   "id": "limited-consent",
   "metadata": {},
   "outputs": [],
   "source": [
    "def cadenaalista2_1(c):\n",
    "    l = list(c)\n",
    "    for i in l:\n",
    "        if l.count(i) != 0:\n",
    "            l.remove(i)\n",
    "    return l   "
   ]
  },
  {
   "cell_type": "code",
   "execution_count": null,
   "id": "incident-ukraine",
   "metadata": {},
   "outputs": [],
   "source": [
    "cadenaalista2_1(\"esto es una cadena de prueba\")"
   ]
  },
  {
   "cell_type": "markdown",
   "id": "accompanied-semiconductor",
   "metadata": {},
   "source": [
    "¿Que ha ocurrido?. ¿Hemos obtenido el resultado que esperábamos?."
   ]
  },
  {
   "cell_type": "markdown",
   "id": "pretty-pixel",
   "metadata": {},
   "source": [
    "11. Define una función `palabras(c)` que recibe como argumento una cadena `c` y devuelve una lista cuyos elementos son las palabras que contenga cadena"
   ]
  },
  {
   "cell_type": "code",
   "execution_count": null,
   "id": "seven-jamaica",
   "metadata": {},
   "outputs": [],
   "source": [
    "def palabras(c):\n",
    "    l = c.split(' ')\n",
    "    return l"
   ]
  },
  {
   "cell_type": "code",
   "execution_count": null,
   "id": "olympic-driving",
   "metadata": {},
   "outputs": [],
   "source": [
    "palabras(\"Esto es una cadena de prueba\")"
   ]
  },
  {
   "cell_type": "markdown",
   "id": "amazing-basics",
   "metadata": {},
   "source": [
    "12. Define una función `letras(c,i)` que recibe como argumento una cadena `c` y un índice `i` y devuelve una lista cuyos elementos son las letras con índice `i` de las palabras de la cadena `c`"
   ]
  },
  {
   "cell_type": "code",
   "execution_count": null,
   "id": "passive-fitting",
   "metadata": {},
   "outputs": [],
   "source": [
    "def letras(c,i):\n",
    "    l = c.split(' ')\n",
    "    L = list(l[i])\n",
    "    return L"
   ]
  },
  {
   "cell_type": "code",
   "execution_count": null,
   "id": "suspended-ribbon",
   "metadata": {},
   "outputs": [],
   "source": [
    "letras(\"esto es una cadena de prueba\",1)"
   ]
  },
  {
   "cell_type": "markdown",
   "id": "41aea865",
   "metadata": {},
   "source": [
    "<a id=\"u3c2.9\"></a>\n",
    "## Ejercicios"
   ]
  },
  {
   "cell_type": "markdown",
   "id": "4cb4b5b5",
   "metadata": {},
   "source": [
    "1. Definir la función **lista_palabras(texto)** que devuelva una lista con las palabras de  **texto**.\n",
    "\n",
    "2. Definir la función **invierte_palabras(texto)** que devuelva un nuevo texto con las palabras de  **texto** en orden inverso (de la última a la primera).\n",
    "\n",
    "3. Definir la función `unir_numeros(lista)` que devuelve un número entero que se obtiene escribiendo sucesivamente los números enteros que forman `lista`.\n",
    "        Ejemplo: unir_numeros([1,23,61]); devuelve 12361\n",
    "\n",
    "4. A la variable `texto` se le ha asignado una cadena. Escribir un programa en Python que determine la palabra más larga contenida en `texto` e imprima el resultado con el siguiente formato: `La palabra más larga es (resultado)`\n",
    "        Ejemplo: Si texto = 'la fauna africana se están quedando sin espacio para vivir'\n",
    "        el programa debe imprimir 'La palabra más larga es depredadores'\n",
    "\n",
    "5. Definir la función **ordenar(lista)** que devuelva la lista ordenada de modo creciente de los elementos de **lista**.\n",
    "\n",
    "6. Definir la función **esta_ordenada(lista)** que devuelve True o False según los elementos de **lista** estén ordenados de modo creciente."
   ]
  }
 ],
 "metadata": {
  "kernelspec": {
   "display_name": "Python 3 (ipykernel)",
   "language": "python",
   "name": "python3"
  },
  "language_info": {
   "codemirror_mode": {
    "name": "ipython",
    "version": 3
   },
   "file_extension": ".py",
   "mimetype": "text/x-python",
   "name": "python",
   "nbconvert_exporter": "python",
   "pygments_lexer": "ipython3",
   "version": "3.10.6"
  }
 },
 "nbformat": 4,
 "nbformat_minor": 5
}

{
 "cells": [
  {
   "cell_type": "markdown",
   "id": "saving-hunger",
   "metadata": {},
   "source": [
    "# Números decimales (tipo ``float``): la precisión\n",
    "\n",
    "* [Números fraccionarios](#u2c2.1)\n",
    "* [La precisión](#u2c2.2)\n",
    "* [Ejercicios](#u2c2.3)\n"
   ]
  },
  {
   "cell_type": "markdown",
   "id": "enabling-liverpool",
   "metadata": {},
   "source": [
    "<a id=\"u2c2.1\"></a>\n",
    "## Números fraccionarios\n",
    "\n",
    "Los números fraccionarios son los que se obtienen por cociente de dos enteros. Estos números reciben el nombre de racionales. En Python son objetos de tipo `float`. Pueden ser de tres tipos:\n",
    "- Exactos: con un número finto de decimales: 0.1\n",
    "- Periódicos puros: con infinitos decimales que se repiten desde el principio: 0.333$\\dots$ ó 7.535353535353$\\dots$\n",
    "- Periódicos mixtos: con infinitos decimales que se repiten a patir de un cierto decimal: 7.4533333$\\dots$ ó 4.1264567567567$\\dots$\n",
    "\n",
    "Los ejemplos que hemos puestos corresponden a la representación decimal, también llamada, representación en base 10. Existen más bases en las que se pueden representar los números, como la base 2.\n",
    "\n",
    "\n",
    "En base 10 se tiene que \n",
    "- Números exactos: aquellos números fraccionarios cuyos denominadores sólo contienen los factores 2 y/o 5\n",
    "- Números periódicos puros: los números fraccionarios cuyos denominadores no contienen ni el factor 2 ni el 5\n",
    "- Números periódicos mixtos: los números fraccionarios cuyos denominadores contienen otros factores aparte del 2 y/o el 5\n",
    "\n",
    "Obsérvese que un número fraccionario será exacto o periódico según la representación que se utilice, es decir, según la base en la que está escrito o representado. En base 2 son fracciones exactas las fracciones con potencias de dos en el denominador. "
   ]
  },
  {
   "cell_type": "markdown",
   "id": "advised-manitoba",
   "metadata": {},
   "source": [
    "**Ejemplo del problema al que nos enfrentamos**"
   ]
  },
  {
   "cell_type": "code",
   "execution_count": null,
   "id": "romance-launch",
   "metadata": {},
   "outputs": [],
   "source": [
    "suma = 0\n",
    "\n",
    "for contador in range(10):\n",
    "    suma += 1/10\n",
    "\n",
    "print('Al sumar diez veces 1/10 obtengo: ' + str(suma))\n",
    "print('Resulta que ' + str(suma) + ' no es igual a 1.0')\n",
    "print(str(suma == 1.0))"
   ]
  },
  {
   "cell_type": "markdown",
   "id": "certain-thunder",
   "metadata": {},
   "source": [
    "Los ordenadores son entes finitos: manejan un número finito de decimales. \n",
    "\n",
    "Algunos números fraccionarios (cocientes de números enteros) tienen infinitos decimales periódicos. Por ejemplo, \n",
    "\n",
    "$$1/6 = 0.16666666666666666 \\dots$$ \n",
    "\n",
    "Como tenemos un dos en el denominador es un peródico mixto. Al manejar un número finito de decimales, que es lo que la computadora almacena, dejamos de almacenar el número fraccionario original. Imaginemos que la computadora almacena solamente _cuatro_ cifras decimales. Entonces, dado el número $1/6$ la computadora almacena en memoria el número $0.1666$, pero \n",
    "\n",
    "$$\n",
    "0.1666 \\not= 1/6.$$\n",
    "\n",
    "En consecuencia, se obtiene que al sumar seis veces un sexto:\n",
    "$$\n",
    "0.1666 + 0.1666 + 0.1666 + 0.1666 + 0.1666 + 0.1666 = 0.9996 \\not= 1 = 1/6+1/6+1/6+1/6+1/6+1/6\n",
    "$$\n",
    "\n",
    "Veamos esto:"
   ]
  },
  {
   "cell_type": "code",
   "execution_count": null,
   "id": "49dcc609",
   "metadata": {},
   "outputs": [],
   "source": [
    "suma = 0\n",
    "\n",
    "for contador in range(6):\n",
    "    suma += 1/6\n",
    "\n",
    "print('Al sumar seis veces 1/6 obtengo: ' + str(suma))\n",
    "print('Resulta que ' + str(suma) + ' no es igual a 1.0')\n",
    "print(str(suma == 1.0))"
   ]
  },
  {
   "cell_type": "markdown",
   "id": "96cec007",
   "metadata": {},
   "source": [
    "Sin embargo, al sumar dos veces $1/2$ 0 cuatro veces $1/4$ __sí__ que obtenemos que la suma es igual a 1:"
   ]
  },
  {
   "cell_type": "code",
   "execution_count": null,
   "id": "charming-protocol",
   "metadata": {},
   "outputs": [],
   "source": [
    "suma = 0\n",
    "\n",
    "for contador in range(4):\n",
    "    suma += 1/4\n",
    "\n",
    "print('Al sumar cuatro veces 1/4 obtengo: ' + str(suma))\n",
    "print('Resulta que ' + str(suma) + ' sí es igual a 1.0')\n",
    "print(str(suma == 1.0))"
   ]
  },
  {
   "cell_type": "markdown",
   "id": "necessary-twenty",
   "metadata": {},
   "source": [
    "¿Qué está pasando? \n",
    "\n",
    "Los ordenadores hacen los cálculos en __base__ $\\textbf{2}.$ Y en esa base $1/4$ tiene un número finito de decimales porque el denominador es una potencia de $2.$ Esto no ocurre con $1/10$ o $1/6;$ estos números tienen factores diferenctes de $2$ en el denominador y por lo tanto no tiene un número finito de decimales en base $2.$\n",
    "\n",
    "**En conclusión:**\n",
    "\n",
    "**No se puede utilizar una condición de igualdad (`==`) para hacer una comprobación de igualdad de números decimales (`float`). Es mejor establecer que la diferencia es pequeña. Así aparece la noción de precisión**"
   ]
  },
  {
   "cell_type": "markdown",
   "id": "strategic-essex",
   "metadata": {},
   "source": [
    "<a id=\"u2c2.2\"></a>\n",
    "## La precisión\n",
    "\n",
    "Cuando queremos saber si dos números decimales (`float`) $N_1$ y $N_2$ son iguales, el operador de comparación `==` puede fallar. Por ejemplo, si $N_1=1$ y $N_2=1/6+1/6+1/6+1/6+1/6+1/6$, es claro que $N_1=N_2$ pero al hacerlo computacionalmente obtenemos un resultado diferente:"
   ]
  },
  {
   "cell_type": "code",
   "execution_count": null,
   "id": "cheap-permit",
   "metadata": {},
   "outputs": [],
   "source": [
    "N1 = 1\n",
    "N2 = 0\n",
    "den = 6\n",
    "\n",
    "for i in range(den):\n",
    "    N2+=1/den\n",
    "\n",
    "print(N1)\n",
    "print('')\n",
    "print(N2)\n",
    "print('')\n",
    "print(N1==N2)"
   ]
  },
  {
   "cell_type": "markdown",
   "id": "medieval-greek",
   "metadata": {},
   "source": [
    "Por ello, es necesario disponer de otro método de comparación de números decimales. Usaremos el concepto de precisón. Diremos que dos números decimales son iguales con una precisión $\\varepsilon$ dada, si\n",
    "\n",
    "$$\n",
    "\\left|N_1-N_2\\right|<\\varepsilon,\\qquad \\varepsilon>0.\n",
    "$$\n",
    "\n",
    "Dicho de otro modo: si la distancia entre $N_1$ y $N_2$ es menor que $\\varepsilon,$ consideremos que son el mismo número.\n",
    "En el ejemplo anterior, para dos precisiones distintas podemos obtener resultados de \"igualdad\" distintos para los mismos $N_1$ y $N_2$:"
   ]
  },
  {
   "cell_type": "code",
   "execution_count": null,
   "id": "2311f835",
   "metadata": {},
   "outputs": [],
   "source": [
    "distancia = abs(N1-N2)\n",
    "\n",
    "epsilon1 = 0.001\n",
    "epsilon2 = 0.000000000000000001\n",
    "\n",
    "print('Distancia:', distancia)\n",
    "print('')\n",
    "print('epsilon1:', epsilon1)\n",
    "print('')\n",
    "print('epsilon1:', epsilon2)"
   ]
  },
  {
   "cell_type": "markdown",
   "id": "gentle-swift",
   "metadata": {},
   "source": [
    "__Observación:__ hemos cambiado el operador de comparación `==` por `<`. Estamos usando que la distancia entre dos números es un conjunto ordenado."
   ]
  },
  {
   "cell_type": "markdown",
   "id": "a23a4a54",
   "metadata": {},
   "source": [
    "<a id=\"u2c2.3\"></a>\n",
    "## Ejercicios"
   ]
  },
  {
   "cell_type": "markdown",
   "id": "505cfa28",
   "metadata": {},
   "source": [
    "1. Escribir una función que devuelva una cadena que sea la representación en base $2$ de un número entero no negativo en base $10.$\n",
    "\n",
    "\n",
    "2. Escribir una función que devuelva el entero correspondiente a la suma de los dígitos de la representación en base $5$ de un entero no negativo en base $10.$"
   ]
  }
 ],
 "metadata": {
  "kernelspec": {
   "display_name": "Python 3 (ipykernel)",
   "language": "python",
   "name": "python3"
  },
  "language_info": {
   "codemirror_mode": {
    "name": "ipython",
    "version": 3
   },
   "file_extension": ".py",
   "mimetype": "text/x-python",
   "name": "python",
   "nbconvert_exporter": "python",
   "pygments_lexer": "ipython3",
   "version": "3.10.6"
  }
 },
 "nbformat": 4,
 "nbformat_minor": 5
}

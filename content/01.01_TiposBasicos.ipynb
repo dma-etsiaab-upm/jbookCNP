{
 "cells": [
  {
   "cell_type": "markdown",
   "id": "680faa84",
   "metadata": {},
   "source": [
    "\n",
    "<a id=\"u1c1\"></a>\n",
    "# Tipos básicos y sus operadores: los números y los valores binarias\n",
    "\n",
    "\n",
    "## Contenido\n",
    "\n",
    "* [Tipos básicos de datos](#u1c1.1)\n",
    "* [Operadores](#u1c1.2)\n",
    "* [Variables](#u1c1.3)\n",
    "* [Salida de datos (por pantalla)](#u1c1.4)\n",
    "* [Entrada de datos (por teclado)](#u1c1.5)\n",
    "* [Programa o _script_](#u1c1.6)\n",
    "* [Ejercicios](#u1c1.7)\n",
    "* [Cuestionario Moodle](#u1c1.8)\n",
    "\n"
   ]
  },
  {
   "cell_type": "markdown",
   "id": "10aaa27e",
   "metadata": {},
   "source": [
    "<a id=\"u1c1.1\"></a>\n",
    "## Tipos básicos de datos\n",
    "\n",
    "**Enlaces**\n",
    "\n",
    "* <a href=\"https://docs.python.org/3/library/stdtypes.html\"> Doc Python </a>\n",
    "* <a href=\"https://realpython.com/python-data-types/\"> Real Python </a>\n",
    "* <a href=\"https://www.w3schools.com/python/python_datatypes.asp\"> w3schools </a>"
   ]
  },
  {
   "cell_type": "markdown",
   "id": "5a657c6b",
   "metadata": {},
   "source": [
    "### Tipos básicos\n",
    "\n",
    "- `int` -> los enteros, ej. ``5``\n",
    "- `float` ->  los números decimales, ej. ``3.27``\n",
    "- `bool` -> el tipo binario (booleano) con valores `True` y  `False`\n",
    "- `NoneType` -> especial y tiene un solo valor `None` (corresponde a la ausencia, como el conjunto vacio)\n",
    "\n",
    "\n",
    "\n",
    "### Funciones asociadas a los tipos\n",
    "\n",
    "- `type()` -> imprime el tipo de un objeto\n",
    "- `int()`  -> transforma un número decimal en un entero por truncación\n",
    "- `float()` -> transforma un entero en un decimal\n",
    "- `round()` -> transforma un número decimal en un entero por redondeo"
   ]
  },
  {
   "cell_type": "markdown",
   "id": "8b6f4810",
   "metadata": {},
   "source": [
    "**Ejemplos**"
   ]
  },
  {
   "cell_type": "code",
   "execution_count": null,
   "id": "679099c8",
   "metadata": {},
   "outputs": [],
   "source": [
    "type(0)"
   ]
  },
  {
   "cell_type": "code",
   "execution_count": null,
   "id": "909039fc",
   "metadata": {},
   "outputs": [],
   "source": [
    "type(3.2)"
   ]
  },
  {
   "cell_type": "code",
   "execution_count": null,
   "id": "39d3a895",
   "metadata": {},
   "outputs": [],
   "source": [
    "type?"
   ]
  },
  {
   "cell_type": "code",
   "execution_count": null,
   "id": "da3e711e",
   "metadata": {
    "tags": [
     "remove-output"
    ]
   },
   "outputs": [],
   "source": [
    "help(type)"
   ]
  },
  {
   "cell_type": "markdown",
   "id": "d0a22b59",
   "metadata": {},
   "source": [
    "**Observación** int y float también funcionan como operadores de conversión\n",
    "\n",
    "__Ejemplos__"
   ]
  },
  {
   "cell_type": "code",
   "execution_count": null,
   "id": "21285b45",
   "metadata": {},
   "outputs": [],
   "source": [
    "int(4.3)"
   ]
  },
  {
   "cell_type": "code",
   "execution_count": null,
   "id": "42fbdb33",
   "metadata": {},
   "outputs": [],
   "source": [
    "float(4)"
   ]
  },
  {
   "cell_type": "code",
   "execution_count": null,
   "id": "7ae00ebf",
   "metadata": {},
   "outputs": [],
   "source": [
    "int(8), int(4.2), float(3), round(7.49), round(7.5)"
   ]
  },
  {
   "cell_type": "markdown",
   "id": "88a74d81",
   "metadata": {},
   "source": [
    "__Importante:__\n",
    "\n",
    "La instrucción `round` funciona de acuerdo a [https://es.wikipedia.org/wiki/Redondeo]:"
   ]
  },
  {
   "cell_type": "code",
   "execution_count": null,
   "id": "23beb436",
   "metadata": {},
   "outputs": [],
   "source": [
    "round(35.5),round(36.5),round(37.5),round(38.5)"
   ]
  },
  {
   "cell_type": "markdown",
   "id": "c91e3ccf",
   "metadata": {},
   "source": [
    "#### Tipo booleano\n",
    "\n",
    "Es un tipo de dato que toma solo dos valores: **True** y **False**\n",
    "\n",
    "**Observación:** True y False deben escribirse con mayúsculas\n",
    "\n",
    "__Ejemplos__"
   ]
  },
  {
   "cell_type": "code",
   "execution_count": null,
   "id": "1f0bcbd6",
   "metadata": {},
   "outputs": [],
   "source": [
    "type(True)"
   ]
  },
  {
   "cell_type": "code",
   "execution_count": null,
   "id": "64ad8911",
   "metadata": {},
   "outputs": [],
   "source": [
    "type(False)"
   ]
  },
  {
   "cell_type": "markdown",
   "id": "9278dd1b",
   "metadata": {},
   "source": [
    "<a id=\"u1c1.2\"></a>\n",
    "## Operadores\n",
    "\n",
    "* Operadores numéricos\n",
    "* Operadores con booleanos\n",
    "* Operadores de comparación\n",
    "\n",
    "\n",
    "**Enlaces**\n",
    "\n",
    "* <a href=\"https://www.w3schools.com/python/python_operators.asp\"> w3schools </a>\n"
   ]
  },
  {
   "cell_type": "markdown",
   "id": "36d8f76c",
   "metadata": {},
   "source": [
    "### Operadores numéricos: las expresiones que se construyen con estos operadores tienen valor numérico, entero o decimal, según el caso\n",
    "\n",
    "* suma:\n",
    "`` i+j``\n",
    "\n",
    "* diferencia:\n",
    "`` i-j``\n",
    "\n",
    "* producto:\n",
    "`` i * j``\n",
    "\n",
    "* división:\n",
    "`` i / j``\n",
    "\n",
    "* división entera: `` i // j``\n",
    "\n",
    "* resto de dividir ``i`` por ``j``:\n",
    "`` i % j``\n",
    "\n",
    "* ``i`` elevado a ``j``:\n",
    "`` i**j``\n",
    "\n",
    "\n",
    "### Orden de ejecución de los operadores numéricos\n",
    "\n",
    "1.  ``**``\n",
    "2.  ``*``\n",
    "3.  ``/``\n",
    "4.  ``+`` y ``-``, de izquierda a derecha según aprezcan en la expresión"
   ]
  },
  {
   "cell_type": "markdown",
   "id": "661aa934",
   "metadata": {},
   "source": [
    "__Ejemplos__"
   ]
  },
  {
   "cell_type": "code",
   "execution_count": null,
   "id": "eca8ced0",
   "metadata": {},
   "outputs": [],
   "source": [
    "type(5/2), type(4/2), type(4//2), type(4%2)"
   ]
  },
  {
   "cell_type": "code",
   "execution_count": null,
   "id": "fe108669",
   "metadata": {},
   "outputs": [],
   "source": [
    "4 + 3.2, 7/3.2, 7//2, 7%2, 3**2"
   ]
  },
  {
   "cell_type": "code",
   "execution_count": null,
   "id": "a2b24ed8",
   "metadata": {},
   "outputs": [],
   "source": [
    "3+4-5, 3+4*5, (3+4)*5"
   ]
  },
  {
   "cell_type": "code",
   "execution_count": null,
   "id": "32c8cb5b",
   "metadata": {},
   "outputs": [],
   "source": [
    "43//5"
   ]
  },
  {
   "cell_type": "code",
   "execution_count": null,
   "id": "e61ec8c4",
   "metadata": {},
   "outputs": [],
   "source": [
    "43%5"
   ]
  },
  {
   "cell_type": "code",
   "execution_count": null,
   "id": "e07cb8c0",
   "metadata": {},
   "outputs": [],
   "source": [
    "23 + 4*5"
   ]
  },
  {
   "cell_type": "code",
   "execution_count": null,
   "id": "8f0a664c",
   "metadata": {},
   "outputs": [],
   "source": [
    "3-4+2, (3-4)+2, 3-(4+2),3+((-4)+2)"
   ]
  },
  {
   "cell_type": "markdown",
   "id": "f9c55114",
   "metadata": {},
   "source": [
    "### Operaciones con datos booleanos\n",
    "\n",
    "Hay tres operaciones: ``and``, ``or``, ``not``\n",
    "\n",
    "| p | q | p and q | p or q |\n",
    "| :-- | :-- | :-- | :-- |\n",
    "| True | True | True | True |\n",
    "| True | False | Fale | True |\n",
    "| False | True | False | True |\n",
    "| False | False | False | False |\n",
    "\n",
    "\n",
    "| p | not p | \n",
    "| :-- | :-- | \n",
    "| True | False | \n",
    " | False | True |\n",
    " \n",
    " \n",
    "__Ejemplos__"
   ]
  },
  {
   "cell_type": "code",
   "execution_count": null,
   "id": "32ab6571",
   "metadata": {},
   "outputs": [],
   "source": [
    "True and False"
   ]
  },
  {
   "cell_type": "code",
   "execution_count": null,
   "id": "b7efb702",
   "metadata": {},
   "outputs": [],
   "source": [
    "not True"
   ]
  },
  {
   "cell_type": "markdown",
   "id": "9f0e14d6",
   "metadata": {},
   "source": [
    "### Operadores de comparación\n",
    "\n",
    "Las expresiones que se construyen con estos operadores tienen valor binario, `True` o `False` según el caso\n",
    "\n",
    "- Identidad: ``i==j`` -> `i` igual que `j`. Toma el valor True si ``i`` y ``j`` coinciden, False si no.\n",
    "- Diferentes: ``i!=j`` -> `i` distinto de `j`. Toma el valor True si ``i`` y ``j`` difieren, False si no. \n",
    "- Menor: ``i<j``  -> `i` menor que `j` \n",
    "- Mayor: ``i>j``  -> `i` mayor que `j`\n",
    "- Menor o igual: ``i<=j`` -> `i` menor o igual que `j`\n",
    "- Mayor o igual: ``i>=j`` -> `i` mayor o igual que `j` \n",
    "\n",
    "\n",
    "__Ejemplos__"
   ]
  },
  {
   "cell_type": "code",
   "execution_count": null,
   "id": "7cbc7d86",
   "metadata": {},
   "outputs": [],
   "source": [
    "7 >= 8, 3.5 >= int(3.5), 3 != 3.0"
   ]
  },
  {
   "cell_type": "code",
   "execution_count": null,
   "id": "86fe451b",
   "metadata": {},
   "outputs": [],
   "source": [
    "(7 > 3) and (4 > 3), (7 > 3) and (4 > 10)"
   ]
  },
  {
   "cell_type": "code",
   "execution_count": null,
   "id": "9e6755e9",
   "metadata": {},
   "outputs": [],
   "source": [
    "(7 > 3) or (4 > 3), (7 > 3) or (4 > 10), (7 > 15) or (4 > 10)"
   ]
  },
  {
   "cell_type": "code",
   "execution_count": null,
   "id": "20e72fdc",
   "metadata": {},
   "outputs": [],
   "source": [
    "not True"
   ]
  },
  {
   "cell_type": "code",
   "execution_count": null,
   "id": "ab164f69",
   "metadata": {},
   "outputs": [],
   "source": [
    "3.2 == 3"
   ]
  },
  {
   "cell_type": "code",
   "execution_count": null,
   "id": "7ba9da82",
   "metadata": {},
   "outputs": [],
   "source": [
    "3.2 != 3"
   ]
  },
  {
   "cell_type": "code",
   "execution_count": null,
   "id": "87d45d01",
   "metadata": {},
   "outputs": [],
   "source": [
    "3.2 > 3"
   ]
  },
  {
   "cell_type": "code",
   "execution_count": null,
   "id": "a542477c",
   "metadata": {},
   "outputs": [],
   "source": [
    "(2 > 3) or (3 > 2)"
   ]
  },
  {
   "cell_type": "markdown",
   "id": "7422fb00",
   "metadata": {},
   "source": [
    "**Cuestionario de Moodle**\n",
    "\n",
    "[Cuestionario Tipos Básicos, Operadores](https://moodle.upm.es/titulaciones/oficiales/mod/quiz/view.php?id=444292)\n"
   ]
  },
  {
   "cell_type": "markdown",
   "id": "b0bd7e69",
   "metadata": {},
   "source": [
    "<a id=\"u1c1.3\"></a>\n",
    "## Variables\n",
    "\n",
    "* Asignación\n",
    "* Nombres\n",
    "* Reasignación\n",
    "* Asignación múltiple\n",
    "* Operaciones con variables\n",
    "\n",
    "**Enlaces**\n",
    "\n",
    "* <a href=\"https://www.w3schools.com/python/python_variables.asp\"> w3schools </a>\n"
   ]
  },
  {
   "cell_type": "markdown",
   "id": "bb0a4f84",
   "metadata": {},
   "source": [
    "La expresión "
   ]
  },
  {
   "cell_type": "code",
   "execution_count": null,
   "id": "22d2731e",
   "metadata": {},
   "outputs": [],
   "source": [
    "m = 3"
   ]
  },
  {
   "cell_type": "markdown",
   "id": "50af3d79",
   "metadata": {},
   "source": [
    "guarda el valor entero, 3, en un lugar determiado de la memoria que puede ser utilizado inmediantamente utilizando la letra `m`. \n",
    "\n",
    "Una variable es  \n",
    "- un espacio de la memoria del ordenador y \n",
    "- un enlace entre la letra `m` y el valor 3. \n",
    "\n",
    "La expresión `m = 3` es una **asignación**\n",
    "\n",
    "- Podemos imaginar las variables como una especie de caja donde se almacena un dato.\n",
    "\n",
    "- Una variable se define al asignarle un valor: ``m = 3`` \n",
    "- el operador de asignación **=** coloca el número 3 en la caja con nombre **m**\n",
    "\n",
    "- Las variables tendrán el tipo del dato que se ha almacenado en ellas."
   ]
  },
  {
   "cell_type": "code",
   "execution_count": null,
   "id": "91f8f513",
   "metadata": {},
   "outputs": [],
   "source": [
    "m"
   ]
  },
  {
   "cell_type": "code",
   "execution_count": null,
   "id": "15869df8",
   "metadata": {},
   "outputs": [],
   "source": [
    "type(m)"
   ]
  },
  {
   "cell_type": "code",
   "execution_count": null,
   "id": "8cd55875",
   "metadata": {},
   "outputs": [],
   "source": [
    "m + 3"
   ]
  },
  {
   "cell_type": "markdown",
   "id": "5ee83d3f",
   "metadata": {},
   "source": [
    "Puedo cambiar el valor de la variable asociada a la letra `m`; en ese caso se la variable cambia de valor"
   ]
  },
  {
   "cell_type": "code",
   "execution_count": null,
   "id": "cc3db2be",
   "metadata": {},
   "outputs": [],
   "source": [
    "m = 2"
   ]
  },
  {
   "cell_type": "code",
   "execution_count": null,
   "id": "0098ad06",
   "metadata": {},
   "outputs": [],
   "source": [
    "m"
   ]
  },
  {
   "cell_type": "code",
   "execution_count": null,
   "id": "cc5f42c1",
   "metadata": {},
   "outputs": [],
   "source": [
    "radio = 3"
   ]
  },
  {
   "cell_type": "code",
   "execution_count": null,
   "id": "9f821a58",
   "metadata": {},
   "outputs": [],
   "source": [
    "pi = 3.14"
   ]
  },
  {
   "cell_type": "code",
   "execution_count": null,
   "id": "0cbf90f3",
   "metadata": {},
   "outputs": [],
   "source": [
    "area = pi * radio**2"
   ]
  },
  {
   "cell_type": "markdown",
   "id": "2db8eb44",
   "metadata": {},
   "source": [
    "Evitaremos, por lo general, usar tildes en los nombres de las variables"
   ]
  },
  {
   "cell_type": "code",
   "execution_count": null,
   "id": "134f35a5",
   "metadata": {},
   "outputs": [],
   "source": [
    "area"
   ]
  },
  {
   "cell_type": "code",
   "execution_count": null,
   "id": "628a7d64",
   "metadata": {},
   "outputs": [],
   "source": [
    "radio = 2"
   ]
  },
  {
   "cell_type": "code",
   "execution_count": null,
   "id": "1e9e40b7",
   "metadata": {},
   "outputs": [],
   "source": [
    "area"
   ]
  },
  {
   "cell_type": "markdown",
   "id": "d1c78859",
   "metadata": {},
   "source": [
    "Obsérvese que al reasignar el valor de la variable `radio` no cambia el valor de la variable `area`"
   ]
  },
  {
   "cell_type": "markdown",
   "id": "ac44cec6",
   "metadata": {},
   "source": [
    "### Nombres para las variables\n",
    "- no pueden empezar con un número\n",
    "- no pueden tener espacios en blanco\n",
    "- no pueden ser palabras reservadas de Python como `False`, `True`, `and`, `or`, `not`, etc ...\n",
    "- las letras mayúsculas son significativas\n",
    "- si contienen más de una palabra es mejor separarlas por guiones bajos, como `radio_de_la_esfera`, para mantener la legibilidad del código\n",
    "- una opción alternativa es usar las mayúsculas: `radioDeLaEsfera`\n",
    "\n",
    "En general, se recomienda usar como nombres de variables palabras separadas por guiones bajos (por ejemplo, mi_casa) El nombre no debe coincidir con las **palabras reservadas** de Python o `keywords`"
   ]
  },
  {
   "cell_type": "code",
   "execution_count": null,
   "id": "e8bb1a07",
   "metadata": {},
   "outputs": [],
   "source": [
    "help(\"keywords\")"
   ]
  },
  {
   "cell_type": "markdown",
   "id": "5b435f49",
   "metadata": {},
   "source": [
    "__Ejemplos__"
   ]
  },
  {
   "cell_type": "code",
   "execution_count": null,
   "id": "b88b0d5a",
   "metadata": {},
   "outputs": [],
   "source": [
    "una nube = 4"
   ]
  },
  {
   "cell_type": "code",
   "execution_count": null,
   "id": "820d64c2",
   "metadata": {},
   "outputs": [],
   "source": [
    "una_nube = 4"
   ]
  },
  {
   "cell_type": "code",
   "execution_count": null,
   "id": "dd1328cd",
   "metadata": {},
   "outputs": [],
   "source": [
    "una_nube"
   ]
  },
  {
   "cell_type": "code",
   "execution_count": null,
   "id": "a6b86372",
   "metadata": {},
   "outputs": [],
   "source": [
    "1a = 5"
   ]
  },
  {
   "cell_type": "code",
   "execution_count": null,
   "id": "625c2aac",
   "metadata": {},
   "outputs": [],
   "source": [
    "try = 9"
   ]
  },
  {
   "cell_type": "code",
   "execution_count": null,
   "id": "8cad05d3",
   "metadata": {},
   "outputs": [],
   "source": [
    "a-b = 45"
   ]
  },
  {
   "cell_type": "markdown",
   "id": "7be7247d",
   "metadata": {},
   "source": [
    "**Cuestionario de Moodle**\n",
    "\n",
    "[Cuestionario Asignación](https://moodle.upm.es/titulaciones/oficiales/mod/quiz/view.php?id=444290)"
   ]
  },
  {
   "cell_type": "markdown",
   "id": "09987f44",
   "metadata": {},
   "source": [
    "### Reasignación\n",
    "\n",
    "Si asignamos un valor a una variable que ya ha sido definida, esta tomará el nuevo valor."
   ]
  },
  {
   "cell_type": "code",
   "execution_count": null,
   "id": "47dd82ae",
   "metadata": {},
   "outputs": [],
   "source": [
    "S = 10"
   ]
  },
  {
   "cell_type": "code",
   "execution_count": null,
   "id": "91be0c1e",
   "metadata": {},
   "outputs": [],
   "source": [
    "S"
   ]
  },
  {
   "cell_type": "code",
   "execution_count": null,
   "id": "5607bb6c",
   "metadata": {},
   "outputs": [],
   "source": [
    "S = 4"
   ]
  },
  {
   "cell_type": "code",
   "execution_count": null,
   "id": "da3153f2",
   "metadata": {},
   "outputs": [],
   "source": [
    "S"
   ]
  },
  {
   "cell_type": "markdown",
   "id": "db1280c3",
   "metadata": {},
   "source": [
    "### Asignación múltiple\n",
    "\n",
    "Podemos asignar valores a varias variables simultáneamente:"
   ]
  },
  {
   "cell_type": "code",
   "execution_count": null,
   "id": "b483dce4",
   "metadata": {},
   "outputs": [],
   "source": [
    "mayor, menor = 12, 5"
   ]
  },
  {
   "cell_type": "code",
   "execution_count": null,
   "id": "0639535e",
   "metadata": {},
   "outputs": [],
   "source": [
    "mayor"
   ]
  },
  {
   "cell_type": "code",
   "execution_count": null,
   "id": "cf73e3d5",
   "metadata": {},
   "outputs": [],
   "source": [
    "menor"
   ]
  },
  {
   "cell_type": "code",
   "execution_count": null,
   "id": "93814181",
   "metadata": {},
   "outputs": [],
   "source": [
    "a, b, c, d = 1, 2, 3, 4"
   ]
  },
  {
   "cell_type": "code",
   "execution_count": null,
   "id": "f2193890",
   "metadata": {},
   "outputs": [],
   "source": [
    "b"
   ]
  },
  {
   "cell_type": "code",
   "execution_count": null,
   "id": "d3d5ed26",
   "metadata": {},
   "outputs": [],
   "source": [
    "a, b, c, d"
   ]
  },
  {
   "cell_type": "code",
   "execution_count": null,
   "id": "4152c9c6",
   "metadata": {},
   "outputs": [],
   "source": [
    "menor, b"
   ]
  },
  {
   "cell_type": "markdown",
   "id": "572577a4",
   "metadata": {},
   "source": [
    "La asignación múltiple permite intercambiar los valores de dos variables:"
   ]
  },
  {
   "cell_type": "code",
   "execution_count": null,
   "id": "0fda1adb",
   "metadata": {},
   "outputs": [],
   "source": [
    "x = 2"
   ]
  },
  {
   "cell_type": "code",
   "execution_count": null,
   "id": "419457d1",
   "metadata": {},
   "outputs": [],
   "source": [
    "y = 5"
   ]
  },
  {
   "cell_type": "code",
   "execution_count": null,
   "id": "56c6c747",
   "metadata": {},
   "outputs": [],
   "source": [
    "x"
   ]
  },
  {
   "cell_type": "code",
   "execution_count": null,
   "id": "3a94ca45",
   "metadata": {},
   "outputs": [],
   "source": [
    "y"
   ]
  },
  {
   "cell_type": "code",
   "execution_count": null,
   "id": "db282df9",
   "metadata": {},
   "outputs": [],
   "source": [
    "x, y = y, x"
   ]
  },
  {
   "cell_type": "code",
   "execution_count": null,
   "id": "d784565b",
   "metadata": {},
   "outputs": [],
   "source": [
    "x"
   ]
  },
  {
   "cell_type": "code",
   "execution_count": null,
   "id": "133b693f",
   "metadata": {},
   "outputs": [],
   "source": [
    "y"
   ]
  },
  {
   "cell_type": "markdown",
   "id": "8a394e65",
   "metadata": {},
   "source": [
    "__Observación:__ Para intercambiar el valor de dos variables sin asignación múltiple hace falta una variable auxiliar"
   ]
  },
  {
   "cell_type": "code",
   "execution_count": null,
   "id": "b56d2075",
   "metadata": {},
   "outputs": [],
   "source": [
    "x=2\n",
    "y=5\n",
    "print(x,y)\n",
    "aux = x\n",
    "x=y\n",
    "y=aux\n",
    "print(x,y)"
   ]
  },
  {
   "cell_type": "markdown",
   "id": "c1e0dcd8",
   "metadata": {},
   "source": [
    "### Operaciones con variables\n",
    "\n",
    "Con las variables se pueden realizar aquellas operaciones definidas para su tipo"
   ]
  },
  {
   "cell_type": "code",
   "execution_count": null,
   "id": "5630d90d",
   "metadata": {},
   "outputs": [],
   "source": [
    "a, b = 4, 6"
   ]
  },
  {
   "cell_type": "code",
   "execution_count": null,
   "id": "f39ec1ec",
   "metadata": {},
   "outputs": [],
   "source": [
    "a + b"
   ]
  },
  {
   "cell_type": "code",
   "execution_count": null,
   "id": "1a62e792",
   "metadata": {},
   "outputs": [],
   "source": [
    "a**b"
   ]
  },
  {
   "cell_type": "code",
   "execution_count": null,
   "id": "b9119dcb",
   "metadata": {},
   "outputs": [],
   "source": [
    "P = True"
   ]
  },
  {
   "cell_type": "code",
   "execution_count": null,
   "id": "2083294b",
   "metadata": {},
   "outputs": [],
   "source": [
    "Q = False"
   ]
  },
  {
   "cell_type": "code",
   "execution_count": null,
   "id": "371e7886",
   "metadata": {},
   "outputs": [],
   "source": [
    "P and Q"
   ]
  },
  {
   "cell_type": "code",
   "execution_count": null,
   "id": "a93fa820",
   "metadata": {},
   "outputs": [],
   "source": [
    "not P"
   ]
  },
  {
   "cell_type": "markdown",
   "id": "63174e45",
   "metadata": {},
   "source": [
    "<a id=\"u1c1.4\"></a>\n",
    "##  Salida de datos (por pantalla)\n",
    "\n",
    "Usamos la función `print()`\n",
    "\n",
    "\n",
    "**Enlaces**\n",
    "\n",
    "* <a href=\"https://www.w3schools.com/python/ref_func_print.asp\"> w3schools </a>\n",
    "* <a href=\"https://realpython.com/python-print/\"> Real Python </a>"
   ]
  },
  {
   "cell_type": "markdown",
   "id": "122cd0b9",
   "metadata": {},
   "source": [
    "El comando **print** imprime en pantalla el valor de la expresión entre paréntesis\n",
    "\n",
    "- La función `print()` escribe en la pantalla. Esta función produce un acción (escribir en la pantalla), pero no tiene un valor. Por esto la expresion `print('Hello word')` es `NoneType`. Hay expresiones que tiene un valor de un tipo determinado y otras que no lo tienen. A estas se el asigna el valor `None` del tipo `NoneType`\n",
    "- `'Hello world'` es una cadena, un tipo que sirve para tratar texto. Letras entre comillas, dobles o simples forman objetos del tipo cadena (_string_ en inglés.)"
   ]
  },
  {
   "cell_type": "markdown",
   "id": "114ebb3c",
   "metadata": {},
   "source": [
    "**Ejemplos**"
   ]
  },
  {
   "cell_type": "code",
   "execution_count": null,
   "id": "4be687fd",
   "metadata": {},
   "outputs": [],
   "source": [
    "print('Hello word')"
   ]
  },
  {
   "cell_type": "code",
   "execution_count": null,
   "id": "73cde6cb",
   "metadata": {},
   "outputs": [],
   "source": [
    "type(print('Hello world'))"
   ]
  },
  {
   "cell_type": "code",
   "execution_count": null,
   "id": "e6d506a3",
   "metadata": {},
   "outputs": [],
   "source": [
    "type('Hello word')"
   ]
  },
  {
   "cell_type": "code",
   "execution_count": null,
   "id": "ca5306b1",
   "metadata": {},
   "outputs": [],
   "source": [
    "print(4)"
   ]
  },
  {
   "cell_type": "code",
   "execution_count": null,
   "id": "bb11fb8e",
   "metadata": {},
   "outputs": [],
   "source": [
    "a, b = 2, 5\n",
    "\n",
    "print(a**2 + b**3)"
   ]
  },
  {
   "cell_type": "markdown",
   "id": "3c304f65",
   "metadata": {},
   "source": [
    "<a id=\"u1c1.5\"></a>\n",
    "## Entrada de datos (por teclado)\n",
    "\n",
    "Usamos la función `input()`\n",
    "\n",
    "**Enlaces**\n",
    "\n",
    "* la función `input()`: <a href=\"https://www.w3schools.com/python/ref_func_input.asp\"> w3schools </a>"
   ]
  },
  {
   "cell_type": "markdown",
   "id": "541e0c9a",
   "metadata": {},
   "source": [
    "La función `input()` permite asignar el valor a una variable introducido por teclado. Permitirá hacer programas que requieran que el usuario introduzca directamente datos para la ejecución."
   ]
  },
  {
   "cell_type": "code",
   "execution_count": null,
   "id": "d7f22f98",
   "metadata": {
    "tags": [
     "remove-output"
    ]
   },
   "outputs": [],
   "source": [
    "A = input('diga el valor para A ')"
   ]
  },
  {
   "cell_type": "code",
   "execution_count": null,
   "id": "8eecc153",
   "metadata": {
    "tags": [
     "remove-output"
    ]
   },
   "outputs": [],
   "source": [
    "A"
   ]
  },
  {
   "cell_type": "markdown",
   "id": "0662d15c",
   "metadata": {},
   "source": [
    "- lo que se escribe entre paréntesis se muestra al ejecutar la instrucción\n",
    "\n",
    "- una vez escrito el valor presionamos la tecla Intro\n",
    "\n",
    "- a la variable A se le asigna el valor que hemos escrito entre comillas (es un tipo de dato llamado cadena), para poder usarlo tenemos que convertirlo a número con los operadores int() o float"
   ]
  },
  {
   "cell_type": "code",
   "execution_count": null,
   "id": "57832593",
   "metadata": {
    "tags": [
     "remove-output"
    ]
   },
   "outputs": [],
   "source": [
    "Q = input('Introduce un número real ')\n",
    "print(float(Q) + 3.1)"
   ]
  },
  {
   "cell_type": "code",
   "execution_count": null,
   "id": "44ee7d93",
   "metadata": {
    "tags": [
     "remove-output"
    ]
   },
   "outputs": [],
   "source": [
    "m1 = input('Escribe un número entero: ')"
   ]
  },
  {
   "cell_type": "code",
   "execution_count": null,
   "id": "815f0bc9",
   "metadata": {
    "tags": [
     "remove-output"
    ]
   },
   "outputs": [],
   "source": [
    "type(m1)"
   ]
  },
  {
   "cell_type": "markdown",
   "id": "e21a69c6",
   "metadata": {},
   "source": [
    "Vamos a cambiar el tipo de la entrada para que podamos usar convenientemente el dato obtenido con el método ``input``"
   ]
  },
  {
   "cell_type": "code",
   "execution_count": null,
   "id": "f987a2a0",
   "metadata": {
    "tags": [
     "remove-output"
    ]
   },
   "outputs": [],
   "source": [
    "m2 = int(input('Escribe un número entero: '))"
   ]
  },
  {
   "cell_type": "code",
   "execution_count": null,
   "id": "7af223da",
   "metadata": {
    "tags": [
     "remove-output"
    ]
   },
   "outputs": [],
   "source": [
    "m2"
   ]
  },
  {
   "cell_type": "code",
   "execution_count": null,
   "id": "47cffa21",
   "metadata": {
    "tags": [
     "remove-output"
    ]
   },
   "outputs": [],
   "source": [
    "type(m1), type(m2)"
   ]
  },
  {
   "cell_type": "code",
   "execution_count": null,
   "id": "04985a96",
   "metadata": {
    "tags": [
     "remove-output"
    ]
   },
   "outputs": [],
   "source": [
    "radio = float(input('Escribe un número decimal: '))"
   ]
  },
  {
   "cell_type": "code",
   "execution_count": null,
   "id": "83e3899d",
   "metadata": {
    "tags": [
     "remove-output"
    ]
   },
   "outputs": [],
   "source": [
    "radio"
   ]
  },
  {
   "cell_type": "code",
   "execution_count": null,
   "id": "4e489e7b",
   "metadata": {
    "tags": [
     "remove-output"
    ]
   },
   "outputs": [],
   "source": [
    "área = pi * radio**2\n",
    "área"
   ]
  },
  {
   "cell_type": "markdown",
   "id": "7470f117",
   "metadata": {},
   "source": [
    "<a id=\"u1c1.6\"></a>\n",
    "## Programa (_script_)\n",
    "\n",
    "\n",
    "- Es un conjunto de expresiones o de órdenes que producen acciones del ordenador \n",
    "- Este conjunto de expresiones representan un conjunto ordenado de pasos a realizar para resolver un problema <- **Receta**\n",
    "\n",
    "Cómo ejecutar un programa desde Jupyter para que se realice la tarea deseada \n",
    "- Se escriben todas las órdenes en líneas consecutivas en una celda de código y se ejecuta "
   ]
  },
  {
   "cell_type": "markdown",
   "id": "cd3336c1",
   "metadata": {},
   "source": [
    "__Ejemplo__"
   ]
  },
  {
   "cell_type": "markdown",
   "id": "2d58c24c",
   "metadata": {},
   "source": [
    "Escribir un pequeño programa que pida un valor que será el radio de un círculo y que devuelve su área "
   ]
  },
  {
   "cell_type": "code",
   "execution_count": null,
   "id": "5b72fc41",
   "metadata": {
    "tags": [
     "remove-output"
    ]
   },
   "outputs": [],
   "source": [
    "radio = float(input('Proporciona el valor del radio: '))\n",
    "area = 3.14 * radio**2\n",
    "area"
   ]
  },
  {
   "cell_type": "code",
   "execution_count": null,
   "id": "7f2dd925",
   "metadata": {
    "tags": [
     "remove-output"
    ]
   },
   "outputs": [],
   "source": [
    "radio = float(input('Proporciona el valor del radio: '))\n",
    "area = 3.14 * radio**2\n",
    "print('El área es:')\n",
    "print(area)"
   ]
  },
  {
   "cell_type": "markdown",
   "id": "b0d8b77b",
   "metadata": {},
   "source": [
    "### Cómo crear un programa\n",
    "\n",
    "También se pueden escribir las órdenes en un fichero con extensión `.py`, y ejecutar este fichero. \n",
    "\n",
    "Con Jupyter\n",
    "- en el navegador de ficheros de Jupyter abrir un fichero de texto\n",
    "- elegir el tipo Python\n",
    "- escribir las órdenes del programa\n",
    "- guardardarlo con la opción `save`\n",
    "- volver al cuaderno y escribir en una celda de código el comando `run` seguido del nombre del fichero\n",
    "\n",
    "Desde la línea de comandos\n",
    "- escribir las órdenes con un editor de texto básico\n",
    "- guardar el fichero con extensión `.py`\n",
    "- _Ejecutar_ el fichero `.py` usando el intérprete de python\n",
    "    * usa el comando `python` o `python3` según la versión del intérprete que se quiera usar, por ejemplo:\n",
    "        ``>python3 ruta/fichero.py``\n",
    "    * ejecutar la instrucción ``run fichero.py`` en una celda de Jupyter"
   ]
  },
  {
   "cell_type": "code",
   "execution_count": null,
   "id": "9ed3c253",
   "metadata": {
    "tags": [
     "remove-output"
    ]
   },
   "outputs": [],
   "source": [
    "run area"
   ]
  },
  {
   "cell_type": "markdown",
   "id": "81ed9c6f",
   "metadata": {},
   "source": [
    "__Ejemplo__\n",
    "\n",
    "Escribir un programa que de el volumen de un cilindro. El programa debe pedir el radio de la base y la altura"
   ]
  },
  {
   "cell_type": "code",
   "execution_count": null,
   "id": "a1ef1608",
   "metadata": {
    "tags": [
     "remove-output"
    ]
   },
   "outputs": [],
   "source": [
    "radio = float(input('Radio del cilindro: '))\n",
    "altura = float(input('Altura del cilindro: '))\n",
    "volumen = 3.14 * radio ** 2 * altura\n",
    "print('El volumen del cilindro es: ')\n",
    "print(volumen)"
   ]
  },
  {
   "cell_type": "code",
   "execution_count": null,
   "id": "1d229672",
   "metadata": {
    "tags": [
     "remove-output"
    ]
   },
   "outputs": [],
   "source": [
    "run volumen_cilindro"
   ]
  },
  {
   "cell_type": "markdown",
   "id": "97729422",
   "metadata": {},
   "source": [
    "### Programa como receta. Elementos de un programa\n",
    "\n",
    "Un programa es un conjunto de expresiones que constituyen un conjunto ordendo de pasos mecánicos que la máquina debe realizar para resolver un problema\n",
    "\n",
    "Es como una receta para hacer una una tortilla francesa, por ejemplo. Tenemos siempre los siguientes elementos\n",
    "- datos de entrada -> huevos, sal, aceite, sartén ...\n",
    "- datos de salida -> la tortilla\n",
    "- operaciones básicas -> coger un recipiente, coger una sartén ...\n",
    "- operaciones que se realizan según se verifique una condición a no -> echar sal o no dependiendo de la situación coronaria del comensal -> **bifurcación**\n",
    "- operaciones que se repiten hasta que se verifique alguna condicón -> batir los huevos hasta que tengamos una mezcla adecuada de clara y yema -> **iteración**\n",
    "- procedimiento para determinar cuándo hay que parar\n",
    "\n",
    "Hay por lo tanto una serie de pasos a dar u órdenes que ejecutar, y procedimientos que controlan el orden en el que se ejecutan:\n",
    "- **secuencialmente**: siguiendo el orden en el están escritas esas órdenes en el programa\n",
    "- con **bifurcaciones**: cuando hay que elegir entre dos o más órdenes  \n",
    "- mediante **iteraciones**: se ejecuta la misma orden hasta que se verifica una condición de parada\n",
    "\n",
    "La **iteración** y la **bifurcación** son los elementos para el **control de flujo** de la ejecución de las órdenes contenidas en un programa"
   ]
  },
  {
   "cell_type": "markdown",
   "id": "8316fe55",
   "metadata": {},
   "source": [
    "<a id=\"u1c1.7\"></a>\n",
    "## Ejercicios\n",
    "\n",
    "\n",
    "1. Definir una variable de nombre `mi_edad` y asignarle como valor tu edad.\n",
    "2. Pregunta el valor de `a` e imprime el perímetro y el área de un cuadrado de lado `a`.\n",
    "3. Definir las variables `a` y `b` e imprime el área de un rectángulo de lados a y b.\n",
    "4. Pregunta la edad e imprime la edad que tendrias dentro de 18 años\n",
    "5. Pregunta los extremos de un intervalo `[a,b]` e imprime el punto medio del intervalo.\n",
    "6. Pide un símbolo y dibuja un cuadrado 4x4 con ese símbolo\n"
   ]
  },
  {
   "cell_type": "markdown",
   "id": "ef63ac75",
   "metadata": {},
   "source": [
    "<a id=\"u1c1.8\"></a>\n",
    "## Cuestionario Moodle\n",
    "\n",
    "[Cuestionario Tipos Básicos, Operadores, Asignación](https://moodle.upm.es/titulaciones/oficiales/mod/quiz/view.php?id=197625)\n",
    "\n",
    "[Cuestionario Programa Simple](https://moodle.upm.es/titulaciones/oficiales/mod/quiz/view.php?id=197626)\n",
    "\n"
   ]
  }
 ],
 "metadata": {
  "celltoolbar": "Tags",
  "kernelspec": {
   "display_name": "Python 3 (ipykernel)",
   "language": "python",
   "name": "python3"
  },
  "language_info": {
   "codemirror_mode": {
    "name": "ipython",
    "version": 3
   },
   "file_extension": ".py",
   "mimetype": "text/x-python",
   "name": "python",
   "nbconvert_exporter": "python",
   "pygments_lexer": "ipython3",
   "version": "3.10.12"
  }
 },
 "nbformat": 4,
 "nbformat_minor": 5
}

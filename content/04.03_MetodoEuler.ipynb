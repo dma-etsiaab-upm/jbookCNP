{
 "cells": [
  {
   "cell_type": "markdown",
   "id": "stylish-twist",
   "metadata": {},
   "source": [
    "# Método de Euler\n",
    "\n",
    "1. [El problema de valores iniciales de una ecuación diferencial ordinaria](#u4c3.1)\n",
    "2. [Ejercicios](#u4c3.2)\n"
   ]
  },
  {
   "cell_type": "markdown",
   "id": "crude-television",
   "metadata": {},
   "source": [
    "<a id=\"u4c3.1\"></a>\n",
    "## El problema de valores iniciales de una ecuación diferencial ordinaria"
   ]
  },
  {
   "cell_type": "markdown",
   "id": "intelligent-poker",
   "metadata": {},
   "source": [
    "El método de Euler proporciona una aproximación de la solución del\n",
    "problema de valor inicial (PVI):\n",
    "\\begin{equation*}\n",
    "\\begin{cases}\n",
    "y'=f(x,y)\\\\\n",
    "y(x_{0})=y_{0}\n",
    "\\end{cases}\\label{eq:0}\n",
    "\\end{equation*}\n",
    "por medio de puntos aproximados del gráfico de su solución.\n",
    "\n",
    "En vista de la condición inicial, el gráfico de la solución pasa por\n",
    "el punto $(x_{0},y_{0})$. El método de Euler propone utilizar la\n",
    "recta tangente al gráfico en $(x_{0},y_{0})$ para calcular el primer\n",
    "punto aproximado $(x_{1},y_{1})$ del gráfico de la solución, de donde\n",
    "resulta\n",
    "\n",
    "$$\n",
    "\\begin{array}{l}\n",
    "y_{1}=y_{0}+hf(x_{0},y_{0})\\\\\n",
    "x_{1}=x_{0}+h\n",
    "\\end{array}\n",
    "$$"
   ]
  },
  {
   "cell_type": "markdown",
   "id": "front-block",
   "metadata": {},
   "source": [
    "### Algoritmo"
   ]
  },
  {
   "cell_type": "markdown",
   "id": "moral-bruce",
   "metadata": {},
   "source": [
    "Repitiendo el $n$ veces el paso anterior, obtenemos el $n-$ésimo punto aproximado $(x_{n},y_{n})$ mediante la fórmula\n",
    "\n",
    "$$\n",
    "\\left\\{ \n",
    "\\begin{array}{l}\n",
    "y_{n}=y_{n-1}+hf(x_{n-1},y_{n-1})\\\\\n",
    "x_{n}=x_{n-1}+h\n",
    "\\end{array}\n",
    "\\right.\n",
    "$$\n",
    "\n",
    "Aquí, $x_{0}$, $y_{0}$ y $f$ vienen dados por la condición inicial del PVI y la función que define la ecuación diferencial ordinaria."
   ]
  },
  {
   "cell_type": "markdown",
   "id": "cooked-boost",
   "metadata": {},
   "source": [
    "### Ejemplo"
   ]
  },
  {
   "cell_type": "markdown",
   "id": "mysterious-duration",
   "metadata": {},
   "source": [
    "Consideramos el problema de valor inicial \n",
    "\n",
    "$$\n",
    "\\begin{cases}\n",
    "y'=x(1+y^{2})\\\\\n",
    "y(0)=1.\n",
    "\\end{cases}\n",
    "$$\n",
    "\n",
    "y escogemos $h=0.1.$\n",
    "\n",
    "En este caso tendremos \n",
    "\n",
    "$$\n",
    "(x_{0},y_{0})=(0,1),\\ \\ \\ \\ (x_{1},y_{1})=(0.1,1),\\ \\ \\ \\ (x_{2},y_{2})=(0.2,1.02),\\ldots\n",
    "$$\n",
    "\n",
    "Veamos como podemos obtener estos puntos. \n",
    "\n",
    "Se puede definir la función `euler_un_paso(f,x0,y0,h)` que realiza un paso del método de Euler para resolver numéricamente el problema de valor inicial (PVI)\n",
    "\n",
    "$$ y' = f(x,y), \\quad y(x_0) = y_0.$$\n",
    "\n",
    "Es decir, `euler_un_paso(f,x0,y0,h)` devuelve el par $$ (x_1,y_1)$$ donde \n",
    "\n",
    "$$x_1 = x_0 + h, \\qquad y_1 = y_0 + hf(x_0,y_0).$$\n",
    "\n",
    "Así, el primer punto de la solución aproximada del PVI con $h=0.1$ que proporciona el método de Euler es $(0.1,1.0)$.\n",
    "\n",
    "Para obtener el segundo punto $(x_2,y_2)$, tendríamos que dar otro paso, partiendo de $(0.1,1.0)$. Y así, seguimos construyendo los puntos del gráfico de la solución aproximada."
   ]
  },
  {
   "cell_type": "markdown",
   "id": "c0e44534",
   "metadata": {},
   "source": [
    "Imagen de abajo: puntos de Euler para el PVI $y'=x(1+y^{2}),\\ y(0)=1,$ con $h=0.1$ y $h=0.05.$\n",
    "<img src=../images/euler.png width=\"150%\">"
   ]
  },
  {
   "cell_type": "markdown",
   "id": "looking-fleece",
   "metadata": {},
   "source": [
    "<a id=\"u4c3.2\"></a>\n",
    "## Ejercicios"
   ]
  },
  {
   "cell_type": "markdown",
   "id": "equivalent-serial",
   "metadata": {},
   "source": [
    "1. Definir la función `euler(f,x0,y0,h,N)` que devuelve el punto $(x_{N},y_{N})$ definido por la ley recursiva del método de Euler.\n",
    "\n",
    "**Ayuda:** Al ser un algoritmo recursivo debemos realizar los\n",
    "siguientes pasos:\n",
    "  - Escoger las variables $x$, $y$ donde se guardarán los valores de $x_{n}$, $y_{n}$ e inicializarlas:\n",
    "```python\n",
    "x = x0\n",
    "y = y0\n",
    "```\n",
    "  - Repetir $N$ veces el paso recursivo (obtener $(x_{n},y_{n})$ a partir de $(x_{n-1} , y_{n-1})$) de reasignar las variables $x$, $y$:\n",
    "```python\n",
    "y = y + hf(x,y)\n",
    "x = x + h.\n",
    "```\n",
    "Es importante reasignarlas en ese orden ¿por qué?"
   ]
  },
  {
   "cell_type": "markdown",
   "id": "authorized-madness",
   "metadata": {},
   "source": [
    "2. Calcular el punto $(x_{100},y_{100})$ del gráfico de la solución aproximada del PVI \n",
    "\n",
    "$$\n",
    "\\begin{cases}\n",
    "y'=y(1-2y)\\\\\n",
    "y(0)=0.3.\n",
    "\\end{cases}\n",
    "$$\n",
    "con $h=0.02$."
   ]
  },
  {
   "cell_type": "markdown",
   "id": "transparent-compatibility",
   "metadata": {},
   "source": [
    "3. Definir la función `euler_x(f,x0,y0, xf, h)` que utiliza la ley recursiva del método de Euler para devolver un valor aproximado de $y(x_f)$ donde $y(x)$ es la solución del problema de valor inicial (PVI)\n",
    "\n",
    "$$\n",
    "\\begin{cases}\n",
    "y'=f(x,y)\\\\\n",
    "y(x_{0})=y_{0}\n",
    "\\end{cases}\n",
    "$$\n",
    "\n",
    "con un paso $h.$ \n",
    "\n",
    "**Ayuda:**\n",
    "\n",
    "- Obsérvese que habrá determinar el punto $(x_{N},y_{N})$ definido por la ley recursiva del método de Euler, con $x_N = x_f$ y $N = (x_f - x_0)/h.$ Supondremos que $(x_f - x_0)/h$ es entero. \n",
    "\n",
    "- En el código primero habrá que obtener $N$ como el número de pasos necesarios para para llegar de $x_0$ a $x_f$ con un paso de longitud $h.$ Téngase en cuenta que el valor de $N$ que se va a utilizar debe ser entero. Un vez tenemos $N,$ hay que repetir el proceso descrito anteriormente de la ley recursiva del método de Euler $N$ veces. \n"
   ]
  },
  {
   "cell_type": "markdown",
   "id": "assisted-bubble",
   "metadata": {},
   "source": [
    "4. Definir la función `grafico_euler(f,x0,y0,h,N)` que representa en un gráfico los $N$ primeros puntos de Euler para el PVI anterior (como los puntos rojos de la figura de más arriba).\n",
    "\n",
    "**Ayuda:** \n",
    "- Primero hay que traer el paquete `matplotlib.pyplot` como `plt` con la línea \n",
    "```python\n",
    "import matplotlib.pyplot as plt\n",
    "```\n",
    "que puede estar fuera de la función.\n",
    "- Debemos crear dos listas\n",
    "\n",
    "$$\n",
    "\\begin{array}{l}\n",
    "X=[x_{0},x_{1},x_{2},\\ldots,x_{N}],\\\\\n",
    "Y=[y_{0},y_{1},y_{2},\\ldots,y_{N}].\n",
    "\\end{array}\n",
    "$$\n",
    "\n",
    "Como `euler(f,x0,y0,h,n)` devuelve el par $(x_{n},y_{n})$, la lista $X$ debe estar formada por las primeras componentes de `euler(f,x0,y0,h,n)` con $n=0,1,2,\\ldots$ y la lista $Y$ por las segundas componentes.\n",
    "- Para que función `grafico_euler(f,x0,y0,h,N)` devuelva la gráfica después de la línea `plt.plot(X, Y)` hay que añadir la línea `plt.show()`\n",
    "- Esta función no tiene `return`"
   ]
  },
  {
   "cell_type": "markdown",
   "id": "rural-highland",
   "metadata": {},
   "source": [
    "5. Utilizar la función `grafico_euler(f,x0,y0,h,n)` para dibujar la solución aproximada del PVI\n",
    "\n",
    "$$\n",
    "\\begin{cases}\n",
    "y'=\\sin(x-y^{2})\\\\\n",
    "y(0)=1,\n",
    "\\end{cases}\n",
    "$$\n",
    "\n",
    "con $h=0.01$ y $n=300$."
   ]
  },
  {
   "cell_type": "markdown",
   "id": "superb-gates",
   "metadata": {},
   "source": [
    "6. Es conocido que la solución del PVI \n",
    "\n",
    "$$\n",
    "\\begin{cases}\n",
    "y'=4/(1+x^{2})\\\\\n",
    "y(0)=0.\n",
    "\\end{cases}\n",
    "$$\n",
    "\n",
    "tiene la propiedad $y(1)=\\pi$. Utilizar este hecho para calcular un valor aproximado de $\\pi$."
   ]
  }
 ],
 "metadata": {
  "kernelspec": {
   "display_name": "Python 3 (ipykernel)",
   "language": "python",
   "name": "python3"
  },
  "language_info": {
   "codemirror_mode": {
    "name": "ipython",
    "version": 3
   },
   "file_extension": ".py",
   "mimetype": "text/x-python",
   "name": "python",
   "nbconvert_exporter": "python",
   "pygments_lexer": "ipython3",
   "version": "3.12.3"
  }
 },
 "nbformat": 4,
 "nbformat_minor": 5
}

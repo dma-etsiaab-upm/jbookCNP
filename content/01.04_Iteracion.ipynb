{
 "cells": [
  {
   "cell_type": "markdown",
   "id": "collectible-remove",
   "metadata": {},
   "source": [
    "<hr>\n",
    "\n",
    "<a id=\"u1c4\"></a>\n",
    "# Iteración\n",
    "\n",
    "* [Un ejemplo con `while`](#u1c4.1)\n",
    "* [La instrucción `for`](#u1c4.2)\n",
    "* [Iteración con cadenas](#u1c4.3)\n",
    "* [Uso de `range()`](#u1c4.4)\n",
    "* [Bucles infinitos](#u1c4.5)\n",
    "* [Interumpir la ejecución circular de un bucle: `break`](#u1c4.6)\n",
    "* [Similitudes y diferencias: `for` y `while`](#u1c4.7)\n",
    "* [Instrucción `continue`](#u1c4.8)\n",
    "* [Acumuladores](#u1c4.9)\n",
    "* [Ejemplos](#u1c4.10)\n",
    "* [Ejercicios](#u1c4.11)\n",
    "\n",
    "\n",
    "__Vamos a utilizar como sinónimos, iteración, bucle y ejecución circular__"
   ]
  },
  {
   "cell_type": "markdown",
   "id": "optimum-lecture",
   "metadata": {},
   "source": [
    "<a id=\"u1c4.1\"></a>\n",
    "## Un ejemplo con `while`\n",
    "\n"
   ]
  },
  {
   "cell_type": "code",
   "execution_count": 9,
   "id": "nominated-citizen",
   "metadata": {},
   "outputs": [
    {
     "name": "stdout",
     "output_type": "stream",
     "text": [
      "0\n",
      "1\n",
      "2\n",
      "3\n",
      "4\n"
     ]
    }
   ],
   "source": [
    "n = 0\n",
    "while n < 5:\n",
    "    print(n)\n",
    "    n = n + 1"
   ]
  },
  {
   "cell_type": "markdown",
   "id": "welcome-chocolate",
   "metadata": {},
   "source": [
    "La instrucción **while** tiene la estructura\n",
    "\n",
    "    while (condición de ejecución):\n",
    "        (acción)\n",
    "        \n",
    "(condición de ejecución) es un objeto booleano, si es `True` se ejecuta (acción) y se vuelve a verificar la condición (en el `while`).  Si no, se para la iteración.\n",
    "  "
   ]
  },
  {
   "cell_type": "markdown",
   "id": "trying-ticket",
   "metadata": {},
   "source": [
    "### Elementos  de la iterción con `while`\n",
    "- Hay una condición, en este caso `n<5`, que es una expresón que tiene valores booleanos (`True` o `False`)\n",
    "- Cuando la condición es `True`, se ejecutan todos los pasos del bloque `while`\n",
    "- Se comprueba la condición de nuevo\n",
    "- Se repite la ejecución del bloque `while` hasta que  la condición es `False`\n",
    "- Tiene que haber una variable con las siguienes características/comportamiento que:\n",
    "  - se inicia, `n=0`, \n",
    "  - se modifica en cada iteración, `n = n + 1`, \n",
    "  - en algún momento el nuevo valor de `n` hace que la expresión de la condición tenga valor `False`"
   ]
  },
  {
   "cell_type": "markdown",
   "id": "polish-delight",
   "metadata": {},
   "source": [
    "**Observaciones:**\n",
    "\n",
    "- Para el bucle while no es necesario indicar explícitamente el número de veces que se realiza la acción. Después veremos como hacer esto con un iterable\n",
    "\n",
    "- Si (condición de ejecución) toma siempre el valor True, resultará un bucle infinito. \n",
    "Para evitar esto: \n",
    "\n",
    "  - un bucle while debe tener una variable de control que se actualiza en cada iteración\n",
    "  - (condición de ejecución) debe tomar el valor False después de un número finito de pasos ó que aparezca una instrucción break"
   ]
  },
  {
   "cell_type": "markdown",
   "id": "conceptual-officer",
   "metadata": {},
   "source": [
    "**Ejemplo**"
   ]
  },
  {
   "cell_type": "code",
   "execution_count": 10,
   "id": "hybrid-initial",
   "metadata": {},
   "outputs": [
    {
     "name": "stdout",
     "output_type": "stream",
     "text": [
      "hola\n",
      "hola\n",
      "hola\n",
      "hola\n",
      "hola\n"
     ]
    }
   ],
   "source": [
    "# contador es la variable de control\n",
    "# el contador se actualiza en cada iteración\n",
    "# contador < 5 es la condición de ejecución\n",
    "\n",
    "contador = 0\n",
    "while contador < 5:\n",
    "    print('hola')\n",
    "    contador += 1 \n",
    "\n",
    "    "
   ]
  },
  {
   "cell_type": "markdown",
   "id": "referenced-receptor",
   "metadata": {},
   "source": [
    "<a id=\"u1c4.2\"></a>\n",
    "## La instrucción `for`\n",
    "\n",
    "\n"
   ]
  },
  {
   "cell_type": "code",
   "execution_count": 11,
   "id": "prescription-thesaurus",
   "metadata": {},
   "outputs": [
    {
     "name": "stdout",
     "output_type": "stream",
     "text": [
      "0\n",
      "1\n",
      "2\n",
      "3\n",
      "4\n"
     ]
    }
   ],
   "source": [
    "for n in range(5):\n",
    "    print(n)"
   ]
  },
  {
   "cell_type": "markdown",
   "id": "active-directory",
   "metadata": {},
   "source": [
    "Observad el sangrado y los colores de las palabras que aparecen en el programa"
   ]
  },
  {
   "cell_type": "markdown",
   "id": "stunning-amsterdam",
   "metadata": {},
   "source": [
    "### Estructura de la iteración\n",
    "\n",
    "<img src=../images/U1-4_iteracion.jpg width=\"40%\">"
   ]
  },
  {
   "cell_type": "markdown",
   "id": "naked-halloween",
   "metadata": {},
   "source": [
    "### La iteración ``for``\n",
    "\n",
    "La iteración **for** tiene la estructura:\n",
    "\n",
    "     for u in I:\n",
    "         (acción)\n",
    "         \n",
    "donde I es un **iterable**: un conjunto ordenado que se puede recorrer.\n",
    "\n",
    "En Python son iterables las estructuras que ya hemos visto:\n",
    "\n",
    "- las cadenas\n",
    "- el conjunto range(m,n,q)\n",
    "\n",
    "y otras que veremos después:\n",
    "- las listas\n",
    "- las tuplas\n",
    "- los diccionarios\n",
    "\n",
    "#### Elementos de una iteración con `for`:\n",
    "- en cada paso del proceso circular, la variable `n` cambia de valor\n",
    "- la primera vez, la variable toma el primer valor del __rango__ de números enteros desde el cero hasta el 5 (sin incluir el cinco) -> `n=0`\n",
    "- la siguiente vez, la variable toma el siguiente valor -> `n=1`\n",
    "- etc.\n",
    "- el proceso acaba cuando `n=4` que es el último valor que se imprime (cuando `n=5` se sale del bucle y no se ejecuta el bloque de líneas consecutivas que están sangradas debajo de `for`)\n",
    "- se puede utilizar otra secuencia ordena e indexada, otro iterable, diferente de `range()`"
   ]
  },
  {
   "cell_type": "markdown",
   "id": "young-fleet",
   "metadata": {},
   "source": [
    "<a id=\"u1c4.3\"></a>\n",
    "## Iteración con cadenas\n",
    "\n"
   ]
  },
  {
   "cell_type": "code",
   "execution_count": 12,
   "id": "terminal-lottery",
   "metadata": {},
   "outputs": [
    {
     "name": "stdout",
     "output_type": "stream",
     "text": [
      "E\n",
      "s\n",
      "t\n",
      "a\n",
      "m\n",
      "o\n",
      "s\n",
      " \n",
      "e\n",
      "n\n",
      " \n",
      "M\n",
      "a\n",
      "r\n",
      "t\n",
      "e\n"
     ]
    }
   ],
   "source": [
    "texto = 'Estamos en Marte'\n",
    "i = 0\n",
    "while i < len(texto):\n",
    "    print(texto[i])\n",
    "    i = i + 1"
   ]
  },
  {
   "cell_type": "code",
   "execution_count": 13,
   "id": "imperial-hours",
   "metadata": {},
   "outputs": [
    {
     "name": "stdout",
     "output_type": "stream",
     "text": [
      "N\n",
      "o\n",
      "s\n",
      " \n",
      "v\n",
      "a\n",
      "m\n",
      "o\n",
      "s\n",
      " \n",
      "a\n",
      " \n",
      "J\n",
      "ú\n",
      "p\n",
      "i\n",
      "t\n",
      "e\n",
      "r\n"
     ]
    }
   ],
   "source": [
    "for letra in 'Nos vamos a Júpiter':\n",
    "    print(letra)"
   ]
  },
  {
   "cell_type": "markdown",
   "id": "configured-roulette",
   "metadata": {},
   "source": [
    "**Ejemplos 1**"
   ]
  },
  {
   "cell_type": "code",
   "execution_count": 14,
   "id": "greatest-antibody",
   "metadata": {},
   "outputs": [
    {
     "name": "stdout",
     "output_type": "stream",
     "text": [
      "h\n",
      "o\n",
      "l\n",
      "a\n"
     ]
    }
   ],
   "source": [
    "for u in 'hola':\n",
    "    print(u)"
   ]
  },
  {
   "cell_type": "markdown",
   "id": "39eed10f",
   "metadata": {},
   "source": [
    "**Ejemplos 2**"
   ]
  },
  {
   "cell_type": "code",
   "execution_count": 15,
   "id": "celtic-pressing",
   "metadata": {},
   "outputs": [
    {
     "name": "stdout",
     "output_type": "stream",
     "text": [
      "e\n",
      "s\n",
      "c\n",
      "u\n",
      "e\n",
      "l\n",
      "a\n"
     ]
    }
   ],
   "source": [
    "I = 'escuela'\n",
    "\n",
    "for letra in I:\n",
    "    print(letra)"
   ]
  },
  {
   "cell_type": "markdown",
   "id": "4ef2476c",
   "metadata": {},
   "source": [
    "**Ejemplos 3**"
   ]
  },
  {
   "cell_type": "code",
   "execution_count": 16,
   "id": "infectious-register",
   "metadata": {},
   "outputs": [
    {
     "name": "stdout",
     "output_type": "stream",
     "text": [
      "0 0 0 0 0 \n",
      "0 0 0 0 0 \n",
      "0 0 0 0 0 \n",
      "0 0 0 0 0 \n",
      "0 0 0 0 0 \n"
     ]
    }
   ],
   "source": [
    "n = 5\n",
    "for u in range(n):\n",
    "    print(n*'0 ')"
   ]
  },
  {
   "cell_type": "markdown",
   "id": "6cccebda",
   "metadata": {},
   "source": [
    "**Ejemplos 4**"
   ]
  },
  {
   "cell_type": "code",
   "execution_count": 17,
   "id": "corresponding-abraham",
   "metadata": {},
   "outputs": [
    {
     "name": "stdout",
     "output_type": "stream",
     "text": [
      "0 0 0 0 0 \n",
      "0 0 0 0 0 \n",
      "0 0 0 0 0 \n",
      "0 0 0 0 0 \n",
      "0 0 0 0 0 \n"
     ]
    }
   ],
   "source": [
    "# dibujar un cuadrado de 0's de lado n\n",
    "\n",
    "n = 5\n",
    "for u in n*'a': # esto es un apaño, luego con range será más natural\n",
    "    print(n*'0 ')"
   ]
  },
  {
   "cell_type": "markdown",
   "id": "signed-perry",
   "metadata": {},
   "source": [
    "<a id=\"u1c4.4\"></a>\n",
    "## Uso de `range()`\n",
    "\n",
    "### Enlace\n",
    " * <a href=\"https://www.w3schools.com/python/ref_func_range.asp\"> w3schools - ``range`` </a>\n",
    "\n",
    "\n"
   ]
  },
  {
   "cell_type": "code",
   "execution_count": 25,
   "id": "identified-universal",
   "metadata": {},
   "outputs": [
    {
     "name": "stdout",
     "output_type": "stream",
     "text": [
      "0\n",
      "1\n",
      "2\n",
      "3\n",
      "4\n"
     ]
    }
   ],
   "source": [
    "for numero in range(5):\n",
    "    print(numero)"
   ]
  },
  {
   "cell_type": "code",
   "execution_count": 26,
   "id": "interim-gossip",
   "metadata": {},
   "outputs": [
    {
     "name": "stdout",
     "output_type": "stream",
     "text": [
      "1\n",
      "2\n",
      "3\n",
      "4\n"
     ]
    }
   ],
   "source": [
    "for numero in range(1,5):\n",
    "    print(numero)"
   ]
  },
  {
   "cell_type": "code",
   "execution_count": 27,
   "id": "first-belly",
   "metadata": {},
   "outputs": [
    {
     "name": "stdout",
     "output_type": "stream",
     "text": [
      "1\n",
      "3\n"
     ]
    }
   ],
   "source": [
    "for numero in range(1,5,2):\n",
    "    print(numero)"
   ]
  },
  {
   "cell_type": "code",
   "execution_count": 28,
   "id": "impressed-cincinnati",
   "metadata": {},
   "outputs": [
    {
     "name": "stdout",
     "output_type": "stream",
     "text": [
      "-5\n",
      "-3\n",
      "-1\n",
      "1\n",
      "3\n"
     ]
    }
   ],
   "source": [
    "for numero in range(-5,5,2):\n",
    "    print(numero)"
   ]
  },
  {
   "cell_type": "code",
   "execution_count": 29,
   "id": "tired-elements",
   "metadata": {},
   "outputs": [
    {
     "name": "stdout",
     "output_type": "stream",
     "text": [
      "10\n",
      "9\n",
      "8\n"
     ]
    }
   ],
   "source": [
    "for numero in range(10,7,-1):\n",
    "    print(numero)"
   ]
  },
  {
   "cell_type": "code",
   "execution_count": 30,
   "id": "affiliated-penetration",
   "metadata": {},
   "outputs": [
    {
     "data": {
      "text/plain": [
       "range"
      ]
     },
     "execution_count": 30,
     "metadata": {},
     "output_type": "execute_result"
    }
   ],
   "source": [
    "type(range(2))"
   ]
  },
  {
   "cell_type": "code",
   "execution_count": 31,
   "id": "executed-antarctica",
   "metadata": {},
   "outputs": [
    {
     "name": "stdout",
     "output_type": "stream",
     "text": [
      "range(0, 2)\n"
     ]
    }
   ],
   "source": [
    "print(range(2))"
   ]
  },
  {
   "cell_type": "markdown",
   "id": "standing-production",
   "metadata": {},
   "source": [
    "**Uso**\n",
    "\n",
    "``range(m,n,p)``$\\longrightarrow\\{m,m+p,m+2p,...\\}$\n",
    "\n",
    "\n",
    "**Ejemplos**\n",
    "\n",
    "- ``range(1,6,1)``$\\longrightarrow\\{1,2,3,4,5\\}$\n",
    "\n",
    "-  ``range(2,9,1)``$\\longrightarrow\\{2,3,4,5,7,8\\}$\n",
    "\n",
    "-  ``range(2,9,2)``$\\longrightarrow\\{2,4,6,8\\}$\n",
    "\n",
    "-  ``range(9,2,-1)``$\\longrightarrow\\{9,8,7,6,5,4,3\\}$\n",
    "\n",
    "- ``range(2,7)``$\\longrightarrow\\{2,3,4,5,6\\}$\n",
    "\n",
    "cuando $m=0$ y $p=1$ se escribe ``range(n)``\n",
    "\n",
    "- ``range(4)``$\\longrightarrow\\{0,1,2,3\\}$\n",
    "\n",
    "- ``range(7)``$\\longrightarrow\\{0,1,2,3,4,5,6\\}$.\n"
   ]
  },
  {
   "cell_type": "markdown",
   "id": "cardiovascular-highland",
   "metadata": {},
   "source": [
    "El objeto ``range`` proporciona una secuencia ordenada de números enteros: es un **iterable**"
   ]
  },
  {
   "cell_type": "code",
   "execution_count": 32,
   "id": "laden-richards",
   "metadata": {},
   "outputs": [
    {
     "name": "stdout",
     "output_type": "stream",
     "text": [
      "0\n",
      "1\n",
      "2\n",
      "3\n",
      "4\n"
     ]
    }
   ],
   "source": [
    "for i in range(5):\n",
    "    print(i)"
   ]
  },
  {
   "cell_type": "markdown",
   "id": "addressed-compression",
   "metadata": {},
   "source": [
    "El iterable range resulta muy cómodo para repetir una misma acción varias veces:"
   ]
  },
  {
   "cell_type": "code",
   "execution_count": 33,
   "id": "simplified-triumph",
   "metadata": {},
   "outputs": [
    {
     "name": "stdout",
     "output_type": "stream",
     "text": [
      "así repetimos una acción\n",
      "así repetimos una acción\n",
      "así repetimos una acción\n",
      "así repetimos una acción\n",
      "así repetimos una acción\n",
      "así repetimos una acción\n"
     ]
    }
   ],
   "source": [
    "n = 6\n",
    "for u in range(n):\n",
    "    print('así repetimos una acción')"
   ]
  },
  {
   "cell_type": "markdown",
   "id": "played-washington",
   "metadata": {},
   "source": [
    "**Ejemplo 1**\n",
    "\n",
    "Calcular la suma $$1+2+3+\\cdots+n$$\n",
    "\n",
    "Usamos un acumulador para ir guardando las sumas parciales"
   ]
  },
  {
   "cell_type": "code",
   "execution_count": 34,
   "id": "gothic-middle",
   "metadata": {},
   "outputs": [
    {
     "name": "stdout",
     "output_type": "stream",
     "text": [
      "1\n",
      "3\n",
      "6\n",
      "10\n",
      "15\n",
      "21\n",
      "28\n",
      "36\n",
      "45\n",
      "55\n"
     ]
    }
   ],
   "source": [
    "n = 10\n",
    "\n",
    "suma = 0\n",
    "for u in range(1,n+1):\n",
    "    suma = suma + u\n",
    "    print(suma)\n"
   ]
  },
  {
   "cell_type": "markdown",
   "id": "biblical-celebration",
   "metadata": {},
   "source": [
    "En realidad no es necesario imprimir las sumas parciales, lo hemos hecho para mostrar como funciona el algoritmo. Bastaría con "
   ]
  },
  {
   "cell_type": "code",
   "execution_count": 35,
   "id": "genuine-camcorder",
   "metadata": {},
   "outputs": [
    {
     "name": "stdout",
     "output_type": "stream",
     "text": [
      "55\n"
     ]
    }
   ],
   "source": [
    "# observa la importancia del sangrado al comparar  \n",
    "# con el script anterior\n",
    "\n",
    "n = 10\n",
    "\n",
    "suma = 0\n",
    "for u in range(1,n+1):\n",
    "    suma = suma + u\n",
    "print(suma)"
   ]
  },
  {
   "cell_type": "markdown",
   "id": "ambient-virgin",
   "metadata": {},
   "source": [
    "**Ejemplo 2**\n",
    "\n",
    "Sumar los número pares menores que 10"
   ]
  },
  {
   "cell_type": "code",
   "execution_count": 36,
   "id": "wrapped-future",
   "metadata": {},
   "outputs": [
    {
     "name": "stdout",
     "output_type": "stream",
     "text": [
      "20\n"
     ]
    }
   ],
   "source": [
    "# Sumar los número pares menores que 10\n",
    "suma = 0\n",
    "for numero in range(0,10,2):\n",
    "    suma = suma + numero\n",
    "print(suma)"
   ]
  },
  {
   "cell_type": "markdown",
   "id": "liked-commons",
   "metadata": {},
   "source": [
    "<a id=\"u1c4.5\"></a>\n",
    "## Bucles infinitos\n",
    "\n",
    "\n",
    "Los programadores suelen tener un problema con las instrucciones de un champú: ¿cuántes veces hay que repetir el proceso \"lavar, aclarar, repetir\"? En las instrucciones no hay una variable de la iteración que diga cuantas veces hay que ejecutar este proceso.\n",
    "\n",
    "Veamos un ejemplo de bucle infinito mas simple\n"
   ]
  },
  {
   "cell_type": "markdown",
   "id": "80558c5f-94d4-4c1b-b266-977cff504d62",
   "metadata": {},
   "source": [
    "```python\n",
    "while True:\n",
    "    print('¡Basta!')\n",
    "```"
   ]
  },
  {
   "cell_type": "markdown",
   "id": "cdd73c0b-43d9-4df8-95c7-71369c3ad94a",
   "metadata": {},
   "source": [
    "```python\n",
    "n = 1\n",
    "while n < 2:\n",
    "    print(n)\n",
    "    n -= 1\n",
    "```"
   ]
  },
  {
   "cell_type": "markdown",
   "id": "asian-montana",
   "metadata": {},
   "source": [
    "<a id=\"u1c4.6\"></a>\n",
    "## Interumpir la ejecución circular de un bucle: `break`\n",
    "\n",
    "\n",
    "\n",
    "\n",
    "Cómo interrumpir un bucle antes que se llegue a la parada.\n",
    "\n",
    "Veamos un ejemplo simple: queremos escribir un programa que recoja información del usuario hasta que escriba 'acabado'."
   ]
  },
  {
   "cell_type": "code",
   "execution_count": 37,
   "id": "harmful-independence",
   "metadata": {
    "tags": [
     "remove-output"
    ]
   },
   "outputs": [
    {
     "name": "stdout",
     "output_type": "stream",
     "text": [
      "Escriba una palabra: abcd\n",
      " abcd\n",
      "Escriba una palabra: erwrq\n",
      " erwrq\n",
      "Escriba una palabra: acabado\n",
      "\n",
      " Se acabó\n"
     ]
    }
   ],
   "source": [
    "while True:\n",
    "    palabra = input('Escriba una palabra: ')\n",
    "    if palabra == 'acabado':\n",
    "        break\n",
    "    print(' ' + palabra)\n",
    "print('')\n",
    "print(' Se acabó')"
   ]
  },
  {
   "cell_type": "markdown",
   "id": "e3c9cae5",
   "metadata": {},
   "source": [
    "Veamos un ejemplo con un contador."
   ]
  },
  {
   "cell_type": "code",
   "execution_count": 38,
   "id": "violent-biodiversity",
   "metadata": {},
   "outputs": [
    {
     "name": "stdout",
     "output_type": "stream",
     "text": [
      "hola\n",
      "hola\n",
      "hola\n",
      "hola\n",
      "hola\n"
     ]
    }
   ],
   "source": [
    "# versión alternativa del anterior con break\n",
    "\n",
    "contador = 0\n",
    "while True:\n",
    "    print('hola')\n",
    "    contador += 1\n",
    "    if contador >= 5:\n",
    "        break\n",
    "    "
   ]
  },
  {
   "cell_type": "markdown",
   "id": "modern-fashion",
   "metadata": {},
   "source": [
    "**Observación:** Un bucle while se puede escribir siempre de dos formas equivalentes:\n",
    "\n",
    "    while (condición de ejecución):\n",
    "        (acción)\n",
    "        \n",
    "ó\n",
    "\n",
    "    while True:\n",
    "        (acción)\n",
    "        if not (condición de ejecución):\n",
    "            break\n",
    "            \n",
    "\n",
    "El valor **not (condición de ejecución)** recibe el nombre de **condición de finalización**."
   ]
  },
  {
   "cell_type": "markdown",
   "id": "medical-argentina",
   "metadata": {},
   "source": [
    "**Ejemplo**"
   ]
  },
  {
   "cell_type": "code",
   "execution_count": 39,
   "id": "level-consultation",
   "metadata": {},
   "outputs": [
    {
     "name": "stdout",
     "output_type": "stream",
     "text": [
      "Letras: P\n",
      "Letras: y\n",
      "Letras: t\n"
     ]
    }
   ],
   "source": [
    "for letra in 'Python':\n",
    "    if letra == 'h':\n",
    "        break\n",
    "    print('Letras:', letra)"
   ]
  },
  {
   "cell_type": "markdown",
   "id": "entitled-malaysia",
   "metadata": {},
   "source": [
    "Se interumpe el bucle en el que está metida la instrucción `break`. Si se tratara de bucles anidados, pararía en el bucle en el que se encuentra `break` y seguiría con el bucle superior."
   ]
  },
  {
   "cell_type": "code",
   "execution_count": 40,
   "id": "circular-appliance",
   "metadata": {},
   "outputs": [
    {
     "name": "stdout",
     "output_type": "stream",
     "text": [
      "Letra de Madrid: M\n",
      "Letra de Barcelona: B\n",
      "Letra de Barcelona: a\n",
      "Letra de Barcelona: r\n",
      "Letra de Madrid: a\n",
      "Letra de Barcelona: B\n",
      "Letra de Barcelona: a\n",
      "Letra de Barcelona: r\n",
      "Letra de Madrid: d\n",
      "Letra de Barcelona: B\n",
      "Letra de Barcelona: a\n",
      "Letra de Barcelona: r\n",
      "Letra de Madrid: r\n",
      "Letra de Barcelona: B\n",
      "Letra de Barcelona: a\n",
      "Letra de Barcelona: r\n",
      "Letra de Madrid: i\n",
      "Letra de Barcelona: B\n",
      "Letra de Barcelona: a\n",
      "Letra de Barcelona: r\n",
      "Letra de Madrid: d\n",
      "Letra de Barcelona: B\n",
      "Letra de Barcelona: a\n",
      "Letra de Barcelona: r\n"
     ]
    }
   ],
   "source": [
    "madrid = 'Madrid'\n",
    " \n",
    "barcelona = 'Barcelona'\n",
    " \n",
    "for letra_1 in madrid:\n",
    "    print(\"Letra de Madrid:\" ,letra_1)\n",
    "    for letra_2 in barcelona:\n",
    "        if letra_2 == 'c':\n",
    "            break\n",
    "        print(\"Letra de Barcelona:\" ,letra_2)"
   ]
  },
  {
   "cell_type": "markdown",
   "id": "abroad-device",
   "metadata": {},
   "source": [
    "<a id=\"u1c4.7\">continue</a>\n",
    "## Similitudes y diferencias: `for` y `while`\n",
    "\n",
    "\n"
   ]
  },
  {
   "cell_type": "markdown",
   "id": "departmental-solomon",
   "metadata": {},
   "source": [
    "|`for`| `while` |\n",
    "| :-: | :-: |\n",
    "|número de iteraciones prefijadas |número de iteraciones no prefijadas|\n",
    "|se puede acabar antes con `break`  |se puede acabar antes con `break`|\n",
    "|utiliza como contador un iterable|se puede utilizar un contador pero hay que inicializarlo antes e incrementarlo dentro del bucle en el bloque que se ejecuta hasta la condición toma el valor `False`|\n",
    "|un `for` se puede reescribir con un `while`| puede no ser posible reescribir un `while` con un `for`|\n"
   ]
  },
  {
   "cell_type": "markdown",
   "id": "civic-difference",
   "metadata": {},
   "source": [
    "<a id=\"u1c4.8\"></a>\n",
    "##  Instrucción `continue`\n",
    "\n",
    "La palabra clave `continue` nos permite _saltar_ un bloque de ejecución.\n",
    "\n",
    "Cómo dejar de ejecutar una vez el bloque de sentencias del bucle.\n",
    "\n",
    "Veamos un ejemplo: hay que escribir un programa que no imprima la letra `a` de una palabra que se pide al usuario."
   ]
  },
  {
   "cell_type": "code",
   "execution_count": 41,
   "id": "quality-assessment",
   "metadata": {
    "tags": [
     "remove-output"
    ]
   },
   "outputs": [
    {
     "name": "stdout",
     "output_type": "stream",
     "text": [
      "Escribe una palabra: abra\n",
      "b\n",
      "r\n"
     ]
    }
   ],
   "source": [
    "palabra = input('Escribe una palabra: ')\n",
    "for letra in palabra:\n",
    "    if letra == 'a':\n",
    "        continue\n",
    "    print(letra)"
   ]
  },
  {
   "cell_type": "markdown",
   "id": "1552a104",
   "metadata": {},
   "source": [
    "<a id=\"u1c4.9\"></a>\n",
    "## Acumuladores"
   ]
  },
  {
   "cell_type": "markdown",
   "id": "754299e7",
   "metadata": {},
   "source": [
    "Un **acumulador** es una variable cuyo valor se modifica (actualiza) en cada paso de una iteración. El valor (contenido) inicial del acumulador se define antes de comenzar la iteración (inicialización)."
   ]
  },
  {
   "cell_type": "markdown",
   "id": "740157a0",
   "metadata": {},
   "source": [
    "**Ejemplo 1**\n",
    "\n",
    "¿Qué hace este programa?"
   ]
  },
  {
   "cell_type": "code",
   "execution_count": 42,
   "id": "875ab56e",
   "metadata": {
    "scrolled": true
   },
   "outputs": [
    {
     "name": "stdout",
     "output_type": "stream",
     "text": [
      "15\n"
     ]
    }
   ],
   "source": [
    "I = 'casa de muñecas'\n",
    "\n",
    "a = 0\n",
    "for u in I:\n",
    "    a = a + 1\n",
    "    \n",
    "print(a)"
   ]
  },
  {
   "cell_type": "markdown",
   "id": "843ff4d4",
   "metadata": {},
   "source": [
    "El acumulador de este ejemplo, que se modifica añadiéndole 1, recibe el nombre de **contador**. Se inicializa con 0."
   ]
  },
  {
   "cell_type": "markdown",
   "id": "0ccd7166",
   "metadata": {},
   "source": [
    "**Ejemplo 2**\n",
    "\n",
    "¿Qué hace este programa?"
   ]
  },
  {
   "cell_type": "code",
   "execution_count": 43,
   "id": "5ddc206e",
   "metadata": {},
   "outputs": [
    {
     "name": "stdout",
     "output_type": "stream",
     "text": [
      "13\n"
     ]
    }
   ],
   "source": [
    "I = 'casa de muñecas'\n",
    "\n",
    "a = 0\n",
    "for u in I:\n",
    "    if u != ' ':\n",
    "        a = a + 1\n",
    "    \n",
    "print(a)"
   ]
  },
  {
   "cell_type": "markdown",
   "id": "399b9c1b",
   "metadata": {},
   "source": [
    "__¿y este?__"
   ]
  },
  {
   "cell_type": "code",
   "execution_count": 44,
   "id": "9499a552",
   "metadata": {},
   "outputs": [
    {
     "name": "stdout",
     "output_type": "stream",
     "text": [
      "2\n"
     ]
    }
   ],
   "source": [
    "I = 'casa de muñecas'\n",
    "\n",
    "a = 0\n",
    "for u in I:\n",
    "    if u == ' ':\n",
    "        a = a + 1\n",
    "    \n",
    "print(a)"
   ]
  },
  {
   "cell_type": "markdown",
   "id": "ea9c13bd",
   "metadata": {},
   "source": [
    "**Ejemplo 3**"
   ]
  },
  {
   "cell_type": "code",
   "execution_count": 45,
   "id": "4fc1ea8d",
   "metadata": {},
   "outputs": [
    {
     "name": "stdout",
     "output_type": "stream",
     "text": [
      "e\n",
      "es\n",
      "esp\n",
      "espe\n",
      "espec\n",
      "espect\n",
      "espectr\n",
      "espectró\n",
      "espectróm\n",
      "espectróme\n",
      "espectrómet\n",
      "espectrómetr\n",
      "espectrómetro\n"
     ]
    }
   ],
   "source": [
    "texto = 'espectrómetro'\n",
    "\n",
    "a = ''\n",
    "for u in texto:\n",
    "    a = a + u\n",
    "    print(a) # ¿qué pasa si print(a) no está sangrado?"
   ]
  },
  {
   "cell_type": "markdown",
   "id": "647b5eb7",
   "metadata": {},
   "source": [
    "En el ejemplo anterior la variable **a** es un acumulador, que se inicializa con la cadena vacía `''` y se actualiza concatenándola con las letras sucesivas de **texto**."
   ]
  },
  {
   "cell_type": "markdown",
   "id": "ea3f7c06",
   "metadata": {},
   "source": [
    "**Ejemplo 4**\n",
    "\n",
    "Podemos calcular la longitud de una cadena sin usar la función `len()`"
   ]
  },
  {
   "cell_type": "code",
   "execution_count": 46,
   "id": "edbc7db0",
   "metadata": {},
   "outputs": [
    {
     "name": "stdout",
     "output_type": "stream",
     "text": [
      "47\n"
     ]
    }
   ],
   "source": [
    "#uso típico de un contador\n",
    "\n",
    "texto = 'las abejas pierden su aguijón al picar y mueren'\n",
    "\n",
    "contador = 0\n",
    "for u in texto:\n",
    "    contador += 1\n",
    "print(contador)\n"
   ]
  },
  {
   "cell_type": "markdown",
   "id": "608f1d74",
   "metadata": {},
   "source": [
    "**Ejemplo 5**\n",
    "\n",
    "Algo más complicado - contar las vocales de un texto"
   ]
  },
  {
   "cell_type": "markdown",
   "id": "ae1d6132",
   "metadata": {},
   "source": [
    "Primera aproximación"
   ]
  },
  {
   "cell_type": "code",
   "execution_count": 47,
   "id": "fd63f4c0",
   "metadata": {},
   "outputs": [
    {
     "name": "stdout",
     "output_type": "stream",
     "text": [
      "a --> 5\n"
     ]
    }
   ],
   "source": [
    "# contamos cuantas letras 'a' hay en el texto\n",
    "\n",
    "texto = 'Estuvieron cavando durante tres días, pero no lo encontraron'\n",
    "\n",
    "contador = 0\n",
    "for u in texto:\n",
    "    if u == 'a':\n",
    "        contador = contador + 1\n",
    "print('a', '-->', contador)\n",
    "    "
   ]
  },
  {
   "cell_type": "markdown",
   "id": "4225a117",
   "metadata": {},
   "source": [
    "Segunda aproximación"
   ]
  },
  {
   "cell_type": "code",
   "execution_count": null,
   "id": "cbef4950",
   "metadata": {},
   "outputs": [],
   "source": [
    "# Doble iteración\n",
    "\n",
    "texto = 'Estuvieron cavando durante tres días, pero no lo encontraron'\n",
    "\n",
    "vocales = 'aeiou'\n",
    "for i in vocales:\n",
    "    contador = 0\n",
    "    for u in texto:\n",
    "        if u == i:\n",
    "            contador = contador + 1\n",
    "    print(i, '-->', contador)"
   ]
  },
  {
   "cell_type": "markdown",
   "id": "7dcc6bed",
   "metadata": {},
   "source": [
    "**Ejercicio**\n",
    "\n",
    "Contar las vocales, teniendo en cuenta que pueden estar en mayúsculas o tener tilde.\n",
    "\n",
    "Por ejemplo, de ``'Antelación a su época'`` debe resultar:\n",
    "\n",
    "* a --> 3\n",
    "* A --> 1\n",
    "* e --> 1\n",
    "* é --> 1\n",
    "* i --> 1\n",
    "* o --> 1\n",
    "* ó --> 1\n",
    "* u --> 1"
   ]
  },
  {
   "cell_type": "markdown",
   "id": "daily-aggregate",
   "metadata": {},
   "source": [
    "<a id=\"u1c4.10\"></a>\n",
    "## Ejemplos\n"
   ]
  },
  {
   "cell_type": "markdown",
   "id": "fitting-gather",
   "metadata": {},
   "source": [
    "**Ejemplo 1**\n",
    "\n",
    "Modificación de una cadena: Dado un texto, imprimir la cadena de símbolos que se obtiene eliminando los espacios entre palabras."
   ]
  },
  {
   "cell_type": "code",
   "execution_count": null,
   "id": "engaged-myrtle",
   "metadata": {},
   "outputs": [],
   "source": [
    "# usamos un acumulador nuevo_texto\n",
    "# inicializamos nuevo_texto con la cadena vacía\n",
    "# actualizamos el contador concatenando las letras del texto dado,\n",
    "# si aparece un espacio no hacemos nada (concatenar cadena vacía)\n",
    "\n",
    "texto = 'quitar los espacios de esta forma es realmente sencillo'\n",
    "\n",
    "nuevo_texto = ''\n",
    "for u in texto:\n",
    "    if u != ' ':\n",
    "        nuevo_texto += u\n",
    "print(nuevo_texto)"
   ]
  },
  {
   "cell_type": "markdown",
   "id": "optical-hawaiian",
   "metadata": {},
   "source": [
    "**Ejemplo 2**\n",
    "\n",
    "Imprimir los números enteros del 1 al 10"
   ]
  },
  {
   "cell_type": "code",
   "execution_count": null,
   "id": "rubber-approval",
   "metadata": {},
   "outputs": [],
   "source": [
    "print(\"1\")\n",
    "print(\"2\")\n",
    "print(\"3\")\n",
    "print(\"4\")\n",
    "print(\"5\")\n",
    "print(\"6\")\n",
    "print(\"7\")\n",
    "print(\"8\")\n",
    "print(\"9\")\n",
    "print(\"10\")"
   ]
  },
  {
   "cell_type": "code",
   "execution_count": null,
   "id": "understanding-terminal",
   "metadata": {},
   "outputs": [],
   "source": [
    "n=1\n",
    "while n<11:    \n",
    "    print(n)\n",
    "    n+=1 "
   ]
  },
  {
   "cell_type": "markdown",
   "id": "lucky-airplane",
   "metadata": {},
   "source": [
    "**Ejemplo 3**\n",
    "\n",
    "Imprimir los pares desde 0 hasta 20"
   ]
  },
  {
   "cell_type": "code",
   "execution_count": null,
   "id": "arctic-damages",
   "metadata": {},
   "outputs": [],
   "source": [
    "n=0\n",
    "while n<21:  \n",
    "    if n%2==0:\n",
    "        print(n)\n",
    "    n+=1"
   ]
  },
  {
   "cell_type": "code",
   "execution_count": null,
   "id": "running-equipment",
   "metadata": {
    "scrolled": true
   },
   "outputs": [],
   "source": [
    "n=0\n",
    "while n<21:  \n",
    "    print(n)\n",
    "    n+=2"
   ]
  },
  {
   "cell_type": "markdown",
   "id": "complicated-camcorder",
   "metadata": {},
   "source": [
    "**Ejemplo 4**\n",
    "\n",
    "Imprimir la palabra hola 10 veces"
   ]
  },
  {
   "cell_type": "code",
   "execution_count": null,
   "id": "insured-bloom",
   "metadata": {},
   "outputs": [],
   "source": [
    "n=0\n",
    "while n<10:\n",
    "    print(\"hola\")\n",
    "    n+=1"
   ]
  },
  {
   "cell_type": "code",
   "execution_count": null,
   "id": "future-basic",
   "metadata": {},
   "outputs": [],
   "source": [
    "for i in range(10):\n",
    "    print(\"hola\")"
   ]
  },
  {
   "cell_type": "markdown",
   "id": "communist-heritage",
   "metadata": {},
   "source": [
    "**Ejemplo 5**\n",
    "\n",
    "Imprimir enteros desde 0 hasta 10"
   ]
  },
  {
   "cell_type": "code",
   "execution_count": null,
   "id": "elementary-warrior",
   "metadata": {},
   "outputs": [],
   "source": [
    "for n in range(11):\n",
    "    print(n)"
   ]
  },
  {
   "cell_type": "markdown",
   "id": "collaborative-serum",
   "metadata": {},
   "source": [
    "**Ejemplo 6**\n",
    "\n",
    "Imprimir los pares del 0 al 20"
   ]
  },
  {
   "cell_type": "code",
   "execution_count": null,
   "id": "billion-cheat",
   "metadata": {},
   "outputs": [],
   "source": [
    "for i in range(11):\n",
    "    print(2*i)"
   ]
  },
  {
   "cell_type": "code",
   "execution_count": null,
   "id": "fifth-sense",
   "metadata": {},
   "outputs": [],
   "source": [
    "for i in range(21):\n",
    "    if i%2==0:\n",
    "        print(i)"
   ]
  },
  {
   "cell_type": "code",
   "execution_count": null,
   "id": "median-advancement",
   "metadata": {},
   "outputs": [],
   "source": [
    "for i in range(0,21,2):\n",
    "    print(i)"
   ]
  },
  {
   "cell_type": "markdown",
   "id": "cathedral-multiple",
   "metadata": {},
   "source": [
    "**Ejemplo 7**\n",
    "\n",
    "Sumar los naturales del 1 al 10. ¡creamos una variable para acumular!"
   ]
  },
  {
   "cell_type": "code",
   "execution_count": null,
   "id": "confidential-microwave",
   "metadata": {},
   "outputs": [],
   "source": [
    "suma = 0\n",
    "for i in range(11):\n",
    "    suma+=i\n",
    "print(suma)"
   ]
  },
  {
   "cell_type": "markdown",
   "id": "alert-engine",
   "metadata": {},
   "source": [
    "**Ejemplo 8**\n",
    "\n",
    "Genera código que produce la siguiente salida usando `while`: 2, 4, 6, 8, 10, ¡Adiós!"
   ]
  },
  {
   "cell_type": "code",
   "execution_count": null,
   "id": "solved-phrase",
   "metadata": {},
   "outputs": [],
   "source": [
    "num = 2\n",
    "while num <= 10:\n",
    "    print(num)\n",
    "    num += 2\n",
    "print(\"¡Adiós!\")"
   ]
  },
  {
   "cell_type": "markdown",
   "id": "integral-devon",
   "metadata": {},
   "source": [
    "Otra forma"
   ]
  },
  {
   "cell_type": "code",
   "execution_count": null,
   "id": "cardiovascular-architect",
   "metadata": {},
   "outputs": [],
   "source": [
    "num = 2\n",
    "while num < 11:\n",
    "    print(num)\n",
    "    num += 2\n",
    "print(\"¡Adiós!\")"
   ]
  },
  {
   "cell_type": "markdown",
   "id": "statewide-realtor",
   "metadata": {},
   "source": [
    "Otra forma"
   ]
  },
  {
   "cell_type": "code",
   "execution_count": null,
   "id": "coordinated-logic",
   "metadata": {},
   "outputs": [],
   "source": [
    "num = 0\n",
    "while True:\n",
    "    num += 2\n",
    "    print(num)\n",
    "    if num >= 10:\n",
    "        print('¡Adiós!')\n",
    "        break"
   ]
  },
  {
   "cell_type": "markdown",
   "id": "weighted-optics",
   "metadata": {},
   "source": [
    "Otra forma"
   ]
  },
  {
   "cell_type": "code",
   "execution_count": null,
   "id": "nearby-register",
   "metadata": {},
   "outputs": [],
   "source": [
    "num = 1\n",
    "while num <= 10:\n",
    "    if num % 2 == 0:\n",
    "        print(num)\n",
    "    num += 1\n",
    "print('¡Adiós!')"
   ]
  },
  {
   "cell_type": "markdown",
   "id": "specified-tiger",
   "metadata": {},
   "source": [
    "**Ejemplo 9**\n",
    "\n",
    "Genera código que produce la siguiente salida usando `for`: 2, 4, 6, 8, 10, ¡Adios!"
   ]
  },
  {
   "cell_type": "code",
   "execution_count": null,
   "id": "ancient-section",
   "metadata": {},
   "outputs": [],
   "source": [
    "for p in range(2,11,2):\n",
    "    print(p)\n",
    "print('¡Adiós!')"
   ]
  },
  {
   "cell_type": "markdown",
   "id": "round-genealogy",
   "metadata": {},
   "source": [
    "Otra forma"
   ]
  },
  {
   "cell_type": "code",
   "execution_count": null,
   "id": "romantic-birth",
   "metadata": {},
   "outputs": [],
   "source": [
    "for cont in range(11):\n",
    "    if cont != 0 and cont % 2 == 0:\n",
    "        print(cont)\n",
    "print('¡Adiós!')"
   ]
  },
  {
   "cell_type": "markdown",
   "id": "sweet-terrorism",
   "metadata": {},
   "source": [
    "Otra forma"
   ]
  },
  {
   "cell_type": "code",
   "execution_count": null,
   "id": "proper-tattoo",
   "metadata": {},
   "outputs": [],
   "source": [
    "for cont in range(2, 12, 2):\n",
    "    print(cont)\n",
    "print('¡Adiós!')"
   ]
  },
  {
   "cell_type": "markdown",
   "id": "charitable-teach",
   "metadata": {},
   "source": [
    "**Ejemplo 10**\n",
    "\n",
    "Genera código que produce la siguiente salida: 0, 3, 6, 9, 12, ¡Adios!"
   ]
  },
  {
   "cell_type": "code",
   "execution_count": null,
   "id": "exact-conflict",
   "metadata": {},
   "outputs": [],
   "source": [
    "for num in range(0,13,3):\n",
    "    print(num)\n",
    "print('!Adiós¡')"
   ]
  },
  {
   "cell_type": "markdown",
   "id": "employed-emphasis",
   "metadata": {},
   "source": [
    "**Ejemplo 11*\n",
    "\n",
    "Genera código que produce la siguiente salida: 3, 7, 11, 15, 19, ¡Adios!"
   ]
  },
  {
   "cell_type": "code",
   "execution_count": null,
   "id": "protective-eight",
   "metadata": {},
   "outputs": [],
   "source": [
    "for num in range(3,20,4):\n",
    "    print(num)\n",
    "print('!Adiós¡')"
   ]
  },
  {
   "cell_type": "markdown",
   "id": "comparative-decrease",
   "metadata": {},
   "source": [
    "**Ejemplo 12**\n",
    "\n",
    "Genera código que produce la siguiente salida: -3, 2, 7, 12, 17, ¡Adios!"
   ]
  },
  {
   "cell_type": "code",
   "execution_count": null,
   "id": "reliable-dutch",
   "metadata": {},
   "outputs": [],
   "source": [
    "for num in range(-3,18,5):\n",
    "    print(num)\n",
    "print('!Adiós¡')"
   ]
  },
  {
   "cell_type": "markdown",
   "id": "outer-breakfast",
   "metadata": {},
   "source": [
    "**Ejemplo 13**\n",
    "\n",
    "Genera código que produce la siguiente salida: 17, 12, 7, 2, -3, ¡Adios!"
   ]
  },
  {
   "cell_type": "code",
   "execution_count": null,
   "id": "hawaiian-fraud",
   "metadata": {},
   "outputs": [],
   "source": [
    "for num in range(17,-4,-5):\n",
    "    print(num)\n",
    "print('!Adiós¡')"
   ]
  },
  {
   "cell_type": "markdown",
   "id": "given-haiti",
   "metadata": {},
   "source": [
    "**Ejemplo 14**\n",
    "\n",
    "Calcular la suma de todos los números entre `p` y `q`, ambos incluidos"
   ]
  },
  {
   "cell_type": "code",
   "execution_count": null,
   "id": "crucial-vanilla",
   "metadata": {
    "tags": [
     "remove-output"
    ]
   },
   "outputs": [],
   "source": [
    "p = int(input('Damen un número: '))\n",
    "q = int(input('Damen un número mayor que el anterior: '))\n",
    "\n",
    "suma = 0\n",
    "for m in range(p, q + 1):\n",
    "    suma += m \n",
    "\n",
    "#print('La suma de todos los enteros entre los números ' + str(p) + ' y ' + str(q) + ' es '\\\n",
    "#      + str(suma))\n",
    "\n",
    "print('La suma de todos los enteros entre los números', p, 'y', q, 'es', suma)"
   ]
  },
  {
   "cell_type": "markdown",
   "id": "essential-immune",
   "metadata": {},
   "source": [
    "Otro código"
   ]
  },
  {
   "cell_type": "code",
   "execution_count": null,
   "id": "latin-gambling",
   "metadata": {
    "tags": [
     "remove-output"
    ]
   },
   "outputs": [],
   "source": [
    "p = int(input('Dame un número: '))\n",
    "q = int(input('Dame un número mayor que el anterior: '))\n",
    "\n",
    "suma = 0\n",
    "contador = q - p + 1\n",
    "\n",
    "while contador > 0:\n",
    "    suma += p \n",
    "    p += 1\n",
    "    #print(p)\n",
    "    contador -= 1\n",
    "\n",
    "print(suma)"
   ]
  },
  {
   "cell_type": "markdown",
   "id": "fourth-relation",
   "metadata": {},
   "source": [
    "**Ejemplo 15**\n",
    "\n",
    "Calcular el factorial de un número"
   ]
  },
  {
   "cell_type": "code",
   "execution_count": null,
   "id": "colonial-bryan",
   "metadata": {
    "tags": [
     "remove-output"
    ]
   },
   "outputs": [],
   "source": [
    "p = int(input('Dame un número que voy a calcular su factorial: '))\n",
    "\n",
    "factorial = 1\n",
    "for m in range(1, p+1):\n",
    "    factorial *= m\n",
    "\n",
    "print('El factorial de ' + str(p) + ' es ' + str(factorial))   "
   ]
  },
  {
   "cell_type": "markdown",
   "id": "bigger-pittsburgh",
   "metadata": {},
   "source": [
    "**Ejemplo 16**\n",
    "\n",
    "Escribir el código que calcule el cuadrado de un número entero `x` mediante `x` sumas. El progama debe escribir, si `x=5`, 'El cuadrado de 5 es 25'"
   ]
  },
  {
   "cell_type": "markdown",
   "id": "constitutional-veteran",
   "metadata": {},
   "source": [
    "$5^2 = 5*5 = 5 + 5 + 5 + 5 + 5$"
   ]
  },
  {
   "cell_type": "code",
   "execution_count": null,
   "id": "right-december",
   "metadata": {
    "tags": [
     "remove-output"
    ]
   },
   "outputs": [],
   "source": [
    "p = int(input('Dame un número entero, voy a calcular su cuadrado mediante sumas: '))\n",
    "\n",
    "cuadrado = 0\n",
    "for m in range(p):\n",
    "    cuadrado += p\n",
    "    \n",
    "print('El cuadrado de ' + str(p) + ' es ' + str(cuadrado))"
   ]
  },
  {
   "cell_type": "code",
   "execution_count": null,
   "id": "interim-offense",
   "metadata": {
    "tags": [
     "remove-output"
    ]
   },
   "outputs": [],
   "source": [
    "num = int(input('Teclea un número entero: '))\n",
    "rsltd = 0\n",
    "iteraciones = num\n",
    "\n",
    "while iteraciones != 0:\n",
    "    rsltd += num \n",
    "    iteraciones -= 1\n",
    "\n",
    "print('En cuadrado de ' + str(num) + ' es ' + str(rsltd))"
   ]
  },
  {
   "cell_type": "markdown",
   "id": "tribal-reaction",
   "metadata": {},
   "source": [
    "Si el entero fuera negativo"
   ]
  },
  {
   "cell_type": "code",
   "execution_count": null,
   "id": "sunset-recommendation",
   "metadata": {
    "tags": [
     "remove-output"
    ]
   },
   "outputs": [],
   "source": [
    "num = int(input('Teclea un número entero: '))\n",
    "rsltd = 0\n",
    "num1 = 0\n",
    "\n",
    "if num < 0:\n",
    "    num1 = -num\n",
    "else:\n",
    "    num1 = num\n",
    "\n",
    "iteraciones = num1\n",
    "\n",
    "while iteraciones != 0:\n",
    "    rsltd += num1 \n",
    "    iteraciones -= 1\n",
    "\n",
    "print('En cuadrado de ' + str(num) + ' es ' + str(rsltd))"
   ]
  },
  {
   "cell_type": "code",
   "execution_count": null,
   "id": "other-trace",
   "metadata": {
    "tags": [
     "remove-output"
    ]
   },
   "outputs": [],
   "source": [
    "num = int(input('Teclea un número entero: '))\n",
    "rsltd = 0\n",
    "\n",
    "if num < 0:\n",
    "    num1 = -num\n",
    "else:\n",
    "    num1 = num\n",
    "    \n",
    "for p in range(num1):\n",
    "    rsltd += num1 \n",
    "\n",
    "print('En cuadrado de ' + str(num) + ' es ' + str(rsltd))"
   ]
  },
  {
   "cell_type": "markdown",
   "id": "royal-lindsay",
   "metadata": {},
   "source": [
    "**Ejemplo 17**\n",
    "\n",
    "Imprimir los caracteres de una cadena de caracteres "
   ]
  },
  {
   "cell_type": "code",
   "execution_count": null,
   "id": "subtle-mounting",
   "metadata": {},
   "outputs": [],
   "source": [
    "#Primer intento\n",
    "palabra = \"hola\"\n",
    "for i in range(len(palabra)):\n",
    "    print(palabra[i])"
   ]
  },
  {
   "cell_type": "code",
   "execution_count": null,
   "id": "potential-involvement",
   "metadata": {},
   "outputs": [],
   "source": [
    "palabra[3]"
   ]
  },
  {
   "cell_type": "code",
   "execution_count": null,
   "id": "greatest-legend",
   "metadata": {},
   "outputs": [],
   "source": [
    "\n",
    "palabra = \"hola\"\n",
    "\n",
    "for i in palabra:\n",
    "    print(i)\n",
    "   "
   ]
  },
  {
   "cell_type": "markdown",
   "id": "essential-uncle",
   "metadata": {},
   "source": [
    "**Ejemplo 18**\n",
    "\n",
    "Calcular el número de caracteres de una cadena"
   ]
  },
  {
   "cell_type": "code",
   "execution_count": null,
   "id": "southwest-bulgarian",
   "metadata": {},
   "outputs": [],
   "source": [
    "cadena=\"hola, buenos días\"\n",
    "contador=0\n",
    "for i in cadena:\n",
    "    contador+=1\n",
    "print(contador) "
   ]
  },
  {
   "cell_type": "code",
   "execution_count": null,
   "id": "growing-guitar",
   "metadata": {},
   "outputs": [],
   "source": [
    "len(cadena)"
   ]
  },
  {
   "cell_type": "markdown",
   "id": "elegant-granny",
   "metadata": {},
   "source": [
    "**Ejemplo 19**\n",
    "\n",
    "Imprimir el número de caracteres de una cadena excluyendo los espacios"
   ]
  },
  {
   "cell_type": "code",
   "execution_count": null,
   "id": "mysterious-baseball",
   "metadata": {},
   "outputs": [],
   "source": [
    "cadena=\"hola, buenos días\"\n",
    "contador=0\n",
    "for i in cadena:\n",
    "    if i!=\" \":\n",
    "        contador+=1\n",
    "print(contador)"
   ]
  },
  {
   "cell_type": "markdown",
   "id": "curious-civilization",
   "metadata": {},
   "source": [
    "**Ejemplo 20**\n",
    "\n",
    "Reemplazar las aes minúsculas de una cadena de caracteres por aes mayúsculas"
   ]
  },
  {
   "cell_type": "code",
   "execution_count": null,
   "id": "grateful-offer",
   "metadata": {},
   "outputs": [],
   "source": [
    "cadena=\"hola, buenos días\"\n",
    "cadenanueva=\"\"\n",
    "for i in cadena:\n",
    "    if i==\"a\":\n",
    "        cadenanueva+=\"A\"\n",
    "    else:\n",
    "        cadenanueva+=i\n",
    "print(cadenanueva)"
   ]
  },
  {
   "cell_type": "markdown",
   "id": "hollywood-biology",
   "metadata": {},
   "source": [
    "**Ejemplo 21**\n",
    "\n",
    "Contar palabras de una cadena de caracteres"
   ]
  },
  {
   "cell_type": "code",
   "execution_count": null,
   "id": "impressive-castle",
   "metadata": {},
   "outputs": [],
   "source": [
    "cadena=\"hola, buenos días\"\n",
    "numpalabras=1\n",
    "for i in cadena:\n",
    "    if i==\" \":\n",
    "        numpalabras+=1\n",
    "print(cadena, \" tiene\",numpalabras,\" palabras\" )    "
   ]
  },
  {
   "cell_type": "markdown",
   "id": "friendly-default",
   "metadata": {},
   "source": [
    "**Ejemplo 22*\n",
    "\n",
    "Introducir con input el numero del DNI. Imprimimos la suma de los dígitos"
   ]
  },
  {
   "cell_type": "code",
   "execution_count": null,
   "id": "hundred-banks",
   "metadata": {
    "tags": [
     "remove-output"
    ]
   },
   "outputs": [],
   "source": [
    "x=input(\"Escribe el número de tu DNI\")\n",
    "suma=0\n",
    "for i in x:\n",
    "    suma+=int(i)\n",
    "print(\"la suma de los dígitos de tu DNI es\",suma)"
   ]
  },
  {
   "cell_type": "markdown",
   "id": "contained-pierce",
   "metadata": {},
   "source": [
    "**Ejemplo 23**\n",
    "\n",
    "A la variable ``cadena`` se le ha asignado una cadena. Escribir un programa que imprima la frase \"si hay espacio\" cuando en cadena haya algún espacio"
   ]
  },
  {
   "cell_type": "code",
   "execution_count": null,
   "id": "coupled-browser",
   "metadata": {},
   "outputs": [],
   "source": [
    "cadena=\"hola como estás?\"\n",
    "for i in cadena:\n",
    "    if i==\" \":\n",
    "        print(\"si hay espacios\") "
   ]
  },
  {
   "cell_type": "code",
   "execution_count": null,
   "id": "private-drive",
   "metadata": {},
   "outputs": [],
   "source": [
    "cadena=\"hola como estás?\"\n",
    "for i in cadena:\n",
    "    if i==\" \":\n",
    "        print(\"si hay espacios\") \n",
    "        break"
   ]
  },
  {
   "cell_type": "markdown",
   "id": "terminal-release",
   "metadata": {},
   "source": [
    "**Ejemplo 24**\n",
    "\n",
    "A la variable ``cadena`` se le ha asignado una cadena. Escribir un programa que imprima la frase \"si hay espacio\" cuando en cadena haya algún espacio y \"no hay espacio\" cuando en cadena no haya ningún espacio"
   ]
  },
  {
   "cell_type": "code",
   "execution_count": null,
   "id": "proof-montgomery",
   "metadata": {},
   "outputs": [],
   "source": [
    "for i in cadena:\n",
    "    if i==\" \":\n",
    "        print(\"si hay espacio\")\n",
    "        break\n",
    "    else:\n",
    "        print(\"no hay espacio\")"
   ]
  },
  {
   "cell_type": "code",
   "execution_count": null,
   "id": "ahead-spray",
   "metadata": {},
   "outputs": [],
   "source": [
    "cadena=\"holacomoestás    \"\n",
    "if \" \" in cadena:\n",
    "    print(\"si hay espacio\")\n",
    "else:\n",
    "    print(\"no hay espacio\")"
   ]
  },
  {
   "cell_type": "code",
   "execution_count": null,
   "id": "simplified-bracket",
   "metadata": {},
   "outputs": [],
   "source": [
    "cadena=\"holacomoestás?\"\n",
    "espacio=False\n",
    "for i in cadena:\n",
    "    if i==\" \":\n",
    "        print(\"si hay espacio\")\n",
    "        espacio=True\n",
    "        break\n",
    "if espacio==False:   \n",
    "    print(\"no hay espacio\")"
   ]
  },
  {
   "cell_type": "code",
   "execution_count": null,
   "id": "operating-tissue",
   "metadata": {},
   "outputs": [],
   "source": [
    "cadena=\"hola como estás?\"\n",
    "espacio=\"no\"\n",
    "for i in cadena:\n",
    "    if i==\" \":\n",
    "        espacio=\"si\"\n",
    "print(espacio+\" hay espacio\")        "
   ]
  },
  {
   "cell_type": "markdown",
   "id": "intensive-there",
   "metadata": {},
   "source": [
    "**Ejemplo 25**\n",
    "\n",
    "A la variable numeros se le asigna una cadena. Escribir un programa que imprima la cantidad de unos que contiene."
   ]
  },
  {
   "cell_type": "code",
   "execution_count": null,
   "id": "a4fbc2ab",
   "metadata": {},
   "outputs": [],
   "source": [
    "numeros = 'a1yu11.0;)1klm1'"
   ]
  },
  {
   "cell_type": "code",
   "execution_count": null,
   "id": "stretch-medium",
   "metadata": {},
   "outputs": [],
   "source": [
    "contador = 0\n",
    "for u in numeros:\n",
    "    if u == '1':\n",
    "        contador += 1\n",
    "\n",
    "print(contador)  "
   ]
  },
  {
   "cell_type": "markdown",
   "id": "corrected-analyst",
   "metadata": {},
   "source": [
    "**Ejemplo 26**\n",
    "\n",
    "A la variable numeros se le asigna una cadena. Escribir un programa que imprima True si solo contiene unos o ceros y False en caso contrario"
   ]
  },
  {
   "cell_type": "code",
   "execution_count": null,
   "id": "e4dcd473",
   "metadata": {},
   "outputs": [],
   "source": [
    "numeros = '100.1'"
   ]
  },
  {
   "cell_type": "code",
   "execution_count": null,
   "id": "lesbian-supervision",
   "metadata": {},
   "outputs": [],
   "source": [
    "binario = True\n",
    "for u in numeros:\n",
    "    if not(u == '0' or u == '1'):\n",
    "        binario = False\n",
    "        break\n",
    "print(binario)  "
   ]
  },
  {
   "cell_type": "markdown",
   "id": "hungry-wildlife",
   "metadata": {},
   "source": [
    "**Ejemplo 27**\n",
    "\n",
    "Dado un texto, queremos convertir las vocales con tilde a vocales sin tilde. \n",
    "\n",
    "Para ello, buscamos cada una de los caracteres á, é, í, ó, ú, ü  y los sustituimos por a, e, i, o, u, u respectivamente (y también las mayúculas)"
   ]
  },
  {
   "cell_type": "code",
   "execution_count": null,
   "id": "experimental-cotton",
   "metadata": {
    "tags": [
     "remove-output"
    ]
   },
   "outputs": [],
   "source": [
    "texto = input('Introduzca el texto: ')\n",
    "\n",
    "vocales_con_tildes = 'áéíóúüÁÉÍÓÚÜ'\n",
    "vocales_sin_tildes = 'aeiouuAEIOUU'\n",
    "\n",
    "for i in range(len(vocales_con_tildes)):\n",
    "    texto_aux = ''\n",
    "    for s in texto:\n",
    "        if s == vocales_con_tildes[i]:\n",
    "            texto_aux += vocales_sin_tildes[i]\n",
    "        else:\n",
    "            texto_aux += s\n",
    "    texto = texto_aux\n",
    "\n",
    "print(texto)"
   ]
  },
  {
   "cell_type": "markdown",
   "id": "constant-bibliography",
   "metadata": {},
   "source": [
    "Otra codificación"
   ]
  },
  {
   "cell_type": "code",
   "execution_count": null,
   "id": "graphic-shareware",
   "metadata": {
    "tags": [
     "remove-output"
    ]
   },
   "outputs": [],
   "source": [
    "texto = input('Introduzca el texto: ')\n",
    "\n",
    "vocales_sin_tilde = 'aeiouuAEIOUU'\n",
    "vocales_con_tilde = 'áéíóúüÁÉÍÓÚÜ'\n",
    "\n",
    "texto_nuevo = ''\n",
    "\n",
    "for letra in texto:\n",
    "    if letra not in vocales_con_tilde:\n",
    "        texto_nuevo += letra\n",
    "    else:\n",
    "        for indice in range(len(vocales_con_tilde)):\n",
    "            if letra == vocales_con_tilde[indice]:\n",
    "                texto_nuevo += vocales_sin_tilde[indice]\n",
    "            \n",
    "print(texto_nuevo)   "
   ]
  },
  {
   "cell_type": "markdown",
   "id": "weird-argument",
   "metadata": {},
   "source": [
    "**Ejemplo 28**\n",
    "¶\n",
    "Escribir un programa que diga si una secuencia de letras (subcadena) dada aparece en un texto dado."
   ]
  },
  {
   "cell_type": "code",
   "execution_count": null,
   "id": "based-chain",
   "metadata": {
    "tags": [
     "remove-output"
    ]
   },
   "outputs": [],
   "source": [
    "texto = input('Introduzca el texto: ')\n",
    "palabra = input('Introduzca la palabra: ')\n",
    "\n",
    "if palabra in texto:\n",
    "    print('Sí la contiene')\n",
    "else:\n",
    "    print('No la contiene')"
   ]
  },
  {
   "cell_type": "markdown",
   "id": "colored-conservation",
   "metadata": {},
   "source": [
    "**Ejemplo 29**\n",
    "\n",
    "Determinar el número de veces que una secuencia de caracteres aparece en una palabra. Primero generar el código en el caso de que la secuencia sea 'bob'. Si la palabra es `'azcbobobegghakl'` debe producir la siguiente salida:\n",
    "\n",
    "        Escribe una palabra, voy a determinar cuantas veces aparece la seccuencia \"bob\": azcbobobegghakl\n",
    "        En la palabra \"azcbobobegghakl\" aparece 2 veces la secuencia \"bob\""
   ]
  },
  {
   "cell_type": "code",
   "execution_count": null,
   "id": "discrete-grammar",
   "metadata": {},
   "outputs": [],
   "source": [
    "palabra = 'azcbobobegghaklbob'\n",
    "parte = 'bob'"
   ]
  },
  {
   "cell_type": "code",
   "execution_count": null,
   "id": "honey-beauty",
   "metadata": {},
   "outputs": [],
   "source": [
    "contador = 0\n",
    "\n",
    "for indice in range(len(palabra)-len(parte) +1):\n",
    "    if palabra[indice: (indice + len(parte))] == parte:\n",
    "        contador += 1\n",
    "\n",
    "print(contador)"
   ]
  },
  {
   "cell_type": "markdown",
   "id": "partial-provision",
   "metadata": {},
   "source": [
    "observad que"
   ]
  },
  {
   "cell_type": "code",
   "execution_count": null,
   "id": "dominican-plaza",
   "metadata": {},
   "outputs": [],
   "source": [
    "'01234'[3:7]"
   ]
  },
  {
   "cell_type": "code",
   "execution_count": null,
   "id": "pressed-cooperative",
   "metadata": {
    "tags": [
     "remove-output"
    ]
   },
   "outputs": [],
   "source": [
    "palabra = input('Escribe una palabra, voy a determinar cuantas veces aparece la seccuencia\\\n",
    " \"bob\": ')\n",
    "\n",
    "contador = 0\n",
    "\n",
    "for p in range(len(palabra)):\n",
    "    if palabra[p:p+3] == 'bob':\n",
    "        contador += 1\n",
    "\n",
    "print('En la palabra ' + '\"' + palabra + '\"' + ' aparece ' + str(contador) + \\\n",
    "      ' veces la secuencia \"bob\"')"
   ]
  },
  {
   "cell_type": "markdown",
   "id": "imported-stranger",
   "metadata": {},
   "source": [
    "Ahora el código para cualquier cadena"
   ]
  },
  {
   "cell_type": "code",
   "execution_count": null,
   "id": "short-plumbing",
   "metadata": {
    "tags": [
     "remove-output"
    ]
   },
   "outputs": [],
   "source": [
    "texto = input('Escribe un texto, voy a determinar cuantas veces aparece la secuencia\\\n",
    "que escribirás a continuación: ')\n",
    "secuencia = input('Escribe una secuencia de caracteres: ')\n",
    "\n",
    "contador = 0\n",
    "\n",
    "#for p in range(len(texto) - len(secuencia) -1):\n",
    "for p in range(len(texto)):\n",
    "    if texto[p:p+len(secuencia)] == secuencia:\n",
    "        contador += 1\n",
    "        \n",
    "print('En el texto ' + '\"' + texto + '\"' + ' aparece ' + str(contador) + \\\n",
    "      ' veces la secuencia ' + '\"' + secuencia + '\"')"
   ]
  },
  {
   "cell_type": "markdown",
   "id": "composite-spread",
   "metadata": {},
   "source": [
    "**Ejemplo 30**\n",
    "\n",
    "Escribir un programa que encuentre las letras comunes a dos palabras dadas."
   ]
  },
  {
   "cell_type": "code",
   "execution_count": null,
   "id": "adequate-constant",
   "metadata": {},
   "outputs": [],
   "source": [
    "palabra1 = 'holapqcrsts'\n",
    "palabra2 = 'hlpace'"
   ]
  },
  {
   "cell_type": "code",
   "execution_count": null,
   "id": "superior-albert",
   "metadata": {},
   "outputs": [],
   "source": [
    "letras_comunes = ''\n",
    "contador = 0\n",
    "\n",
    "for letra in palabra1:\n",
    "    if letra in palabra2:\n",
    "        letras_comunes += letra\n",
    "        contador += 1\n",
    "\n",
    "print(letras_comunes)\n",
    "print(contador)"
   ]
  },
  {
   "cell_type": "code",
   "execution_count": null,
   "id": "seventh-backup",
   "metadata": {
    "tags": [
     "remove-output"
    ]
   },
   "outputs": [],
   "source": [
    "texto_1 = input('Introduzca el primer texto: ')\n",
    "texto_2 = input('Introduzca el segundo texto: ')\n",
    "\n",
    "temp = ''\n",
    "\n",
    "for s in texto_1:\n",
    "    if (s in texto_2) and (s not in temp):\n",
    "        temp += s\n",
    "        \n",
    "for u in temp:\n",
    "    print(u)"
   ]
  },
  {
   "cell_type": "markdown",
   "id": "decent-yorkshire",
   "metadata": {},
   "source": [
    "**Ejemplo 31**\n",
    "\n",
    "Escribir un programa que determine que letras no aparecen en un texto dado."
   ]
  },
  {
   "cell_type": "code",
   "execution_count": null,
   "id": "compatible-petroleum",
   "metadata": {
    "tags": [
     "remove-output"
    ]
   },
   "outputs": [],
   "source": [
    "texto = input('Introduzca el primer texto ')\n",
    "\n",
    "alfabeto = 'abcdefghijklmnñopqrstuvwxyzABCDEFGHIJKLMNOPQRSTáéíóúüÁÉÍÓÚÜ'\n",
    "\n",
    "temp = ''\n",
    "\n",
    "for s in alfabeto:\n",
    "    if s not in texto:\n",
    "        temp += s\n",
    "\n",
    "for u in temp:\n",
    "    print(u)"
   ]
  },
  {
   "cell_type": "markdown",
   "id": "loved-homework",
   "metadata": {},
   "source": [
    "**Ejemplo 32**\n",
    "\n",
    "Escribir un programa que dado un texto, determine cual es la letra que aparece con mayor frecuencia"
   ]
  },
  {
   "cell_type": "code",
   "execution_count": null,
   "id": "auburn-steel",
   "metadata": {
    "tags": [
     "remove-output"
    ]
   },
   "outputs": [],
   "source": [
    "texto = input('Introduzca el texto: ')\n",
    "\n",
    "letras = 'abcdefghijklmnñopqrstuvwxyzABCDEFGHIJKLMNOPQRSTáéíóúüÁÉÍÓÚÜ'\n",
    "\n",
    "letras_repetidas = ''\n",
    "\n",
    "contador = 0\n",
    "for letra1 in letras:\n",
    "    contador_interno = 0\n",
    "    for letra2 in texto:\n",
    "        if letra2 == letra1:\n",
    "            contador_interno += 1\n",
    "    if contador_interno > contador:\n",
    "        contador = contador_interno\n",
    "        letra_más_frecuente = letra1\n",
    "\n",
    "print('la letra más fecuente es ' + letra_más_frecuente)"
   ]
  },
  {
   "cell_type": "markdown",
   "id": "checked-omaha",
   "metadata": {},
   "source": [
    "Igual que antes pero devolviendo también la frecuencia con la que aparece la letra"
   ]
  },
  {
   "cell_type": "code",
   "execution_count": null,
   "id": "external-windsor",
   "metadata": {
    "tags": [
     "remove-output"
    ]
   },
   "outputs": [],
   "source": [
    "texto = input('Introduzca el texto: ')\n",
    "\n",
    "alfabeto = 'abcdefghijklmnñopqrstuvwxyzABCDEFGHIJKLMNOPQRSTáéíóúüÁÉÍÓÚÜ'\n",
    "frecuencia = 0\n",
    "\n",
    "for s in alfabeto:\n",
    "    contador = 0\n",
    "    for k in texto:\n",
    "        if k == s:\n",
    "            contador += 1\n",
    "    if contador > frecuencia:\n",
    "        letra = s\n",
    "        frecuencia = contador\n",
    "#       letra, frecuencia = s, contador\n",
    "\n",
    "print('La letra más frecuente es la ' + letra + '. Aparece ' + str(frecuencia) + ' veces.')"
   ]
  },
  {
   "cell_type": "markdown",
   "id": "colored-marine",
   "metadata": {},
   "source": [
    "**Ejemplo 33**\n",
    "\n",
    "Escribir un programa que dado un texto, determine la frecuencia de las letras que incluye. Debe producir una salida de la siguiente forma:\n",
    "\n",
    "        Introduzca el texto: nada\n",
    "        Frecuencia de las letras en el texto\n",
    "        a --- 2 veces\n",
    "        d --- 1 veces\n",
    "        n --- 1 veces"
   ]
  },
  {
   "cell_type": "code",
   "execution_count": null,
   "id": "adapted-boulder",
   "metadata": {
    "tags": [
     "remove-output"
    ]
   },
   "outputs": [],
   "source": [
    "texto = input('Introduzca el texto: ')\n",
    "\n",
    "letras = 'abcdefghijklmnñopqrstuvwxyzABCDEFGHIJKLMNOPQRSTáéíóúüÁÉÍÓÚÜ'\n",
    "\n",
    "print('Frecuencia de las letras en el texto')\n",
    "\n",
    "for letra in letras:\n",
    "    contador = 0\n",
    "    for s in texto:\n",
    "        if s == letra:\n",
    "            contador += 1\n",
    "    if contador > 0:\n",
    "        print(letra + ' --- ' + str(contador) + ' veces')"
   ]
  },
  {
   "cell_type": "markdown",
   "id": "nervous-viewer",
   "metadata": {},
   "source": [
    "**Ejemplo 34**\n",
    "\n",
    "Escribir un programa que dada un texto, determine la frecuencia de las letras que incluye y escriba las letras repetidas. Debe producir una salida de la siguiente forma:\n",
    "\n",
    "        Introduzca el texto: nada\n",
    "        Frecuencia de las letras en el texto\n",
    "        a --- 2 veces\n",
    "        d --- 1 veces\n",
    "        n --- 1 veces\n",
    "        Letras repetidas\n",
    "        a"
   ]
  },
  {
   "cell_type": "code",
   "execution_count": null,
   "id": "atomic-gathering",
   "metadata": {
    "tags": [
     "remove-output"
    ]
   },
   "outputs": [],
   "source": [
    "texto = input('Introduzca el texto: ')\n",
    "\n",
    "letras = 'abcdefghijklmnñopqrstuvwxyzABCDEFGHIJKLMNOPQRSTáéíóúüÁÉÍÓÚÜ'\n",
    "\n",
    "letras_repetidas = ''\n",
    "\n",
    "print('Frecuencia de las letras en el texto')\n",
    "\n",
    "for letra1 in letras:\n",
    "    contador = 0\n",
    "    for letra2 in texto:\n",
    "        if letra1 == letra2:\n",
    "            contador += 1\n",
    "    if contador > 0:\n",
    "        print(letra1 + ' --- ' + str(contador) + ' veces')\n",
    "    if contador > 1:\n",
    "        letras_repetidas += letra1\n",
    "\n",
    "print('Letras repetidas')\n",
    "print(letras_repetidas)"
   ]
  },
  {
   "cell_type": "markdown",
   "id": "matched-intermediate",
   "metadata": {},
   "source": [
    "Otra codificación"
   ]
  },
  {
   "cell_type": "code",
   "execution_count": null,
   "id": "essential-webster",
   "metadata": {
    "tags": [
     "remove-output"
    ]
   },
   "outputs": [],
   "source": [
    "texto = input('Introduzca el texto: ')\n",
    "\n",
    "alfabeto = 'abcdefghijklmnñopqrstuvwxyzABCDEFGHIJKLMNOPQRSTáéíóúüÁÉÍÓÚÜ'\n",
    "\n",
    "print('Frecuencia de las letras en el texto')\n",
    "\n",
    "temp = ''\n",
    "\n",
    "for letra in alfabeto:\n",
    "    contador = 0\n",
    "    for s in texto:\n",
    "        if s == letra:\n",
    "            contador += 1\n",
    "    if contador > 0:\n",
    "        print(letra + ' --- ' + str(contador) + ' veces')\n",
    "        if contador > 1:\n",
    "            temp += letra\n",
    "\n",
    "print()\n",
    "print('Letras repetidas')\n",
    "for u in temp:\n",
    "    print(u)"
   ]
  },
  {
   "cell_type": "markdown",
   "id": "conceptual-drink",
   "metadata": {},
   "source": [
    "\n"
   ]
  },
  {
   "cell_type": "markdown",
   "id": "prospective-progress",
   "metadata": {},
   "source": [
    "<a id=\"u1c4.11\"></a>\n",
    "## Ejercicios\n"
   ]
  },
  {
   "cell_type": "markdown",
   "id": "handled-dictionary",
   "metadata": {},
   "source": [
    "En los siguientes ejercicios, escribe un script que realice las acciones que se indican a continuación. \n",
    "\n",
    "Cada ejercicio debe hacerse de tres formas: usando **for**, **while** y **while True**.\n",
    "\n",
    "En los siguientes enunciados $N$ es un número positivo.\n",
    "\n",
    "1. Pregunta una palabra o texto y nos dice cuantas letras tiene\n",
    "2. Pide el valor de $N$ y un texto e imprime las $N$ primeras letras del texto.\n",
    "3. Pide el valor de $N$ e imprime $N$ veces la palabra HOLA.\n",
    "4. Pide el valor de $N$ y un símbolo e imprime un cuadrado de lado $N$ con el símbolo.\n",
    "5. Pide el valor de $N$ e imprime los números de 1 a $N$.\n",
    "6. Pide el valor de $N$ e imprime los números pares menores que $N$.\n",
    "7. Pide el valor de $N$ e imprime la suma de los números de 1 a $N$.\n",
    "8. Imprime el mayor valor entero de $x$ para el cual $x^2-16x-3<0$.\n",
    "9. **(C)** Pide una palabra de cinco letras y una letra e imprime **Sí** si palabra introducida contiene la letra y **No** en caso contrario.\n",
    "10. Pide un carácter por teclado. Si el carácter introducido es $1$ vuelve a pedir un carácter, en caso contrario, termina\n",
    "11. Pide el valor de $N$ e imprime los múltiplos de 3 menores que $N^2$.\n",
    "12. Pide una palabra y  e imprime el índice de la primera letra **e** en la palabra.\n",
    "13. Pide una palabra e imprime los índices de todas las letras **e** que contiene la palabra.\n",
    "14. Pide una palabra e imprime la palabra resultante de cambiar las letras **e** por Ç.\n",
    "15. Pide un número real positivo $x$ e imprime el mayor entero $N$ tal que $N^2 < x$.\n",
    "16. Pide una palabra de cinco letras e imprime la palabra resultante de cambiar las letras **a** por **X** en la palabra introducida.\n",
    "17. Pide una palabra de seis letras y una letra e imprime el número de veces que la letra está contenida en la palabra introducida.\n",
    "18. Pide una palabra de seis letras e imprime el número de vocales que contiene.\n",
    "19. Pide un texto e imprime la tabla de frecuencia de las vocales en el texto.\n",
    "20. Pide una palabra de seis letras e imprime la palabra dejando un espacio entre sus caracteres. Por ejemplo, si introducimos **Anabel**  debe imprimir **A n a b e l**\n",
    "21. Pide una palabra de no más de seis letras e imprime la palabra dejando un espacio entre sus caracteres. ¿En qué consiste la diferencia con el ejercicio anterior?\n",
    "22. Pide el valor de $N$ e imprime Sí si $N$ es el cuadrado de un número entero, y No en caso contrario.\n",
    "23. **(C)** Un trabajador comienza su vida laboral en una empresa con un salario $S$. Este salario se incrementa cada año un 2%. Además, cada tres años se incrementa en $t$ euros (bonificación por antiguedad) y cada cinco años en $q$ euros (bonificación por formación). Escribir un programa que pida los valores de $S$, $t$, $q$ y $N$ e imprima el salario del trabajador al cabo de $N$ años.\n",
    "24. **(C)** Como en el caso anterior, escribir un programa que pida los valores de $S$, $t$, $q$ y $M$ e imprima el número de años necesarios para que el trabajador alcance el salario $M$.\n",
    "25. Escribir un programa que cuente las palabras de un texto dado."
   ]
  },
  {
   "cell_type": "markdown",
   "id": "musical-montgomery",
   "metadata": {},
   "source": [
    "<a id=\"u1c4.11\"></a>\n",
    "## Cuestionario Moodle\n",
    "\n",
    "\n",
    "[Cuestionario Bucles](https://moodle.upm.es/titulaciones/oficiales/mod/quiz/view.php?id=230380)"
   ]
  }
 ],
 "metadata": {
  "kernelspec": {
   "display_name": "Python 3 (ipykernel)",
   "language": "python",
   "name": "python3"
  },
  "language_info": {
   "codemirror_mode": {
    "name": "ipython",
    "version": 3
   },
   "file_extension": ".py",
   "mimetype": "text/x-python",
   "name": "python",
   "nbconvert_exporter": "python",
   "pygments_lexer": "ipython3",
   "version": "3.12.3"
  }
 },
 "nbformat": 4,
 "nbformat_minor": 5
}

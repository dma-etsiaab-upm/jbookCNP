{
 "cells": [
  {
   "cell_type": "markdown",
   "id": "91ae53bb",
   "metadata": {},
   "source": [
    "<a id=\"u1c2\"></a>\n",
    "# Bifurcación\n",
    "\n",
    "## Contenido\n",
    "\n",
    "* [La estructura ``if-elif-else``](#u1c2.1)\n",
    "* [Bifurcaciones con varias opciones](#u1c2.2)\n",
    "* [Ejemplos](#u1c2.3)\n",
    "* [Ejercicios](#u1c2.4)\n",
    "* [Cuestionario Moodle](#u1c2.5)"
   ]
  },
  {
   "cell_type": "markdown",
   "id": "5cc6d6f0",
   "metadata": {},
   "source": [
    "<a id=\"u1c2.1\"></a>\n",
    "## La estructura ``if-elif-else``\n",
    "\n",
    "\n",
    "**Enlaces**\n",
    "\n",
    "* <a href=\"https://www.w3schools.com/python/python_conditions.asp\"> w3schools </a>"
   ]
  },
  {
   "cell_type": "markdown",
   "id": "279c95fe",
   "metadata": {},
   "source": [
    "Una bifurcación en un programa es un punto en el cual existen varias opciones para continuar con su ejecución. La opción que se escoge depende de que se cumplan ciertas condiciones.\n",
    "\n",
    "**Ejemplo** Cuando llegues a la esquina, si el semáforo de peatones está en verde cruza la calle. Si no, espera a que cambie a verde\n",
    "\n",
    "\n",
    "La estructura de la bifurcación **if** es:\n",
    "\n",
    "    if (condición):\n",
    "        (acción)\n",
    "    else:\n",
    "        (acción)\n",
    "        \n",
    "**Observación:** El uso de ``else`` es opcional. Por ejemplo:"
   ]
  },
  {
   "cell_type": "code",
   "execution_count": null,
   "id": "0cba89e1",
   "metadata": {},
   "outputs": [],
   "source": [
    "semaforo = 'no verde'\n",
    "\n",
    "if semaforo != 'verde':\n",
    "    print('¡Espera la luz verde!')"
   ]
  },
  {
   "cell_type": "code",
   "execution_count": null,
   "id": "66252e90",
   "metadata": {
    "tags": [
     "remove-output"
    ]
   },
   "outputs": [],
   "source": [
    "numero = float(input('Escriba un número: '))\n",
    "\n",
    "if numero < 5:\n",
    "    print('El número es menor que 5')"
   ]
  },
  {
   "cell_type": "markdown",
   "id": "39ac46ad",
   "metadata": {},
   "source": [
    "Con acción alternativa si no se verifica la condición"
   ]
  },
  {
   "cell_type": "code",
   "execution_count": null,
   "id": "f518c996",
   "metadata": {},
   "outputs": [],
   "source": [
    "semaforo = 'verde'\n",
    "\n",
    "if semaforo == 'verde':\n",
    "    print('cruza')\n",
    "else:\n",
    "    print('espera la luz verde')"
   ]
  },
  {
   "cell_type": "code",
   "execution_count": null,
   "id": "b72eb11b",
   "metadata": {},
   "outputs": [],
   "source": [
    "semaforo = 'no verde'\n",
    "\n",
    "if semaforo == 'verde':\n",
    "    print('cruza')\n",
    "else:\n",
    "    print('espera la luz verde')"
   ]
  },
  {
   "cell_type": "code",
   "execution_count": null,
   "id": "e529bfaf",
   "metadata": {
    "tags": [
     "remove-output"
    ]
   },
   "outputs": [],
   "source": [
    "numero = float(input('Escriba un número: '))\n",
    "\n",
    "if numero < 5:\n",
    "    print('El número es menor que 5')\n",
    "else:\n",
    "    print('El número es mayor o igual que 5')\n",
    "    \n",
    "print('Acabamos')"
   ]
  },
  {
   "cell_type": "markdown",
   "id": "8df45b07",
   "metadata": {},
   "source": [
    "__Observad el sangrado y los colores de las palabras que aparecen en el programa__"
   ]
  },
  {
   "cell_type": "markdown",
   "id": "4c700a03",
   "metadata": {},
   "source": [
    "### Esquema de una bifurcación simple\n",
    "<img src=../images/U1-2_bifurcacion_1.jpg width=\"40%\">\n",
    "\n",
    "\n",
    "### Elementos de una bifurcación:\n",
    "- Un test (expresión cuyos valores son `True` or `False`)\n",
    "- Un bloque de expresiones que se ejecutarán si el valor del test es `True`\n",
    "- Un bloque **opcional** que se ejecutará si el valor del test es `False`. Cuando este bloque no existe y la condición de `if` tiene valor `False` no se ejecuta ninguna expresión.\n"
   ]
  },
  {
   "cell_type": "markdown",
   "id": "0906e73e",
   "metadata": {},
   "source": [
    "__Ejercicio:__ Escribe un script que pregunte tu edad e imprima:\n",
    "- `Eres mayor de edad`, si tu edad es mayor o igual a 18. Nada en caso contrario.\n",
    "- `Eres mayor de edad`, si tu edad es mayor o igual a 18. En caso contrario, que imprima cuantos años aún te faltan para ser mayor de edad"
   ]
  },
  {
   "cell_type": "markdown",
   "id": "22e311a3",
   "metadata": {},
   "source": [
    "<a id=\"u1c2.2\"></a>\n",
    "## Bifurcaciones con varias opciones"
   ]
  },
  {
   "cell_type": "markdown",
   "id": "5306a060",
   "metadata": {},
   "source": [
    "    if (condición1):\n",
    "        (acción1)\n",
    "    elif (condición2):\n",
    "        (acción2)\n",
    "    elif (condición3):\n",
    "        (acción3)\n",
    "    else:\n",
    "        (acción_alternativa)"
   ]
  },
  {
   "cell_type": "markdown",
   "id": "02aeceed",
   "metadata": {},
   "source": [
    "### Observaciones\n",
    "1. El bloque correspondiente a la primera de las condiciones (tests) que hay en `if` o `elif`, se ejecutará y no se explorarán más posibilidades.\n",
    "2. El bloque de código `else` se ejecuta cuando todos condiciones `if` o `elif` anteriores no se verifican (el correspondiente test arroja un valor `False`)\n",
    "3. La sección `else` sigue siendo opcional. Cuando este bloque no existe y todas las condiciones de `if` y `elif` que haya tienen valor `False` no se ejecuta ninguna expresión, no ocurre nada."
   ]
  },
  {
   "cell_type": "markdown",
   "id": "2c013903",
   "metadata": {},
   "source": [
    "<a id=\"u1c2.3\"></a>\n",
    "## Ejemplos"
   ]
  },
  {
   "cell_type": "markdown",
   "id": "99ca8c57",
   "metadata": {},
   "source": [
    "**Ejemplo 1**\n",
    "\n",
    "Escribir un programa que dado un número escriba en la pantalla, según el caso, 'El número es negativo', 'El número es positivo' o 'Es el número cero'"
   ]
  },
  {
   "cell_type": "code",
   "execution_count": null,
   "id": "000cc4f4",
   "metadata": {
    "tags": [
     "remove-output"
    ]
   },
   "outputs": [],
   "source": [
    "número = float(input('Escriba un número: '))\n",
    "\n",
    "if número < 0:\n",
    "    print('El número es negativo')\n",
    "elif número > 0:\n",
    "    print('El número es positivo')\n",
    "else:\n",
    "    print('Es el número cero')\n",
    "print('Hemos acabado')"
   ]
  },
  {
   "cell_type": "markdown",
   "id": "20f14393",
   "metadata": {},
   "source": [
    "**Ejemplo 2**\n",
    "Escribir un programa que, dado un color en la variable `color` escriba por pantalla:\n",
    " * `bonito color`, si el color es azul\n",
    " * `mi favorito`, si el color es naraja\n",
    " * `no me gusta ese color`, en caso contrario"
   ]
  },
  {
   "cell_type": "code",
   "execution_count": null,
   "id": "b0d95225",
   "metadata": {},
   "outputs": [],
   "source": [
    "color = 'verde'"
   ]
  },
  {
   "cell_type": "code",
   "execution_count": null,
   "id": "2993f807",
   "metadata": {},
   "outputs": [],
   "source": [
    "if color == 'azul':\n",
    "    print('bonito color')\n",
    "elif color == 'naranja':\n",
    "    print('mi favorito')\n",
    "else:\n",
    "    print('no me gusta ese color')"
   ]
  },
  {
   "cell_type": "markdown",
   "id": "d2a114f9",
   "metadata": {},
   "source": [
    "Podemos introducir el color por teclado:"
   ]
  },
  {
   "cell_type": "code",
   "execution_count": null,
   "id": "47f7f209",
   "metadata": {
    "tags": [
     "remove-output"
    ]
   },
   "outputs": [],
   "source": [
    "color = input('¿De que color son tus calcetines? ')\n",
    "if color == 'azul':\n",
    "    print('bonito color')\n",
    "elif color == 'naranja':\n",
    "    print('mi favorito')\n",
    "else:\n",
    "    print('no me gusta ese color')"
   ]
  },
  {
   "cell_type": "markdown",
   "id": "1db4ff65",
   "metadata": {},
   "source": [
    "**Ejemplo 3**\n",
    "\n",
    "**Bifurcación con tres elecciones:** dado un número `n`, el programa debe decir si es mayor, igual o menor el 5"
   ]
  },
  {
   "cell_type": "code",
   "execution_count": null,
   "id": "deda9cbc",
   "metadata": {
    "tags": [
     "remove-output"
    ]
   },
   "outputs": [],
   "source": [
    "n = int(input('Dame un número: '))\n",
    "\n",
    "if n > 5:\n",
    "    print('Es mayor que cinco')\n",
    "elif n == 5:\n",
    "    print('Es igaul a 5')\n",
    "else:\n",
    "    print('Es menor que cinco')"
   ]
  },
  {
   "cell_type": "markdown",
   "id": "f98f144d",
   "metadata": {},
   "source": [
    "**Ejemplo 4**\n",
    "\n",
    "**Bifurcación con cuatro o más elecciones:** si un número es mayor, igual o menor que el 3 y  5"
   ]
  },
  {
   "cell_type": "code",
   "execution_count": null,
   "id": "c35b5a4f",
   "metadata": {
    "tags": [
     "remove-output"
    ]
   },
   "outputs": [],
   "source": [
    "n = int(input('Dame un número: '))\n",
    "\n",
    "if n > 5:\n",
    "    print('Es mayor que cinco')\n",
    "elif n == 5:\n",
    "    print('Es igual a 5')\n",
    "elif n < 5 and n > 3:\n",
    "    print('Es menor que 5 y mayor que 3')    \n",
    "elif n == 3:\n",
    "    print('Es igual a 3')    \n",
    "else:\n",
    "    print('Es menor que 3')"
   ]
  },
  {
   "cell_type": "markdown",
   "id": "0d0a64cf",
   "metadata": {},
   "source": [
    "**Ejemplo 5**\n",
    "\n",
    "Programa que escribe en la pantalla si un entero es par o impar"
   ]
  },
  {
   "cell_type": "code",
   "execution_count": null,
   "id": "fd1e686d",
   "metadata": {
    "tags": [
     "remove-output"
    ]
   },
   "outputs": [],
   "source": [
    "x = int(input('Escribe un entero: '))\n",
    "\n",
    "if x%2  == 0:\n",
    "    print('')\n",
    "    print(' Par  ')\n",
    "else:\n",
    "    print('')\n",
    "    print(' Impar')\n",
    "\n",
    "print('')\n",
    "print('Se ha acabado el condicional')"
   ]
  },
  {
   "cell_type": "markdown",
   "id": "e5336231",
   "metadata": {},
   "source": [
    "**Ejemplo 6**\n",
    "\n",
    "Determinar el menor de tres números enteros"
   ]
  },
  {
   "cell_type": "code",
   "execution_count": null,
   "id": "1fbb8e83",
   "metadata": {
    "tags": [
     "remove-output"
    ]
   },
   "outputs": [],
   "source": [
    "x = int(input('Escribe un número entero x: '))\n",
    "y = int(input('Escribe un número entero y: '))\n",
    "z = int(input('Escribe un número entero z: '))\n",
    "\n",
    "if x < y and x < z:\n",
    "    print('x es el menor')\n",
    "elif y < z:\n",
    "    print('y es el menor')\n",
    "else:\n",
    "    print('z es el menor')"
   ]
  },
  {
   "cell_type": "markdown",
   "id": "7e790707",
   "metadata": {},
   "source": [
    "**Ejemplo 7**\n",
    "\n",
    "**Bifurcaciones anidadas:** Determinar si un número es mayor que 5 y en caso de que sea menor, determinar si es positivo o no. "
   ]
  },
  {
   "cell_type": "code",
   "execution_count": null,
   "id": "f32a7e2f",
   "metadata": {
    "tags": [
     "remove-output"
    ]
   },
   "outputs": [],
   "source": [
    "n = int(input('Dame un número: '))\n",
    "\n",
    "if n > 5:\n",
    "    print('Es mayor que cinco')\n",
    "else:\n",
    "    if n > 0:\n",
    "        print('Es un número positivo menor que 5')\n",
    "    else:\n",
    "        print('Es un número negativo menor que 5')"
   ]
  },
  {
   "cell_type": "markdown",
   "id": "fec35a2d",
   "metadata": {},
   "source": [
    "**Ejemplo 8**\n",
    "\n",
    "**Bifurcaciones anidadas:** Determinar si un número entero es divisible por 2 y por 3, solo por 2 o por 3, o por ninguno de los dos.\n",
    "\n",
    "Primera versión"
   ]
  },
  {
   "cell_type": "code",
   "execution_count": null,
   "id": "d210b08d",
   "metadata": {
    "tags": [
     "remove-output"
    ]
   },
   "outputs": [],
   "source": [
    "x=int(input(\"Escribe un número entero \"))\n",
    "\n",
    "if x%2 == 0 and x%3==0:\n",
    "    print(\"Divisible por 2 y 3\")\n",
    "if x%2 != 0 and x%3==0:\n",
    "    print(\"no divisible por 2 y si por  3\")\n",
    "if x%2 == 0 and x%3!=0:\n",
    "    print(\"Divisible por 2 y no por 3\")\n",
    "if x%2 != 0 and x%3!=0:\n",
    "    print(\"No divisible por 2 ni  3\")"
   ]
  },
  {
   "cell_type": "markdown",
   "id": "a7ee4a15",
   "metadata": {},
   "source": [
    "Segunda versión"
   ]
  },
  {
   "cell_type": "code",
   "execution_count": null,
   "id": "d60fba22",
   "metadata": {
    "tags": [
     "remove-output"
    ]
   },
   "outputs": [],
   "source": [
    "x=int(input(\"Escribe un número entero \"))\n",
    "\n",
    "if x%2 == 0:\n",
    "    if x%3 == 0:\n",
    "        print(\"Divisible por 2 y 3\")\n",
    "    else:\n",
    "        print(\"Divisible por 2 pero no por 3\")\n",
    "elif x%3 == 0:\n",
    "    print(\"Divisible por 3 pero no por 2\")\n",
    "else:\n",
    "    print(\"No divisible por 2 ni por 3\")"
   ]
  },
  {
   "cell_type": "markdown",
   "id": "49df360c",
   "metadata": {},
   "source": [
    "Tercera versión"
   ]
  },
  {
   "cell_type": "code",
   "execution_count": null,
   "id": "78e7fbdb",
   "metadata": {
    "tags": [
     "remove-output"
    ]
   },
   "outputs": [],
   "source": [
    "x=int(input(\"Escribe un número entero \"))\n",
    "\n",
    "if x%2 == 0:\n",
    "    if x%3 == 0:\n",
    "        print(\"Divisible por 2 y 3\")\n",
    "    else:\n",
    "        print(\"Divisible por 2 pero no por 3\")\n",
    "else: \n",
    "    if x%3 == 0:\n",
    "        print(\"Divisible por 3 pero no por 2\")\n",
    "    else:\n",
    "        print(\"No divisible por 2 ni por 3\")\n",
    "    \n"
   ]
  },
  {
   "cell_type": "markdown",
   "id": "80dfe84d",
   "metadata": {},
   "source": [
    "**Ejemplo 9**\n",
    "\n",
    "**Un bifurcación especial**"
   ]
  },
  {
   "cell_type": "code",
   "execution_count": null,
   "id": "3c49db01",
   "metadata": {},
   "outputs": [],
   "source": [
    "if True:\n",
    "    print('hola')\n",
    "else:\n",
    "    print('adiós')"
   ]
  },
  {
   "cell_type": "markdown",
   "id": "367b16c9",
   "metadata": {},
   "source": [
    "**Ejemplo 10**\n",
    "\n",
    "Pedimos al usuario que escriba dos número enteros y devolvemos un mensaje que indica cual es el mayor"
   ]
  },
  {
   "cell_type": "code",
   "execution_count": null,
   "id": "823d8026",
   "metadata": {
    "tags": [
     "remove-output"
    ]
   },
   "outputs": [],
   "source": [
    "x = int(input('Escribe un número entero: '))\n",
    "y = int(input('Escribe otro número entero: '))\n",
    "\n",
    "if x>y:\n",
    "    print(\"el mayor de los dos números es \",x)\n",
    "else:\n",
    "    print(\"el mayor de los dos números es \",y)"
   ]
  },
  {
   "cell_type": "markdown",
   "id": "30846968",
   "metadata": {},
   "source": [
    "**Ejemplo 11**\n",
    "\n",
    "Pedimos al usuario la edad y que escriba la palabras SI o NO si tiene un permiso paternal.\n",
    "   * si es mayor de edad o tiene permiso parental debe imprimir `Puedes acceder` \n",
    "   * en caso contrario, imprimirá `Acceso denegado`"
   ]
  },
  {
   "cell_type": "code",
   "execution_count": null,
   "id": "55af0d27",
   "metadata": {
    "tags": [
     "remove-output"
    ]
   },
   "outputs": [],
   "source": [
    "edad=int(input(\"Escribe tu edad \"))\n",
    "permiso=input(\"Escribe la palabra SI encaso de tener permiso y NO en caso de no tenerlo \")\n",
    "\n",
    "if edad>=18 or permiso==\"SI\":\n",
    "    print(\"Puedes acceder\")\n",
    "else:\n",
    "    print(\"Acceso denegado\")"
   ]
  },
  {
   "cell_type": "markdown",
   "id": "54edba3c",
   "metadata": {},
   "source": [
    "<a id=\"u1c2.4\"></a>\n",
    "## Ejercicios\n",
    "\n",
    "\n",
    "En los siguientes ejercicios, escribe un script que realice las acciones que se indican:\n",
    "\n",
    "\n",
    "1. Definir la variable `N` pidiendo por teclado su valor. Imprimir `True` si `N` es mayor que 7 y `False` en caso contrario.\n",
    "2. Definir la variable `N` pidiendo por teclado su valor. Imprimir `True` si `N` es mayor que 5 y menor que 18  y `False` en caso contrario.\n",
    "3. Nos pregunta un número $0$ ó $1$ e imprime `A` si hemos introducido $0$ y `B` si hemos introducido $1$.\n",
    "4. Pide los valores de dos números `a` y `b` e imprime `Hola` si $a>b$ y `Adiós` en caso contrario.\n",
    "5. Pide los valores de dos números e imprime el mayor de ellos. Si los números son iguales, debe imprimir **Números iguales**.\n",
    "6. Pide los valores de __cuatro__ números e imprime el mayor de ellos.\n",
    "7. Pide los valores de cuatro números e imprime `Hay números repetidos` o `No hay números repetidos` segun sea el caso.\n",
    "8. Pide las coordenadas $x$, $y$ de un punto del plano e imprime en qué cuadrante se encuentra el punto.\n",
    "9. Escribir un programa que permita determinar si un número entero es múltiplo de 3 o no. En caso afirmativo debe imprimir `Es múltiplo de 3`; en caso contrario imprimirá `No es múltiplo de 3`.\n",
    "10. Pregunta el valor de `x` e imprime `True` ó `False` según se cumplan las dos condiciones\n",
    "    * $p(x) = x^3 - 2x >0$ y \n",
    "    * $ q(x) = x^2 + 3x +1 <0$.\n",
    "11. Pide los valores de los coeficientes $p$ y $q$ e imprime el número de soluciones reales de la ecuación $x^2+px+q=0$.\n",
    "12. Pide los valores de los coeficientes $p$ y $q$ e imprime las  soluciones reales de la ecuación $x^2+px+q=0$. En caso de no tener, debe imprimir `Soluciones complejas`.\n",
    "13. Dado el polinomio $P(x) = x^4 -3x^2 -x +1$ decir si se cumplen las dos siguientes condiciones:\n",
    "    * $P(3) < 0$\n",
    "    * $P(1) > P(0.5)$"
   ]
  },
  {
   "cell_type": "markdown",
   "id": "b02dad77",
   "metadata": {},
   "source": [
    "<a id=\"u1c2.5\"></a>\n",
    "## Cuestionario Moodle\n",
    "\n",
    "\n",
    "\n",
    "[Cuestionario Bifurcación](https://moodle.upm.es/titulaciones/oficiales/mod/quiz/view.php?id=197627)"
   ]
  },
  {
   "cell_type": "code",
   "execution_count": null,
   "id": "437d199d",
   "metadata": {},
   "outputs": [],
   "source": []
  }
 ],
 "metadata": {
  "celltoolbar": "Tags",
  "kernelspec": {
   "display_name": "Python 3 (ipykernel)",
   "language": "python",
   "name": "python3"
  },
  "language_info": {
   "codemirror_mode": {
    "name": "ipython",
    "version": 3
   },
   "file_extension": ".py",
   "mimetype": "text/x-python",
   "name": "python",
   "nbconvert_exporter": "python",
   "pygments_lexer": "ipython3",
   "version": "3.12.3"
  }
 },
 "nbformat": 4,
 "nbformat_minor": 5
}
